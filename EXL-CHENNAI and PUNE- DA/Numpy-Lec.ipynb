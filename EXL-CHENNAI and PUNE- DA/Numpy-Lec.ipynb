{
 "cells": [
  {
   "cell_type": "code",
   "execution_count": null,
   "id": "30f41a03",
   "metadata": {},
   "outputs": [],
   "source": [
    "                                                                        # installing Numpy package"
   ]
  },
  {
   "cell_type": "code",
   "execution_count": 1,
   "id": "e68dc738",
   "metadata": {},
   "outputs": [
    {
     "name": "stdout",
     "output_type": "stream",
     "text": [
      "Requirement already satisfied: numpy in c:\\users\\karthick\\anaconda3\\lib\\site-packages (1.21.5)\n"
     ]
    }
   ],
   "source": [
    "!pip install numpy"
   ]
  },
  {
   "cell_type": "code",
   "execution_count": 3,
   "id": "624287f1",
   "metadata": {},
   "outputs": [],
   "source": [
    "#impot the numpy package to programming environment"
   ]
  },
  {
   "cell_type": "code",
   "execution_count": 2,
   "id": "06333082",
   "metadata": {},
   "outputs": [],
   "source": [
    "import numpy as np"
   ]
  },
  {
   "cell_type": "code",
   "execution_count": 4,
   "id": "9b1b8822",
   "metadata": {},
   "outputs": [
    {
     "data": {
      "text/plain": [
       "'1.21.5'"
      ]
     },
     "execution_count": 4,
     "metadata": {},
     "output_type": "execute_result"
    }
   ],
   "source": [
    "#Version of Numpy\n",
    "np.__version__"
   ]
  },
  {
   "cell_type": "code",
   "execution_count": 5,
   "id": "59ad6e8f",
   "metadata": {},
   "outputs": [
    {
     "name": "stdout",
     "output_type": "stream",
     "text": [
      "Requirement already satisfied: numpy in c:\\users\\karthick\\anaconda3\\lib\\site-packages (1.21.5)\n",
      "Collecting numpy\n",
      "  Downloading numpy-1.24.1-cp39-cp39-win_amd64.whl (14.9 MB)\n",
      "Installing collected packages: numpy\n",
      "  Attempting uninstall: numpy\n",
      "    Found existing installation: numpy 1.21.5\n",
      "    Uninstalling numpy-1.21.5:\n",
      "      Successfully uninstalled numpy-1.21.5\n",
      "Successfully installed numpy-1.24.1\n"
     ]
    },
    {
     "name": "stderr",
     "output_type": "stream",
     "text": [
      "ERROR: pip's dependency resolver does not currently take into account all the packages that are installed. This behaviour is the source of the following dependency conflicts.\n",
      "daal4py 2021.5.0 requires daal==2021.4.0, which is not installed.\n",
      "scipy 1.7.3 requires numpy<1.23.0,>=1.16.5, but you have numpy 1.24.1 which is incompatible.\n",
      "numba 0.55.1 requires numpy<1.22,>=1.18, but you have numpy 1.24.1 which is incompatible.\n"
     ]
    }
   ],
   "source": [
    "!pip install --upgrade numpy"
   ]
  },
  {
   "cell_type": "code",
   "execution_count": 6,
   "id": "5d709497",
   "metadata": {},
   "outputs": [
    {
     "data": {
      "text/plain": [
       "'1.21.5'"
      ]
     },
     "execution_count": 6,
     "metadata": {},
     "output_type": "execute_result"
    }
   ],
   "source": [
    "np.__version__"
   ]
  },
  {
   "cell_type": "code",
   "execution_count": 7,
   "id": "2de95080",
   "metadata": {},
   "outputs": [
    {
     "name": "stdout",
     "output_type": "stream",
     "text": [
      "Requirement already satisfied: pip in c:\\users\\karthick\\anaconda3\\lib\\site-packages (21.2.4)\n",
      "Collecting pip\n",
      "  Using cached pip-22.3.1-py3-none-any.whl (2.1 MB)\n",
      "Installing collected packages: pip\n",
      "  Attempting uninstall: pip\n",
      "    Found existing installation: pip 21.2.4\n",
      "    Uninstalling pip-21.2.4:\n",
      "      Successfully uninstalled pip-21.2.4\n",
      "Successfully installed pip-22.3.1\n"
     ]
    }
   ],
   "source": [
    "!pip install --upgrade pip"
   ]
  },
  {
   "cell_type": "code",
   "execution_count": 8,
   "id": "ced8e4ad",
   "metadata": {},
   "outputs": [
    {
     "name": "stdout",
     "output_type": "stream",
     "text": [
      "Requirement already satisfied: numpy in c:\\users\\karthick\\anaconda3\\lib\\site-packages (1.24.1)\n"
     ]
    }
   ],
   "source": [
    "!pip install --upgrade numpy"
   ]
  },
  {
   "cell_type": "code",
   "execution_count": 9,
   "id": "e5c3decc",
   "metadata": {},
   "outputs": [
    {
     "data": {
      "text/plain": [
       "'1.21.5'"
      ]
     },
     "execution_count": 9,
     "metadata": {},
     "output_type": "execute_result"
    }
   ],
   "source": [
    "np.__version__"
   ]
  },
  {
   "cell_type": "code",
   "execution_count": 2,
   "id": "a1f76197",
   "metadata": {},
   "outputs": [],
   "source": [
    "import numpy as np"
   ]
  },
  {
   "cell_type": "code",
   "execution_count": null,
   "id": "3fdf9be3",
   "metadata": {},
   "outputs": [],
   "source": [
    "#Create a array from Python List\n",
    "#1D array"
   ]
  },
  {
   "cell_type": "code",
   "execution_count": 11,
   "id": "e9df3847",
   "metadata": {},
   "outputs": [
    {
     "data": {
      "text/plain": [
       "array([10, 20, 30, 40])"
      ]
     },
     "execution_count": 11,
     "metadata": {},
     "output_type": "execute_result"
    }
   ],
   "source": [
    "l1=[10,20,30,40]\n",
    "arr1=np.array(l1)\n",
    "arr1"
   ]
  },
  {
   "cell_type": "code",
   "execution_count": 12,
   "id": "1282d054",
   "metadata": {},
   "outputs": [
    {
     "name": "stdout",
     "output_type": "stream",
     "text": [
      "[10 20 30 40]\n"
     ]
    }
   ],
   "source": [
    "print(arr1)"
   ]
  },
  {
   "cell_type": "code",
   "execution_count": 13,
   "id": "0f779db3",
   "metadata": {},
   "outputs": [
    {
     "name": "stdout",
     "output_type": "stream",
     "text": [
      "<class 'list'> <class 'numpy.ndarray'>\n"
     ]
    }
   ],
   "source": [
    "print(type(l1),type(arr1))"
   ]
  },
  {
   "cell_type": "code",
   "execution_count": null,
   "id": "616ee3c0",
   "metadata": {},
   "outputs": [],
   "source": [
    "#2D arry"
   ]
  },
  {
   "cell_type": "code",
   "execution_count": 16,
   "id": "62d8ef3d",
   "metadata": {},
   "outputs": [
    {
     "data": {
      "text/plain": [
       "array([['a', 'b', 'c'],\n",
       "       ['d', 'e', 'f'],\n",
       "       ['g', 'h', 'i']], dtype='<U1')"
      ]
     },
     "execution_count": 16,
     "metadata": {},
     "output_type": "execute_result"
    }
   ],
   "source": [
    "l2=[['a','b','c'],['d','e','f'],['g','h','i']]\n",
    "arr2=np.array(l2)\n",
    "arr2"
   ]
  },
  {
   "cell_type": "code",
   "execution_count": 17,
   "id": "8ec0bf69",
   "metadata": {},
   "outputs": [
    {
     "name": "stdout",
     "output_type": "stream",
     "text": [
      "<class 'list'> <class 'numpy.ndarray'>\n"
     ]
    }
   ],
   "source": [
    "print(type(l2),type(arr2))"
   ]
  },
  {
   "cell_type": "markdown",
   "id": "bf237598",
   "metadata": {},
   "source": [
    "### Attribute and methods  of ndarray object"
   ]
  },
  {
   "cell_type": "code",
   "execution_count": 18,
   "id": "07d1f01e",
   "metadata": {},
   "outputs": [
    {
     "name": "stdout",
     "output_type": "stream",
     "text": [
      "['T', '__abs__', '__add__', '__and__', '__array__', '__array_finalize__', '__array_function__', '__array_interface__', '__array_prepare__', '__array_priority__', '__array_struct__', '__array_ufunc__', '__array_wrap__', '__bool__', '__class__', '__complex__', '__contains__', '__copy__', '__deepcopy__', '__delattr__', '__delitem__', '__dir__', '__divmod__', '__doc__', '__eq__', '__float__', '__floordiv__', '__format__', '__ge__', '__getattribute__', '__getitem__', '__gt__', '__hash__', '__iadd__', '__iand__', '__ifloordiv__', '__ilshift__', '__imatmul__', '__imod__', '__imul__', '__index__', '__init__', '__init_subclass__', '__int__', '__invert__', '__ior__', '__ipow__', '__irshift__', '__isub__', '__iter__', '__itruediv__', '__ixor__', '__le__', '__len__', '__lshift__', '__lt__', '__matmul__', '__mod__', '__mul__', '__ne__', '__neg__', '__new__', '__or__', '__pos__', '__pow__', '__radd__', '__rand__', '__rdivmod__', '__reduce__', '__reduce_ex__', '__repr__', '__rfloordiv__', '__rlshift__', '__rmatmul__', '__rmod__', '__rmul__', '__ror__', '__rpow__', '__rrshift__', '__rshift__', '__rsub__', '__rtruediv__', '__rxor__', '__setattr__', '__setitem__', '__setstate__', '__sizeof__', '__str__', '__sub__', '__subclasshook__', '__truediv__', '__xor__', 'all', 'any', 'argmax', 'argmin', 'argpartition', 'argsort', 'astype', 'base', 'byteswap', 'choose', 'clip', 'compress', 'conj', 'conjugate', 'copy', 'ctypes', 'cumprod', 'cumsum', 'data', 'diagonal', 'dot', 'dtype', 'dump', 'dumps', 'fill', 'flags', 'flat', 'flatten', 'getfield', 'imag', 'item', 'itemset', 'itemsize', 'max', 'mean', 'min', 'nbytes', 'ndim', 'newbyteorder', 'nonzero', 'partition', 'prod', 'ptp', 'put', 'ravel', 'real', 'repeat', 'reshape', 'resize', 'round', 'searchsorted', 'setfield', 'setflags', 'shape', 'size', 'sort', 'squeeze', 'std', 'strides', 'sum', 'swapaxes', 'take', 'tobytes', 'tofile', 'tolist', 'tostring', 'trace', 'transpose', 'var', 'view']\n"
     ]
    }
   ],
   "source": [
    "print(dir(np.ndarray))"
   ]
  },
  {
   "cell_type": "markdown",
   "id": "e9260a89",
   "metadata": {},
   "source": [
    "# Ndarry Data Structure"
   ]
  },
  {
   "attachments": {
    "image.png": {
     "image/png": "[encoded data removed]"
    }
   },
   "cell_type": "markdown",
   "id": "ac866f03",
   "metadata": {},
   "source": [
    "![image.png](attachment:image.png)"
   ]
  },
  {
   "cell_type": "code",
   "execution_count": 30,
   "id": "09fa4ca2",
   "metadata": {},
   "outputs": [
    {
     "data": {
      "text/plain": [
       "array([['a', 'b', 'c'],\n",
       "       ['d', 'e', 'f'],\n",
       "       ['g', 'h', 'i']], dtype='<U1')"
      ]
     },
     "execution_count": 30,
     "metadata": {},
     "output_type": "execute_result"
    }
   ],
   "source": [
    "l2=[['a','b','c'],['d','e','f'],['g','h','i']]\n",
    "arr2=np.array(l2)\n",
    "arr2"
   ]
  },
  {
   "cell_type": "code",
   "execution_count": 31,
   "id": "586b2297",
   "metadata": {},
   "outputs": [
    {
     "data": {
      "text/plain": [
       "(12, 4)"
      ]
     },
     "execution_count": 31,
     "metadata": {},
     "output_type": "execute_result"
    }
   ],
   "source": [
    "arr2.strides"
   ]
  },
  {
   "cell_type": "code",
   "execution_count": 33,
   "id": "8d4d10b6",
   "metadata": {},
   "outputs": [
    {
     "data": {
      "text/plain": [
       "(4,)"
      ]
     },
     "execution_count": 33,
     "metadata": {},
     "output_type": "execute_result"
    }
   ],
   "source": [
    "arr2.ravel().strides"
   ]
  },
  {
   "cell_type": "markdown",
   "id": "18173830",
   "metadata": {},
   "source": [
    "### Attribute of ndarray:"
   ]
  },
  {
   "cell_type": "markdown",
   "id": "2818667e",
   "metadata": {},
   "source": [
    "The ndarray (n-dimensional array) is a data structure in NumPy that represents a multi-dimensional, homogeneous block of data. An ndarray has several attributes that describe its properties, such as: "
   ]
  },
  {
   "cell_type": "markdown",
   "id": "a27757e4",
   "metadata": {},
   "source": [
    "ndim: The number of dimensions of the ndarray.\n",
    "shape: A tuple of integers indicating the size of the ndarray in each dimension.\n",
    "strides: A tuple of integers indicating the number of bytes to skip in each dimension when moving through the elements of the ndarray in memory.\n",
    "data: A buffer containing the actual elements of the ndarray.\n",
    "dtype: The data type of the elements in the ndarray."
   ]
  },
  {
   "cell_type": "code",
   "execution_count": 19,
   "id": "3dd73282",
   "metadata": {},
   "outputs": [
    {
     "data": {
      "text/plain": [
       "array([['a', 'b', 'c'],\n",
       "       ['d', 'e', 'f'],\n",
       "       ['g', 'h', 'i']], dtype='<U1')"
      ]
     },
     "execution_count": 19,
     "metadata": {},
     "output_type": "execute_result"
    }
   ],
   "source": [
    "l2=[['a','b','c'],['d','e','f'],['g','h','i']]\n",
    "arr2=np.array(l2)\n",
    "arr2"
   ]
  },
  {
   "cell_type": "code",
   "execution_count": 20,
   "id": "71fc9c82",
   "metadata": {},
   "outputs": [
    {
     "data": {
      "text/plain": [
       "2"
      ]
     },
     "execution_count": 20,
     "metadata": {},
     "output_type": "execute_result"
    }
   ],
   "source": [
    "arr2.ndim  # return number of dimensions"
   ]
  },
  {
   "cell_type": "code",
   "execution_count": 21,
   "id": "12a9d730",
   "metadata": {},
   "outputs": [
    {
     "data": {
      "text/plain": [
       "(3, 3)"
      ]
     },
     "execution_count": 21,
     "metadata": {},
     "output_type": "execute_result"
    }
   ],
   "source": [
    "arr2.shape  # return row,column"
   ]
  },
  {
   "cell_type": "code",
   "execution_count": 22,
   "id": "a41c6353",
   "metadata": {},
   "outputs": [
    {
     "data": {
      "text/plain": [
       "9"
      ]
     },
     "execution_count": 22,
     "metadata": {},
     "output_type": "execute_result"
    }
   ],
   "source": [
    "arr2.size # total no of elements"
   ]
  },
  {
   "cell_type": "code",
   "execution_count": 23,
   "id": "33116810",
   "metadata": {},
   "outputs": [
    {
     "data": {
      "text/plain": [
       "dtype('<U1')"
      ]
     },
     "execution_count": 23,
     "metadata": {},
     "output_type": "execute_result"
    }
   ],
   "source": [
    "arr2.dtype  # return datatype of array"
   ]
  },
  {
   "cell_type": "code",
   "execution_count": 27,
   "id": "d9aa46a2",
   "metadata": {},
   "outputs": [
    {
     "name": "stdout",
     "output_type": "stream",
     "text": [
      "<memory at 0x000001E0F31B4A00>\n"
     ]
    }
   ],
   "source": [
    "# Get a buffer containing the actual elements of the array\n",
    "print(arr2.data)"
   ]
  },
  {
   "cell_type": "markdown",
   "id": "61bf5ea0",
   "metadata": {},
   "source": [
    "strides: A tuple of integers indicating the number of bytes to skip in each dimension when moving through the elements of the ndarray in memory"
   ]
  },
  {
   "cell_type": "code",
   "execution_count": 29,
   "id": "de94a1b4",
   "metadata": {},
   "outputs": [
    {
     "data": {
      "text/plain": [
       "(12, 4)"
      ]
     },
     "execution_count": 29,
     "metadata": {},
     "output_type": "execute_result"
    }
   ],
   "source": [
    "arr2.strides "
   ]
  },
  {
   "cell_type": "code",
   "execution_count": null,
   "id": "3042e931",
   "metadata": {},
   "outputs": [],
   "source": [
    "#creating array using np.array()"
   ]
  },
  {
   "cell_type": "code",
   "execution_count": 35,
   "id": "34d99ce2",
   "metadata": {},
   "outputs": [
    {
     "data": {
      "text/plain": [
       "dtype('float64')"
      ]
     },
     "execution_count": 35,
     "metadata": {},
     "output_type": "execute_result"
    }
   ],
   "source": [
    "arr=np.array([2,4,6,8],dtype='float')  \n",
    "arr.dtype"
   ]
  },
  {
   "cell_type": "code",
   "execution_count": 38,
   "id": "f25f09bb",
   "metadata": {},
   "outputs": [
    {
     "name": "stdout",
     "output_type": "stream",
     "text": [
      "[12. +0.j  3. +0.j  4. +0.j  5.6+0.j  3. +4.j]\n",
      "complex128\n"
     ]
    }
   ],
   "source": [
    "arr=np.array([12,3,4,5.6,3+4j]) # it atmatically corece \n",
    "print(arr)\n",
    "print(arr.dtype)"
   ]
  },
  {
   "cell_type": "code",
   "execution_count": 39,
   "id": "4ee99881",
   "metadata": {},
   "outputs": [
    {
     "name": "stdout",
     "output_type": "stream",
     "text": [
      "['12' '3' '4' '5.6' '(3+4j)' 'a']\n",
      "<U64\n"
     ]
    }
   ],
   "source": [
    "arr=np.array([12,3,4,5.6,3+4j,'a']) # it atmatically corece \n",
    "print(arr)\n",
    "print(arr.dtype)"
   ]
  },
  {
   "cell_type": "code",
   "execution_count": null,
   "id": "d1155c02",
   "metadata": {},
   "outputs": [],
   "source": [
    "#Creating array using np.arange(start,end,step)"
   ]
  },
  {
   "cell_type": "code",
   "execution_count": 62,
   "id": "862dcf7f",
   "metadata": {},
   "outputs": [
    {
     "data": {
      "text/plain": [
       "array([ 1.,  3.,  5.,  7.,  9., 11., 13., 15., 17., 19.], dtype=float32)"
      ]
     },
     "execution_count": 62,
     "metadata": {},
     "output_type": "execute_result"
    }
   ],
   "source": [
    "arr=np.arange(1,20,2,dtype='f')\n",
    "arr"
   ]
  },
  {
   "cell_type": "code",
   "execution_count": 64,
   "id": "b73c05e9",
   "metadata": {},
   "outputs": [
    {
     "data": {
      "text/plain": [
       "19.0"
      ]
     },
     "execution_count": 64,
     "metadata": {},
     "output_type": "execute_result"
    }
   ],
   "source": [
    "#acess \n",
    "arr[-1]"
   ]
  },
  {
   "cell_type": "code",
   "execution_count": null,
   "id": "08832898",
   "metadata": {},
   "outputs": [],
   "source": [
    "#Creating array using np.arange(start,end,step) and reshape()"
   ]
  },
  {
   "cell_type": "code",
   "execution_count": 60,
   "id": "1d44a04a",
   "metadata": {},
   "outputs": [
    {
     "data": {
      "text/plain": [
       "array([[ 0,  1,  2],\n",
       "       [ 3,  4,  5],\n",
       "       [ 6,  7,  8],\n",
       "       [ 9, 10, 11]])"
      ]
     },
     "execution_count": 60,
     "metadata": {},
     "output_type": "execute_result"
    }
   ],
   "source": [
    "arr2d=np.arange(12).reshape(4,3)\n",
    "arr2d"
   ]
  },
  {
   "cell_type": "code",
   "execution_count": 65,
   "id": "9a4009c7",
   "metadata": {},
   "outputs": [
    {
     "data": {
      "text/plain": [
       "1"
      ]
     },
     "execution_count": 65,
     "metadata": {},
     "output_type": "execute_result"
    }
   ],
   "source": [
    "#acess using index #  arr[row,column]\n",
    "arr2d[0,1]"
   ]
  },
  {
   "cell_type": "code",
   "execution_count": 66,
   "id": "29bb8775",
   "metadata": {},
   "outputs": [
    {
     "data": {
      "text/plain": [
       "array([[1, 2],\n",
       "       [4, 5]])"
      ]
     },
     "execution_count": 66,
     "metadata": {},
     "output_type": "execute_result"
    }
   ],
   "source": [
    "arr2d[0:2,1:3]"
   ]
  },
  {
   "cell_type": "code",
   "execution_count": 69,
   "id": "a6a70380",
   "metadata": {},
   "outputs": [
    {
     "data": {
      "text/plain": [
       "array([[0, 1, 2],\n",
       "       [3, 4, 5]])"
      ]
     },
     "execution_count": 69,
     "metadata": {},
     "output_type": "execute_result"
    }
   ],
   "source": [
    "arr2d[0:2,]"
   ]
  },
  {
   "cell_type": "code",
   "execution_count": null,
   "id": "8b89f00c",
   "metadata": {},
   "outputs": [],
   "source": []
  },
  {
   "cell_type": "code",
   "execution_count": 48,
   "id": "b0e37c22",
   "metadata": {},
   "outputs": [
    {
     "data": {
      "text/plain": [
       "2"
      ]
     },
     "execution_count": 48,
     "metadata": {},
     "output_type": "execute_result"
    }
   ],
   "source": [
    "arr.ndim"
   ]
  },
  {
   "cell_type": "code",
   "execution_count": 3,
   "id": "cb250afa",
   "metadata": {
    "scrolled": true
   },
   "outputs": [
    {
     "data": {
      "text/plain": [
       "array([[[ 0,  1,  2],\n",
       "        [ 3,  4,  5],\n",
       "        [ 6,  7,  8],\n",
       "        [ 9, 10, 11]],\n",
       "\n",
       "       [[12, 13, 14],\n",
       "        [15, 16, 17],\n",
       "        [18, 19, 20],\n",
       "        [21, 22, 23]]])"
      ]
     },
     "execution_count": 3,
     "metadata": {},
     "output_type": "execute_result"
    }
   ],
   "source": [
    "# 3D data\n",
    "arr3d=np.arange(24).reshape(2,4,3)\n",
    "arr3d"
   ]
  },
  {
   "cell_type": "code",
   "execution_count": 4,
   "id": "d9ad8eb3",
   "metadata": {},
   "outputs": [
    {
     "data": {
      "text/plain": [
       "(48, 12, 4)"
      ]
     },
     "execution_count": 4,
     "metadata": {},
     "output_type": "execute_result"
    }
   ],
   "source": [
    "arr3d.strides"
   ]
  },
  {
   "cell_type": "code",
   "execution_count": 6,
   "id": "7e605919",
   "metadata": {},
   "outputs": [
    {
     "data": {
      "text/plain": [
       "(4,)"
      ]
     },
     "execution_count": 6,
     "metadata": {},
     "output_type": "execute_result"
    }
   ],
   "source": [
    "arr3d.ravel().strides"
   ]
  },
  {
   "cell_type": "code",
   "execution_count": 74,
   "id": "6bcfd3ab",
   "metadata": {},
   "outputs": [
    {
     "data": {
      "text/plain": [
       "array([[13, 14],\n",
       "       [16, 17]])"
      ]
     },
     "execution_count": 74,
     "metadata": {},
     "output_type": "execute_result"
    }
   ],
   "source": [
    "#acess the 3d arr[matrix,row,column]\n",
    "arr3d[1,0:2,1:3]"
   ]
  },
  {
   "cell_type": "code",
   "execution_count": null,
   "id": "4c63f15f",
   "metadata": {},
   "outputs": [],
   "source": []
  },
  {
   "cell_type": "code",
   "execution_count": 56,
   "id": "c3286b9e",
   "metadata": {},
   "outputs": [
    {
     "data": {
      "text/plain": [
       "3"
      ]
     },
     "execution_count": 56,
     "metadata": {},
     "output_type": "execute_result"
    }
   ],
   "source": [
    "arr.ndim"
   ]
  },
  {
   "cell_type": "code",
   "execution_count": 57,
   "id": "bd9d5925",
   "metadata": {},
   "outputs": [
    {
     "data": {
      "text/plain": [
       "54"
      ]
     },
     "execution_count": 57,
     "metadata": {},
     "output_type": "execute_result"
    }
   ],
   "source": [
    "2*3*3*3"
   ]
  },
  {
   "cell_type": "code",
   "execution_count": 59,
   "id": "e1e91fa4",
   "metadata": {},
   "outputs": [
    {
     "data": {
      "text/plain": [
       "array([[[[ 0,  1,  2],\n",
       "         [ 3,  4,  5],\n",
       "         [ 6,  7,  8]],\n",
       "\n",
       "        [[ 9, 10, 11],\n",
       "         [12, 13, 14],\n",
       "         [15, 16, 17]],\n",
       "\n",
       "        [[18, 19, 20],\n",
       "         [21, 22, 23],\n",
       "         [24, 25, 26]]],\n",
       "\n",
       "\n",
       "       [[[27, 28, 29],\n",
       "         [30, 31, 32],\n",
       "         [33, 34, 35]],\n",
       "\n",
       "        [[36, 37, 38],\n",
       "         [39, 40, 41],\n",
       "         [42, 43, 44]],\n",
       "\n",
       "        [[45, 46, 47],\n",
       "         [48, 49, 50],\n",
       "         [51, 52, 53]]]])"
      ]
     },
     "execution_count": 59,
     "metadata": {},
     "output_type": "execute_result"
    }
   ],
   "source": [
    "arr=np.arange(54).reshape(2,3,3,3)\n",
    "arr"
   ]
  },
  {
   "cell_type": "markdown",
   "id": "5c2572fd",
   "metadata": {},
   "source": [
    "### Creating an array of equally spaced numbers\n",
    "- The np.linspace function creates a given number of equally spaced values between two limits."
   ]
  },
  {
   "cell_type": "code",
   "execution_count": 8,
   "id": "17ec7456",
   "metadata": {},
   "outputs": [
    {
     "data": {
      "text/plain": [
       "array([1. , 1.5, 2. , 2.5, 3. ])"
      ]
     },
     "execution_count": 8,
     "metadata": {},
     "output_type": "execute_result"
    }
   ],
   "source": [
    "np.linspace(1,3,5)"
   ]
  },
  {
   "cell_type": "code",
   "execution_count": 10,
   "id": "1951bcf2",
   "metadata": {},
   "outputs": [
    {
     "data": {
      "text/plain": [
       "array([1.        , 1.10526316, 1.21052632, 1.31578947, 1.42105263,\n",
       "       1.52631579, 1.63157895, 1.73684211, 1.84210526, 1.94736842,\n",
       "       2.05263158, 2.15789474, 2.26315789, 2.36842105, 2.47368421,\n",
       "       2.57894737, 2.68421053, 2.78947368, 2.89473684, 3.        ])"
      ]
     },
     "execution_count": 10,
     "metadata": {},
     "output_type": "execute_result"
    }
   ],
   "source": [
    "np.linspace(1,3,20)"
   ]
  },
  {
   "cell_type": "code",
   "execution_count": 11,
   "id": "8c7b2964",
   "metadata": {},
   "outputs": [
    {
     "data": {
      "text/plain": [
       "array([1.        , 1.04081633, 1.08163265, 1.12244898, 1.16326531,\n",
       "       1.20408163, 1.24489796, 1.28571429, 1.32653061, 1.36734694,\n",
       "       1.40816327, 1.44897959, 1.48979592, 1.53061224, 1.57142857,\n",
       "       1.6122449 , 1.65306122, 1.69387755, 1.73469388, 1.7755102 ,\n",
       "       1.81632653, 1.85714286, 1.89795918, 1.93877551, 1.97959184,\n",
       "       2.02040816, 2.06122449, 2.10204082, 2.14285714, 2.18367347,\n",
       "       2.2244898 , 2.26530612, 2.30612245, 2.34693878, 2.3877551 ,\n",
       "       2.42857143, 2.46938776, 2.51020408, 2.55102041, 2.59183673,\n",
       "       2.63265306, 2.67346939, 2.71428571, 2.75510204, 2.79591837,\n",
       "       2.83673469, 2.87755102, 2.91836735, 2.95918367, 3.        ])"
      ]
     },
     "execution_count": 11,
     "metadata": {},
     "output_type": "execute_result"
    }
   ],
   "source": [
    "np.linspace(1,3) #default num=50                                                             "
   ]
  },
  {
   "cell_type": "markdown",
   "id": "518e1db9",
   "metadata": {},
   "source": [
    "### Creating an array of zeros\n",
    "- The np.zeros function creates an array with a given number of rows and columns, with only one value throughout the array – “0”."
   ]
  },
  {
   "cell_type": "code",
   "execution_count": 15,
   "id": "0a40fa12",
   "metadata": {},
   "outputs": [
    {
     "data": {
      "text/plain": [
       "array([[0, 0, 0],\n",
       "       [0, 0, 0],\n",
       "       [0, 0, 0]])"
      ]
     },
     "execution_count": 15,
     "metadata": {},
     "output_type": "execute_result"
    }
   ],
   "source": [
    "np.zeros((3,3),dtype='int')#Return a new array of given shape and type, filled with zeros."
   ]
  },
  {
   "cell_type": "markdown",
   "id": "ed9bdf71",
   "metadata": {},
   "source": [
    "### Creating an array of ones\n",
    "- The np.ones function is similar to the np.zeros function, the difference being that the value repeated throughout the array is “1”."
   ]
  },
  {
   "cell_type": "code",
   "execution_count": 17,
   "id": "fc853876",
   "metadata": {},
   "outputs": [
    {
     "data": {
      "text/plain": [
       "array([[1., 1., 1., 1.],\n",
       "       [1., 1., 1., 1.],\n",
       "       [1., 1., 1., 1.],\n",
       "       [1., 1., 1., 1.]])"
      ]
     },
     "execution_count": 17,
     "metadata": {},
     "output_type": "execute_result"
    }
   ],
   "source": [
    "np.ones((4,4))#Return a new array of given shape and type, filled with ones.\n"
   ]
  },
  {
   "cell_type": "markdown",
   "id": "5d7d4fed",
   "metadata": {},
   "source": [
    "### Creating an array with a given value repeated throughout\n",
    "- The np.full function creates an array using the value specified by the user."
   ]
  },
  {
   "cell_type": "code",
   "execution_count": 21,
   "id": "f09dd45c",
   "metadata": {},
   "outputs": [
    {
     "data": {
      "text/plain": [
       "array([[10, 10, 10, 10],\n",
       "       [10, 10, 10, 10],\n",
       "       [10, 10, 10, 10]])"
      ]
     },
     "execution_count": 21,
     "metadata": {},
     "output_type": "execute_result"
    }
   ],
   "source": [
    "np.full((3,4),10) #Return a new array of given shape and type, filled with `fill_value`.shape=(3,4) fill_value=10"
   ]
  },
  {
   "cell_type": "markdown",
   "id": "6c31e7a0",
   "metadata": {},
   "source": [
    "### Creating an array using Eye\n",
    "- Return a 2-D array with ones on the diagonal and zeros elsewhere."
   ]
  },
  {
   "cell_type": "code",
   "execution_count": 26,
   "id": "f68f0e8f",
   "metadata": {},
   "outputs": [
    {
     "data": {
      "text/plain": [
       "array([[1., 0., 0., 0.],\n",
       "       [0., 1., 0., 0.],\n",
       "       [0., 0., 1., 0.],\n",
       "       [0., 0., 0., 1.]])"
      ]
     },
     "execution_count": 26,
     "metadata": {},
     "output_type": "execute_result"
    }
   ],
   "source": [
    "np.eye(4)"
   ]
  },
  {
   "cell_type": "markdown",
   "id": "dbd22441",
   "metadata": {},
   "source": [
    "### Creating an array of random integers\n",
    "- The randint function (from the np.random module) generates an array containing random numbers."
   ]
  },
  {
   "cell_type": "code",
   "execution_count": 30,
   "id": "1487b0cc",
   "metadata": {},
   "outputs": [
    {
     "data": {
      "text/plain": [
       "array([71, 34,  3, 14, 60])"
      ]
     },
     "execution_count": 30,
     "metadata": {},
     "output_type": "execute_result"
    }
   ],
   "source": [
    "np.random.randint(1,100,5)#Return random integers from `low` (inclusive) to `high` (exclusive)."
   ]
  },
  {
   "cell_type": "markdown",
   "id": "a8e5409d",
   "metadata": {},
   "source": [
    "### Creating an array from a repeating list\n",
    "- The np.repeat function creates an array from a list that is repeated a given number of times."
   ]
  },
  {
   "cell_type": "code",
   "execution_count": 31,
   "id": "cf214c39",
   "metadata": {},
   "outputs": [
    {
     "data": {
      "text/plain": [
       "array([1, 1, 1, 1, 2, 2, 2, 2, 3, 3, 3, 3])"
      ]
     },
     "execution_count": 31,
     "metadata": {},
     "output_type": "execute_result"
    }
   ],
   "source": [
    "np.repeat([1,2,3],4)#Repeat elements of an array."
   ]
  },
  {
   "cell_type": "markdown",
   "id": "6de9d6e3",
   "metadata": {},
   "source": [
    "### Creating an empty array\n",
    "- The np.empty function generates an array, without any particular initial value (array is randomly initialized)"
   ]
  },
  {
   "cell_type": "code",
   "execution_count": 33,
   "id": "15fbd92b",
   "metadata": {},
   "outputs": [
    {
     "data": {
      "text/plain": [
       "array([[0., 0., 0., 0.],\n",
       "       [0., 0., 0., 0.],\n",
       "       [0., 0., 0., 0.]])"
      ]
     },
     "execution_count": 33,
     "metadata": {},
     "output_type": "execute_result"
    }
   ],
   "source": [
    "np.empty((3,4)) #Return a new array of given shape and type, without initializing entries."
   ]
  },
  {
   "cell_type": "code",
   "execution_count": 36,
   "id": "f4a703cc",
   "metadata": {},
   "outputs": [
    {
     "data": {
      "text/plain": [
       "array([[1.        , 1.10526316, 1.21052632, 1.31578947],\n",
       "       [1.42105263, 1.52631579, 1.63157895, 1.73684211],\n",
       "       [1.84210526, 1.94736842, 2.05263158, 2.15789474],\n",
       "       [2.26315789, 2.36842105, 2.47368421, 2.57894737],\n",
       "       [2.68421053, 2.78947368, 2.89473684, 3.        ]])"
      ]
     },
     "execution_count": 36,
     "metadata": {},
     "output_type": "execute_result"
    }
   ],
   "source": [
    "np.empty((5,4)) # #uninitialized"
   ]
  },
  {
   "cell_type": "markdown",
   "id": "6c911822",
   "metadata": {},
   "source": [
    "### Create ndarray from Text File\n",
    "- np.genfromtxt() #Load data from a text file, with missing values handled as specified."
   ]
  },
  {
   "cell_type": "code",
   "execution_count": 44,
   "id": "06dc753e",
   "metadata": {},
   "outputs": [
    {
     "data": {
      "text/plain": [
       "array([[25., 76., 99.],\n",
       "       [39., 65., 70.],\n",
       "       [59., 45., 77.],\n",
       "       ...,\n",
       "       [99., 62., 58.],\n",
       "       [70., 71., 91.],\n",
       "       [92., 39., 76.]])"
      ]
     },
     "execution_count": 44,
     "metadata": {},
     "output_type": "execute_result"
    }
   ],
   "source": [
    "url='https://raw.githubusercontent.com/svkarthik86/Advanced-python/main/climate.txt'\n",
    "climate_data=np.genfromtxt(url,delimiter=',',skip_header=True)\n",
    "climate_data"
   ]
  },
  {
   "cell_type": "code",
   "execution_count": 38,
   "id": "6f32aec4",
   "metadata": {},
   "outputs": [
    {
     "name": "stdout",
     "output_type": "stream",
     "text": [
      "<class 'numpy.ndarray'>\n"
     ]
    }
   ],
   "source": [
    "print(type(climate_data))"
   ]
  },
  {
   "cell_type": "code",
   "execution_count": 39,
   "id": "48b9bf91",
   "metadata": {},
   "outputs": [
    {
     "data": {
      "text/plain": [
       "dtype('float64')"
      ]
     },
     "execution_count": 39,
     "metadata": {},
     "output_type": "execute_result"
    }
   ],
   "source": [
    "climate_data.dtype"
   ]
  },
  {
   "cell_type": "code",
   "execution_count": 40,
   "id": "19edae6e",
   "metadata": {},
   "outputs": [
    {
     "data": {
      "text/plain": [
       "(10001, 3)"
      ]
     },
     "execution_count": 40,
     "metadata": {},
     "output_type": "execute_result"
    }
   ],
   "source": [
    "climate_data.shape"
   ]
  },
  {
   "cell_type": "code",
   "execution_count": 41,
   "id": "7b8e0474",
   "metadata": {},
   "outputs": [
    {
     "data": {
      "text/plain": [
       "2"
      ]
     },
     "execution_count": 41,
     "metadata": {},
     "output_type": "execute_result"
    }
   ],
   "source": [
    "climate_data.ndim"
   ]
  },
  {
   "cell_type": "code",
   "execution_count": 43,
   "id": "03baf5e9",
   "metadata": {},
   "outputs": [
    {
     "data": {
      "text/plain": [
       "array([[nan, nan, nan],\n",
       "       [25., 76., 99.],\n",
       "       [39., 65., 70.],\n",
       "       [59., 45., 77.],\n",
       "       [84., 63., 38.]])"
      ]
     },
     "execution_count": 43,
     "metadata": {},
     "output_type": "execute_result"
    }
   ],
   "source": [
    "climate_data[0:5,:]"
   ]
  },
  {
   "cell_type": "markdown",
   "id": "8738cc57",
   "metadata": {},
   "source": [
    "#### Create ndarray from Text File using np.loadtxt()\n",
    "- np.loadtxt() #Load data from a text file."
   ]
  },
  {
   "cell_type": "code",
   "execution_count": 47,
   "id": "e6ab2042",
   "metadata": {},
   "outputs": [
    {
     "data": {
      "text/plain": [
       "array([[25., 76., 99.],\n",
       "       [39., 65., 70.],\n",
       "       [59., 45., 77.],\n",
       "       ...,\n",
       "       [99., 62., 58.],\n",
       "       [70., 71., 91.],\n",
       "       [92., 39., 76.]])"
      ]
     },
     "execution_count": 47,
     "metadata": {},
     "output_type": "execute_result"
    }
   ],
   "source": [
    "np.loadtxt(url, delimiter=',',skiprows=1) "
   ]
  },
  {
   "cell_type": "markdown",
   "id": "6dab6ef9",
   "metadata": {},
   "source": [
    "# Reshaping an array\n",
    "- Reshaping an array is the process of changing the dimensionality of an array. \n",
    "- The NumPy method “reshape” is important and is commonly used to convert a 1-D array to a multidimensional one.\n",
    "- Consider a simple 1-D array containing ten elements, as shown in the following statement."
   ]
  },
  {
   "cell_type": "code",
   "execution_count": null,
   "id": "4d5e5fe7",
   "metadata": {},
   "outputs": [],
   "source": [
    "np.reshape()#Gives a new shape to an array without changing its data."
   ]
  },
  {
   "cell_type": "code",
   "execution_count": 74,
   "id": "ac52bbae",
   "metadata": {},
   "outputs": [
    {
     "data": {
      "text/plain": [
       "array([[[1.        , 1.15384615, 1.30769231],\n",
       "        [1.46153846, 1.61538462, 1.76923077],\n",
       "        [1.92307692, 2.07692308, 2.23076923]],\n",
       "\n",
       "       [[2.38461538, 2.53846154, 2.69230769],\n",
       "        [2.84615385, 3.        , 3.15384615],\n",
       "        [3.30769231, 3.46153846, 3.61538462]],\n",
       "\n",
       "       [[3.76923077, 3.92307692, 4.07692308],\n",
       "        [4.23076923, 4.38461538, 4.53846154],\n",
       "        [4.69230769, 4.84615385, 5.        ]]])"
      ]
     },
     "execution_count": 74,
     "metadata": {},
     "output_type": "execute_result"
    }
   ],
   "source": [
    "np.linspace(1,5,27).reshape(-1,3,3)"
   ]
  },
  {
   "cell_type": "code",
   "execution_count": 75,
   "id": "d3a326af",
   "metadata": {},
   "outputs": [
    {
     "data": {
      "text/plain": [
       "array([ 1. ,  1.6,  2.2,  2.8,  3.4,  4. ,  4.6,  5.2,  5.8,  6.4,  7. ,\n",
       "        7.6,  8.2,  8.8,  9.4, 10. ])"
      ]
     },
     "execution_count": 75,
     "metadata": {},
     "output_type": "execute_result"
    }
   ],
   "source": [
    "arr=np.linspace(1,10,16)\n",
    "arr"
   ]
  },
  {
   "cell_type": "code",
   "execution_count": 76,
   "id": "ce486f2e",
   "metadata": {},
   "outputs": [
    {
     "data": {
      "text/plain": [
       "array([[ 1. ,  1.6,  2.2,  2.8],\n",
       "       [ 3.4,  4. ,  4.6,  5.2],\n",
       "       [ 5.8,  6.4,  7. ,  7.6],\n",
       "       [ 8.2,  8.8,  9.4, 10. ]])"
      ]
     },
     "execution_count": 76,
     "metadata": {},
     "output_type": "execute_result"
    }
   ],
   "source": [
    "np.resize(arr,(4,4))#Return a new array with the specified shape."
   ]
  },
  {
   "cell_type": "code",
   "execution_count": 81,
   "id": "5407a8b7",
   "metadata": {},
   "outputs": [
    {
     "data": {
      "text/plain": [
       "array([ 1. ,  1.6,  2.2,  2.8,  3.4,  4. ,  4.6,  5.2,  5.8,  6.4,  7. ,\n",
       "        7.6,  8.2,  8.8,  9.4, 10. ])"
      ]
     },
     "execution_count": 81,
     "metadata": {},
     "output_type": "execute_result"
    }
   ],
   "source": [
    "arr2=np.linspace(1,10,16)\n",
    "arr2"
   ]
  },
  {
   "cell_type": "code",
   "execution_count": 82,
   "id": "0d381dad",
   "metadata": {},
   "outputs": [],
   "source": [
    "arr2.resize((4,4))#Change shape and size of array in-place."
   ]
  },
  {
   "cell_type": "code",
   "execution_count": 83,
   "id": "2a898a4b",
   "metadata": {},
   "outputs": [
    {
     "data": {
      "text/plain": [
       "array([[ 1. ,  1.6,  2.2,  2.8],\n",
       "       [ 3.4,  4. ,  4.6,  5.2],\n",
       "       [ 5.8,  6.4,  7. ,  7.6],\n",
       "       [ 8.2,  8.8,  9.4, 10. ]])"
      ]
     },
     "execution_count": 83,
     "metadata": {},
     "output_type": "execute_result"
    }
   ],
   "source": [
    "arr2"
   ]
  },
  {
   "cell_type": "code",
   "execution_count": 84,
   "id": "2ee04cd7",
   "metadata": {},
   "outputs": [
    {
     "data": {
      "text/plain": [
       "(4, 4)"
      ]
     },
     "execution_count": 84,
     "metadata": {},
     "output_type": "execute_result"
    }
   ],
   "source": [
    "arr2.shape"
   ]
  },
  {
   "cell_type": "markdown",
   "id": "21cace3d",
   "metadata": {},
   "source": [
    "## Change the dimension using shape attribute"
   ]
  },
  {
   "cell_type": "code",
   "execution_count": 87,
   "id": "55bd5527",
   "metadata": {},
   "outputs": [
    {
     "data": {
      "text/plain": [
       "array([95, 68, 66, 37, 73, 90, 23, 15, 56, 63, 10, 46])"
      ]
     },
     "execution_count": 87,
     "metadata": {},
     "output_type": "execute_result"
    }
   ],
   "source": [
    "arr3=np.random.randint(1,100,12)\n",
    "arr3"
   ]
  },
  {
   "cell_type": "code",
   "execution_count": 89,
   "id": "144b21b9",
   "metadata": {},
   "outputs": [],
   "source": [
    "arr3.shape=(4,3)"
   ]
  },
  {
   "cell_type": "code",
   "execution_count": 90,
   "id": "b827f287",
   "metadata": {},
   "outputs": [
    {
     "data": {
      "text/plain": [
       "array([[95, 68, 66],\n",
       "       [37, 73, 90],\n",
       "       [23, 15, 56],\n",
       "       [63, 10, 46]])"
      ]
     },
     "execution_count": 90,
     "metadata": {},
     "output_type": "execute_result"
    }
   ],
   "source": [
    "arr3"
   ]
  },
  {
   "cell_type": "markdown",
   "id": "f97db46f",
   "metadata": {},
   "source": [
    "### ravel \n",
    "- The reshaping process can be reversed using the “ravel” method:"
   ]
  },
  {
   "cell_type": "code",
   "execution_count": 92,
   "id": "341f137e",
   "metadata": {},
   "outputs": [
    {
     "data": {
      "text/plain": [
       "array([95, 68, 66, 37, 73, 90, 23, 15, 56, 63, 10, 46])"
      ]
     },
     "execution_count": 92,
     "metadata": {},
     "output_type": "execute_result"
    }
   ],
   "source": [
    "arr3.ravel() #Return a flattened array."
   ]
  },
  {
   "cell_type": "code",
   "execution_count": 93,
   "id": "d5c1e494",
   "metadata": {},
   "outputs": [
    {
     "data": {
      "text/plain": [
       "array([[95, 68, 66],\n",
       "       [37, 73, 90],\n",
       "       [23, 15, 56],\n",
       "       [63, 10, 46]])"
      ]
     },
     "execution_count": 93,
     "metadata": {},
     "output_type": "execute_result"
    }
   ],
   "source": [
    "arr3"
   ]
  },
  {
   "cell_type": "code",
   "execution_count": 94,
   "id": "f904de43",
   "metadata": {},
   "outputs": [
    {
     "data": {
      "text/plain": [
       "array([95, 68, 66, 37, 73, 90, 23, 15, 56, 63, 10, 46])"
      ]
     },
     "execution_count": 94,
     "metadata": {},
     "output_type": "execute_result"
    }
   ],
   "source": [
    "arr3.flatten()#Return a copy of the array collapsed into one dimension."
   ]
  },
  {
   "cell_type": "code",
   "execution_count": 95,
   "id": "863bbed3",
   "metadata": {},
   "outputs": [
    {
     "data": {
      "text/plain": [
       "array([[95, 68, 66],\n",
       "       [37, 73, 90],\n",
       "       [23, 15, 56],\n",
       "       [63, 10, 46]])"
      ]
     },
     "execution_count": 95,
     "metadata": {},
     "output_type": "execute_result"
    }
   ],
   "source": [
    "arr3"
   ]
  },
  {
   "cell_type": "markdown",
   "id": "3d616a1a",
   "metadata": {},
   "source": [
    "# The logical structure of arrays\n",
    "- The cartesian coordinate system, which is used to specify the location of a point, consists of a plane with two perpendicular lines known as the “x” and “y” axes. \n",
    "- The position of a point is specified using its x and y coordinates. This principle of using axes to represent different dimensions is also used in arrays."
   ]
  },
  {
   "attachments": {
    "image.png": {
     "image/png": "[encoded data removed]"
    }
   },
   "cell_type": "markdown",
   "id": "4eb67ea2",
   "metadata": {},
   "source": [
    "![image.png](attachment:image.png)"
   ]
  },
  {
   "cell_type": "code",
   "execution_count": null,
   "id": "db4384cd",
   "metadata": {},
   "outputs": [],
   "source": [
    "A 2-D array has an axis value of “0” to represent the row axis and a value of “1” to\n",
    "represent the column axis, as shown in Figure"
   ]
  },
  {
   "attachments": {
    "image.png": {
     "image/png": "[encoded data removed]"
    }
   },
   "cell_type": "markdown",
   "id": "7b4d9924",
   "metadata": {},
   "source": [
    "![image.png](attachment:image.png)"
   ]
  },
  {
   "attachments": {
    "image.png": {
     "image/png": "[encoded data removed]"
    }
   },
   "cell_type": "markdown",
   "id": "7e02e08d",
   "metadata": {},
   "source": [
    "![image.png](attachment:image.png)"
   ]
  },
  {
   "cell_type": "code",
   "execution_count": 96,
   "id": "a52da78c",
   "metadata": {},
   "outputs": [
    {
     "data": {
      "text/plain": [
       "array([[0, 1, 2],\n",
       "       [3, 4, 5],\n",
       "       [6, 7, 8]])"
      ]
     },
     "execution_count": 96,
     "metadata": {},
     "output_type": "execute_result"
    }
   ],
   "source": [
    "arr4=np.arange(9).reshape(3,3)\n",
    "arr4"
   ]
  },
  {
   "cell_type": "code",
   "execution_count": 97,
   "id": "94e1530f",
   "metadata": {},
   "outputs": [
    {
     "data": {
      "text/plain": [
       "array([ 9, 12, 15])"
      ]
     },
     "execution_count": 97,
     "metadata": {},
     "output_type": "execute_result"
    }
   ],
   "source": [
    "arr4.sum(axis=0)"
   ]
  },
  {
   "cell_type": "code",
   "execution_count": 98,
   "id": "cb6115fc",
   "metadata": {},
   "outputs": [
    {
     "data": {
      "text/plain": [
       "array([ 3, 12, 21])"
      ]
     },
     "execution_count": 98,
     "metadata": {},
     "output_type": "execute_result"
    }
   ],
   "source": [
    "arr4.sum(axis=1)"
   ]
  },
  {
   "cell_type": "code",
   "execution_count": 99,
   "id": "9e17b8f5",
   "metadata": {},
   "outputs": [
    {
     "name": "stdout",
     "output_type": "stream",
     "text": [
      "[[25. 76. 99.]\n",
      " [39. 65. 70.]\n",
      " [59. 45. 77.]\n",
      " ...\n",
      " [99. 62. 58.]\n",
      " [70. 71. 91.]\n",
      " [92. 39. 76.]]\n"
     ]
    }
   ],
   "source": [
    "climate_data=np.loadtxt(\"https://raw.githubusercontent.com/svkarthik86/Advanced-python/main/climate.txt\",delimiter=',',skiprows=1)\n",
    "print(climate_data)"
   ]
  },
  {
   "cell_type": "code",
   "execution_count": 100,
   "id": "9285b819",
   "metadata": {},
   "outputs": [
    {
     "data": {
      "text/plain": [
       "1801223.0"
      ]
     },
     "execution_count": 100,
     "metadata": {},
     "output_type": "execute_result"
    }
   ],
   "source": [
    "climate_data.sum() #Return the sum of the array elements over the given axis."
   ]
  },
  {
   "cell_type": "code",
   "execution_count": 101,
   "id": "9b5473d5",
   "metadata": {},
   "outputs": [
    {
     "data": {
      "text/plain": [
       "array([598414., 601743., 601066.])"
      ]
     },
     "execution_count": 101,
     "metadata": {},
     "output_type": "execute_result"
    }
   ],
   "source": [
    "climate_data.sum(axis=0)"
   ]
  },
  {
   "cell_type": "code",
   "execution_count": 102,
   "id": "fe31750c",
   "metadata": {},
   "outputs": [
    {
     "data": {
      "text/plain": [
       "array([200., 174., 181., ..., 219., 232., 207.])"
      ]
     },
     "execution_count": 102,
     "metadata": {},
     "output_type": "execute_result"
    }
   ],
   "source": [
    "climate_data.sum(axis=1)"
   ]
  },
  {
   "cell_type": "code",
   "execution_count": null,
   "id": "bb513e69",
   "metadata": {},
   "outputs": [],
   "source": []
  },
  {
   "cell_type": "markdown",
   "id": "676e4109",
   "metadata": {},
   "source": [
    "# Combining arrays\n",
    "- appending, concatenation, and stacking."
   ]
  },
  {
   "cell_type": "markdown",
   "id": "743c97d5",
   "metadata": {},
   "source": [
    "1.Appending\n",
    "Appending involves joining one array at the end of another array.\n",
    "The np.append function is used to append two arrays."
   ]
  },
  {
   "cell_type": "code",
   "execution_count": 103,
   "id": "e4cab001",
   "metadata": {},
   "outputs": [
    {
     "data": {
      "text/plain": [
       "array([[1, 2],\n",
       "       [3, 4]])"
      ]
     },
     "execution_count": 103,
     "metadata": {},
     "output_type": "execute_result"
    }
   ],
   "source": [
    "x=np.array([[1,2],[3,4]])\n",
    "x"
   ]
  },
  {
   "cell_type": "code",
   "execution_count": 104,
   "id": "20f085fd",
   "metadata": {},
   "outputs": [
    {
     "data": {
      "text/plain": [
       "array([[ 6,  7],\n",
       "       [ 9, 10]])"
      ]
     },
     "execution_count": 104,
     "metadata": {},
     "output_type": "execute_result"
    }
   ],
   "source": [
    "y=np.array([[6,7],[9,10]])\n",
    "y"
   ]
  },
  {
   "cell_type": "code",
   "execution_count": 105,
   "id": "9b88da9e",
   "metadata": {},
   "outputs": [
    {
     "data": {
      "text/plain": [
       "array([[ 1,  2],\n",
       "       [ 3,  4],\n",
       "       [ 6,  7],\n",
       "       [ 9, 10]])"
      ]
     },
     "execution_count": 105,
     "metadata": {},
     "output_type": "execute_result"
    }
   ],
   "source": [
    "np.append(x,y,axis=0) # axis=0 row "
   ]
  },
  {
   "cell_type": "code",
   "execution_count": 106,
   "id": "0d07ed1a",
   "metadata": {},
   "outputs": [
    {
     "data": {
      "text/plain": [
       "array([[ 1,  2,  6,  7],\n",
       "       [ 3,  4,  9, 10]])"
      ]
     },
     "execution_count": 106,
     "metadata": {},
     "output_type": "execute_result"
    }
   ],
   "source": [
    "np.append(x,y,axis=1) # axis=1 column"
   ]
  },
  {
   "cell_type": "code",
   "execution_count": null,
   "id": "d1f430d8",
   "metadata": {},
   "outputs": [],
   "source": []
  }
 ],
 "metadata": {
  "kernelspec": {
   "display_name": "Python 3 (ipykernel)",
   "language": "python",
   "name": "python3"
  },
  "language_info": {
   "codemirror_mode": {
    "name": "ipython",
    "version": 3
   },
   "file_extension": ".py",
   "mimetype": "text/x-python",
   "name": "python",
   "nbconvert_exporter": "python",
   "pygments_lexer": "ipython3",
   "version": "3.9.12"
  }
 },
 "nbformat": 4,
 "nbformat_minor": 5
}
