{
 "cells": [
  {
   "cell_type": "markdown",
   "id": "9a13beaf",
   "metadata": {},
   "source": [
    "# File Handling"
   ]
  },
  {
   "cell_type": "code",
   "execution_count": 1,
   "id": "5e548c6c",
   "metadata": {},
   "outputs": [],
   "source": [
    " fobj=open(\"test.txt\",mode='r')"
   ]
  },
  {
   "cell_type": "code",
   "execution_count": 2,
   "id": "f0315564",
   "metadata": {},
   "outputs": [
    {
     "data": {
      "text/plain": [
       "<_io.TextIOWrapper name='test.txt' mode='r' encoding='cp1252'>"
      ]
     },
     "execution_count": 2,
     "metadata": {},
     "output_type": "execute_result"
    }
   ],
   "source": [
    " fobj"
   ]
  },
  {
   "cell_type": "code",
   "execution_count": 3,
   "id": "b0ecfc92",
   "metadata": {},
   "outputs": [
    {
     "name": "stdout",
     "output_type": "stream",
     "text": [
      "<class '_io.TextIOWrapper'>\n"
     ]
    }
   ],
   "source": [
    "print(type(fobj))"
   ]
  },
  {
   "cell_type": "code",
   "execution_count": 4,
   "id": "db2fa863",
   "metadata": {},
   "outputs": [
    {
     "name": "stdout",
     "output_type": "stream",
     "text": [
      "this is first line\n",
      "\n",
      "this is second line\n",
      "\n",
      "this is third line\n"
     ]
    }
   ],
   "source": [
    "# using  for loop to read file object\n",
    "for line in fobj:\n",
    "    print(line)"
   ]
  },
  {
   "cell_type": "code",
   "execution_count": 6,
   "id": "d55c85d3",
   "metadata": {},
   "outputs": [
    {
     "data": {
      "text/plain": [
       "['this is first line\\n', 'this is second line\\n', 'this is third line']"
      ]
     },
     "execution_count": 6,
     "metadata": {},
     "output_type": "execute_result"
    }
   ],
   "source": [
    "#using List() \n",
    "fobj.seek(0) # moving cursor into begining \n",
    "list(fobj)"
   ]
  },
  {
   "cell_type": "code",
   "execution_count": 9,
   "id": "2ea9cbb2",
   "metadata": {},
   "outputs": [
    {
     "name": "stdout",
     "output_type": "stream",
     "text": [
      "this is first line\n",
      " this is second line\n",
      " this is third line\n"
     ]
    }
   ],
   "source": [
    "#using *file_object\n",
    "fobj.seek(0)\n",
    "print(*fobj)"
   ]
  },
  {
   "cell_type": "code",
   "execution_count": 10,
   "id": "061c88cc",
   "metadata": {},
   "outputs": [],
   "source": [
    "# file close()\n",
    "fobj.close()"
   ]
  },
  {
   "cell_type": "code",
   "execution_count": 12,
   "id": "b2a3ab46",
   "metadata": {},
   "outputs": [
    {
     "ename": "ValueError",
     "evalue": "I/O operation on closed file.",
     "output_type": "error",
     "traceback": [
      "\u001b[1;31m---------------------------------------------------------------------------\u001b[0m",
      "\u001b[1;31mValueError\u001b[0m                                Traceback (most recent call last)",
      "Input \u001b[1;32mIn [12]\u001b[0m, in \u001b[0;36m<cell line: 1>\u001b[1;34m()\u001b[0m\n\u001b[1;32m----> 1\u001b[0m \u001b[38;5;28;43mprint\u001b[39;49m\u001b[43m(\u001b[49m\u001b[38;5;241;43m*\u001b[39;49m\u001b[43mfobj\u001b[49m\u001b[43m)\u001b[49m\n",
      "\u001b[1;31mValueError\u001b[0m: I/O operation on closed file."
     ]
    }
   ],
   "source": [
    "print(*fobj)"
   ]
  },
  {
   "cell_type": "code",
   "execution_count": null,
   "id": "5a0da5b1",
   "metadata": {},
   "outputs": [],
   "source": [
    "# method2  for file open() # no need to close()"
   ]
  },
  {
   "cell_type": "code",
   "execution_count": 11,
   "id": "64484f91",
   "metadata": {},
   "outputs": [
    {
     "name": "stdout",
     "output_type": "stream",
     "text": [
      "this is first line\n",
      "\n",
      "this is second line\n",
      "\n",
      "this is third line\n"
     ]
    }
   ],
   "source": [
    "with open(\"test.txt\",mode='r') as tf:\n",
    "    for line in tf:\n",
    "        print(line)\n",
    "    "
   ]
  },
  {
   "cell_type": "code",
   "execution_count": 13,
   "id": "aee36d28",
   "metadata": {},
   "outputs": [
    {
     "ename": "ValueError",
     "evalue": "I/O operation on closed file.",
     "output_type": "error",
     "traceback": [
      "\u001b[1;31m---------------------------------------------------------------------------\u001b[0m",
      "\u001b[1;31mValueError\u001b[0m                                Traceback (most recent call last)",
      "Input \u001b[1;32mIn [13]\u001b[0m, in \u001b[0;36m<cell line: 1>\u001b[1;34m()\u001b[0m\n\u001b[1;32m----> 1\u001b[0m \u001b[38;5;28;43mprint\u001b[39;49m\u001b[43m(\u001b[49m\u001b[38;5;241;43m*\u001b[39;49m\u001b[43mtf\u001b[49m\u001b[43m)\u001b[49m\n",
      "\u001b[1;31mValueError\u001b[0m: I/O operation on closed file."
     ]
    }
   ],
   "source": [
    "print(*tf)"
   ]
  },
  {
   "cell_type": "code",
   "execution_count": 16,
   "id": "c743aab9",
   "metadata": {},
   "outputs": [
    {
     "name": "stdout",
     "output_type": "stream",
     "text": [
      "['_CHUNK_SIZE', '__class__', '__del__', '__delattr__', '__dict__', '__dir__', '__doc__', '__enter__', '__eq__', '__exit__', '__format__', '__ge__', '__getattribute__', '__gt__', '__hash__', '__init__', '__init_subclass__', '__iter__', '__le__', '__lt__', '__ne__', '__new__', '__next__', '__reduce__', '__reduce_ex__', '__repr__', '__setattr__', '__sizeof__', '__str__', '__subclasshook__', '_checkClosed', '_checkReadable', '_checkSeekable', '_checkWritable', '_finalizing', 'buffer', 'close', 'closed', 'detach', 'encoding', 'errors', 'fileno', 'flush', 'isatty', 'line_buffering', 'mode', 'name', 'newlines', 'read', 'readable', 'readline', 'readlines', 'reconfigure', 'seek', 'seekable', 'tell', 'truncate', 'writable', 'write', 'write_through', 'writelines']\n"
     ]
    }
   ],
   "source": [
    "#attribute and Methods associated with file object\n",
    "fobj=open(\"test.txt\",mode='r')\n",
    "print(dir( fobj))"
   ]
  },
  {
   "cell_type": "markdown",
   "id": "c3848f36",
   "metadata": {},
   "source": [
    "# read methods"
   ]
  },
  {
   "cell_type": "code",
   "execution_count": null,
   "id": "fb5235d7",
   "metadata": {},
   "outputs": [],
   "source": [
    "#'read', 'readable', 'readline', 'readlines'"
   ]
  },
  {
   "cell_type": "code",
   "execution_count": 36,
   "id": "fbb325cd",
   "metadata": {},
   "outputs": [
    {
     "name": "stdout",
     "output_type": "stream",
     "text": [
      "Join Online Courses in Java, Data Analytics & Software Testing with 100% Job Guarantee. \n",
      "Enroll & Learn Programming, Marketing, Data Analytics & many more with EduBridge India. \n",
      "100% Online. Work on Live Projects. Zero Cost EMI Option. Flexible Timings.\n",
      "AWS Certification\n",
      "Learn AWS & Cloud Computing With Us Get Placed In Top MNC's\n",
      "Placement Services\n",
      "110% Job Guarantee Get a High Paying Tech Job\n",
      "Learn & Earn With Us\n",
      "Get Assured Scholarship Easy payment scheme\n",
      "Get Trained by Experts\n",
      "Get Hands-on Experience 110% Job Guarantee Courses\n",
      "-----------------------\n",
      "Join Online Courses \n"
     ]
    }
   ],
   "source": [
    "with open(r\"C:\\Users\\karthick\\EXL-CHENNAI and PUNE- DA\\edubridge.txt\") as edu_txt:\n",
    "                      print(edu_txt.read()) #Read at most n characters from stream.\n",
    "                      print(\"-----------------------\")\n",
    "                      edu_txt.seek(0) # cursor into sarting point \n",
    "                      print(edu_txt.read(20))"
   ]
  },
  {
   "cell_type": "code",
   "execution_count": null,
   "id": "cc0c0e3c",
   "metadata": {},
   "outputs": [],
   "source": [
    "#readline"
   ]
  },
  {
   "cell_type": "code",
   "execution_count": 31,
   "id": "43d381d9",
   "metadata": {},
   "outputs": [
    {
     "name": "stdout",
     "output_type": "stream",
     "text": [
      "Join Online Courses in Java, Data Analytics & Software Testing with 100% Job Guarantee. \n",
      "\n"
     ]
    }
   ],
   "source": [
    "with open(r\"C:\\Users\\karthick\\EXL-CHENNAI and PUNE- DA\\edubridge.txt\") as edu_txt:\n",
    "                      print(edu_txt.readline()) \n",
    "                     "
   ]
  },
  {
   "cell_type": "code",
   "execution_count": null,
   "id": "fb77b881",
   "metadata": {},
   "outputs": [],
   "source": [
    "#readlines"
   ]
  },
  {
   "cell_type": "code",
   "execution_count": 34,
   "id": "c78635a7",
   "metadata": {},
   "outputs": [
    {
     "name": "stdout",
     "output_type": "stream",
     "text": [
      "['Join Online Courses in Java, Data Analytics & Software Testing with 100% Job Guarantee. \\n', 'Enroll & Learn Programming, Marketing, Data Analytics & many more with EduBridge India. \\n', '100% Online. Work on Live Projects. Zero Cost EMI Option. Flexible Timings.\\n', 'AWS Certification\\n', \"Learn AWS & Cloud Computing With Us Get Placed In Top MNC's\\n\", 'Placement Services\\n', '110% Job Guarantee Get a High Paying Tech Job\\n', 'Learn & Earn With Us\\n', 'Get Assured Scholarship Easy payment scheme\\n', 'Get Trained by Experts\\n', 'Get Hands-on Experience 110% Job Guarantee Courses']\n"
     ]
    }
   ],
   "source": [
    "with open(r\"C:\\Users\\karthick\\EXL-CHENNAI and PUNE- DA\\edubridge.txt\") as edu_txt:\n",
    "                  print(edu_txt.readlines())\n",
    "                           "
   ]
  },
  {
   "cell_type": "code",
   "execution_count": 33,
   "id": "04e8ed9e",
   "metadata": {},
   "outputs": [
    {
     "name": "stdout",
     "output_type": "stream",
     "text": [
      "Join Online Courses in Java, Data Analytics & Software Testing with 100% Job Guarantee. \n",
      "\n",
      "Enroll & Learn Programming, Marketing, Data Analytics & many more with EduBridge India. \n",
      "\n",
      "100% Online. Work on Live Projects. Zero Cost EMI Option. Flexible Timings.\n",
      "\n",
      "AWS Certification\n",
      "\n",
      "Learn AWS & Cloud Computing With Us Get Placed In Top MNC's\n",
      "\n",
      "Placement Services\n",
      "\n",
      "110% Job Guarantee Get a High Paying Tech Job\n",
      "\n",
      "Learn & Earn With Us\n",
      "\n",
      "Get Assured Scholarship Easy payment scheme\n",
      "\n",
      "Get Trained by Experts\n",
      "\n",
      "Get Hands-on Experience 110% Job Guarantee Courses\n"
     ]
    }
   ],
   "source": [
    "with open(r\"C:\\Users\\karthick\\EXL-CHENNAI and PUNE- DA\\edubridge.txt\") as edu_txt:\n",
    "                      for line in edu_txt.readlines():\n",
    "                            print(line)"
   ]
  },
  {
   "cell_type": "code",
   "execution_count": null,
   "id": "30fe5a76",
   "metadata": {},
   "outputs": [],
   "source": [
    "#check file is reable ? or not?"
   ]
  },
  {
   "cell_type": "code",
   "execution_count": 42,
   "id": "c1cc3de2",
   "metadata": {},
   "outputs": [
    {
     "data": {
      "text/plain": [
       "True"
      ]
     },
     "execution_count": 42,
     "metadata": {},
     "output_type": "execute_result"
    }
   ],
   "source": [
    "fobj=open(\"test.txt\",mode='r') # wirte mode\n",
    "fobj.readable()"
   ]
  },
  {
   "cell_type": "markdown",
   "id": "a168075f",
   "metadata": {},
   "source": [
    "# file Write"
   ]
  },
  {
   "cell_type": "code",
   "execution_count": null,
   "id": "de4ecd70",
   "metadata": {},
   "outputs": [],
   "source": [
    "#'writable', 'write', 'write_through', 'writelines'"
   ]
  },
  {
   "cell_type": "code",
   "execution_count": 43,
   "id": "78cb8857",
   "metadata": {},
   "outputs": [
    {
     "data": {
      "text/plain": [
       "['Get Assured Scholarship Easy payment scheme\\n',\n",
       " 'Get Trained by Experts\\n',\n",
       " 'Get Hands-on Experience 110% Job Guarantee Courses']"
      ]
     },
     "execution_count": 43,
     "metadata": {},
     "output_type": "execute_result"
    }
   ],
   "source": [
    "fob=open(\"test.txt\")  # default mode ='r'\n",
    "list(fob)\n",
    "fob.close()"
   ]
  },
  {
   "cell_type": "code",
   "execution_count": null,
   "id": "e9e663a4",
   "metadata": {},
   "outputs": [],
   "source": [
    "#write mode='w'"
   ]
  },
  {
   "cell_type": "code",
   "execution_count": 50,
   "id": "197b1063",
   "metadata": {},
   "outputs": [],
   "source": [
    "content='''\n",
    "Get Assured Scholarship Easy payment scheme\n",
    "Get Trained by Experts\n",
    "Get Hands-on Experience 110% Job Guarantee Courses\n",
    "'''"
   ]
  },
  {
   "cell_type": "code",
   "execution_count": 53,
   "id": "e926c4b6",
   "metadata": {},
   "outputs": [],
   "source": [
    "c1='''100% Online. Work on Live Projects. Zero Cost EMI Option. Flexible Timings.\n",
    "AWS Certification'''"
   ]
  },
  {
   "cell_type": "code",
   "execution_count": 54,
   "id": "45030736",
   "metadata": {},
   "outputs": [],
   "source": [
    "fob=open(\"test_nofile.txt\",'w')  # in write mode, if file is exsit, erase all content and write from start, else it create new text file\n",
    "fob.write(c1)\n",
    "fob.close()"
   ]
  },
  {
   "cell_type": "code",
   "execution_count": 47,
   "id": "f0d802c8",
   "metadata": {},
   "outputs": [],
   "source": [
    "#writelines"
   ]
  },
  {
   "cell_type": "code",
   "execution_count": 57,
   "id": "14c94b54",
   "metadata": {},
   "outputs": [],
   "source": [
    "l1=[\"apple\\n\",\"Organe\\n\",\"kiwi\"]"
   ]
  },
  {
   "cell_type": "code",
   "execution_count": 58,
   "id": "078b84d6",
   "metadata": {},
   "outputs": [],
   "source": [
    "fob=open(\"test_nofile.txt\",'w')  # in write mode, if file is exsit, erase all content and write from start, else it create new text file\n",
    "fob.writelines(l1) #Write a list of lines to stream.\n",
    "fob.close()"
   ]
  },
  {
   "cell_type": "code",
   "execution_count": null,
   "id": "ffc7ace5",
   "metadata": {},
   "outputs": [],
   "source": [
    "#append mode  # mode='a'"
   ]
  },
  {
   "cell_type": "code",
   "execution_count": 59,
   "id": "31eb70a3",
   "metadata": {},
   "outputs": [],
   "source": [
    "fob=open(\"test_nofile.txt\",'a')  # in write mode, if file is exsit, erase all content and write from start, else it create new text file\n",
    "fob.writelines(l1) #Write a list of lines to stream.\n",
    "fob.close()"
   ]
  },
  {
   "cell_type": "code",
   "execution_count": null,
   "id": "9ab2a759",
   "metadata": {},
   "outputs": [],
   "source": []
  },
  {
   "cell_type": "code",
   "execution_count": null,
   "id": "6ecae8d2",
   "metadata": {},
   "outputs": [],
   "source": [
    "create Grade.txt file and write the following content"
   ]
  },
  {
   "attachments": {
    "image.png": {
     "image/png": "[encoded data removed]"
    }
   },
   "cell_type": "markdown",
   "id": "3430b96b",
   "metadata": {},
   "source": [
    "![image.png](attachment:image.png)"
   ]
  },
  {
   "cell_type": "code",
   "execution_count": 68,
   "id": "7310d4ce",
   "metadata": {},
   "outputs": [
    {
     "name": "stdout",
     "output_type": "stream",
     "text": [
      "Enter the number of student:5\n",
      "Enter student1 marks:60 70 80 90 100\n",
      "Enter student2 marks:55 65 75 85 60\n",
      "Enter student3 marks:70 60 80 90 67\n",
      "Enter student4 marks:89 76 56 43 90\n",
      "Enter student5 marks:67 89 76 54 90\n",
      "5\n",
      "60 70 80 90 100\n",
      "55 65 75 85 60\n",
      "70 60 80 90 67\n",
      "89 76 56 43 90\n",
      "67 89 76 54 90\n",
      "\n"
     ]
    }
   ],
   "source": [
    "with open(\"Grades.txt\",\"w+\") as gd:\n",
    "    n=int(input(\"Enter the number of student:\"))\n",
    "    gd.write(str(n)+\"\\n\")\n",
    "    for std_num in range(n):\n",
    "        gd.write(input(f\"Enter student{std_num+1} marks:\")+\"\\n\")\n",
    "    gd.seek(0)\n",
    "    print(gd.read()).\n",
    "    "
   ]
  },
  {
   "cell_type": "code",
   "execution_count": 98,
   "id": "677b4955",
   "metadata": {},
   "outputs": [
    {
     "name": "stdout",
     "output_type": "stream",
     "text": [
      "5\n",
      " 60 70 80 90 100\n",
      " 55 65 75 85 60\n",
      " 70 60 80 90 67\n",
      " 89 76 56 43 90\n",
      " 67 89 76 54 90\n",
      "\n"
     ]
    }
   ],
   "source": [
    "with open(\"Grades.txt\") as gd:\n",
    "    print(*gd)"
   ]
  },
  {
   "cell_type": "code",
   "execution_count": 101,
   "id": "b11ab60b",
   "metadata": {},
   "outputs": [
    {
     "name": "stdout",
     "output_type": "stream",
     "text": [
      "7\n",
      "\n",
      "60 70 80 90 100\n",
      "\n"
     ]
    }
   ],
   "source": [
    "grades=open(r\"I:\\EduBridge\\Data\\Grades.txt\",'r')\n",
    "n=grades.readline()\n",
    "m1=grades.readline()\n",
    "\n",
    "print(n)\n",
    "print(m1)\n",
    "grades.close()"
   ]
  },
  {
   "cell_type": "code",
   "execution_count": 102,
   "id": "bc0c1a88",
   "metadata": {},
   "outputs": [
    {
     "data": {
      "text/plain": [
       "'I:\\\\EduBridge\\\\Data\\\\Grades.txt'"
      ]
     },
     "execution_count": 102,
     "metadata": {},
     "output_type": "execute_result"
    }
   ],
   "source": [
    "grades.name"
   ]
  },
  {
   "cell_type": "code",
   "execution_count": 103,
   "id": "225751fe",
   "metadata": {},
   "outputs": [
    {
     "data": {
      "text/plain": [
       "'r'"
      ]
     },
     "execution_count": 103,
     "metadata": {},
     "output_type": "execute_result"
    }
   ],
   "source": [
    "grades.mode"
   ]
  },
  {
   "cell_type": "markdown",
   "id": "dd40f4e5",
   "metadata": {},
   "source": [
    "Question: \n",
    "Write a program to read the contents of a file Grades.txt and calculate the total marks and percentage obtained by a student. \n",
    "Sample Output:\n",
    "\n",
    "The Student:1 The Total is:400 and Percentage is:80.0\n",
    "The Student:2 The Total is:340 and Percentage is:68.0\n",
    "The Student:3 The Total is:367 and Percentage is:73.4\n",
    "The Student:4 The Total is:354 and Percentage is:70.8\n",
    "The Student:5 The Total is:376 and Percentage is:75.2\n"
   ]
  },
  {
   "cell_type": "code",
   "execution_count": 105,
   "id": "bdae3c57",
   "metadata": {},
   "outputs": [
    {
     "name": "stdout",
     "output_type": "stream",
     "text": [
      "The Student:1 The Total is:400 and Percentage is:80.0\n",
      "The Student:2 The Total is:340 and Percentage is:68.0\n",
      "The Student:3 The Total is:367 and Percentage is:73.4\n",
      "The Student:4 The Total is:354 and Percentage is:70.8\n",
      "The Student:5 The Total is:376 and Percentage is:75.2\n",
      "The Student:6 The Total is:276 and Percentage is:55.2\n",
      "The Student:7 The Total is:243 and Percentage is:48.6\n"
     ]
    }
   ],
   "source": [
    "with open(r\"I:\\EduBridge\\Data\\Grades.txt\",'r+') as gd, open(\"claculated.txt\",\"w+\") as cal:\n",
    "    n=int(gd.readline())\n",
    "    for i in range(1,n+1):\n",
    "        marks=list(map(int,gd.readline().split())) #[int(data) for data in gd.readline().split()]\n",
    "        total=sum(marks)\n",
    "        avg=sum(marks)/len(marks)\n",
    "        print(f\"The Student:{i} The Total is:{total} and Percentage is:{avg}\")\n",
    "        content=f\"The Student:{i} The Total is:{total} and Percentage is:{avg}\"+\"\\n\"\n",
    "        cal.writelines(content)\n",
    "        "
   ]
  },
  {
   "cell_type": "code",
   "execution_count": 79,
   "id": "e0ac45d6",
   "metadata": {},
   "outputs": [
    {
     "data": {
      "text/plain": [
       "'60 70 80 90 100\\n'"
      ]
     },
     "execution_count": 79,
     "metadata": {},
     "output_type": "execute_result"
    }
   ],
   "source": [
    "m1"
   ]
  },
  {
   "cell_type": "code",
   "execution_count": 84,
   "id": "c45ac1a0",
   "metadata": {},
   "outputs": [
    {
     "data": {
      "text/plain": [
       "['60', '70', '80', '90', '100']"
      ]
     },
     "execution_count": 84,
     "metadata": {},
     "output_type": "execute_result"
    }
   ],
   "source": [
    "m1.split()"
   ]
  },
  {
   "cell_type": "code",
   "execution_count": null,
   "id": "2681abbe",
   "metadata": {},
   "outputs": [],
   "source": [
    "#method1"
   ]
  },
  {
   "cell_type": "code",
   "execution_count": 88,
   "id": "98f6e9e9",
   "metadata": {},
   "outputs": [],
   "source": [
    "m1=[int(data) for data in m1.split()]"
   ]
  },
  {
   "cell_type": "code",
   "execution_count": 89,
   "id": "1e3bb3c3",
   "metadata": {},
   "outputs": [
    {
     "data": {
      "text/plain": [
       "400"
      ]
     },
     "execution_count": 89,
     "metadata": {},
     "output_type": "execute_result"
    }
   ],
   "source": [
    "sum(m1)"
   ]
  },
  {
   "cell_type": "code",
   "execution_count": 90,
   "id": "d9c932a6",
   "metadata": {},
   "outputs": [
    {
     "data": {
      "text/plain": [
       "80.0"
      ]
     },
     "execution_count": 90,
     "metadata": {},
     "output_type": "execute_result"
    }
   ],
   "source": [
    "sum(m1)/len(m1)"
   ]
  },
  {
   "cell_type": "code",
   "execution_count": null,
   "id": "09d1f46d",
   "metadata": {},
   "outputs": [],
   "source": [
    "#method2:"
   ]
  },
  {
   "cell_type": "code",
   "execution_count": 86,
   "id": "d462a063",
   "metadata": {},
   "outputs": [
    {
     "data": {
      "text/plain": [
       "[60, 70, 80, 90, 100]"
      ]
     },
     "execution_count": 86,
     "metadata": {},
     "output_type": "execute_result"
    }
   ],
   "source": [
    "list(map(int,m1.split()))"
   ]
  },
  {
   "cell_type": "code",
   "execution_count": null,
   "id": "14333120",
   "metadata": {},
   "outputs": [],
   "source": [
    "# binary File read"
   ]
  },
  {
   "cell_type": "code",
   "execution_count": 106,
   "id": "ac8c4f16",
   "metadata": {},
   "outputs": [
    {
     "name": "stdout",
     "output_type": "stream",
     "text": [
      "b'\\x89PNG\\r\\n\\x1a\\n\\x00\\x00\\x00\\rIHDR\\x00\\x00\\x00\\xca\\x00\\x00\\x00\\xca\\x08\\x03\\x00\\x00\\x00\\xd3\\xbb/\\x9a\\x00\\x00\\x00\\xbdPLTE\\xfe\\xfe\\xfe\\xff\\xff\\xff\\x1c\\x1b\\x178;Whge^^[/.+\\xb5\\xb6\\xc1\\xc5\\xc6\\xce\\xe5\\xe5\\xe4;>Y\\xd6\\xd5\\xd5QSl\\x8d\\x8d\\x8b874\\xbf\\xbf\\xbe\\xbd\\xbe\\xc7\\xe9\\xe9\\xec\\x7f\\x81\\x93\\xf0\\xf0\\xf0pr\\x86\\xa4\\xa5\\xb2\\x93\\x95\\xa4&%\"ONK\\xf6\\xf6\\xf6TSP! \\x1c*)%\\xde\\xde\\xde\\x99\\x99\\x97y{\\x8e\\xa9\\xa9\\xa7qpnGIc\\xd8\\xd8\\xde\\xba\\xba\\xb8\\x83\\x82\\x80DC@\\xcd\\xcc\\xcc<;7\\xa4\\xa3\\xa2\\x8a\\x8c\\x9d\\x96\\x98\\xa6xxu\\xa1\\xa2\\xb0_ax\\x94\\x93\\x91Z]t\\xcf\\xd0\\xd6qt\\x87\\x85\\x86\\x90UXjhhnCEVRSW46JBBH34?0059;J^_jrsw\\xdf\\x13\\x16\\x90\\x00\\x00\\ngIDATx\\x9c\\xed\\x9ci\\x83\\xaa8\\x1a\\x85\\x11WTpAKQ\\xc1\\r\\xc5\\xad\\xb4\\xac\\x9e\\xe9\\xe9e\\xa6\\xff\\xff\\xcf\\x9a\\x04\\x08 $\\x90\\x00\\x1a\\xb0\\xee\\xf9pKC\\x12\\xceC\\xb6\\x97\\x08W\\xa8<O\\x02F\\xcf<\\xddS*M\\xd4S\\xce\\x9aw}\\x0c\\xca\\xfb\\xd4y\\xd6\\x95By\\x9e>\\xafz2(/\\x0b\\xb9T\\x92Y\\xb9\\xb8\\xc8\\xa1\\x8a|\\xc4\\x1d%\\'\\x8e<`\\xb2\\x95\\xcf\\x13$3L\\x96\\xd2y\\x83d\\x84I_\\xf6\\x19 \\x99`\\xd2\\x96|\\x16H\\x06\\x98t\\xe5\\x9e\\t\\x92\\x1a&M\\xa9g\\x83\\xa4\\x84a/\\xf3\\n\\x90T0\\xac%^\\x05\\x92\\x82\\x85\\xb1\\xc0\\x0bI\\x98a\\x98\\xb2\\xbf\\x16\\x84\\x95\\x85%\\xf7\\xcbI\\xd8`\\x18\\xf2\\xf2 aa\\xa1\\xce\\xca\\x07\\x84\\x05\\x866#?\\x12j\\x16\\xca|<IhY\\xe8\\xb2\\xf1%\\xa1\\x84\\xa1\\xc9\\xc4\\x9b\\x03*\\x1f\\x14\\xde\\x14\\x8e\\xf2@\\xe1\\xcd\\x80\\x94\\x1d\\x857\\x81\\xaf\\xac(\\xbc\\xfd\\x07\\x95\\r\\x85\\xb7\\xfbGeA\\xe1\\xed=\\xac\\xf4(\\xbc\\x9dG\\x95\\x16\\x85\\xb7o\\x9c\\xd2\\xa1\\xf0v\\x8dW\\x1a\\x14\\xde\\x9eIbG\\xe1\\xed\\x98,V\\x14\\xde~c\\xf4F(D\\xcb\\xe5#!\\xb1\\xe0\\x93y{M\\x12=\\no\\xa7\\xc9\\xfa\\x81(\\xbc}\\xd2\\x88\\x0e\\x85\\xb7K:\\xbd\\x11J\\xd48&\\xa5$JF\\xe1\\xed\\x90^o\\x84\\x12\\xb6\\x1e\\xf9^\"\\xc5\\xa3\\xf0v\\xc7\\xa6\\x1f\\x82\\xc2\\xdb\\x1b\\xab~\\x04\\nog\\xec\\xfa\\x01(\\xbc}\\xa5\\xd1\\xfb\\xb4\\n\\x01\\x85\\xb7\\xabtzs\\x14\\xde\\x9e\\xd2\\xea\\xadQx;J\\xaf7F\\xa1,v>\\x9f\\xb7YN\\xab\\xc9\\xd3\\x8b\\x1aI]\\xedv\\xab\\x0c\\x95bQZ\\xedG\\x8d\\xc3\\xa5\\xda\\xd5j\\x93\\\\gc\\xeej\\xb1\\xbft\\xb09v\\xa2(\\xd6#\\xa95\\\\\"\\xbd\\x1eQ\\xdc\\xc4V\\xf5Q\\xac(b@k\\r\\x93\\xe3\\x00\\x8fD\\x0e\\x14\\x1dE\\x9car\\xd4A\\xba\\x12I\\xcd\\x88\"\\x90P\\xce}_\\x83p\\xa1D\\x94\\xba\\x0e\\xd41k\\x90\\xc5\\x88\\xe6\\xd0\\x0fb\\xa3\\x17I\\xcd\\x13\\x05\\xa5A\\x94V\\\\\\xa1D\\x94\\x9a\\xfbq\\x05P\\x1a\\xb8<\\x12&-+\\x8a\\xf0T\\x14hO\\xc4\\x0f\\xfd\\xa8\\n\\x8e\\x02\\x9b\\xc5\\xa4t\\x92#\\x8a\\x97DFQ\\x07\\xf6\\xb8\\xa1G1\\x01JtT\\x84\\xa4I\\x12\\x9c\\xcehPt\\xab\\x13]\\x90<Q\\xa3\\xa8\\xe7.8\\xb0\\x19\\x0e<\\x14u\\xb9\\\\\\xa2\\xb5\\xb2\\xbf\\\\\\x9e\\xa2(2@\\xd1m\\xa6Z\\xed\"\\x08\\xc7Yca\\x81r\\xb5Z\\xcd\\xebv\\xc7)\\xc83\\x9f\\xf5\\x1eP$y:\\x11\\x1b\\xb3\\xa3\\xa0\\x83\\xach`I\\x17{r\\xdc\\x1b\\xb8\\t\\x9e\\x05\\xa5\\xb5q\\xe7\\xe6\\xcd\\x16\\xa1\\x0c\\xc0\\xb7\\xbe{\\xf8\\xa3Z\\xedFPT\\xf0y\\x8f\\x98\\x0e\\xda\\x0c:\\x01(\\x92\\xdfV\\xd2\\x14\\xcd\\xdaF\\x00e5q\\x13\\xa7=\\x7f\\xb0\\x99(Q\\xdc\\xeb\\x99PZm\\x1b\\x03\\xf2tiQ:{p\\xbd-\\x0fe-FP\\x06\\nL\\x9a4\\xe6\\xf0_\\x0f\\xc5\\xb03N`\\xe2\\xdeC\\x81\\xc3N\\\\\\xec\\xed\\x02\\nn\\x06\\xf4Q\\x02\\xae\\x81\\xc3\\xeb\\xc8\\x93\\xdd\\x85\\x06\\x90\\xe1\\x04F\\xca\\xe0\\xc3f\\x8aGQ\\xeaPpQ\\x9f\\xb8\\x83^\\xb6\\xad\\x8a\\xfbz\\xbd\\x13D\\x81\\xed4\\x03p\\xda\\xca\\xee;\\x0e\\x8a\\x05{\\x9c\\x0c\\xdcv\\xec\\x85\\xc9A\\xe9\\x000\\x05V&]\\xb0a\\x0fb\\x89\\xa2\\x04d7\\xd0\\xb0\\xea\\r\\xf5f2\\x8a\\'\\x05\\r\\t\\xd9v\\xea^L\\x0f\\xc5\\xf4]\\xe9\\r\\xef3\\xe8s\\xf3^\\xa0X\\xc7\\x85nH~\\xa2\\x95\\x1aE\\x05M\\xf1\\x8d\\x8e\\x7f\\xd3\\xa3\\x88\\x13\\xc3?\\xfd\\x1eU\\xe0\\xa1\\x00\\x7f\\x0b4#\\x1d\\x11J\\x07|\\xd8\\xa1\\xac\\xa8\\x83\\xc1\\xc4\\x95\\x9b\\xa65\\x02\\x19\\x92QFCO\\xb0\\x83\\xc1\\x96\\xb8\\x07\\x8f\\xc7\\xa3LWP\\xc6z\\xe1\\xb9\\x92\\x83\\x0b\\x0cBQ\\x83\\xa654Vn \\xd5\\x1b\\x0bG\\x17\\x05$\\xce\\xbd\\x89k\\x1d\\xb8,\\x18\\x94@\\x02f\\xd8\\x03\\xa3m\\xef\\x8b\\x9a\\x88\\xe2\\xcd`3\\xd4\\x17 \\x8a\\xb7\" \\x14\\xeba\\x01\\x9d\\xb9(\\xeb`\\xb0\\xd3qQ\\xc0\\xa8\\x99\\xd7\\x91\\xc0\\xd0\\x9f`Q\\x04\\n\\x94\\xa1g\\x14jC\\x8b\"\\xa8\\xe8R\\xcb\\xc1\\xb3#\\x14\\xf3!\\xacA\\x931\\xf8{x\\xc8\\xdaq8\\x1f\\x85_[\\x9e\\x88\\x02}M\\\\\\x94\\x05%\\n\\xb6U\\xf2CI\\xd9\\xc1\\x9c\\x1bF\\x89\\x84\\xd2\\x13\\x83a\\xcd\\xd4o@\\xd1\\xbb\\xafX\\xf9\\x1dl\\xaf\\x06\\x85%\\xa1A\\x81\\xc3~\\x1b<\\xee\\xa1\\xa0`\\xec\\x84GY\\xbbc\\x04\\x8b\\x02\\xff\\xca(\\xd1\\x1b\\xf6p\\x04\\xdd\\x02|6\\n\\xb8$\\x13R\\xbc\\x12B\\t~\\xc7\\xa0@\\xd3\\'\\xf4\\xc5\\x9b\\x8c\\x05\\xf0\\xe1\\xc3M\\x1c\\xe1\\xc7J\\xc3\\xed-X\\x148\\xd5*\\xc8\\xa07\\x19\\xc3\\xfb\\xe5\\x89\\xdb\\xef\\x0c\\xb4\\xae\\xf4\\x02\\x93\\xb1\\xd0[\\xacI1j2\\nt\\xdav\\x9b\\xa5\\xef-\\x91\\xc2\\x17\\xf0\\xefX\\xd9V\\x893\\xd8\\x9a\\x8cb\\xf8\\xcd\"\\xf9K$\\xb4\\xbd8j\\xee\\xc2\\xee\\x0e\\xa7\\x83\\x1f\\xaeh{r\\x0c\\x8dA9\\x8d}A\\x84;\\x0c\\xc0\\xecq\\xd1\\xf4\\x03\\x17\\xe1\\x0c>-!\\x8b\\xfe\\xf5\\x802\\xebA\\x99;ho\\xa2\\x93Q4\\x18Q\\xc9\\xb0\\x02\\xeb\\xe0\\x07.\\xce\\x1a?W`i\\xd4\\xc1\\xec)B\\xb1\\x0b\\xe9\\xde\\x0cO\\x87\\x12\\xd9\\xa6\\x80\\xae\\xab\\xdd\\xd1h\\x13\\x08\\'\\x05\\x15Ff\\x9b\\xe5pd\\xe3\\xe1V{qn\"w\\x18\\x14\\xc1\\xb2\\xe3\\xc8\\x99\\x1d\\xae\\x05\\xae\\xb5\\x81\\x82\\xe0\\x9a\\x1f\\x19\\xc3\\tD<\\xd4\\xd6v(\\xed\\x8d\\xb04(p\\x8a\\n\\x07\\xf9(^\\x86\\x89#<\\xca\\xde\\xf2.4\\x0e%\\x10\\xb9\\x1b\\x97\\xe0\\xfd\\xcan?\\x17\\x17uS\\x08\\x04\\xf9\\xb2_+\\x91$\\x8cr\\xef>\\n\\xd9\\xbe\\xda\\xa6G\\x03\\xe1\\xab\\xdbEci\\xeb&n\\xc7\\xdd\\xee\\xc8I\\x9a*\\xae\\x0e\\xd3\\xb5\\xb7\\x96\\x1b\\x8a\\xe2\\xc7\\x1a\\x128\\x88z\\x88\\xb4\\xb6a\\x0e\\xa6 +\\xca%b\\xcd\\x0cD1V\\xdd\\x01\\x99\\x91zW\\x14\\x85(\\xf5\\xdeoEv\\x92\\xf4f3\\xba\\xbd\\xc4\"\\xcd2\\xcd\\xe0VF\\xc7\\xa8\\xf9HF0\\xf6\\x12T\\xf3x4\\xf1\\xf7*\\xae\\x8a\\xb5\\xeb\\r:\\xda\\xc2s\\x0f\\x86\\xf8\\x94\\xa7\\x99l\\x82}\\n\\xc5\\xcb\\xbd\\xe0rYB\\xc1{\\x94\\x9d\\x1d\\x99\\xc0{\\xfcE\\xcc\\x16K\\xe1\\xd5Y\\xd83tm\\x06\\xff\\xfak|)e)\\xfe\\xb2t\\xe4m&\\xa3T\\xd9Y\\x9c\\x16k\\xc26Q\\xa9\\xa4\\x9b+\\x93v\\xb7\\xf9\\x97~\\xe9\\x97J\\'m\\xb0m5\\xc7\\x9f\\xe7\\xd3p\\t\\xf4\\r\\xb4\\x1c\\x9e>\\xce\\x9f\\xcd~k\\x9b)\\xbc{\\x9d\\xb4m\\x7f|\\xfa\\xfe\\xdaTc\\xb5\\xb9~\\x9f\\xc6\\xfd-\\xc5\\x9d=\\x1fm\\x9b\\x1f\\xa3n<BX\\xdd\\xd1G\\xb3`@\\xdb\\xe6\\xe9\\xdaNv\\x8eW\\xfbk8\\xbe\\x17\\x82\\xe7\\xfe\\xf9\\x9d\\xd0\\x9d\\xa8x\\x96\\x9c1\\xb6\\xe3<0\\x1cq\\x8cg\\xb4\\xd6\\x89qd\\xc4\\xeb\\xcc\\x8b\\xa3\\xbf\\x8c4G\\xbb{\\x1d-\\xe1\\x84;n\\xba\\x1a;\\xb3\\xf1\\xe8kC1\\x90\\xba\\xc9g}\\nG\\xd0\\xda\\xe6:<7[\\xdb\\xf8\\xdb)\\x15,3\\x9f\\xa7Q7\\x86\\xe9N,\\xfc\\xac\\xbb\\xfb\\xfbi\\xe3C\\x9c\\x9aw\\xc6;B\\xbd\\xff9\\xc4\\xcfv\\'B\\t\\xda\\x1d\\x17F\\xa9\\x9f\\xee\\xf8h_O\\xfe\\xa6\\x8c\\xa6J\\x92\\xa4\\xeb\\xba\\xa4\\xd2\\xce\\xa9z\\xff<\\n\\xf7\\xd0\\r!\\xefSP\\xeeN\\xc7j_\\xcf-M\\xeb\\x98\\x86|\\xa9O\\x0f\\x8d\\x89\\x18\\xd4\\xbcq\\x98\\xd6\\xd7\\xbb\\xdb\\xaa\\xa7\\'q\\rB\\xab\\x11\\xe1\\xc9\\x95\\xfcQ\\xb4\\xe6\\x97=:O\\xcd\\x9eq\\x99>n\\xbd\\x12\\xd4\\x98\\xd6vG+\\xb6\\x07j\\xad\\x8f+B\\x19\\xbe\\x06ep\\x86\\xfd\\xe1\\xfa\\x9b\\xbc>\\xd0@\\x84\\x88.\\xb1@j\\xdf\\x99\\xd6\\xdb\\x84\\x9f\\xbdrE\\x19\\x9c@G\\xf8\\xd7\\xbf\\x9d\\xfd\\x92\\x94:\\xd4\\x0c\\x8b\\xdc\\xe5\\xb6\\x9fW\\xd2\\x03Cy\\xa2\\xe8\\xc3v\\xf5\\xf7\\xff(X\\x83\\xf3\\xc9\\xc2~\\xda\\x83R\\xfb\\xcb\\x8a\\xb8\\xa9:\\x18\\xe3W\\xc9\\xfcP\\x06\\xc3\\xf6\\x1f\\x7f\\x06\\x9b\\x03\\x8e\\x00c\\xd5\\xb3tI\\xf3\\xae\\xb2&\\xe9Voe\\xecj\\xb3\\xc3\\x84\\xc8\\xe1JY\\x93qp$\\xa1\\xdf\"\\xd3\\x83\\x9c\\xda\\x7fyC\\xfcP\\xbb\\x99\\x9d\\xc4\\xf9V\\xb2V\\xbb:\\xbe\\r}\\x9c\\x8bI\\xbb\\x1e\\xe5\\x84\\xa2\\x9d\\xff\\xf8\\xdb=wlO\\xc7H\\xb5\\x8e\\xeb}l\\xd7\\x9b\\xcaT;I\\xf9\\xa0\\x8c\\xffk7H\\xa3vL\\x19\\xb6j=\\xb9\\x1e\\xd7\\xe1\\x94K/\\xf1\\xfa\\xe4\\x81r\\xff\\xdd~FJ\\x8e\\xf9\\x15\\x87J\\xd6m\\x16\\xd3:\\x8b\\xb5\\x19O\\x13~\\\\\\x87]\\xea\\xff\\x00\\xc8\\xfe\\x96\\xcf]\\x84f^b\\x06\\xcf\\xa2\\x16C\\x13y\\xf2\\x88Y\\xbf5De\\x97\\xeb\\xddP\\xe76\\x8d\\xa1\\xb9\\x10\\x7f\\x1f\\xce\\x88\\xd2\\xf9S\\xac\\xd3>\\x80\\xcb \\xc9\\x88\\xa1Qd\\xec\\x14\\x9d\\x11\\xe5\\x9f\\xc9\\xd3\\xb6\\xdb\\xa5\\xdb\\x9eLS\\xc7\\xc0D\\x1e\\x03e\\x91\\xb5\\xbf\\xb0,a\\xcc\\xea\\xec\\x88\\xb1h\\xf4\\xe7\\xe4\\xe8\\x13\\xad\\x0c\\xba\\xfd\\xf3\\xfc\\x9f\\xd7\\xcc:\\x1ee\\x1e\\xd9\\xb8\\xcc\\x80\\xa2\\xa6]B\\x18%\\xc9\\xd8\\xa6\\x89<\\x88\\x90\\x01\\xe5u[8\\xda\\n3\\x07,\\xc2\\xb3r\\xf4\\xf5\\x82b\\xca\\xaaE\\xd6\\xce\\xd0\\xab1\\x987%\\x8a*i\\x17\\x8akBo&\\x95\\x08\\xc5\\xff\\xb9\\x15i\\xf5p\\x14\\xf3\\x82T\\x91\\xa5\\x19A\\x98\\x87\\xa7\\x8dq\\xefz\\x15[\\x9a\\x11\\x88\\xd0\\x82Q\\xc6\\x03J9X\\x82-\\x13|\\xbf\\xaf\\x8c(\\x00\\xe6\\x86n\\xba\\xfd\\xc0\\xb2RN\\x140\\x01\\xec\\x9c\\xa9\\xd9\\x7f\\x0c8\\x84R\"\\x16Aw^nA\\xcbt\\xa5\\xc4(`\\xd1\\x9c\\x06\\x82\\xca\\x08J\\xb9X\\x84\\x95\"\\xce\\x9d\\xc0\\xbcRv\\x14A\\x93\\'\\xce\\x03}\\x18\\x94\\xb2\\xb1\\x08\\xba\\xfd\\xeex\\xe5\\x1dP\\x1caQJ\\xc9Ry{\\x94\\x12\\xb2T~\\xa1\\x14O\\x15\"J\\xe9XbPJ\\xc6R\\xf9!(\\xa5b\\t[//J%\\x01\\xa5D,\\x89(\\xa5a\\x89\\x1a/+J\\xc4wy\\xff\\x97i*\\x94R\\xb0\\xe0lc\\xd2J\\xc0\\x82u\\xfd\\xe6(\\x85g\\xc1\\x9b\\xc6\\xa6\\x16\\x9c\\x85\\xe0\\x19\\x9f\\\\h\\x16\\x92eBz\\x91Y\\xde\\x07\\x85\\xe8\\x98t\\xa0\\xb0,d\\xc3\\xc4#\\x05e\\x89\\xf1K>TH\\x968\\xbb1\\xc7\\n\\xc8\\x12\\xeb6\\xee`\\xe1X\\xe2\\xcd\\xc6\\x1e-\\x18K\\x82\\xd7\\xf8\\xc3\\x85bI\\xb2\\x9ap\\xbc@,\\x89N\\x932\\x14\\x86%\\xd9hb\\x8e\\x82\\xb0P\\xf8L\\xceR\\x08\\x16\\x1a\\x9b\\x14y\\xf8\\xb3\\xd0\\x98\\xa4C\\xe1\\rC\\xe9\\x91.\\x1bW\\x16Z\\x8b\\x94\\xf98\\xb2P;\\xa4\\xcd\\xc8\\x0b\\x86\\xc1\\x1f}V.,,\\xf6\\x18\\xf2r\\x80a2\\xc7\\x84\\xf2b\\x16Fol\\xd9_\\n\\xc3\\xea\\x8c\\x15\\xe5e,\\xec\\xc6\\x98K\\xbc\\x06&\\x8d\\xad\\x14e^\\x00\\x93\\xcaT*\\x94\\xca\\x93\\xde\\x08O\\xcf\\x91\\x01\\xe5y-\\x93\\xdeP\\xea\\x92\\xcf\\x81\\xc9b\\'C\\xd9\\xfca\\xb2\\x99\\xc9T:_\\x98\\xacV2\\x96\\xcf\\r&\\xb3\\x8f\\x1cP*y\\xd0\\xe4\\xe2\"\\x8fJ*\\xd9h\\xf2\\xb2\\x90S=v]\\xfc0\\xec\\xd3\\xe7X\\x97]\\x1f\\x1f\\x0c\\xfb\\xd49\\xd7\\xe7T\\xfar\\x0c\\xfb\\xacO\\xa8\\xd3\\xab\\xfb5\\x08H\\xff\\x07S\\xa5\\xb8x\\x17\\xa5\\xd6\\xee\\x00\\x00\\x00\\x00IEND\\xaeB`\\x82'\n"
     ]
    }
   ],
   "source": [
    "with open(\"I:\\EduBridge\\Data\\edulogo.png\",'rb') as img:\n",
    "    print(img.read())"
   ]
  },
  {
   "cell_type": "code",
   "execution_count": 112,
   "id": "d466f4b5",
   "metadata": {},
   "outputs": [
    {
     "name": "stdout",
     "output_type": "stream",
     "text": [
      "Month,Starting Balance,Repayment,Interest Paid,Principal Paid,New Balance,term,interest_rate,car_type,,,,,,,,,,,,\n",
      "1,34689.96,687.23,202.93,484.3,34205.66,60,0.0702,Toyota Sienna,,,,,,,,,,,,\n",
      "2,34205.66,687.23,200.1,487.13,33718.53,60,0.0702,Toyota Sienna,,,,,,,,,,,,\n",
      "3,33718.53,687.23,197.25,489.98,33228.55,60,0.0702,Toyota Sienna,,,,,,,,,,,,\n",
      "4,33228.55,687.23,194.38,492.85,32735.7,60,0.0702,Toyota Sienna,,,,,,,,,,,,\n",
      "5,32735.7,687.23,191.5,495.73,32239.97,60,0.0702,Toyota Sienna,,,,,,,,,,,,\n",
      "6,32239.97,687.23,188.6,498.63,31741.34,60,0.0702,Toyota Sienna,,,,,,,,,,,,\n",
      "7,31741.34,687.23,185.68,501.55,31239.79,60,0.0702,Toyota Sienna,,,,,,,,,,,,\n",
      "8,31239.79,687.23,182.75,504.48,30735.31,60,0.0702,Toyota Sienna,,,,,,,,,,,,\n",
      "9,30735.31,687.23,179.8,507.43,30227.88,60,0.0702,Toyota Sienna,,,,,,,,,,,,\n",
      "10,30227.88,687.23,176.83,510.4,29717.48,60,0.0702,Toyota Sienna,,,,,,,,,,,,\n",
      "11,29717.48,687.23,173.84,513.39,29204.09,60,0.0702,Toyota Sienna,,,,,,,,,,,,\n",
      "12,29204.09,687.23,170.84,516.39,28687.7,60,0.0702,Toyota Sienna,,,,,,,,,,,,\n",
      "13,28687.7,687.23,167.82,519.41,28168.29,60,0.0702,Toyota Sienna,,,,,,,,,,,,\n",
      "14,28168.29,687.23,164.78,522.45,27645.84,60,0.0702,Toyota Sienna,,,,,,,,,,,,\n",
      "15,27645.84,687.23,161.72,525.51,27120.33,60,0.0702,Toyota Sienna,,,,,,,,,,,,\n",
      "16,27120.33,687.23,158.65,528.58,26591.75,60,0.0702,Toyota Sienna,,,,,,,,,,,,\n",
      "17,26591.75,687.23,155.56,531.67,26060.08,60,0.0702,Toyota Sienna,,,,,,,,,,,,\n",
      "18,26060.08,687.23,152.45,534.78,25525.3,60,0.0702,Toyota Sienna,,,,,,,,,,,,\n",
      "19,25525.3,687.23,149.32,537.91,24987.39,60,0.0702,Toyota Sienna,,,,,,,,,,,,\n",
      "20,24987.39,687.23,146.17,541.06,24446.33,60,0.0702,Toyota Sienna,,,,,,,,,,,,\n",
      "21,24446.33,687.23,143.01,544.22,23902.11,60,0.0702,Toyota Sienna,,,,,,,,,,,,\n",
      "22,23902.11,687.23,139.82,547.41,23354.7,60,0.0702,Toyota Sienna,,,,,,,,,,,,\n",
      "23,23354.7,687.23,136.62,550.61,22804.09,60,0.0702,Toyota Sienna,,,,,,,,,,,,\n",
      "24,22804.09,687.23,133.4,553.83,22250.26,60,0.0702,Toyota Sienna,,,,,,,,,,,,\n",
      "25,22250.26,687.23,130.16,557.07,21693.19,60,0.0702,Toyota Sienna,,,,,,,,,,,,\n",
      "26,21693.19,687.23,126.9,560.33,21132.86,60,0.0702,Toyota Sienna,,,,,,,,,,,,\n",
      "27,21132.86,687.23,123.62,563.61,20569.25,60,0.0702,Toyota Sienna,,,,,,,,,,,,\n",
      "28,20569.25,687.23,120.33,566.9,20002.35,60,0.0702,Toyota Sienna,,,,,,,,,,,,\n",
      "29,20002.35,687.23,117.01,570.22,19432.13,60,0.0702,Toyota Sienna,,,,,,,,,,,,\n",
      "30,19432.13,687.23,113.67,573.56,18858.57,60,0.0702,Toyota Sienna,,,,,,,,,,,,\n",
      "31,18858.57,687.23,110.32,576.91,18281.66,60,0.0702,Toyota Sienna,,,,,,,,,,,,\n",
      "32,18281.66,687.23,106.94,580.29,17701.37,60,0.0702,Toyota Sienna,,,,,,,,,,,,\n",
      "33,17701.37,687.23,103.55,583.68,17117.69,60,0.0702,Toyota Sienna,,,,,,,,,,,,\n",
      "34,17117.69,687.23,100.13,587.1,16530.59,60,0.0702,Toyota Sienna,,,,,,,,,,,,\n",
      "35,16530.59,687.23,96.7,590.53,15940.06,60,0.0702,Toyota Sienna,,,,,,,,,,,,\n",
      "36,15940.06,687.23,93.24,593.99,15346.07,60,0.0702,Toyota Sienna,,,,,,,,,,,,\n",
      "37,15346.07,687.23,89.77,597.46,14748.61,60,0.0702,Toyota Sienna,,,,,,,,,,,,\n",
      "38,14748.61,687.23,86.27,600.96,14147.65,60,0.0702,Toyota Sienna,,,,,,,,,,,,\n",
      "39,14147.65,687.23,82.76,604.47,13543.18,60,0.0702,Toyota Sienna,,,,,,,,,,,,\n",
      "40,13543.18,687.23,79.22,608.01,12935.17,60,0.0702,Toyota Sienna,,,,,,,,,,,,\n",
      "41,12935.17,687.23,75.67,611.56,12323.61,60,0.0702,Toyota Sienna,,,,,,,,,,,,\n",
      "42,12323.61,687.23,72.09,615.14,11708.47,60,0.0702,Toyota Sienna,,,,,,,,,,,,\n",
      "43,11708.47,687.23,68.49,618.74,11089.73,60,0.0702,Toyota Sienna,,,,,,,,,,,,\n",
      "44,11089.73,687.23,64.87,622.36,10467.37,60,0.0702,Toyota Sienna,,,,,,,,,,,,\n",
      "45,10467.37,687.23,61.23,626,9841.37,60,0.0702,Toyota Sienna,,,,,,,,,,,,\n",
      "46,9841.37,687.23,57.57,629.66,9211.71,60,0.0702,Toyota Sienna,,,,,,,,,,,,\n",
      "47,9211.71,687.23,53.88,633.35,8578.36,60,0.0702,Toyota Sienna,,,,,,,,,,,,\n",
      "48,8578.36,687.23,50.18,637.05,7941.31,60,0.0702,Toyota Sienna,,,,,,,,,,,,\n",
      "49,7941.31,687.23,46.45,640.78,7300.53,60,0.0702,Toyota Sienna,,,,,,,,,,,,\n",
      "50,7300.53,687.23,42.7,644.53,6656,60,0.0702,Toyota Sienna,,,,,,,,,,,,\n",
      "51,6656,687.23,38.93,648.3,6007.7,60,0.0702,Toyota Sienna,,,,,,,,,,,,\n",
      "52,6007.7,687.23,35.14,652.09,5355.61,60,0.0702,Toyota Sienna,,,,,,,,,,,,\n",
      "53,5355.61,687.23,31.33,655.9,4699.71,60,0.0702,Toyota Sienna,,,,,,,,,,,,\n",
      "54,4699.71,687.23,27.49,659.74,4039.97,60,0.0702,Toyota Sienna,,,,,,,,,,,,\n",
      "55,4039.97,687.23,23.63,663.6,3376.37,60,0.0702,Toyota Sienna,,,,,,,,,,,,\n",
      "56,3376.37,687.23,19.75,667.48,2708.89,60,0.0702,Toyota Sienna,,,,,,,,,,,,\n",
      "57,2708.89,687.23,15.84,671.39,2037.5,60,0.0702,Toyota Sienna,,,,,,,,,,,,\n",
      "58,2037.5,687.23,11.91,675.32,1362.18,60,0.0702,Toyota Sienna,,,,,,,,,,,,\n",
      "59,1362.18,687.23,7.96,679.27,682.91,60,0.0702,Toyota Sienna,,,,,,,,,,,,\n",
      "60,682.91,687.23,3.99,683.24,-0.33,60,0.0702,Toyota Sienna,,,,,,,,,,,,\n",
      "1,34689.96,632.47,103.78,528.69,34161.27,60,0.0359,Toyota Sienna,,,,,,,,,,,,\n",
      "2,34161.27,632.47,102.19,530.28,33630.99,60,0.0359,Toyota Sienna,,,,,,,,,,,,\n",
      "3,33630.99,632.47,100.61,531.86,33099.13,60,0.0359,Toyota Sienna,,,,,,,,,,,,\n",
      "4,33099.13,632.47,99.02,533.45,32565.68,60,0.0359,Toyota Sienna,,,,,,,,,,,,\n",
      "5,32565.68,632.47,97.42,535.05,32030.63,60,0.0359,Toyota Sienna,,,,,,,,,,,,\n",
      "6,32030.63,632.47,95.82,536.65,31493.98,60,0.0359,Toyota Sienna,,,,,,,,,,,,\n",
      "7,31493.98,632.47,94.21,538.26,30955.72,60,0.0359,Toyota Sienna,,,,,,,,,,,,\n",
      "8,30955.72,632.47,92.6,539.87,30415.85,60,0.0359,Toyota Sienna,,,,,,,,,,,,\n",
      "9,30415.85,632.47,90.99,541.48,29874.37,60,0.0359,Toyota Sienna,,,,,,,,,,,,\n",
      "10,29874.37,632.47,89.37,543.1,29331.27,60,0.0359,Toyota Sienna,,,,,,,,,,,,\n",
      "11,29331.27,632.47,87.74,544.73,28786.54,60,0.0359,Toyota Sienna,,,,,,,,,,,,\n",
      "12,28786.54,632.47,86.11,546.36,28240.18,60,0.0359,Toyota Sienna,,,,,,,,,,,,\n",
      "13,28240.18,632.47,84.48,547.99,27692.19,60,0.0359,Toyota Sienna,,,,,,,,,,,,\n",
      "14,27692.19,632.47,82.84,549.63,27142.56,60,0.0359,Toyota Sienna,,,,,,,,,,,,\n",
      "15,27142.56,632.47,81.2,551.27,26591.29,60,0.0359,Toyota Sienna,,,,,,,,,,,,\n",
      "16,26591.29,632.47,79.55,552.92,26038.37,60,0.0359,Toyota Sienna,,,,,,,,,,,,\n",
      "17,26038.37,632.47,77.89,554.58,25483.79,60,0.0359,Toyota Sienna,,,,,,,,,,,,\n",
      "18,25483.79,632.47,76.23,556.24,24927.55,60,0.0359,Toyota Sienna,,,,,,,,,,,,\n",
      "19,24927.55,632.47,74.57,557.9,24369.65,60,0.0359,Toyota Sienna,,,,,,,,,,,,\n",
      "20,24369.65,632.47,72.9,559.57,23810.08,60,0.0359,Toyota Sienna,,,,,,,,,,,,\n",
      "21,23810.08,632.47,71.23,561.24,23248.84,60,0.0359,Toyota Sienna,,,,,,,,,,,,\n",
      "22,23248.84,632.47,69.55,562.92,22685.92,60,0.0359,Toyota Sienna,,,,,,,,,,,,\n",
      "23,22685.92,632.47,67.86,564.61,22121.31,60,0.0359,Toyota Sienna,,,,,,,,,,,,\n",
      "24,22121.31,632.47,66.17,566.3,21555.01,60,0.0359,Toyota Sienna,,,,,,,,,,,,\n",
      "25,21555.01,632.47,64.48,567.99,20987.02,60,0.0359,Toyota Sienna,,,,,,,,,,,,\n",
      "26,20987.02,632.47,62.78,569.69,20417.33,60,0.0359,Toyota Sienna,,,,,,,,,,,,\n",
      "27,20417.33,632.47,61.08,571.39,19845.94,60,0.0359,Toyota Sienna,,,,,,,,,,,,\n",
      "28,19845.94,632.47,59.37,573.1,19272.84,60,0.0359,Toyota Sienna,,,,,,,,,,,,\n",
      "29,19272.84,632.47,57.65,574.82,18698.02,60,0.0359,Toyota Sienna,,,,,,,,,,,,\n",
      "30,18698.02,632.47,55.93,576.54,18121.48,60,0.0359,Toyota Sienna,,,,,,,,,,,,\n",
      "31,18121.48,632.47,54.21,578.26,17543.22,60,0.0359,Toyota Sienna,,,,,,,,,,,,\n",
      "32,17543.22,632.47,52.48,579.99,16963.23,60,0.0359,Toyota Sienna,,,,,,,,,,,,\n",
      "33,16963.23,632.47,50.74,581.73,16381.5,60,0.0359,Toyota Sienna,,,,,,,,,,,,\n",
      "34,16381.5,632.47,49,583.47,15798.03,60,0.0359,Toyota Sienna,,,,,,,,,,,,\n",
      "35,15798.03,632.47,47.26,585.21,15212.82,60,0.0359,Toyota Sienna,,,,,,,,,,,,\n",
      "36,15212.82,632.47,45.51,586.96,14625.86,60,0.0359,Toyota Sienna,,,,,,,,,,,,\n",
      "37,14625.86,632.47,43.75,588.72,14037.14,60,0.0359,Toyota Sienna,,,,,,,,,,,,\n",
      "38,14037.14,632.47,41.99,590.48,13446.66,60,0.0359,Toyota Sienna,,,,,,,,,,,,\n",
      "39,13446.66,632.47,40.22,592.25,12854.41,60,0.0359,Toyota Sienna,,,,,,,,,,,,\n",
      "40,12854.41,632.47,38.45,594.02,12260.39,60,0.0359,Toyota Sienna,,,,,,,,,,,,\n",
      "41,12260.39,632.47,36.67,595.8,11664.59,60,0.0359,Toyota Sienna,,,,,,,,,,,,\n",
      "42,11664.59,632.47,34.89,597.58,11067.01,60,0.0359,Toyota Sienna,,,,,,,,,,,,\n",
      "43,11067.01,632.47,33.1,599.37,10467.64,60,0.0359,Toyota Sienna,,,,,,,,,,,,\n",
      "44,10467.64,632.47,31.31,601.16,9866.48,60,0.0359,Toyota Sienna,,,,,,,,,,,,\n",
      "45,9866.48,632.47,29.51,602.96,9263.52,60,0.0359,Toyota Sienna,,,,,,,,,,,,\n",
      "46,9263.52,632.47,27.71,604.76,8658.76,60,0.0359,Toyota Sienna,,,,,,,,,,,,\n",
      "47,8658.76,632.47,25.9,606.57,8052.19,60,0.0359,Toyota Sienna,,,,,,,,,,,,\n",
      "48,8052.19,632.47,24.08,608.39,7443.8,60,0.0359,Toyota Sienna,,,,,,,,,,,,\n",
      "49,7443.8,632.47,22.26,610.21,6833.59,60,0.0359,Toyota Sienna,,,,,,,,,,,,\n",
      "50,6833.59,632.47,20.44,612.03,6221.56,60,0.0359,Toyota Sienna,,,,,,,,,,,,\n",
      "51,6221.56,632.47,18.61,613.86,5607.7,60,0.0359,Toyota Sienna,,,,,,,,,,,,\n",
      "52,5607.7,632.47,16.77,615.7,4992,60,0.0359,Toyota Sienna,,,,,,,,,,,,\n",
      "53,4992,632.47,14.93,617.54,4374.46,60,0.0359,Toyota Sienna,,,,,,,,,,,,\n",
      "54,4374.46,632.47,13.08,619.39,3755.07,60,0.0359,Toyota Sienna,,,,,,,,,,,,\n",
      "55,3755.07,632.47,11.23,621.24,3133.83,60,0.0359,Toyota Sienna,,,,,,,,,,,,\n",
      "56,3133.83,632.47,9.37,623.1,2510.73,60,0.0359,Toyota Sienna,,,,,,,,,,,,\n",
      "57,2510.73,632.47,7.51,624.96,1885.77,60,0.0359,Toyota Sienna,,,,,,,,,,,,\n",
      "58,1885.77,632.47,5.64,626.83,1258.94,60,0.0359,Toyota Sienna,,,,,,,,,,,,\n",
      "59,1258.94,632.47,3.76,628.71,630.23,60,0.0359,Toyota Sienna,,,,,,,,,,,,\n",
      "60,630.23,632.47,1.88,630.59,-0.36,60,0.0359,Toyota Sienna,,,,,,,,,,,,\n",
      "1,21600,636.76,70.2,566.56,21033.44,36,0.039,Toyota Corolla,,,,,,,,,,,,\n",
      "2,21033.44,636.76,68.35,568.41,20465.03,36,0.039,Toyota Corolla,,,,,,,,,,,,\n",
      "3,20465.03,636.76,66.51,570.25,19894.78,36,0.039,Toyota Corolla,,,,,,,,,,,,\n",
      "4,19894.78,636.76,64.65,572.11,19322.67,36,0.039,Toyota Corolla,,,,,,,,,,,,\n",
      "5,19322.67,636.76,62.79,573.97,18748.7,36,0.039,Toyota Corolla,,,,,,,,,,,,\n",
      "6,18748.7,636.76,60.93,575.83,18172.87,36,0.039,Toyota Corolla,,,,,,,,,,,,\n",
      "7,18172.87,636.76,59.06,577.7,17595.17,36,0.039,Toyota Corolla,,,,,,,,,,,,\n",
      "8,17595.17,636.76,57.18,579.58,17015.59,36,0.039,Toyota Corolla,,,,,,,,,,,,\n",
      "9,17015.59,636.76,55.3,581.46,16434.13,36,0.039,Toyota Corolla,,,,,,,,,,,,\n",
      "10,16434.13,636.76,53.41,583.35,15850.78,36,0.039,Toyota Corolla,,,,,,,,,,,,\n",
      "11,15850.78,636.76,51.51,585.25,15265.53,36,0.039,Toyota Corolla,,,,,,,,,,,,\n",
      "12,15265.53,636.76,49.61,587.15,14678.38,36,0.039,Toyota Carolla,,,,,,,,,,,,\n",
      "13,14678.38,636.76,47.7,589.06,14089.32,36,0.039,Toyota Corolla,,,,,,,,,,,,\n",
      "14,14089.32,636.76,45.79,590.97,13498.35,36,0.039,Toyota Corolla,,,,,,,,,,,,\n",
      "15,13498.35,636.76,43.86,592.9,12905.45,36,0.039,Toyota Corolla,,,,,,,,,,,,\n",
      "16,12905.45,636.76,41.94,594.82,12310.63,36,0.039,Toyota Corolla,,,,,,,,,,,,\n",
      "17,12310.63,636.76,40,596.76,11713.87,36,0.039,Toyota Corolla,,,,,,,,,,,,\n",
      "18,11713.87,636.76,38.07,598.69,11115.18,36,0.039,Toyota Corolla,,,,,,,,,,,,\n",
      "19,11115.18,636.76,36.12,600.64,10514.54,36,0.039,Toyota Corolla,,,,,,,,,,,,\n",
      "20,10514.54,636.76,34.17,602.59,9911.95,36,0.039,Toyota Corolla,,,,,,,,,,,,\n",
      "21,9911.95,636.76,32.21,604.55,9307.4,36,0.039,Toyota Carolla,,,,,,,,,,,,\n",
      "22,9307.4,636.76,30.24,606.52,8700.88,36,0.039,Toyota Corolla,,,,,,,,,,,,\n",
      "23,8700.88,636.76,28.27,608.49,8092.39,36,0.039,Toyota Corolla,,,,,,,,,,,,\n",
      "24,8092.39,636.76,26.3,610.46,7481.93,36,0.039,Toyota Corolla,,,,,,,,,,,,\n",
      "25,7481.93,636.76,24.31,612.45,6869.48,36,0.039,Toyota Corolla,,,,,,,,,,,,\n",
      "26,6869.48,636.76,22.32,614.44,6255.04,36,0.039,Toyota Corolla,,,,,,,,,,,,\n",
      "27,6255.04,636.76,20.32,616.44,5638.6,36,0.039,Toyota Corolla,,,,,,,,,,,,\n",
      "28,5638.6,636.76,18.32,618.44,5020.16,36,0.039,Toyota Corolla,,,,,,,,,,,,\n",
      "29,5020.16,636.76,16.31,620.45,4399.71,36,0.039,Toyota Corolla,,,,,,,,,,,,\n",
      "30,4399.71,636.76,14.29,622.47,3777.24,36,0.039,Toyota Corolla,,,,,,,,,,,,\n",
      "31,3777.24,636.76,12.27,624.49,3152.75,36,0.039,Toyota Carolla,,,,,,,,,,,,\n",
      "32,3152.75,636.76,10.24,626.52,2526.23,36,0.039,Toyota Corolla,,,,,,,,,,,,\n",
      "33,2526.23,636.76,8.21,628.55,1897.68,36,0.039,Toyota Corolla,,,,,,,,,,,,\n",
      "34,1897.68,636.76,6.16,630.6,1267.08,36,0.039,Toyota Corolla,,,,,,,,,,,,\n",
      "35,1267.08,636.76,4.11,632.65,634.43,36,0.039,Toyota Corolla,,,,,,,,,,,,\n",
      "36,634.43,636.76,2.06,634.7,-0.27,36,0.039,Toyota Corolla,,,,,,,,,,,,\n",
      "1,21600,486.74,70.2,416.54,21183.46,48,0.039,Toyota Carolla,,,,,,,,,,,,\n",
      "2,21183.46,486.74,68.84,417.9,20765.56,48,0.039,Toyota Carolla,,,,,,,,,,,,\n",
      "3,20765.56,486.74,67.48,419.26,20346.3,48,0.039,Toyota Carolla,,,,,,,,,,,,\n",
      "4,20346.3,486.74,66.12,420.62,19925.68,48,0.039,Toyota Carolla,,,,,,,,,,,,\n",
      "5,19925.68,486.74,64.75,421.99,19503.69,48,0.039,Toyota Carolla,,,,,,,,,,,,\n",
      "6,19503.69,486.74,63.38,423.36,19080.33,48,0.039,Toyota Carolla,,,,,,,,,,,,\n",
      "7,19080.33,486.74,62.01,424.73,18655.6,48,0.039,Toyota Carolla,,,,,,,,,,,,\n",
      "8,18655.6,486.74,60.63,426.11,18229.49,48,0.039,Toyota Carolla,,,,,,,,,,,,\n",
      "9,18229.49,486.74,59.24,427.5,17801.99,48,0.039,Toyota Carolla,,,,,,,,,,,,\n",
      "10,17801.99,486.74,57.85,428.89,17373.1,48,0.039,Toyota Carolla,,,,,,,,,,,,\n",
      "11,17373.1,486.74,56.46,430.28,16942.82,48,0.039,Toyota Carolla,,,,,,,,,,,,\n",
      "12,16942.82,486.74,55.06,431.68,16511.14,48,0.039,Toyota Carolla,,,,,,,,,,,,\n",
      "13,16511.14,486.74,53.66,433.08,16078.06,48,0.039,Toyota Carolla,,,,,,,,,,,,\n",
      "14,16078.06,486.74,52.25,434.49,15643.57,48,0.039,Toyota Carolla,,,,,,,,,,,,\n",
      "15,15643.57,486.74,50.84,435.9,15207.67,48,0.039,Toyota Carolla,,,,,,,,,,,,\n",
      "16,15207.67,486.74,49.42,437.32,14770.35,48,0.039,Toyota Carolla,,,,,,,,,,,,\n",
      "17,14770.35,486.74,48,438.74,14331.61,48,0.039,Toyota Carolla,,,,,,,,,,,,\n",
      "18,14331.61,486.74,46.57,440.17,13891.44,48,0.039,Toyota Carolla,,,,,,,,,,,,\n",
      "19,13891.44,486.74,45.14,441.6,13449.84,48,0.039,Toyota Carolla,,,,,,,,,,,,\n",
      "20,13449.84,486.74,43.71,443.03,13006.81,48,0.039,Toyota Carolla,,,,,,,,,,,,\n",
      "21,13006.81,486.74,42.27,444.47,12562.34,48,0.039,Toyota Carolla,,,,,,,,,,,,\n",
      "22,12562.34,486.74,40.82,445.92,12116.42,48,0.039,Toyota Carolla,,,,,,,,,,,,\n",
      "23,12116.42,486.74,39.37,447.37,11669.05,48,0.039,Toyota Carolla,,,,,,,,,,,,\n",
      "24,11669.05,486.74,37.92,448.82,11220.23,48,0.039,Toyota Carolla,,,,,,,,,,,,\n",
      "25,11220.23,486.74,36.46,450.28,10769.95,48,0.039,Toyota Carolla,,,,,,,,,,,,\n",
      "26,10769.95,486.74,35,451.74,10318.21,48,0.039,Toyota Carolla,,,,,,,,,,,,\n",
      "27,10318.21,486.74,33.53,453.21,9865,48,0.039,Toyota Carolla,,,,,,,,,,,,\n",
      "28,9865,486.74,32.06,454.68,9410.32,48,0.039,Toyota Carolla,,,,,,,,,,,,\n",
      "29,9410.32,486.74,30.58,456.16,8954.16,48,0.039,Toyota Carolla,,,,,,,,,,,,\n",
      "30,8954.16,486.74,29.1,457.64,8496.52,48,0.039,Toyota Carolla,,,,,,,,,,,,\n",
      "31,8496.52,486.74,27.61,459.13,8037.39,48,0.039,Toyota Carolla,,,,,,,,,,,,\n",
      "32,8037.39,486.74,26.12,460.62,7576.77,48,0.039,Toyota Carolla,,,,,,,,,,,,\n",
      "33,7576.77,486.74,24.62,462.12,7114.65,48,0.039,Toyota Carolla,,,,,,,,,,,,\n",
      "34,7114.65,486.74,23.12,463.62,6651.03,48,0.039,Toyota Carolla,,,,,,,,,,,,\n",
      "35,6651.03,486.74,21.61,465.13,6185.9,48,0.039,Toyota Carolla,,,,,,,,,,,,\n",
      "36,6185.9,486.74,20.1,466.64,5719.26,48,0.039,Toyota Carolla,,,,,,,,,,,,\n",
      "37,5719.26,486.74,18.58,468.16,5251.1,48,0.039,Toyota Carolla,,,,,,,,,,,,\n",
      "38,5251.1,486.74,17.06,469.68,4781.42,48,0.039,Toyota Carolla,,,,,,,,,,,,\n",
      "39,4781.42,486.74,15.53,471.21,4310.21,48,0.039,Toyota Carolla,,,,,,,,,,,,\n",
      "40,4310.21,486.74,14,472.74,3837.47,48,0.039,Toyota Carolla,,,,,,,,,,,,\n",
      "41,3837.47,486.74,12.47,474.27,3363.2,48,0.039,Toyota Carolla,,,,,,,,,,,,\n",
      "42,3363.2,486.74,10.93,475.81,2887.39,48,0.039,Toyota Carolla,,,,,,,,,,,,\n",
      "43,2887.39,486.74,9.38,477.36,2410.03,48,0.039,Toyota Carolla,,,,,,,,,,,,\n",
      "44,2410.03,486.74,7.83,478.91,1931.12,48,0.039,Toyota Carolla,,,,,,,,,,,,\n",
      "45,1931.12,486.74,6.27,480.47,1450.65,48,0.039,Toyota Carolla,,,,,,,,,,,,\n",
      "46,1450.65,486.74,4.71,482.03,968.62,48,0.039,Toyota Carolla,,,,,,,,,,,,\n",
      "47,968.62,486.74,3.14,483.6,485.02,48,0.039,Toyota Carolla,,,,,,,,,,,,\n",
      "48,485.02,486.74,1.57,485.17,-0.15,48,0.039,Toyota Carolla,,,,,,,,,,,,\n",
      "1,21600,396.82,70.2,326.62,21273.38,60,0.039,Toyota Carolla,,,,,,,,,,,,\n",
      "2,21273.38,396.82,69.13,327.69,20945.69,60,0.039,Toyota Carolla,,,,,,,,,,,,\n",
      "3,20945.69,396.82,68.07,328.75,20616.94,60,0.039,Toyota Carolla,,,,,,,,,,,,\n",
      "4,20616.94,396.82,67,329.82,20287.12,60,0.039,Toyota Carolla,,,,,,,,,,,,\n",
      "5,20287.12,396.82,65.93,330.89,19956.23,60,0.039,Toyota Carolla,,,,,,,,,,,,\n",
      "6,19956.23,396.82,64.85,331.97,19624.26,60,0.039,Toyota Carolla,,,,,,,,,,,,\n",
      "7,19624.26,396.82,63.77,333.05,19291.21,60,0.039,Toyota Carolla,,,,,,,,,,,,\n",
      "8,19291.21,396.82,62.69,334.13,18957.08,60,0.039,Toyota Carolla,,,,,,,,,,,,\n",
      "9,18957.08,396.82,61.61,335.21,18621.87,60,0.039,Toyota Carolla,,,,,,,,,,,,\n",
      "10,18621.87,396.82,60.52,336.3,18285.57,60,0.039,Toyota Carolla,,,,,,,,,,,,\n",
      "11,18285.57,396.82,59.42,337.4,17948.17,60,0.039,Toyota Carolla,,,,,,,,,,,,\n",
      "12,17948.17,396.82,58.33,338.49,17609.68,60,0.039,Toyota Carolla,,,,,,,,,,,,\n",
      "13,17609.68,396.82,57.23,339.59,17270.09,60,0.039,Toyota Carolla,,,,,,,,,,,,\n",
      "14,17270.09,396.82,56.12,340.7,16929.39,60,0.039,Toyota Carolla,,,,,,,,,,,,\n",
      "15,16929.39,396.82,55.02,341.8,16587.59,60,0.039,Toyota Carolla,,,,,,,,,,,,\n",
      "16,16587.59,396.82,53.9,342.92,16244.67,60,0.039,Toyota Carolla,,,,,,,,,,,,\n",
      "17,16244.67,396.82,52.79,344.03,15900.64,60,0.039,Toyota Carolla,,,,,,,,,,,,\n",
      "18,15900.64,396.82,51.67,345.15,15555.49,60,0.039,Toyota Carolla,,,,,,,,,,,,\n",
      "19,15555.49,396.82,50.55,346.27,15209.22,60,0.039,Toyota Carolla,,,,,,,,,,,,\n",
      "20,15209.22,396.82,49.42,347.4,14861.82,60,0.039,Toyota Carolla,,,,,,,,,,,,\n",
      "21,14861.82,396.82,48.3,348.52,14513.3,60,0.039,Toyota Carolla,,,,,,,,,,,,\n",
      "22,14513.3,396.82,47.16,349.66,14163.64,60,0.039,Toyota Carolla,,,,,,,,,,,,\n",
      "23,14163.64,396.82,46.03,350.79,13812.85,60,0.039,Toyota Carolla,,,,,,,,,,,,\n",
      "24,13812.85,396.82,44.89,351.93,13460.92,60,0.039,Toyota Carolla,,,,,,,,,,,,\n",
      "25,13460.92,396.82,43.74,353.08,13107.84,60,0.039,Toyota Carolla,,,,,,,,,,,,\n",
      "26,13107.84,396.82,42.6,354.22,12753.62,60,0.039,Toyota Carolla,,,,,,,,,,,,\n",
      "27,12753.62,396.82,41.44,355.38,12398.24,60,0.039,Toyota Carolla,,,,,,,,,,,,\n",
      "28,12398.24,396.82,40.29,356.53,12041.71,60,0.039,Toyota Carolla,,,,,,,,,,,,\n",
      "29,12041.71,396.82,39.13,357.69,11684.02,60,0.039,Toyota Carolla,,,,,,,,,,,,\n",
      "30,11684.02,396.82,37.97,358.85,11325.17,60,0.039,Toyota Carolla,,,,,,,,,,,,\n",
      "31,11325.17,396.82,36.8,360.02,10965.15,60,0.039,Toyota Carolla,,,,,,,,,,,,\n",
      "32,10965.15,396.82,35.63,361.19,10603.96,60,0.039,Toyota Carolla,,,,,,,,,,,,\n",
      "33,10603.96,396.82,34.46,362.36,10241.6,60,0.039,Toyota Carolla,,,,,,,,,,,,\n",
      "34,10241.6,396.82,33.28,363.54,9878.06,60,0.039,Toyota Carolla,,,,,,,,,,,,\n",
      "35,9878.06,396.82,32.1,364.72,9513.34,60,0.039,Toyota Carolla,,,,,,,,,,,,\n",
      "36,9513.34,396.82,30.91,365.91,9147.43,60,0.039,Toyota Carolla,,,,,,,,,,,,\n",
      "37,9147.43,396.82,29.72,367.1,8780.33,60,0.039,Toyota Carolla,,,,,,,,,,,,\n",
      "38,8780.33,396.82,28.53,368.29,8412.04,60,0.039,Toyota Carolla,,,,,,,,,,,,\n",
      "39,8412.04,396.82,27.33,369.49,8042.55,60,0.039,Toyota Carolla,,,,,,,,,,,,\n",
      "40,8042.55,396.82,26.13,370.69,7671.86,60,0.039,Toyota Carolla,,,,,,,,,,,,\n",
      "41,7671.86,396.82,24.93,371.89,7299.97,60,0.039,Toyota Carolla,,,,,,,,,,,,\n",
      "42,7299.97,396.82,23.72,373.1,6926.87,60,0.039,Toyota Carolla,,,,,,,,,,,,\n",
      "43,6926.87,396.82,22.51,374.31,6552.56,60,0.039,Toyota Carolla,,,,,,,,,,,,\n",
      "44,6552.56,396.82,21.29,375.53,6177.03,60,0.039,Toyota Carolla,,,,,,,,,,,,\n",
      "45,6177.03,396.82,20.07,376.75,5800.28,60,0.039,Toyota Carolla,,,,,,,,,,,,\n",
      "46,5800.28,396.82,18.85,377.97,5422.31,60,0.039,Toyota Carolla,,,,,,,,,,,,\n",
      "47,5422.31,396.82,17.62,379.2,5043.11,60,0.039,Toyota Carolla,,,,,,,,,,,,\n",
      "48,5043.11,396.82,16.39,380.43,4662.68,60,0.039,Toyota Carolla,,,,,,,,,,,,\n",
      "49,4662.68,396.82,15.15,381.67,4281.01,60,0.039,Toyota Carolla,,,,,,,,,,,,\n",
      "50,4281.01,396.82,13.91,382.91,3898.1,60,0.039,Toyota Carolla,,,,,,,,,,,,\n",
      "51,3898.1,396.82,12.66,384.16,3513.94,60,0.039,Toyota Carolla,,,,,,,,,,,,\n",
      "52,3513.94,396.82,11.42,385.4,3128.54,60,0.039,Toyota Carolla,,,,,,,,,,,,\n",
      "53,3128.54,396.82,10.16,386.66,2741.88,60,0.039,Toyota Carolla,,,,,,,,,,,,\n",
      "54,2741.88,396.82,8.91,387.91,2353.97,60,0.039,Toyota Carolla,,,,,,,,,,,,\n",
      "55,2353.97,396.82,7.65,389.17,1964.8,60,0.039,Toyota Carolla,,,,,,,,,,,,\n",
      "56,1964.8,396.82,6.38,390.44,1574.36,60,0.039,Toyota Carolla,,,,,,,,,,,,\n",
      "57,1574.36,396.82,5.11,391.71,1182.65,60,0.039,Toyota Carolla,,,,,,,,,,,,\n",
      "58,1182.65,396.82,3.84,392.98,789.67,60,0.039,Toyota Carolla,,,,,,,,,,,,\n",
      "59,789.67,396.82,2.56,394.26,395.41,60,0.039,Toyota Carolla,,,,,,,,,,,,\n",
      "60,395.41,396.82,1.28,395.54,-0.13,60,0.039,Toyota Carolla,,,,,,,,,,,,\n",
      "1,44409.6,1289.53,107.32,1182.21,43227.39,36,0.029,VW Golf R,,,,,,,,,,,,\n",
      "2,43227.39,1289.53,104.46,1185.07,42042.32,36,0.029,VW Golf R,,,,,,,,,,,,\n",
      "3,42042.32,1289.53,101.6,1187.93,40854.39,36,0.029,VW Golf R,,,,,,,,,,,,\n",
      "4,40854.39,1289.53,98.73,1190.8,39663.59,36,0.029,VW Golf R,,,,,,,,,,,,\n",
      "5,39663.59,1289.53,95.85,1193.68,38469.91,36,0.029,VW Golf R,,,,,,,,,,,,\n",
      "6,38469.91,1289.53,92.96,1196.57,37273.34,36,0.029,VW Golf R,,,,,,,,,,,,\n",
      "7,37273.34,1289.53,90.07,1199.46,36073.88,36,0.029,VW Golf R,,,,,,,,,,,,\n",
      "8,36073.88,1289.53,87.17,1202.36,34871.52,36,0.029,VW Golf R,,,,,,,,,,,,\n",
      "9,34871.52,1289.53,84.27,1205.26,33666.26,36,0.029,VW Golf R,,,,,,,,,,,,\n",
      "10,33666.26,1289.53,81.36,1208.17,32458.09,36,0.029,VW Golf R,,,,,,,,,,,,\n",
      "11,32458.09,1289.53,78.44,1211.09,31247,36,0.029,VW Golf R,,,,,,,,,,,,\n",
      "12,31247,1289.53,75.51,1214.02,30032.98,36,0.029,VW Golf R,,,,,,,,,,,,\n",
      "13,30032.98,1289.53,72.57,1216.96,28816.02,36,0.029,VW Golf R,,,,,,,,,,,,\n",
      "14,28816.02,1289.53,69.63,1219.9,27596.12,36,0.029,VW Golf R,,,,,,,,,,,,\n",
      "15,27596.12,1289.53,66.69,1222.84,26373.28,36,0.029,VW Golf R,,,,,,,,,,,,\n",
      "16,26373.28,1289.53,63.73,1225.8,25147.48,36,0.029,VW Golf R,,,,,,,,,,,,\n",
      "17,25147.48,1289.53,60.77,1228.76,23918.72,36,0.029,VW Golf R,,,,,,,,,,,,\n",
      "18,23918.72,1289.53,57.8,1231.73,22686.99,36,0.029,VW Golf R,,,,,,,,,,,,\n",
      "19,22686.99,1289.53,54.82,1234.71,21452.28,36,0.029,VW Golf R,,,,,,,,,,,,\n",
      "20,21452.28,1289.53,51.84,1237.69,20214.59,36,0.029,VW Golf R,,,,,,,,,,,,\n",
      "21,20214.59,1289.53,48.85,1240.68,18973.91,36,0.029,VW Golf R,,,,,,,,,,,,\n",
      "22,18973.91,1289.53,45.85,1243.68,17730.23,36,0.029,VW Golf R,,,,,,,,,,,,\n",
      "23,17730.23,1289.53,42.84,1246.69,16483.54,36,0.029,VW Golf R,,,,,,,,,,,,\n",
      "24,16483.54,1289.53,39.83,1249.7,15233.84,36,0.029,VW Golf R,,,,,,,,,,,,\n",
      "25,15233.84,1289.53,36.81,1252.72,13981.12,36,0.029,VW Golf R,,,,,,,,,,,,\n",
      "26,13981.12,1289.53,33.78,1255.75,12725.37,36,0.029,VW Golf R,,,,,,,,,,,,\n",
      "27,12725.37,1289.53,30.75,1258.78,11466.59,36,0.029,VW Golf R,,,,,,,,,,,,\n",
      "28,11466.59,1289.53,27.71,1261.82,10204.77,36,0.029,VW Golf R,,,,,,,,,,,,\n",
      "29,10204.77,1289.53,24.66,1264.87,8939.9,36,0.029,VW Golf R,,,,,,,,,,,,\n",
      "30,8939.9,1289.53,21.6,1267.93,7671.97,36,0.029,VW Golf R,,,,,,,,,,,,\n",
      "31,7671.97,1289.53,18.54,1270.99,6400.98,36,0.029,VW Golf R,,,,,,,,,,,,\n",
      "32,6400.98,1289.53,15.46,1274.07,5126.91,36,0.029,VW Golf R,,,,,,,,,,,,\n",
      "33,5126.91,1289.53,12.39,1277.14,3849.77,36,0.029,VW Golf R,,,,,,,,,,,,\n",
      "34,3849.77,1289.53,9.3,1280.23,2569.54,36,0.029,VW Golf R,,,,,,,,,,,,\n",
      "35,2569.54,1289.53,6.2,1283.33,1286.21,36,0.029,VW Golf R,,,,,,,,,,,,\n",
      "36,1286.21,1289.53,3.1,1286.43,-0.22,36,0.029,VW Golf R,,,,,,,,,,,,\n",
      "1,44409.6,981.02,107.32,873.7,43535.9,48,0.029,VW Golf R,,,,,,,,,,,,\n",
      "2,43535.9,981.02,105.21,875.81,42660.09,48,0.029,VW Golf R,,,,,,,,,,,,\n",
      "3,42660.09,981.02,103.09,877.93,41782.16,48,0.029,VW Golf R,,,,,,,,,,,,\n",
      "4,41782.16,981.02,100.97,880.05,40902.11,48,0.029,VW Golf R,,,,,,,,,,,,\n",
      "5,40902.11,981.02,98.84,882.18,40019.93,48,0.029,VW Golf R,,,,,,,,,,,,\n",
      "6,40019.93,981.02,96.71,884.31,39135.62,48,0.029,VW Golf R,,,,,,,,,,,,\n",
      "7,39135.62,981.02,94.57,886.45,38249.17,48,0.029,VW Golf R,,,,,,,,,,,,\n",
      "8,38249.17,981.02,92.43,888.59,37360.58,48,0.029,VW Golf R,,,,,,,,,,,,\n",
      "9,37360.58,981.02,90.28,890.74,36469.84,48,0.029,VW Golf R,,,,,,,,,,,,\n",
      "10,36469.84,981.02,88.13,892.89,35576.95,48,0.029,VW Golf R,,,,,,,,,,,,\n",
      "11,35576.95,981.02,85.97,895.05,34681.9,48,0.029,VW Golf R,,,,,,,,,,,,\n",
      "12,34681.9,981.02,83.81,897.21,33784.69,48,0.029,VW Golf R,,,,,,,,,,,,\n",
      "13,33784.69,981.02,81.64,899.38,32885.31,48,0.029,VW Golf R,,,,,,,,,,,,\n",
      "14,32885.31,981.02,79.47,901.55,31983.76,48,0.029,VW Golf R,,,,,,,,,,,,\n",
      "15,31983.76,981.02,77.29,903.73,31080.03,48,0.029,VW Golf R,,,,,,,,,,,,\n",
      "16,31080.03,981.02,75.11,905.91,30174.12,48,0.029,VW Golf R,,,,,,,,,,,,\n",
      "17,30174.12,981.02,72.92,908.1,29266.02,48,0.029,VW Golf R,,,,,,,,,,,,\n",
      "18,29266.02,981.02,70.72,910.3,28355.72,48,0.029,VW Golf R,,,,,,,,,,,,\n",
      "19,28355.72,981.02,68.52,912.5,27443.22,48,0.029,VW Golf R,,,,,,,,,,,,\n",
      "20,27443.22,981.02,66.32,914.7,26528.52,48,0.029,VW Golf R,,,,,,,,,,,,\n",
      "21,26528.52,981.02,64.11,916.91,25611.61,48,0.029,VW Golf R,,,,,,,,,,,,\n",
      "22,25611.61,981.02,61.89,919.13,24692.48,48,0.029,VW Golf R,,,,,,,,,,,,\n",
      "23,24692.48,981.02,59.67,921.35,23771.13,48,0.029,VW Golf R,,,,,,,,,,,,\n",
      "24,23771.13,981.02,57.44,923.58,22847.55,48,0.029,VW Golf R,,,,,,,,,,,,\n",
      "25,22847.55,981.02,55.21,925.81,21921.74,48,0.029,VW Golf R,,,,,,,,,,,,\n",
      "26,21921.74,981.02,52.97,928.05,20993.69,48,0.029,VW Golf R,,,,,,,,,,,,\n",
      "27,20993.69,981.02,50.73,930.29,20063.4,48,0.029,VW Golf R,,,,,,,,,,,,\n",
      "28,20063.4,981.02,48.48,932.54,19130.86,48,0.029,VW Golf R,,,,,,,,,,,,\n",
      "29,19130.86,981.02,46.23,934.79,18196.07,48,0.029,VW Golf R,,,,,,,,,,,,\n",
      "30,18196.07,981.02,43.97,937.05,17259.02,48,0.029,VW Golf R,,,,,,,,,,,,\n",
      "31,17259.02,981.02,41.7,939.32,16319.7,48,0.029,VW Golf R,,,,,,,,,,,,\n",
      "32,16319.7,981.02,39.43,941.59,15378.11,48,0.029,VW Golf R,,,,,,,,,,,,\n",
      "33,15378.11,981.02,37.16,943.86,14434.25,48,0.029,VW Golf R,,,,,,,,,,,,\n",
      "34,14434.25,981.02,34.88,946.14,13488.11,48,0.029,VW Golf R,,,,,,,,,,,,\n",
      "35,13488.11,981.02,32.59,948.43,12539.68,48,0.029,VW Golf R,,,,,,,,,,,,\n",
      "36,12539.68,981.02,30.3,950.72,11588.96,48,0.029,VW Golf R,,,,,,,,,,,,\n",
      "37,11588.96,981.02,28,953.02,10635.94,48,0.029,VW Golf R,,,,,,,,,,,,\n",
      "38,10635.94,981.02,25.7,955.32,9680.62,48,0.029,VW Golf R,,,,,,,,,,,,\n",
      "39,9680.62,981.02,23.39,957.63,8722.99,48,0.029,VW Golf R,,,,,,,,,,,,\n",
      "40,8722.99,981.02,21.08,959.94,7763.05,48,0.029,VW Golf R,,,,,,,,,,,,\n",
      "41,7763.05,981.02,18.76,962.26,6800.79,48,0.029,VW Golf R,,,,,,,,,,,,\n",
      "42,6800.79,981.02,16.43,964.59,5836.2,48,0.029,VW Golf R,,,,,,,,,,,,\n",
      "43,5836.2,981.02,14.1,966.92,4869.28,48,0.029,VW Golf R,,,,,,,,,,,,\n",
      "44,4869.28,981.02,11.76,969.26,3900.02,48,0.029,VW Golf R,,,,,,,,,,,,\n",
      "45,3900.02,981.02,9.42,971.6,2928.42,48,0.029,VW Golf R,,,,,,,,,,,,\n",
      "46,2928.42,981.02,7.07,973.95,1954.47,48,0.029,VW Golf R,,,,,,,,,,,,\n",
      "47,1954.47,981.02,4.72,976.3,978.17,48,0.029,VW Golf R,,,,,,,,,,,,\n",
      "48,978.17,981.02,2.36,978.66,-0.49,48,0.029,VW Golf R,,,,,,,,,,,,\n",
      "1,44409.6,796.01,107.32,688.69,43720.91,60,0.029,VW Golf R,,,,,,,,,,,,\n",
      "2,43720.91,796.01,105.65,690.36,43030.55,60,0.029,VW Golf R,,,,,,,,,,,,\n",
      "3,43030.55,796.01,103.99,692.02,42338.53,60,0.029,VW Golf R,,,,,,,,,,,,\n",
      "4,42338.53,796.01,102.31,693.7,41644.83,60,0.029,VW Golf R,,,,,,,,,,,,\n",
      "5,41644.83,796.01,100.64,695.37,40949.46,60,0.029,VW Golf R,,,,,,,,,,,,\n",
      "6,40949.46,796.01,98.96,697.05,40252.41,60,0.029,VW Golf R,,,,,,,,,,,,\n",
      "7,40252.41,796.01,97.27,698.74,39553.67,60,0.029,VW Golf R,,,,,,,,,,,,\n",
      "8,39553.67,796.01,95.58,700.43,38853.24,60,0.029,VW Golf R,,,,,,,,,,,,\n",
      "9,38853.24,796.01,93.89,702.12,38151.12,60,0.029,VW Golf R,,,,,,,,,,,,\n",
      "10,38151.12,796.01,92.19,703.82,37447.3,60,0.029,VW Golf R,,,,,,,,,,,,\n",
      "11,37447.3,796.01,90.49,705.52,36741.78,60,0.029,VW Golf R,,,,,,,,,,,,\n",
      "12,36741.78,796.01,88.79,707.22,36034.56,60,0.029,VW Golf R,,,,,,,,,,,,\n",
      "13,36034.56,796.01,87.08,708.93,35325.63,60,0.029,VW Golf R,,,,,,,,,,,,\n",
      "14,35325.63,796.01,85.37,710.64,34614.99,60,0.029,VW Golf R,,,,,,,,,,,,\n",
      "15,34614.99,796.01,83.65,712.36,33902.63,60,0.029,VW Golf R,,,,,,,,,,,,\n",
      "16,33902.63,796.01,81.93,714.08,33188.55,60,0.029,VW Golf R,,,,,,,,,,,,\n",
      "17,33188.55,796.01,80.2,715.81,32472.74,60,0.029,VW Golf R,,,,,,,,,,,,\n",
      "18,32472.74,796.01,78.47,717.54,31755.2,60,0.029,VW Golf R,,,,,,,,,,,,\n",
      "19,31755.2,796.01,76.74,719.27,31035.93,60,0.029,VW Golf R,,,,,,,,,,,,\n",
      "20,31035.93,796.01,75,721.01,30314.92,60,0.029,VW Golf R,,,,,,,,,,,,\n",
      "21,30314.92,796.01,73.26,722.75,29592.17,60,0.029,VW Golf R,,,,,,,,,,,,\n",
      "22,29592.17,796.01,71.51,724.5,28867.67,60,0.029,VW Golf R,,,,,,,,,,,,\n",
      "23,28867.67,796.01,69.76,726.25,28141.42,60,0.029,VW Golf R,,,,,,,,,,,,\n",
      "24,28141.42,796.01,68,728.01,27413.41,60,0.029,VW Golf R,,,,,,,,,,,,\n",
      "25,27413.41,796.01,66.24,729.77,26683.64,60,0.029,VW Golf R,,,,,,,,,,,,\n",
      "26,26683.64,796.01,64.48,731.53,25952.11,60,0.029,VW Golf R,,,,,,,,,,,,\n",
      "27,25952.11,796.01,62.71,733.3,25218.81,60,0.029,VW Golf R,,,,,,,,,,,,\n",
      "28,25218.81,796.01,60.94,735.07,24483.74,60,0.029,VW Golf R,,,,,,,,,,,,\n",
      "29,24483.74,796.01,59.16,736.85,23746.89,60,0.029,VW Golf R,,,,,,,,,,,,\n",
      "30,23746.89,796.01,57.38,738.63,23008.26,60,0.029,VW Golf R,,,,,Correlation  - Matrix,,,,,,,\n",
      "31,23008.26,796.01,55.6,740.41,22267.85,60,0.029,VW Golf R,,,,,,Starting Balance,Repayment,Interest Paid,Principal Paid,New Balance,term,interest_rate\n",
      "32,22267.85,796.01,53.81,742.2,21525.65,60,0.029,VW Golf R,,,,,Starting Balance,1,,,,,,\n",
      "33,21525.65,796.01,52.02,743.99,20781.66,60,0.029,VW Golf R,,,,,Repayment,0.365766616,1,,,,,\n",
      "34,20781.66,796.01,50.22,745.79,20035.87,60,0.029,VW Golf R,,,,,Interest Paid,0.797418199,0.133342335,1,,,,\n",
      "35,20035.87,796.01,48.42,747.59,19288.28,60,0.029,VW Golf R,,,,,Principal Paid,0.236358029,0.986343592,-0.031708568,1,,,\n",
      "36,19288.28,796.01,46.61,749.4,18538.88,60,0.029,VW Golf R,,,,,New Balance,0.999772155,0.345914329,0.802073561,0.215563286,1,,\n",
      "37,18538.88,796.01,44.8,751.21,17787.67,60,0.029,VW Golf R,,,,,term,0.023595497,-0.491489092,0.194770959,-0.528036206,0.035312611,1,\n",
      "38,17787.67,796.01,42.98,753.03,17034.64,60,0.029,VW Golf R,,,,,interest_rate,-0.099215709,-0.310193634,0.447759217,-0.387241966,-0.091201279,0.318877251,1\n",
      "39,17034.64,796.01,41.16,754.85,16279.79,60,0.029,VW Golf R,,,,,,,,,,,,\n",
      "40,16279.79,796.01,39.34,756.67,15523.12,60,0.029,VW Golf R,,,,,Covariance - Matrix,,,,,,,\n",
      "41,15523.12,796.01,37.51,758.5,14764.62,60,0.029,VW Golf R,,,,,,Starting Balance,Repayment,Interest Paid,Principal Paid,New Balance,term,interest_rate\n",
      "42,14764.62,796.01,35.68,760.33,14004.29,60,0.029,VW Golf R,,,,,Starting Balance,125678880.3,,,,,,\n",
      "43,14004.29,796.01,33.84,762.17,13242.12,60,0.029,VW Golf R,,,,,Repayment,1013412.356,61080.41198,,,,,\n",
      "44,13242.12,796.01,32,764.01,12478.11,60,0.029,VW Golf R,,,,,Interest Paid,364067.6959,1342.09694,1658.554326,,,,\n",
      "45,12478.11,796.01,30.15,765.86,11712.25,60,0.029,VW Golf R,,,,,Principal Paid,649344.6596,59738.31504,-316.4573868,60054.77243,,,\n",
      "46,11712.25,796.01,28.3,767.71,10944.54,60,0.029,VW Golf R,,,,,New Balance,125029535.6,953674.0405,364384.1533,589289.8872,124440245.7,,\n",
      "47,10944.54,796.01,26.44,769.57,10174.97,60,0.029,VW Golf R,,,,,term,2448.819775,-1124.505052,73.43204152,-1197.937093,3646.756869,85.70242215,\n",
      "48,10174.97,796.01,24.58,771.43,9403.54,60,0.029,VW Golf R,,,,,interest_rate,-14.90183997,-1.027098659,0.244308,-1.271406659,-13.63043331,0.039550173,0.000179497\n",
      "49,9403.54,796.01,22.72,773.29,8630.25,60,0.029,VW Golf R,,,,,,,,,,,,\n",
      "50,8630.25,796.01,20.85,775.16,7855.09,60,0.029,VW Golf R,,,,,,,,,,,,\n",
      "51,7855.09,796.01,18.98,777.03,7078.06,60,0.029,VW Golf R,,,,,,,,,,,,\n",
      "52,7078.06,796.01,17.1,778.91,6299.15,60,0.029,VW Golf R,,,,,,,,,,,,\n",
      "53,6299.15,796.01,15.22,780.79,5518.36,60,0.029,VW Golf R,,,,,,,,,,,,\n",
      "54,5518.36,796.01,13.33,782.68,4735.68,60,0.029,VW Golf R,,,,,,,,,,,,\n",
      "55,4735.68,796.01,11.44,784.57,3951.11,60,0.029,VW Golf R,,,,,,,,,,,,\n",
      "56,3951.11,796.01,9.54,786.47,3164.64,60,0.029,VW Golf R,,,,,,,,,,,,\n",
      "57,3164.64,796.01,7.64,788.37,2376.27,60,0.029,VW Golf R,,,,,,,,,,,,\n",
      "58,2376.27,796.01,5.74,790.27,1586,60,0.029,VW Golf R,,,,,,,,,,,,\n",
      "59,1586,796.01,3.83,792.18,793.82,60,0.029,VW Golf R,,,,,,,,,,,,\n",
      "60,793.82,796.01,1.91,794.1,-0.28,60,0.029,VW Golf R,,,,,,,,,,,,\n",
      "Mean,17562.87034,712.1341176,56.71512255,655.4189951,16907.45135,,0.039602941,,,,,,,,,,,,,\n",
      "MEDIAN,16262.23,661.995,50.64,598.135,15539.305,,0.03745,,,,,,,,,,,,,\n",
      "MODE,21600,687.23,70.2,#N/A,#N/A,,0.039,,,,,,,,,,,,,\n",
      "STANDARD DEVIATION ,11224.42308,247.4479475,40.77535283,245.3616253,11168.97469,,0.013414089,,,,,,,,,,,,,\n",
      "\n"
     ]
    }
   ],
   "source": [
    "#read csv file\n",
    "with open(\"I:\\EduBridge\\Data\\car.csv\",'r') as car:\n",
    "    print(car.read())"
   ]
  },
  {
   "cell_type": "code",
   "execution_count": null,
   "id": "91cd63f0",
   "metadata": {},
   "outputs": [],
   "source": []
  },
  {
   "cell_type": "code",
   "execution_count": 116,
   "id": "9bf453c6",
   "metadata": {},
   "outputs": [
    {
     "data": {
      "text/plain": [
       "['.ipynb_checkpoints',\n",
       " 'Basic Statistics.ipynb',\n",
       " 'claculated.txt',\n",
       " 'DemoModule.py',\n",
       " 'edubridge.txt',\n",
       " 'FileHandling.ipynb',\n",
       " 'Grades.txt',\n",
       " 'Problem-Solving.ipynb',\n",
       " 'Python Basic.ipynb',\n",
       " 'Test.txt',\n",
       " 'test_nofile.txt',\n",
       " '__pycache__']"
      ]
     },
     "execution_count": 116,
     "metadata": {},
     "output_type": "execute_result"
    }
   ],
   "source": [
    "import os\n",
    "os.listdir('C:\\\\Users\\\\karthick\\\\EXL-CHENNAI and PUNE- DA')"
   ]
  },
  {
   "cell_type": "code",
   "execution_count": 114,
   "id": "2d5c3b94",
   "metadata": {},
   "outputs": [
    {
     "data": {
      "text/plain": [
       "'C:\\\\Users\\\\karthick\\\\EXL-CHENNAI and PUNE- DA'"
      ]
     },
     "execution_count": 114,
     "metadata": {},
     "output_type": "execute_result"
    }
   ],
   "source": [
    "os.getcwd()"
   ]
  },
  {
   "cell_type": "code",
   "execution_count": 131,
   "id": "58ad022d",
   "metadata": {},
   "outputs": [
    {
     "data": {
      "text/plain": [
       "['all_data.txt',\n",
       " 'claculated.txt',\n",
       " 'edubridge.txt',\n",
       " 'Grades.txt',\n",
       " 'Test.txt',\n",
       " 'test_nofile.txt']"
      ]
     },
     "execution_count": 131,
     "metadata": {},
     "output_type": "execute_result"
    }
   ],
   "source": [
    "# how to read all text file and write it into one file\n",
    "[file for file in os.listdir() if file.endswith(\".txt\")]"
   ]
  },
  {
   "cell_type": "code",
   "execution_count": 132,
   "id": "bcedf01a",
   "metadata": {},
   "outputs": [],
   "source": [
    "all_file_obj=[open(txt_file) for txt_file in [file for file in os.listdir() if file.endswith(\".txt\")]]"
   ]
  },
  {
   "cell_type": "code",
   "execution_count": 129,
   "id": "8c7067d1",
   "metadata": {},
   "outputs": [
    {
     "data": {
      "text/plain": [
       "''"
      ]
     },
     "execution_count": 129,
     "metadata": {},
     "output_type": "execute_result"
    }
   ],
   "source": [
    "all_file_obj[0].read()"
   ]
  },
  {
   "cell_type": "code",
   "execution_count": 123,
   "id": "0f16ebc1",
   "metadata": {},
   "outputs": [
    {
     "data": {
      "text/plain": [
       "\"Join Online Courses in Java, Data Analytics & Software Testing with 100% Job Guarantee. \\nEnroll & Learn Programming, Marketing, Data Analytics & many more with EduBridge India. \\n100% Online. Work on Live Projects. Zero Cost EMI Option. Flexible Timings.\\nAWS Certification\\nLearn AWS & Cloud Computing With Us Get Placed In Top MNC's\\nPlacement Services\\n110% Job Guarantee Get a High Paying Tech Job\\nLearn & Earn With Us\\nGet Assured Scholarship Easy payment scheme\\nGet Trained by Experts\\nGet Hands-on Experience 110% Job Guarantee Courses\""
      ]
     },
     "execution_count": 123,
     "metadata": {},
     "output_type": "execute_result"
    }
   ],
   "source": [
    "all_file_obj[1].read()"
   ]
  },
  {
   "cell_type": "code",
   "execution_count": 124,
   "id": "92263edf",
   "metadata": {},
   "outputs": [
    {
     "data": {
      "text/plain": [
       "'5\\n60 70 80 90 100\\n55 65 75 85 60\\n70 60 80 90 67\\n89 76 56 43 90\\n67 89 76 54 90\\n'"
      ]
     },
     "execution_count": 124,
     "metadata": {},
     "output_type": "execute_result"
    }
   ],
   "source": [
    "all_file_obj[2].read()"
   ]
  },
  {
   "cell_type": "code",
   "execution_count": 125,
   "id": "7023c36d",
   "metadata": {},
   "outputs": [
    {
     "data": {
      "text/plain": [
       "''"
      ]
     },
     "execution_count": 125,
     "metadata": {},
     "output_type": "execute_result"
    }
   ],
   "source": [
    "all_file_obj[3].read()"
   ]
  },
  {
   "cell_type": "code",
   "execution_count": 130,
   "id": "972fc71a",
   "metadata": {},
   "outputs": [
    {
     "data": {
      "text/plain": [
       "''"
      ]
     },
     "execution_count": 130,
     "metadata": {},
     "output_type": "execute_result"
    }
   ],
   "source": [
    "all_file_obj[4].read()"
   ]
  },
  {
   "cell_type": "code",
   "execution_count": null,
   "id": "cbe8ee36",
   "metadata": {},
   "outputs": [],
   "source": []
  },
  {
   "cell_type": "code",
   "execution_count": 135,
   "id": "eba70586",
   "metadata": {},
   "outputs": [],
   "source": [
    "import os\n",
    "os.listdir('C:\\\\Users\\\\karthick\\\\EXL-CHENNAI and PUNE- DA')\n",
    "os.mkdir(\"New_data\")\n",
    "all_file_obj=[open(txt_file) for txt_file in [file for file in os.listdir() if file.endswith(\".txt\")]]\n",
    "with open(\"New_data/all_data.txt\",\"w\") as all_data:\n",
    "            for file in all_file_obj:\n",
    "                all_data.write(file.read())\n"
   ]
  },
  {
   "cell_type": "code",
   "execution_count": null,
   "id": "ff287a54",
   "metadata": {},
   "outputs": [],
   "source": []
  }
 ],
 "metadata": {
  "kernelspec": {
   "display_name": "Python 3 (ipykernel)",
   "language": "python",
   "name": "python3"
  },
  "language_info": {
   "codemirror_mode": {
    "name": "ipython",
    "version": 3
   },
   "file_extension": ".py",
   "mimetype": "text/x-python",
   "name": "python",
   "nbconvert_exporter": "python",
   "pygments_lexer": "ipython3",
   "version": "3.9.12"
  }
 },
 "nbformat": 4,
 "nbformat_minor": 5
}
