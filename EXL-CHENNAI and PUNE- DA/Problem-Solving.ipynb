{
 "cells": [
  {
   "cell_type": "markdown",
   "id": "a0bb11a8",
   "metadata": {},
   "source": [
    "# Basic Python"
   ]
  },
  {
   "cell_type": "markdown",
   "id": "1d4d15b2",
   "metadata": {},
   "source": [
    "## Problem 1"
   ]
  },
  {
   "cell_type": "markdown",
   "id": "fa001958",
   "metadata": {},
   "source": [
    "You are working at a HR department and store the Employee data in a dictionary:\n",
    "employee = {\n",
    "    'name': 'Raj kamal',\n",
    "    'eid': 1004,\n",
    "    'dept': 'Tech' } \n",
    "    \n",
    "Task:\n",
    "Your program needs to take the key as input and output the corresponding value.\n",
    "\n",
    "Sample Input\n",
    "dept\n",
    "\n",
    "Sample Output\n",
    "Tech"
   ]
  },
  {
   "cell_type": "code",
   "execution_count": 8,
   "id": "e878a370",
   "metadata": {},
   "outputs": [
    {
     "name": "stdout",
     "output_type": "stream",
     "text": [
      "Enter the key: dept\n",
      " Your value of key dept is Tech\n"
     ]
    }
   ],
   "source": [
    "employee = {\n",
    "    'name': 'Raj kamal',\n",
    "    'eid': 1004,\n",
    "    'dept': 'Tech',\n",
    "    'jobtile': 'Data Analysit'\n",
    "} \n",
    "\n",
    "key=input(\"Enter the key: \")\n",
    "#print(employee.get(key)) #print(employee[key])\n",
    "#print(f\"{key} is {employee[key]}\")\n",
    "print(\" Your value of key {} is {}\".format(key,employee[key]))\n"
   ]
  },
  {
   "cell_type": "code",
   "execution_count": 6,
   "id": "abf15f56",
   "metadata": {},
   "outputs": [
    {
     "data": {
      "text/plain": [
       "'eid is 1004'"
      ]
     },
     "execution_count": 6,
     "metadata": {},
     "output_type": "execute_result"
    }
   ],
   "source": [
    "f\"{key} is {employee[key]}\""
   ]
  },
  {
   "cell_type": "markdown",
   "id": "b50cd41d",
   "metadata": {},
   "source": [
    "# String based Problem"
   ]
  },
  {
   "cell_type": "markdown",
   "id": "3b9778bb",
   "metadata": {},
   "source": [
    "Newlines in Strings\n",
    "\n",
    "Task\n",
    "\n",
    "The given code outputs python R-program SAS SQL (each language  is separated by a space).\n",
    "Modify the code to output each language on a separate line, resulting in the following output:\n",
    "python\n",
    "R-program\n",
    "SAS\n",
    "SQL"
   ]
  },
  {
   "cell_type": "code",
   "execution_count": 10,
   "id": "8df62875",
   "metadata": {},
   "outputs": [
    {
     "name": "stdout",
     "output_type": "stream",
     "text": [
      "python R-program SAS SQL\n"
     ]
    }
   ],
   "source": [
    "print(\"python R-program SAS SQL\")"
   ]
  },
  {
   "cell_type": "code",
   "execution_count": 11,
   "id": "c723abf6",
   "metadata": {},
   "outputs": [
    {
     "name": "stdout",
     "output_type": "stream",
     "text": [
      "python\n",
      "R-program\n",
      "SAS\n",
      "SQL\n"
     ]
    }
   ],
   "source": [
    "print(\"python\\nR-program\\nSAS\\nSQL\")\n"
   ]
  },
  {
   "cell_type": "code",
   "execution_count": 12,
   "id": "fac1a73b",
   "metadata": {},
   "outputs": [
    {
     "name": "stdout",
     "output_type": "stream",
     "text": [
      "fist\tsecond\tthird\n"
     ]
    }
   ],
   "source": [
    "print(\"fist\\tsecond\\tthird\")"
   ]
  },
  {
   "cell_type": "code",
   "execution_count": 15,
   "id": "9faf5e29",
   "metadata": {},
   "outputs": [
    {
     "name": "stdout",
     "output_type": "stream",
     "text": [
      "enter your languages:python\\nR-program\\nSAS\\nSQL\n",
      "python\\nR-program\\nSAS\\nSQL\n"
     ]
    }
   ],
   "source": [
    "languages=str(input(\"enter your languages:\"))\n",
    "print(languages)"
   ]
  },
  {
   "cell_type": "code",
   "execution_count": 25,
   "id": "b917f265",
   "metadata": {},
   "outputs": [
    {
     "data": {
      "text/plain": [
       "'python R-program SAS SQL'"
      ]
     },
     "execution_count": 25,
     "metadata": {},
     "output_type": "execute_result"
    }
   ],
   "source": [
    "languages.replace(\"\\\\n\",\" \")"
   ]
  },
  {
   "cell_type": "code",
   "execution_count": 27,
   "id": "3fd03ae6",
   "metadata": {},
   "outputs": [
    {
     "name": "stdout",
     "output_type": "stream",
     "text": [
      "python\n",
      "R-program\n",
      "SAS\n",
      "SQL\n"
     ]
    }
   ],
   "source": [
    "print('python R-program SAS SQL'.replace(\" \",\"\\n\"))"
   ]
  },
  {
   "cell_type": "code",
   "execution_count": 23,
   "id": "5bb20c3f",
   "metadata": {},
   "outputs": [
    {
     "name": "stdout",
     "output_type": "stream",
     "text": [
      "I like apples\n"
     ]
    }
   ],
   "source": [
    "txt = \"I like bananas\"\n",
    "\n",
    "x = txt.replace(\"bananas\", \"apples\")\n",
    "\n",
    "print(x) "
   ]
  },
  {
   "cell_type": "code",
   "execution_count": null,
   "id": "866a5546",
   "metadata": {},
   "outputs": [],
   "source": []
  },
  {
   "cell_type": "code",
   "execution_count": 22,
   "id": "ce8d1fe7",
   "metadata": {},
   "outputs": [
    {
     "ename": "SyntaxError",
     "evalue": "EOL while scanning string literal (1793108374.py, line 1)",
     "output_type": "error",
     "traceback": [
      "\u001b[1;36m  Input \u001b[1;32mIn [22]\u001b[1;36m\u001b[0m\n\u001b[1;33m    'python\\\\nR-program\\\\nSAS\\\\nSQL'.replace(\"\\\\\",\"\\\")\u001b[0m\n\u001b[1;37m                                                      ^\u001b[0m\n\u001b[1;31mSyntaxError\u001b[0m\u001b[1;31m:\u001b[0m EOL while scanning string literal\n"
     ]
    }
   ],
   "source": [
    "'python\\\\nR-program\\\\nSAS\\\\nSQL'.replace(\"\\\\\",\"\\\")"
   ]
  },
  {
   "cell_type": "code",
   "execution_count": 28,
   "id": "32fa02dd",
   "metadata": {},
   "outputs": [],
   "source": [
    "str1='''Identifier\n",
    "        variable\n",
    "        function\n",
    "        classs '''"
   ]
  },
  {
   "cell_type": "code",
   "execution_count": 34,
   "id": "a2ff0136",
   "metadata": {},
   "outputs": [
    {
     "data": {
      "text/plain": [
       "['Identifier', 'variable', 'function', 'classs']"
      ]
     },
     "execution_count": 34,
     "metadata": {},
     "output_type": "execute_result"
    }
   ],
   "source": [
    "str1.split()"
   ]
  },
  {
   "cell_type": "code",
   "execution_count": 30,
   "id": "e99b605e",
   "metadata": {},
   "outputs": [
    {
     "data": {
      "text/plain": [
       "'\\n        va'"
      ]
     },
     "execution_count": 30,
     "metadata": {},
     "output_type": "execute_result"
    }
   ],
   "source": [
    "str1[10:21]\n"
   ]
  },
  {
   "cell_type": "code",
   "execution_count": 36,
   "id": "c37c8059",
   "metadata": {},
   "outputs": [],
   "source": [
    "t1=(10,20,30)"
   ]
  },
  {
   "cell_type": "code",
   "execution_count": 37,
   "id": "ae77bb4a",
   "metadata": {},
   "outputs": [],
   "source": [
    "a,b,c=t1  # tuple unpack\n"
   ]
  },
  {
   "cell_type": "code",
   "execution_count": 41,
   "id": "28567628",
   "metadata": {},
   "outputs": [
    {
     "data": {
      "text/plain": [
       "10.0"
      ]
     },
     "execution_count": 41,
     "metadata": {},
     "output_type": "execute_result"
    }
   ],
   "source": [
    "float(a)"
   ]
  },
  {
   "cell_type": "code",
   "execution_count": 39,
   "id": "5d9c5cd6",
   "metadata": {},
   "outputs": [
    {
     "data": {
      "text/plain": [
       "20"
      ]
     },
     "execution_count": 39,
     "metadata": {},
     "output_type": "execute_result"
    }
   ],
   "source": [
    "b"
   ]
  },
  {
   "cell_type": "code",
   "execution_count": 40,
   "id": "8cf9801e",
   "metadata": {},
   "outputs": [
    {
     "data": {
      "text/plain": [
       "30"
      ]
     },
     "execution_count": 40,
     "metadata": {},
     "output_type": "execute_result"
    }
   ],
   "source": [
    "c"
   ]
  },
  {
   "cell_type": "code",
   "execution_count": 43,
   "id": "c0ca7559",
   "metadata": {},
   "outputs": [],
   "source": [
    "d1={1:'a',2:'b'}\n",
    "d2={3:'c'}"
   ]
  },
  {
   "cell_type": "code",
   "execution_count": 44,
   "id": "e3439687",
   "metadata": {},
   "outputs": [
    {
     "data": {
      "text/plain": [
       "{1: 'a', 2: 'b', 3: 'c'}"
      ]
     },
     "execution_count": 44,
     "metadata": {},
     "output_type": "execute_result"
    }
   ],
   "source": [
    "d1|d2"
   ]
  },
  {
   "cell_type": "code",
   "execution_count": 45,
   "id": "8c4677ab",
   "metadata": {},
   "outputs": [],
   "source": [
    "d1.update(d2)"
   ]
  },
  {
   "cell_type": "code",
   "execution_count": 46,
   "id": "3d34fe3f",
   "metadata": {},
   "outputs": [
    {
     "data": {
      "text/plain": [
       "{1: 'a', 2: 'b', 3: 'c'}"
      ]
     },
     "execution_count": 46,
     "metadata": {},
     "output_type": "execute_result"
    }
   ],
   "source": [
    "d1"
   ]
  }
 ],
 "metadata": {
  "kernelspec": {
   "display_name": "Python 3 (ipykernel)",
   "language": "python",
   "name": "python3"
  },
  "language_info": {
   "codemirror_mode": {
    "name": "ipython",
    "version": 3
   },
   "file_extension": ".py",
   "mimetype": "text/x-python",
   "name": "python",
   "nbconvert_exporter": "python",
   "pygments_lexer": "ipython3",
   "version": "3.9.12"
  }
 },
 "nbformat": 4,
 "nbformat_minor": 5
}
