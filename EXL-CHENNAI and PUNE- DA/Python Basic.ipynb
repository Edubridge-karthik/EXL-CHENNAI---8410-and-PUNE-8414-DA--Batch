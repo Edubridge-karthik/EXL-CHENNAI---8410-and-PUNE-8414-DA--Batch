{
 "cells": [
  {
   "cell_type": "markdown",
   "id": "8da299dd",
   "metadata": {},
   "source": [
    "# Python Basic"
   ]
  },
  {
   "cell_type": "code",
   "execution_count": 1,
   "id": "8b2490d7",
   "metadata": {},
   "outputs": [
    {
     "name": "stdout",
     "output_type": "stream",
     "text": [
      "Welcome to Python Basic\n"
     ]
    }
   ],
   "source": [
    "print(\"Welcome to Python Basic\")"
   ]
  },
  {
   "cell_type": "code",
   "execution_count": 2,
   "id": "29063ab6",
   "metadata": {},
   "outputs": [],
   "source": [
    "#Python Identifier"
   ]
  },
  {
   "cell_type": "code",
   "execution_count": 3,
   "id": "73d5b002",
   "metadata": {},
   "outputs": [],
   "source": [
    "user_name=\"raj\""
   ]
  },
  {
   "cell_type": "code",
   "execution_count": 4,
   "id": "050bd811",
   "metadata": {},
   "outputs": [
    {
     "data": {
      "text/plain": [
       "'raj'"
      ]
     },
     "execution_count": 4,
     "metadata": {},
     "output_type": "execute_result"
    }
   ],
   "source": [
    "user_name"
   ]
  },
  {
   "cell_type": "code",
   "execution_count": 6,
   "id": "f9d35ca0",
   "metadata": {},
   "outputs": [],
   "source": [
    "usr_id2=(1001,1002)"
   ]
  },
  {
   "cell_type": "code",
   "execution_count": 7,
   "id": "a9c03d5c",
   "metadata": {},
   "outputs": [
    {
     "ename": "SyntaxError",
     "evalue": "cannot assign to operator (3681803446.py, line 1)",
     "output_type": "error",
     "traceback": [
      "\u001b[1;36m  Input \u001b[1;32mIn [7]\u001b[1;36m\u001b[0m\n\u001b[1;33m    usr_id@2=(1001,1002)\u001b[0m\n\u001b[1;37m    ^\u001b[0m\n\u001b[1;31mSyntaxError\u001b[0m\u001b[1;31m:\u001b[0m cannot assign to operator\n"
     ]
    }
   ],
   "source": [
    "usr_id@2=(1001,1002)"
   ]
  },
  {
   "cell_type": "markdown",
   "id": "4b91c408",
   "metadata": {},
   "source": [
    "# Variable"
   ]
  },
  {
   "cell_type": "code",
   "execution_count": 8,
   "id": "2c88406e",
   "metadata": {},
   "outputs": [],
   "source": [
    "var1=100"
   ]
  },
  {
   "cell_type": "code",
   "execution_count": 9,
   "id": "54824e88",
   "metadata": {},
   "outputs": [
    {
     "name": "stdout",
     "output_type": "stream",
     "text": [
      "100\n"
     ]
    }
   ],
   "source": [
    "print(var1)"
   ]
  },
  {
   "cell_type": "code",
   "execution_count": 10,
   "id": "822de685",
   "metadata": {},
   "outputs": [
    {
     "data": {
      "text/plain": [
       "2668136781264"
      ]
     },
     "execution_count": 10,
     "metadata": {},
     "output_type": "execute_result"
    }
   ],
   "source": [
    "id(var1) #  Return the identity of an object."
   ]
  },
  {
   "cell_type": "code",
   "execution_count": 11,
   "id": "7b1e2893",
   "metadata": {},
   "outputs": [],
   "source": [
    "_var2=\"abc\""
   ]
  },
  {
   "cell_type": "code",
   "execution_count": 12,
   "id": "4037e499",
   "metadata": {},
   "outputs": [
    {
     "data": {
      "text/plain": [
       "2668137542256"
      ]
     },
     "execution_count": 12,
     "metadata": {},
     "output_type": "execute_result"
    }
   ],
   "source": [
    "id(_var2)"
   ]
  },
  {
   "cell_type": "code",
   "execution_count": 14,
   "id": "59590e8a",
   "metadata": {},
   "outputs": [],
   "source": [
    "learingportal=\"www.edubrridgeindia.com\""
   ]
  },
  {
   "cell_type": "code",
   "execution_count": 16,
   "id": "09f6fc8c",
   "metadata": {},
   "outputs": [
    {
     "name": "stdout",
     "output_type": "stream",
     "text": [
      "www.edubrridgeindia.com\n"
     ]
    }
   ],
   "source": [
    "print(learingportal)"
   ]
  },
  {
   "cell_type": "markdown",
   "id": "158e839c",
   "metadata": {},
   "source": [
    "# Identifier -  function name"
   ]
  },
  {
   "cell_type": "code",
   "execution_count": 20,
   "id": "23d600e1",
   "metadata": {},
   "outputs": [],
   "source": [
    "def welcome_msg(name):\n",
    "    print(f\"Hi, {name} , Welcome to python Fuctional Programming\")"
   ]
  },
  {
   "cell_type": "code",
   "execution_count": 21,
   "id": "8c28bd0d",
   "metadata": {},
   "outputs": [
    {
     "name": "stdout",
     "output_type": "stream",
     "text": [
      "Hi, snehal , Welcome to python Fuctional Programming\n"
     ]
    }
   ],
   "source": [
    "welcome_msg(\"snehal\")"
   ]
  },
  {
   "cell_type": "code",
   "execution_count": 22,
   "id": "d9f67efc",
   "metadata": {},
   "outputs": [
    {
     "name": "stdout",
     "output_type": "stream",
     "text": [
      "Hi, Harshal , Welcome to python Fuctional Programming\n"
     ]
    }
   ],
   "source": [
    "welcome_msg(\"Harshal\")"
   ]
  },
  {
   "cell_type": "markdown",
   "id": "b5f6bf9e",
   "metadata": {},
   "source": [
    "# Identifier - class name"
   ]
  },
  {
   "cell_type": "code",
   "execution_count": 27,
   "id": "979882b8",
   "metadata": {},
   "outputs": [],
   "source": [
    "class Students:  # class name mostly common noun\n",
    "    pass"
   ]
  },
  {
   "cell_type": "code",
   "execution_count": 24,
   "id": "cb9068eb",
   "metadata": {},
   "outputs": [],
   "source": [
    "s1=Students() # s1 is object of Students class"
   ]
  },
  {
   "cell_type": "markdown",
   "id": "3f7a1253",
   "metadata": {},
   "source": [
    "# Identifier- Module name"
   ]
  },
  {
   "cell_type": "code",
   "execution_count": 28,
   "id": "af191762",
   "metadata": {},
   "outputs": [],
   "source": [
    "import DemoModule  # Module name must follow identifier rules"
   ]
  },
  {
   "cell_type": "code",
   "execution_count": 30,
   "id": "b1642856",
   "metadata": {},
   "outputs": [
    {
     "name": "stdout",
     "output_type": "stream",
     "text": [
      "Hi Welcome\n"
     ]
    }
   ],
   "source": [
    "DemoModule.welcom()"
   ]
  },
  {
   "cell_type": "code",
   "execution_count": 31,
   "id": "2f331a90",
   "metadata": {},
   "outputs": [
    {
     "name": "stdout",
     "output_type": "stream",
     "text": [
      "11\n"
     ]
    }
   ],
   "source": [
    "DemoModule.add(4,7)"
   ]
  },
  {
   "cell_type": "code",
   "execution_count": 37,
   "id": "36b76a25",
   "metadata": {},
   "outputs": [
    {
     "name": "stdout",
     "output_type": "stream",
     "text": [
      "Python 3.9.12\n"
     ]
    }
   ],
   "source": [
    "!python --version"
   ]
  },
  {
   "cell_type": "markdown",
   "id": "0622f9ab",
   "metadata": {},
   "source": [
    "# Python Keywords"
   ]
  },
  {
   "cell_type": "code",
   "execution_count": 36,
   "id": "c803f9ff",
   "metadata": {},
   "outputs": [
    {
     "name": "stdout",
     "output_type": "stream",
     "text": [
      "['False', 'None', 'True', '__peg_parser__', 'and', 'as', 'assert', 'async', 'await', 'break', 'class', 'continue', 'def', 'del', 'elif', 'else', 'except', 'finally', 'for', 'from', 'global', 'if', 'import', 'in', 'is', 'lambda', 'nonlocal', 'not', 'or', 'pass', 'raise', 'return', 'try', 'while', 'with', 'yield']\n",
      "36\n"
     ]
    }
   ],
   "source": [
    "import keyword\n",
    "print(keyword.kwlist)\n",
    "print(len(keyword.kwlist))"
   ]
  },
  {
   "cell_type": "markdown",
   "id": "c34b7ca1",
   "metadata": {},
   "source": [
    "\n",
    "# Python Variable"
   ]
  },
  {
   "cell_type": "code",
   "execution_count": 41,
   "id": "465c4a11",
   "metadata": {},
   "outputs": [],
   "source": [
    "a=3\n",
    "b=a\n",
    "c=a"
   ]
  },
  {
   "cell_type": "code",
   "execution_count": 42,
   "id": "2e75e1b1",
   "metadata": {},
   "outputs": [
    {
     "name": "stdout",
     "output_type": "stream",
     "text": [
      "2668136589680 2668136589680 2668136589680\n"
     ]
    }
   ],
   "source": [
    "print(id(a),id(b),id(c))"
   ]
  },
  {
   "cell_type": "code",
   "execution_count": 45,
   "id": "05dd1bc8",
   "metadata": {},
   "outputs": [
    {
     "data": {
      "text/plain": [
       "3"
      ]
     },
     "execution_count": 45,
     "metadata": {},
     "output_type": "execute_result"
    }
   ],
   "source": [
    "b"
   ]
  },
  {
   "cell_type": "code",
   "execution_count": 46,
   "id": "e5079fda",
   "metadata": {},
   "outputs": [],
   "source": [
    "c=\"hell0\""
   ]
  },
  {
   "cell_type": "code",
   "execution_count": 47,
   "id": "fe5e444d",
   "metadata": {},
   "outputs": [
    {
     "name": "stdout",
     "output_type": "stream",
     "text": [
      "2668136589680 2668136589680 2668266981296\n"
     ]
    }
   ],
   "source": [
    "print(id(a),id(b),id(c))"
   ]
  },
  {
   "cell_type": "markdown",
   "id": "9e4b9c1d",
   "metadata": {},
   "source": [
    "# Multiple Value Assignment for variables"
   ]
  },
  {
   "cell_type": "code",
   "execution_count": 52,
   "id": "94986ba9",
   "metadata": {},
   "outputs": [],
   "source": [
    "x=y=z=d=10"
   ]
  },
  {
   "cell_type": "code",
   "execution_count": 54,
   "id": "f52da6b2",
   "metadata": {},
   "outputs": [
    {
     "name": "stdout",
     "output_type": "stream",
     "text": [
      "2668136589904 2668136589904 2668136589904\n"
     ]
    }
   ],
   "source": [
    "print(id(x),id(y),id(d))"
   ]
  },
  {
   "cell_type": "code",
   "execution_count": 55,
   "id": "f8f46c53",
   "metadata": {},
   "outputs": [],
   "source": [
    "x1,x2,x3='a','b','c' # tuple unpacking"
   ]
  },
  {
   "cell_type": "code",
   "execution_count": 56,
   "id": "002c6873",
   "metadata": {},
   "outputs": [
    {
     "name": "stdout",
     "output_type": "stream",
     "text": [
      "2668137731504 2668137423600 2668137300080\n"
     ]
    }
   ],
   "source": [
    "print(id(x1),id(x2),id(x3))"
   ]
  },
  {
   "cell_type": "code",
   "execution_count": 57,
   "id": "41c89c2c",
   "metadata": {},
   "outputs": [],
   "source": [
    "__var1=\"private\""
   ]
  },
  {
   "cell_type": "code",
   "execution_count": 60,
   "id": "8bfb2fbf",
   "metadata": {},
   "outputs": [
    {
     "name": "stdout",
     "output_type": "stream",
     "text": [
      "private\n"
     ]
    }
   ],
   "source": [
    "print(__var1)"
   ]
  },
  {
   "cell_type": "code",
   "execution_count": null,
   "id": "2080aebc",
   "metadata": {},
   "outputs": [],
   "source": [
    "Everything in python is object"
   ]
  },
  {
   "cell_type": "markdown",
   "id": "d19f6ea0",
   "metadata": {},
   "source": [
    "# Python Basic Datatype"
   ]
  },
  {
   "cell_type": "markdown",
   "id": "6df3a919",
   "metadata": {},
   "source": [
    "### Numeric data type"
   ]
  },
  {
   "cell_type": "code",
   "execution_count": 61,
   "id": "c71722bf",
   "metadata": {},
   "outputs": [
    {
     "name": "stdout",
     "output_type": "stream",
     "text": [
      "<class 'int'>\n"
     ]
    }
   ],
   "source": [
    "# integer\n",
    "num1=456456\n",
    "print(type(num1))"
   ]
  },
  {
   "cell_type": "code",
   "execution_count": 62,
   "id": "7a2b9bbd",
   "metadata": {},
   "outputs": [
    {
     "name": "stdout",
     "output_type": "stream",
     "text": [
      "<class 'float'>\n"
     ]
    }
   ],
   "source": [
    "#float\n",
    "num2=3.14\n",
    "print(type(num2))"
   ]
  },
  {
   "cell_type": "code",
   "execution_count": 63,
   "id": "03803077",
   "metadata": {},
   "outputs": [
    {
     "name": "stdout",
     "output_type": "stream",
     "text": [
      "<class 'complex'>\n"
     ]
    }
   ],
   "source": [
    "#complex\n",
    "num3=5+6j\n",
    "print(type(num3))"
   ]
  },
  {
   "cell_type": "code",
   "execution_count": null,
   "id": "65ceb592",
   "metadata": {},
   "outputs": [],
   "source": [
    "type() # the object's type"
   ]
  },
  {
   "cell_type": "markdown",
   "id": "98256a47",
   "metadata": {},
   "source": [
    "# object atrribute and method  listout using dir()"
   ]
  },
  {
   "cell_type": "code",
   "execution_count": 72,
   "id": "32f93c3f",
   "metadata": {},
   "outputs": [
    {
     "name": "stdout",
     "output_type": "stream",
     "text": [
      "['__abs__', '__add__', '__and__', '__bool__', '__ceil__', '__class__', '__delattr__', '__dir__', '__divmod__', '__doc__', '__eq__', '__float__', '__floor__', '__floordiv__', '__format__', '__ge__', '__getattribute__', '__getnewargs__', '__gt__', '__hash__', '__index__', '__init__', '__init_subclass__', '__int__', '__invert__', '__le__', '__lshift__', '__lt__', '__mod__', '__mul__', '__ne__', '__neg__', '__new__', '__or__', '__pos__', '__pow__', '__radd__', '__rand__', '__rdivmod__', '__reduce__', '__reduce_ex__', '__repr__', '__rfloordiv__', '__rlshift__', '__rmod__', '__rmul__', '__ror__', '__round__', '__rpow__', '__rrshift__', '__rshift__', '__rsub__', '__rtruediv__', '__rxor__', '__setattr__', '__sizeof__', '__str__', '__sub__', '__subclasshook__', '__truediv__', '__trunc__', '__xor__', 'as_integer_ratio', 'bit_length', 'conjugate', 'denominator', 'from_bytes', 'imag', 'numerator', 'real', 'to_bytes']\n"
     ]
    }
   ],
   "source": [
    "print(dir(num1))"
   ]
  },
  {
   "cell_type": "code",
   "execution_count": 66,
   "id": "bc51a376",
   "metadata": {},
   "outputs": [
    {
     "data": {
      "text/plain": [
       "19"
      ]
     },
     "execution_count": 66,
     "metadata": {},
     "output_type": "execute_result"
    }
   ],
   "source": [
    "num1.bit_length() #Number of bits necessary to represent self in binary"
   ]
  },
  {
   "cell_type": "code",
   "execution_count": 68,
   "id": "1af09ed1",
   "metadata": {},
   "outputs": [
    {
     "data": {
      "text/plain": [
       "28"
      ]
     },
     "execution_count": 68,
     "metadata": {},
     "output_type": "execute_result"
    }
   ],
   "source": [
    "num1.__sizeof__() #Returns size in memory, in bytes"
   ]
  },
  {
   "cell_type": "code",
   "execution_count": 69,
   "id": "0b8e10fe",
   "metadata": {},
   "outputs": [
    {
     "data": {
      "text/plain": [
       "int"
      ]
     },
     "execution_count": 69,
     "metadata": {},
     "output_type": "execute_result"
    }
   ],
   "source": [
    "num1.__class__"
   ]
  },
  {
   "cell_type": "code",
   "execution_count": 70,
   "id": "43777439",
   "metadata": {},
   "outputs": [
    {
     "data": {
      "text/plain": [
       "\"int([x]) -> integer\\nint(x, base=10) -> integer\\n\\nConvert a number or string to an integer, or return 0 if no arguments\\nare given.  If x is a number, return x.__int__().  For floating point\\nnumbers, this truncates towards zero.\\n\\nIf x is not a number or if base is given, then x must be a string,\\nbytes, or bytearray instance representing an integer literal in the\\ngiven base.  The literal can be preceded by '+' or '-' and be surrounded\\nby whitespace.  The base defaults to 10.  Valid bases are 0 and 2-36.\\nBase 0 means to interpret the base from the string as an integer literal.\\n>>> int('0b100', base=0)\\n4\""
      ]
     },
     "execution_count": 70,
     "metadata": {},
     "output_type": "execute_result"
    }
   ],
   "source": [
    "num1.__doc__"
   ]
  },
  {
   "cell_type": "code",
   "execution_count": 73,
   "id": "48227996",
   "metadata": {},
   "outputs": [
    {
     "data": {
      "text/plain": [
       "0"
      ]
     },
     "execution_count": 73,
     "metadata": {},
     "output_type": "execute_result"
    }
   ],
   "source": [
    "num1.imag"
   ]
  },
  {
   "cell_type": "code",
   "execution_count": 74,
   "id": "04d907f0",
   "metadata": {},
   "outputs": [
    {
     "data": {
      "text/plain": [
       "456456"
      ]
     },
     "execution_count": 74,
     "metadata": {},
     "output_type": "execute_result"
    }
   ],
   "source": [
    "num1.real"
   ]
  },
  {
   "cell_type": "code",
   "execution_count": 78,
   "id": "8bf1b6bd",
   "metadata": {},
   "outputs": [
    {
     "name": "stdout",
     "output_type": "stream",
     "text": [
      "['__abs__', '__add__', '__bool__', '__ceil__', '__class__', '__delattr__', '__dir__', '__divmod__', '__doc__', '__eq__', '__float__', '__floor__', '__floordiv__', '__format__', '__ge__', '__getattribute__', '__getformat__', '__getnewargs__', '__gt__', '__hash__', '__init__', '__init_subclass__', '__int__', '__le__', '__lt__', '__mod__', '__mul__', '__ne__', '__neg__', '__new__', '__pos__', '__pow__', '__radd__', '__rdivmod__', '__reduce__', '__reduce_ex__', '__repr__', '__rfloordiv__', '__rmod__', '__rmul__', '__round__', '__rpow__', '__rsub__', '__rtruediv__', '__setattr__', '__setformat__', '__sizeof__', '__str__', '__sub__', '__subclasshook__', '__truediv__', '__trunc__', 'as_integer_ratio', 'conjugate', 'fromhex', 'hex', 'imag', 'is_integer', 'real']\n"
     ]
    }
   ],
   "source": [
    "print(dir(num2))"
   ]
  },
  {
   "cell_type": "code",
   "execution_count": 77,
   "id": "17f5ff75",
   "metadata": {},
   "outputs": [
    {
     "data": {
      "text/plain": [
       "False"
      ]
     },
     "execution_count": 77,
     "metadata": {},
     "output_type": "execute_result"
    }
   ],
   "source": [
    "num2.is_integer()"
   ]
  },
  {
   "cell_type": "code",
   "execution_count": 79,
   "id": "2a33913e",
   "metadata": {},
   "outputs": [
    {
     "data": {
      "text/plain": [
       "'0x1.91eb851eb851fp+1'"
      ]
     },
     "execution_count": 79,
     "metadata": {},
     "output_type": "execute_result"
    }
   ],
   "source": [
    "num2.hex() #a hexadecimal representation of a floating-point number"
   ]
  },
  {
   "cell_type": "code",
   "execution_count": 80,
   "id": "d825df3b",
   "metadata": {},
   "outputs": [
    {
     "name": "stdout",
     "output_type": "stream",
     "text": [
      "['__abs__', '__add__', '__bool__', '__class__', '__delattr__', '__dir__', '__divmod__', '__doc__', '__eq__', '__float__', '__floordiv__', '__format__', '__ge__', '__getattribute__', '__getnewargs__', '__gt__', '__hash__', '__init__', '__init_subclass__', '__int__', '__le__', '__lt__', '__mod__', '__mul__', '__ne__', '__neg__', '__new__', '__pos__', '__pow__', '__radd__', '__rdivmod__', '__reduce__', '__reduce_ex__', '__repr__', '__rfloordiv__', '__rmod__', '__rmul__', '__rpow__', '__rsub__', '__rtruediv__', '__setattr__', '__sizeof__', '__str__', '__sub__', '__subclasshook__', '__truediv__', 'conjugate', 'imag', 'real']\n"
     ]
    }
   ],
   "source": [
    "print(dir(num3))"
   ]
  },
  {
   "cell_type": "code",
   "execution_count": 81,
   "id": "4b29f9d4",
   "metadata": {},
   "outputs": [
    {
     "data": {
      "text/plain": [
       "6.0"
      ]
     },
     "execution_count": 81,
     "metadata": {},
     "output_type": "execute_result"
    }
   ],
   "source": [
    "num3.imag"
   ]
  },
  {
   "cell_type": "code",
   "execution_count": 82,
   "id": "7fb99f0d",
   "metadata": {},
   "outputs": [
    {
     "data": {
      "text/plain": [
       "5.0"
      ]
     },
     "execution_count": 82,
     "metadata": {},
     "output_type": "execute_result"
    }
   ],
   "source": [
    "num3.real"
   ]
  },
  {
   "cell_type": "code",
   "execution_count": 83,
   "id": "9f578edd",
   "metadata": {},
   "outputs": [
    {
     "data": {
      "text/plain": [
       "(5+6j)"
      ]
     },
     "execution_count": 83,
     "metadata": {},
     "output_type": "execute_result"
    }
   ],
   "source": [
    "num3"
   ]
  },
  {
   "cell_type": "code",
   "execution_count": 84,
   "id": "8a6e59db",
   "metadata": {},
   "outputs": [
    {
     "data": {
      "text/plain": [
       "(5-6j)"
      ]
     },
     "execution_count": 84,
     "metadata": {},
     "output_type": "execute_result"
    }
   ],
   "source": [
    "num3.conjugate()"
   ]
  },
  {
   "cell_type": "code",
   "execution_count": 85,
   "id": "16d3d7a7",
   "metadata": {},
   "outputs": [
    {
     "data": {
      "text/plain": [
       "102"
      ]
     },
     "execution_count": 85,
     "metadata": {},
     "output_type": "execute_result"
    }
   ],
   "source": [
    "45+57"
   ]
  },
  {
   "cell_type": "code",
   "execution_count": 86,
   "id": "23064c07",
   "metadata": {},
   "outputs": [
    {
     "data": {
      "text/plain": [
       "101.0"
      ]
     },
     "execution_count": 86,
     "metadata": {},
     "output_type": "execute_result"
    }
   ],
   "source": [
    "45+56.0   # implicit"
   ]
  },
  {
   "cell_type": "code",
   "execution_count": 87,
   "id": "21229d05",
   "metadata": {},
   "outputs": [
    {
     "data": {
      "text/plain": [
       "45"
      ]
     },
     "execution_count": 87,
     "metadata": {},
     "output_type": "execute_result"
    }
   ],
   "source": [
    "#Type casting: explict\n",
    "int(45.67)"
   ]
  },
  {
   "cell_type": "code",
   "execution_count": 90,
   "id": "21db08aa",
   "metadata": {},
   "outputs": [
    {
     "data": {
      "text/plain": [
       "4556.6"
      ]
     },
     "execution_count": 90,
     "metadata": {},
     "output_type": "execute_result"
    }
   ],
   "source": [
    "float('4556.6')"
   ]
  },
  {
   "cell_type": "code",
   "execution_count": 91,
   "id": "445a3519",
   "metadata": {},
   "outputs": [
    {
     "data": {
      "text/plain": [
       "(565+0j)"
      ]
     },
     "execution_count": 91,
     "metadata": {},
     "output_type": "execute_result"
    }
   ],
   "source": [
    "complex(565)"
   ]
  },
  {
   "cell_type": "markdown",
   "id": "31570d0b",
   "metadata": {},
   "source": [
    "# Sequence Data Type String"
   ]
  },
  {
   "cell_type": "code",
   "execution_count": 92,
   "id": "40826bad",
   "metadata": {},
   "outputs": [],
   "source": [
    "name=\"EduBridge\""
   ]
  },
  {
   "cell_type": "code",
   "execution_count": 93,
   "id": "524fa74a",
   "metadata": {},
   "outputs": [
    {
     "name": "stdout",
     "output_type": "stream",
     "text": [
      "<class 'str'>\n"
     ]
    }
   ],
   "source": [
    "print(type(name))  # name variable  belong to str class object"
   ]
  },
  {
   "cell_type": "code",
   "execution_count": 94,
   "id": "2a1690ff",
   "metadata": {},
   "outputs": [],
   "source": [
    "lang='python Programming'"
   ]
  },
  {
   "cell_type": "code",
   "execution_count": 95,
   "id": "e680d8f3",
   "metadata": {},
   "outputs": [
    {
     "name": "stdout",
     "output_type": "stream",
     "text": [
      "<class 'str'>\n"
     ]
    }
   ],
   "source": [
    "print(type(lang))"
   ]
  },
  {
   "cell_type": "code",
   "execution_count": null,
   "id": "5b226581",
   "metadata": {},
   "outputs": [],
   "source": [
    "#triple code mostly used in doc string / multiline string"
   ]
  },
  {
   "cell_type": "code",
   "execution_count": 101,
   "id": "762d3c8c",
   "metadata": {},
   "outputs": [],
   "source": [
    "class_details=\"\"\"EXL- Certified Data Analytics Associate - \n",
    "Module 34: Fundamentals of Python programming for analytics (Duration: 01:00:00)\n",
    "\n",
    "Group Batches: 2022-8414, 2022-8410\"\"\""
   ]
  },
  {
   "cell_type": "code",
   "execution_count": 97,
   "id": "c5857db6",
   "metadata": {},
   "outputs": [
    {
     "name": "stdout",
     "output_type": "stream",
     "text": [
      "<class 'str'>\n"
     ]
    }
   ],
   "source": [
    "print(type(class_details))"
   ]
  },
  {
   "cell_type": "code",
   "execution_count": 103,
   "id": "9b2315d4",
   "metadata": {},
   "outputs": [
    {
     "name": "stdout",
     "output_type": "stream",
     "text": [
      "EXL- Certified Data Analytics Associate - \n",
      "Module 34: Fundamentals of Python programming for analytics (Duration: 01:00:00)\n",
      "\n",
      "Group Batches: 2022-8414, 2022-8410\n"
     ]
    }
   ],
   "source": [
    "print(class_details)"
   ]
  },
  {
   "cell_type": "markdown",
   "id": "5196fb39",
   "metadata": {},
   "source": [
    "# access the string element using index"
   ]
  },
  {
   "attachments": {
    "image.png": {
     "image/png": "[encoded data removed]"
    }
   },
   "cell_type": "markdown",
   "id": "489ced1a",
   "metadata": {},
   "source": [
    "![image.png](attachment:image.png)"
   ]
  },
  {
   "cell_type": "code",
   "execution_count": 104,
   "id": "e9712450",
   "metadata": {},
   "outputs": [],
   "source": [
    "str1='Python'"
   ]
  },
  {
   "cell_type": "code",
   "execution_count": 105,
   "id": "553c40e4",
   "metadata": {},
   "outputs": [
    {
     "data": {
      "text/plain": [
       "'P'"
      ]
     },
     "execution_count": 105,
     "metadata": {},
     "output_type": "execute_result"
    }
   ],
   "source": [
    "str1[0]"
   ]
  },
  {
   "cell_type": "code",
   "execution_count": 106,
   "id": "5f96a168",
   "metadata": {},
   "outputs": [
    {
     "data": {
      "text/plain": [
       "'n'"
      ]
     },
     "execution_count": 106,
     "metadata": {},
     "output_type": "execute_result"
    }
   ],
   "source": [
    "str1[-1]"
   ]
  },
  {
   "cell_type": "code",
   "execution_count": 107,
   "id": "9be61adc",
   "metadata": {},
   "outputs": [
    {
     "data": {
      "text/plain": [
       "'h'"
      ]
     },
     "execution_count": 107,
     "metadata": {},
     "output_type": "execute_result"
    }
   ],
   "source": [
    "str1[3]"
   ]
  },
  {
   "cell_type": "code",
   "execution_count": 108,
   "id": "91358f5a",
   "metadata": {},
   "outputs": [
    {
     "data": {
      "text/plain": [
       "'t'"
      ]
     },
     "execution_count": 108,
     "metadata": {},
     "output_type": "execute_result"
    }
   ],
   "source": [
    "str1[-4]"
   ]
  },
  {
   "cell_type": "markdown",
   "id": "42af8fc4",
   "metadata": {},
   "source": [
    "# string Slicing   str[start:stop:step]"
   ]
  },
  {
   "cell_type": "code",
   "execution_count": 109,
   "id": "bfddd733",
   "metadata": {},
   "outputs": [],
   "source": [
    "course=\"EXL- Certified Data Analytics Associate\""
   ]
  },
  {
   "cell_type": "code",
   "execution_count": 110,
   "id": "fb774ff8",
   "metadata": {},
   "outputs": [
    {
     "data": {
      "text/plain": [
       "'EXL'"
      ]
     },
     "execution_count": 110,
     "metadata": {},
     "output_type": "execute_result"
    }
   ],
   "source": [
    "course[0:3]  # stop index value 3 excluded , start index value o included, default step value is 1"
   ]
  },
  {
   "cell_type": "code",
   "execution_count": 111,
   "id": "7a235952",
   "metadata": {},
   "outputs": [
    {
     "data": {
      "text/plain": [
       "'EXL'"
      ]
     },
     "execution_count": 111,
     "metadata": {},
     "output_type": "execute_result"
    }
   ],
   "source": [
    "course[0:3:1] "
   ]
  },
  {
   "cell_type": "code",
   "execution_count": 112,
   "id": "08e202c3",
   "metadata": {},
   "outputs": [
    {
     "data": {
      "text/plain": [
       "'Associate'"
      ]
     },
     "execution_count": 112,
     "metadata": {},
     "output_type": "execute_result"
    }
   ],
   "source": [
    "course[-9:] "
   ]
  },
  {
   "cell_type": "code",
   "execution_count": 113,
   "id": "3ae39d4f",
   "metadata": {},
   "outputs": [
    {
     "data": {
      "text/plain": [
       "'EXL- Certified Data Analytics Associate'"
      ]
     },
     "execution_count": 113,
     "metadata": {},
     "output_type": "execute_result"
    }
   ],
   "source": [
    "course[::]"
   ]
  },
  {
   "cell_type": "code",
   "execution_count": 114,
   "id": "64adfd13",
   "metadata": {},
   "outputs": [
    {
     "data": {
      "text/plain": [
       "'etaicossA scitylanA ataD deifitreC -LXE'"
      ]
     },
     "execution_count": 114,
     "metadata": {},
     "output_type": "execute_result"
    }
   ],
   "source": [
    "course[::-1]   # reverse the string"
   ]
  },
  {
   "cell_type": "code",
   "execution_count": 127,
   "id": "9094e658",
   "metadata": {},
   "outputs": [
    {
     "data": {
      "text/plain": [
       "'EL etfe aaAayisAscae'"
      ]
     },
     "execution_count": 127,
     "metadata": {},
     "output_type": "execute_result"
    }
   ],
   "source": [
    "course[::2] "
   ]
  },
  {
   "cell_type": "markdown",
   "id": "49cdbbf4",
   "metadata": {},
   "source": [
    "# String concatenation using + operator"
   ]
  },
  {
   "cell_type": "code",
   "execution_count": 189,
   "id": "7743fab6",
   "metadata": {},
   "outputs": [
    {
     "data": {
      "text/plain": [
       "'345ER'"
      ]
     },
     "execution_count": 189,
     "metadata": {},
     "output_type": "execute_result"
    }
   ],
   "source": [
    "str(345)+\"ER\""
   ]
  },
  {
   "cell_type": "code",
   "execution_count": 119,
   "id": "78496a53",
   "metadata": {},
   "outputs": [
    {
     "data": {
      "text/plain": [
       "'EXL- Certified Data Analytics Associate(EXL-DA)'"
      ]
     },
     "execution_count": 119,
     "metadata": {},
     "output_type": "execute_result"
    }
   ],
   "source": [
    "course+\"(EXL-DA)\""
   ]
  },
  {
   "cell_type": "code",
   "execution_count": 120,
   "id": "aec4e449",
   "metadata": {},
   "outputs": [
    {
     "data": {
      "text/plain": [
       "'EXL- Certified Data Analytics Associate'"
      ]
     },
     "execution_count": 120,
     "metadata": {},
     "output_type": "execute_result"
    }
   ],
   "source": [
    "course"
   ]
  },
  {
   "cell_type": "code",
   "execution_count": 121,
   "id": "a3da25ac",
   "metadata": {},
   "outputs": [
    {
     "data": {
      "text/plain": [
       "'EduBridge'"
      ]
     },
     "execution_count": 121,
     "metadata": {},
     "output_type": "execute_result"
    }
   ],
   "source": [
    "\"Edu\"+\"Bridge\""
   ]
  },
  {
   "cell_type": "markdown",
   "id": "d7eb700d",
   "metadata": {},
   "source": [
    "# String repetation using * operator"
   ]
  },
  {
   "cell_type": "code",
   "execution_count": 122,
   "id": "c5c27c47",
   "metadata": {},
   "outputs": [],
   "source": [
    "str1='Python'"
   ]
  },
  {
   "cell_type": "code",
   "execution_count": 126,
   "id": "cb8912c0",
   "metadata": {},
   "outputs": [
    {
     "data": {
      "text/plain": [
       "'PythonPythonPythonPythonPython'"
      ]
     },
     "execution_count": 126,
     "metadata": {},
     "output_type": "execute_result"
    }
   ],
   "source": [
    "str1*5  # str*int"
   ]
  },
  {
   "cell_type": "markdown",
   "id": "fb84152d",
   "metadata": {},
   "source": [
    "# Attribute and method associate with string object"
   ]
  },
  {
   "cell_type": "code",
   "execution_count": 128,
   "id": "535f57ab",
   "metadata": {},
   "outputs": [
    {
     "name": "stdout",
     "output_type": "stream",
     "text": [
      "['__add__', '__class__', '__contains__', '__delattr__', '__dir__', '__doc__', '__eq__', '__format__', '__ge__', '__getattribute__', '__getitem__', '__getnewargs__', '__gt__', '__hash__', '__init__', '__init_subclass__', '__iter__', '__le__', '__len__', '__lt__', '__mod__', '__mul__', '__ne__', '__new__', '__reduce__', '__reduce_ex__', '__repr__', '__rmod__', '__rmul__', '__setattr__', '__sizeof__', '__str__', '__subclasshook__', 'capitalize', 'casefold', 'center', 'count', 'encode', 'endswith', 'expandtabs', 'find', 'format', 'format_map', 'index', 'isalnum', 'isalpha', 'isascii', 'isdecimal', 'isdigit', 'isidentifier', 'islower', 'isnumeric', 'isprintable', 'isspace', 'istitle', 'isupper', 'join', 'ljust', 'lower', 'lstrip', 'maketrans', 'partition', 'removeprefix', 'removesuffix', 'replace', 'rfind', 'rindex', 'rjust', 'rpartition', 'rsplit', 'rstrip', 'split', 'splitlines', 'startswith', 'strip', 'swapcase', 'title', 'translate', 'upper', 'zfill']\n"
     ]
    }
   ],
   "source": [
    "print(dir(str))"
   ]
  },
  {
   "cell_type": "code",
   "execution_count": 147,
   "id": "7778c2bf",
   "metadata": {},
   "outputs": [
    {
     "name": "stdout",
     "output_type": "stream",
     "text": [
      "capitalize(),casefold(),center(),count(),encode(),endswith(),expandtabs(),find(),format(),format_map(),index(),isalnum(),isalpha(),isascii(),isdecimal(),isdigit(),isidentifier(),islower(),isnumeric(),isprintable(),isspace(),istitle(),isupper(),join(),ljust(),lower(),lstrip(),maketrans(),partition(),removeprefix(),removesuffix(),replace(),rfind(),rindex(),rjust(),rpartition(),rsplit(),rstrip(),split(),splitlines(),startswith(),strip(),swapcase(),title(),translate(),upper(),zfill(),"
     ]
    }
   ],
   "source": [
    "for method in dir(str):\n",
    "    if not method.endswith('__'):\n",
    "        print(method,end=\"(),\")"
   ]
  },
  {
   "cell_type": "code",
   "execution_count": 134,
   "id": "3d42589d",
   "metadata": {},
   "outputs": [],
   "source": [
    "s1=\"edubridge Learning\""
   ]
  },
  {
   "cell_type": "code",
   "execution_count": 135,
   "id": "3efca4be",
   "metadata": {},
   "outputs": [],
   "source": [
    "s1=s1.capitalize() #Return a capitalized version of the string."
   ]
  },
  {
   "cell_type": "code",
   "execution_count": 136,
   "id": "a5407ef0",
   "metadata": {},
   "outputs": [
    {
     "data": {
      "text/plain": [
       "'Edubridge learning'"
      ]
     },
     "execution_count": 136,
     "metadata": {},
     "output_type": "execute_result"
    }
   ],
   "source": [
    "s1"
   ]
  },
  {
   "cell_type": "code",
   "execution_count": 132,
   "id": "a2ee754f",
   "metadata": {},
   "outputs": [
    {
     "data": {
      "text/plain": [
       "'Edu'"
      ]
     },
     "execution_count": 132,
     "metadata": {},
     "output_type": "execute_result"
    }
   ],
   "source": [
    "'edu'.capitalize()"
   ]
  },
  {
   "cell_type": "code",
   "execution_count": 138,
   "id": "92079f50",
   "metadata": {},
   "outputs": [
    {
     "data": {
      "text/plain": [
       "'edubridge learning'"
      ]
     },
     "execution_count": 138,
     "metadata": {},
     "output_type": "execute_result"
    }
   ],
   "source": [
    "s1=\"Edubridge Learning\"\n",
    "s1.casefold() #Return a version of the string suitable for caseless comparisons."
   ]
  },
  {
   "cell_type": "code",
   "execution_count": 141,
   "id": "63edeed5",
   "metadata": {},
   "outputs": [
    {
     "data": {
      "text/plain": [
       "'   edu    '"
      ]
     },
     "execution_count": 141,
     "metadata": {},
     "output_type": "execute_result"
    }
   ],
   "source": [
    "s2='edu'\n",
    "s2.center(10) #Return a centered string of length width"
   ]
  },
  {
   "cell_type": "code",
   "execution_count": 143,
   "id": "bf473a58",
   "metadata": {},
   "outputs": [
    {
     "data": {
      "text/plain": [
       "2"
      ]
     },
     "execution_count": 143,
     "metadata": {},
     "output_type": "execute_result"
    }
   ],
   "source": [
    "s1=\"edubridge Learning python program - python\"\n",
    "s1.count('python') #Return the number of non-overlapping occurrences of substring"
   ]
  },
  {
   "cell_type": "code",
   "execution_count": 144,
   "id": "57618710",
   "metadata": {},
   "outputs": [
    {
     "data": {
      "text/plain": [
       "True"
      ]
     },
     "execution_count": 144,
     "metadata": {},
     "output_type": "execute_result"
    }
   ],
   "source": [
    "file=\"module1.py\"\n",
    "file.endswith(\".py\")"
   ]
  },
  {
   "cell_type": "code",
   "execution_count": 145,
   "id": "eb6fedb1",
   "metadata": {},
   "outputs": [
    {
     "data": {
      "text/plain": [
       "False"
      ]
     },
     "execution_count": 145,
     "metadata": {},
     "output_type": "execute_result"
    }
   ],
   "source": [
    "file=\"module1.py\"\n",
    "file.endswith(\".exe\")"
   ]
  },
  {
   "cell_type": "code",
   "execution_count": 153,
   "id": "7b7a26fc",
   "metadata": {},
   "outputs": [
    {
     "data": {
      "text/plain": [
       "19"
      ]
     },
     "execution_count": 153,
     "metadata": {},
     "output_type": "execute_result"
    }
   ],
   "source": [
    "s1=\"edubridge Learning python program - python\"\n",
    "s1.find('python')"
   ]
  },
  {
   "cell_type": "code",
   "execution_count": 152,
   "id": "8a2b78cb",
   "metadata": {},
   "outputs": [
    {
     "data": {
      "text/plain": [
       "-1"
      ]
     },
     "execution_count": 152,
     "metadata": {},
     "output_type": "execute_result"
    }
   ],
   "source": [
    "s1=\"edubridge Learning python program - python\"\n",
    "s1.find('cython')  # is substr not present in s1 then return -1"
   ]
  },
  {
   "cell_type": "code",
   "execution_count": 156,
   "id": "f4e7f9e1",
   "metadata": {},
   "outputs": [
    {
     "data": {
      "text/plain": [
       "'the student name:sukanya the batch:pune-exl'"
      ]
     },
     "execution_count": 156,
     "metadata": {},
     "output_type": "execute_result"
    }
   ],
   "source": [
    "name=\"sukanya\"\n",
    "batch=\"pune-exl\"\n",
    "\"the student name:{0} the batch:{1}\".format(name,batch)"
   ]
  },
  {
   "cell_type": "code",
   "execution_count": 157,
   "id": "893e3a5e",
   "metadata": {},
   "outputs": [
    {
     "data": {
      "text/plain": [
       "'12'"
      ]
     },
     "execution_count": 157,
     "metadata": {},
     "output_type": "execute_result"
    }
   ],
   "source": [
    "\"{:o}\".format(10) # octal number format  dec to oct"
   ]
  },
  {
   "cell_type": "code",
   "execution_count": 160,
   "id": "d349e820",
   "metadata": {},
   "outputs": [
    {
     "data": {
      "text/plain": [
       "'F'"
      ]
     },
     "execution_count": 160,
     "metadata": {},
     "output_type": "execute_result"
    }
   ],
   "source": [
    "\"{:X}\".format(15)   # hexa number format dec to hex"
   ]
  },
  {
   "cell_type": "code",
   "execution_count": 161,
   "id": "466a0a8c",
   "metadata": {},
   "outputs": [
    {
     "data": {
      "text/plain": [
       "'1111'"
      ]
     },
     "execution_count": 161,
     "metadata": {},
     "output_type": "execute_result"
    }
   ],
   "source": [
    "\"{:b}\".format(15)  # binary number format dec to binary"
   ]
  },
  {
   "cell_type": "code",
   "execution_count": 162,
   "id": "05f40f70",
   "metadata": {},
   "outputs": [
    {
     "data": {
      "text/plain": [
       "'14.57'"
      ]
     },
     "execution_count": 162,
     "metadata": {},
     "output_type": "execute_result"
    }
   ],
   "source": [
    "\"{:.2f}\".format(14.566768) "
   ]
  },
  {
   "cell_type": "code",
   "execution_count": 164,
   "id": "1108e137",
   "metadata": {},
   "outputs": [
    {
     "data": {
      "text/plain": [
       "'oct:12,hex:E'"
      ]
     },
     "execution_count": 164,
     "metadata": {},
     "output_type": "execute_result"
    }
   ],
   "source": [
    "\"oct:{:o},hex:{:X}\".format(10,14)"
   ]
  },
  {
   "cell_type": "code",
   "execution_count": 170,
   "id": "dab7f6a9",
   "metadata": {},
   "outputs": [
    {
     "data": {
      "text/plain": [
       "8"
      ]
     },
     "execution_count": 170,
     "metadata": {},
     "output_type": "execute_result"
    }
   ],
   "source": [
    "s1=\"Edubridge Learning\"\n",
    "s1.index('e')"
   ]
  },
  {
   "cell_type": "code",
   "execution_count": 169,
   "id": "0046dbf1",
   "metadata": {},
   "outputs": [
    {
     "ename": "ValueError",
     "evalue": "substring not found",
     "output_type": "error",
     "traceback": [
      "\u001b[1;31m---------------------------------------------------------------------------\u001b[0m",
      "\u001b[1;31mValueError\u001b[0m                                Traceback (most recent call last)",
      "Input \u001b[1;32mIn [169]\u001b[0m, in \u001b[0;36m<cell line: 2>\u001b[1;34m()\u001b[0m\n\u001b[0;32m      1\u001b[0m s1\u001b[38;5;241m=\u001b[39m\u001b[38;5;124m\"\u001b[39m\u001b[38;5;124mEdubridge Learning\u001b[39m\u001b[38;5;124m\"\u001b[39m\n\u001b[1;32m----> 2\u001b[0m \u001b[43ms1\u001b[49m\u001b[38;5;241;43m.\u001b[39;49m\u001b[43mindex\u001b[49m\u001b[43m(\u001b[49m\u001b[38;5;124;43m'\u001b[39;49m\u001b[38;5;124;43mx\u001b[39;49m\u001b[38;5;124;43m'\u001b[39;49m\u001b[43m)\u001b[49m\n",
      "\u001b[1;31mValueError\u001b[0m: substring not found"
     ]
    }
   ],
   "source": [
    "s1=\"Edubridge Learning\"\n",
    "s1.index('x')"
   ]
  },
  {
   "cell_type": "code",
   "execution_count": 173,
   "id": "e24e9d62",
   "metadata": {},
   "outputs": [
    {
     "data": {
      "text/plain": [
       "True"
      ]
     },
     "execution_count": 173,
     "metadata": {},
     "output_type": "execute_result"
    }
   ],
   "source": [
    "\"edu123\".isalnum()"
   ]
  },
  {
   "cell_type": "code",
   "execution_count": 177,
   "id": "4afe1af9",
   "metadata": {},
   "outputs": [
    {
     "data": {
      "text/plain": [
       "True"
      ]
     },
     "execution_count": 177,
     "metadata": {},
     "output_type": "execute_result"
    }
   ],
   "source": [
    "\"edulearning\".isalpha() #Return True if the string is an alphabetic string, False otherwise"
   ]
  },
  {
   "cell_type": "code",
   "execution_count": 179,
   "id": "4e567590",
   "metadata": {},
   "outputs": [
    {
     "data": {
      "text/plain": [
       "'e#d#u# #T#e#c#h'"
      ]
     },
     "execution_count": 179,
     "metadata": {},
     "output_type": "execute_result"
    }
   ],
   "source": [
    "\"#\".join(\"edu Tech\") #Concatenate any number of strings."
   ]
  },
  {
   "cell_type": "code",
   "execution_count": 182,
   "id": "4b811acc",
   "metadata": {},
   "outputs": [
    {
     "data": {
      "text/plain": [
       "'1edu2edu3edu4'"
      ]
     },
     "execution_count": 182,
     "metadata": {},
     "output_type": "execute_result"
    }
   ],
   "source": [
    "'edu'.join(\"1234\")"
   ]
  },
  {
   "cell_type": "code",
   "execution_count": 185,
   "id": "3bb0c1ae",
   "metadata": {},
   "outputs": [
    {
     "data": {
      "text/plain": [
       "['java', 'python', 'c++', 'Rprog']"
      ]
     },
     "execution_count": 185,
     "metadata": {},
     "output_type": "execute_result"
    }
   ],
   "source": [
    "'java python c++ Rprog'.split()"
   ]
  },
  {
   "cell_type": "code",
   "execution_count": 187,
   "id": "3e24e1b0",
   "metadata": {},
   "outputs": [
    {
     "data": {
      "text/plain": [
       "['java', 'python', 'c++', 'Rprog']"
      ]
     },
     "execution_count": 187,
     "metadata": {},
     "output_type": "execute_result"
    }
   ],
   "source": [
    "'java-python-c++-Rprog'.split('-')"
   ]
  },
  {
   "cell_type": "markdown",
   "id": "bb735bbd",
   "metadata": {},
   "source": [
    "# string is immutable "
   ]
  },
  {
   "cell_type": "code",
   "execution_count": 195,
   "id": "0e482d5c",
   "metadata": {},
   "outputs": [],
   "source": [
    "str1=\"EduBridge\"\n"
   ]
  },
  {
   "cell_type": "code",
   "execution_count": 196,
   "id": "9a64af8d",
   "metadata": {},
   "outputs": [
    {
     "data": {
      "text/plain": [
       "'B'"
      ]
     },
     "execution_count": 196,
     "metadata": {},
     "output_type": "execute_result"
    }
   ],
   "source": [
    "str1[3]"
   ]
  },
  {
   "cell_type": "code",
   "execution_count": 197,
   "id": "d543c6e3",
   "metadata": {},
   "outputs": [
    {
     "ename": "TypeError",
     "evalue": "'str' object does not support item assignment",
     "output_type": "error",
     "traceback": [
      "\u001b[1;31m---------------------------------------------------------------------------\u001b[0m",
      "\u001b[1;31mTypeError\u001b[0m                                 Traceback (most recent call last)",
      "Input \u001b[1;32mIn [197]\u001b[0m, in \u001b[0;36m<cell line: 1>\u001b[1;34m()\u001b[0m\n\u001b[1;32m----> 1\u001b[0m str1[\u001b[38;5;241m3\u001b[39m]\u001b[38;5;241m=\u001b[39m\u001b[38;5;124m'\u001b[39m\u001b[38;5;124mb\u001b[39m\u001b[38;5;124m'\u001b[39m\n",
      "\u001b[1;31mTypeError\u001b[0m: 'str' object does not support item assignment"
     ]
    }
   ],
   "source": [
    "str1[3]='b'   # str1 is immutable"
   ]
  },
  {
   "cell_type": "code",
   "execution_count": 198,
   "id": "7b74de84",
   "metadata": {},
   "outputs": [
    {
     "data": {
      "text/plain": [
       "2668265218608"
      ]
     },
     "execution_count": 198,
     "metadata": {},
     "output_type": "execute_result"
    }
   ],
   "source": [
    "id(str1)"
   ]
  },
  {
   "cell_type": "code",
   "execution_count": 199,
   "id": "310f5ac7",
   "metadata": {},
   "outputs": [],
   "source": [
    "str1=\"Edubridge\""
   ]
  },
  {
   "cell_type": "code",
   "execution_count": 200,
   "id": "4d08c858",
   "metadata": {},
   "outputs": [
    {
     "data": {
      "text/plain": [
       "'Edubridge'"
      ]
     },
     "execution_count": 200,
     "metadata": {},
     "output_type": "execute_result"
    }
   ],
   "source": [
    "str1"
   ]
  },
  {
   "cell_type": "code",
   "execution_count": 201,
   "id": "e4568d39",
   "metadata": {},
   "outputs": [
    {
     "data": {
      "text/plain": [
       "2668266439088"
      ]
     },
     "execution_count": 201,
     "metadata": {},
     "output_type": "execute_result"
    }
   ],
   "source": [
    "id(str1)"
   ]
  },
  {
   "cell_type": "code",
   "execution_count": 202,
   "id": "ff0c92fe",
   "metadata": {},
   "outputs": [],
   "source": [
    "a='xyz'\n",
    "b='xyz'\n",
    "c='xyz'"
   ]
  },
  {
   "cell_type": "code",
   "execution_count": 206,
   "id": "b7f960b0",
   "metadata": {},
   "outputs": [
    {
     "name": "stdout",
     "output_type": "stream",
     "text": [
      "2668267227568 2668267227568\n"
     ]
    }
   ],
   "source": [
    "print(id(a),id(b))"
   ]
  },
  {
   "cell_type": "code",
   "execution_count": 204,
   "id": "7f860498",
   "metadata": {},
   "outputs": [],
   "source": [
    "del c"
   ]
  },
  {
   "cell_type": "code",
   "execution_count": null,
   "id": "eb98e10e",
   "metadata": {},
   "outputs": [],
   "source": [
    "# user input is always string"
   ]
  },
  {
   "cell_type": "code",
   "execution_count": 304,
   "id": "af939622",
   "metadata": {},
   "outputs": [
    {
     "name": "stdout",
     "output_type": "stream",
     "text": [
      "Enter your data100\n"
     ]
    }
   ],
   "source": [
    "data=int(input('Enter your data')) #Read a string from standard input"
   ]
  },
  {
   "cell_type": "code",
   "execution_count": 306,
   "id": "1d553de7",
   "metadata": {},
   "outputs": [
    {
     "data": {
      "text/plain": [
       "100"
      ]
     },
     "execution_count": 306,
     "metadata": {},
     "output_type": "execute_result"
    }
   ],
   "source": [
    "data"
   ]
  },
  {
   "cell_type": "code",
   "execution_count": 307,
   "id": "0dcb3123",
   "metadata": {},
   "outputs": [
    {
     "name": "stdout",
     "output_type": "stream",
     "text": [
      "<class 'int'>\n"
     ]
    }
   ],
   "source": [
    "print(type(data))"
   ]
  },
  {
   "cell_type": "code",
   "execution_count": null,
   "id": "62db550f",
   "metadata": {},
   "outputs": [],
   "source": []
  },
  {
   "cell_type": "code",
   "execution_count": null,
   "id": "551c5469",
   "metadata": {},
   "outputs": [],
   "source": []
  },
  {
   "cell_type": "code",
   "execution_count": null,
   "id": "9cfa5ccd",
   "metadata": {},
   "outputs": [],
   "source": []
  },
  {
   "cell_type": "markdown",
   "id": "1879ccd8",
   "metadata": {},
   "source": [
    "# List"
   ]
  },
  {
   "cell_type": "markdown",
   "id": "3f275641",
   "metadata": {},
   "source": [
    "- Lisit is collection of diffrent data type elements with []"
   ]
  },
  {
   "cell_type": "code",
   "execution_count": 207,
   "id": "c98ab1b3",
   "metadata": {},
   "outputs": [],
   "source": [
    "# creating the List\n",
    "l1=[1,3,4,3.14,7+4j,'jan','feb','march',[\"orange\",\"apple\",\"kiwi\"]]"
   ]
  },
  {
   "cell_type": "code",
   "execution_count": 208,
   "id": "9969c030",
   "metadata": {},
   "outputs": [
    {
     "name": "stdout",
     "output_type": "stream",
     "text": [
      "[1, 3, 4, 3.14, (7+4j), 'jan', 'feb', 'march', ['orange', 'apple', 'kiwi']]\n"
     ]
    }
   ],
   "source": [
    "print(l1)"
   ]
  },
  {
   "cell_type": "code",
   "execution_count": 218,
   "id": "3255a193",
   "metadata": {},
   "outputs": [
    {
     "name": "stdout",
     "output_type": "stream",
     "text": [
      "<class 'list'>\n"
     ]
    }
   ],
   "source": [
    "print(type(l1))"
   ]
  },
  {
   "cell_type": "code",
   "execution_count": 209,
   "id": "d867a707",
   "metadata": {},
   "outputs": [
    {
     "data": {
      "text/plain": [
       "1"
      ]
     },
     "execution_count": 209,
     "metadata": {},
     "output_type": "execute_result"
    }
   ],
   "source": [
    "# access the list elements using index \n",
    "l1[0] # oth index element"
   ]
  },
  {
   "cell_type": "code",
   "execution_count": 215,
   "id": "92a2896d",
   "metadata": {},
   "outputs": [
    {
     "data": {
      "text/plain": [
       "['orange', 'apple', 'kiwi']"
      ]
     },
     "execution_count": 215,
     "metadata": {},
     "output_type": "execute_result"
    }
   ],
   "source": [
    "l1[-1]"
   ]
  },
  {
   "cell_type": "code",
   "execution_count": 216,
   "id": "74d17e62",
   "metadata": {},
   "outputs": [
    {
     "data": {
      "text/plain": [
       "'orange'"
      ]
     },
     "execution_count": 216,
     "metadata": {},
     "output_type": "execute_result"
    }
   ],
   "source": [
    "l1[-1][0]"
   ]
  },
  {
   "cell_type": "code",
   "execution_count": 220,
   "id": "3cf8482a",
   "metadata": {},
   "outputs": [
    {
     "data": {
      "text/plain": [
       "str"
      ]
     },
     "execution_count": 220,
     "metadata": {},
     "output_type": "execute_result"
    }
   ],
   "source": [
    "type(l1[-1][0])"
   ]
  },
  {
   "cell_type": "code",
   "execution_count": 217,
   "id": "b4bb648e",
   "metadata": {},
   "outputs": [
    {
     "data": {
      "text/plain": [
       "(7+4j)"
      ]
     },
     "execution_count": 217,
     "metadata": {},
     "output_type": "execute_result"
    }
   ],
   "source": [
    "l1[4]"
   ]
  },
  {
   "cell_type": "code",
   "execution_count": 219,
   "id": "1bcb3cc5",
   "metadata": {},
   "outputs": [
    {
     "data": {
      "text/plain": [
       "complex"
      ]
     },
     "execution_count": 219,
     "metadata": {},
     "output_type": "execute_result"
    }
   ],
   "source": [
    "type(l1[4])"
   ]
  },
  {
   "cell_type": "markdown",
   "id": "d17981e7",
   "metadata": {},
   "source": [
    "# List slice [start:end:step]    and sub list"
   ]
  },
  {
   "cell_type": "code",
   "execution_count": 221,
   "id": "2a885a88",
   "metadata": {},
   "outputs": [],
   "source": [
    "months=['jan','feb','march','april','may','june']"
   ]
  },
  {
   "cell_type": "code",
   "execution_count": 222,
   "id": "25743d21",
   "metadata": {},
   "outputs": [
    {
     "data": {
      "text/plain": [
       "['jan', 'feb', 'march']"
      ]
     },
     "execution_count": 222,
     "metadata": {},
     "output_type": "execute_result"
    }
   ],
   "source": [
    "q1=months[0:3]\n",
    "q1"
   ]
  },
  {
   "cell_type": "code",
   "execution_count": 226,
   "id": "6bfb1e21",
   "metadata": {},
   "outputs": [
    {
     "data": {
      "text/plain": [
       "['april', 'may', 'june']"
      ]
     },
     "execution_count": 226,
     "metadata": {},
     "output_type": "execute_result"
    }
   ],
   "source": [
    "q2=months[-3:]\n",
    "q2"
   ]
  },
  {
   "cell_type": "code",
   "execution_count": 227,
   "id": "c49e9ea3",
   "metadata": {},
   "outputs": [
    {
     "data": {
      "text/plain": [
       "['jan', 'march', 'may']"
      ]
     },
     "execution_count": 227,
     "metadata": {},
     "output_type": "execute_result"
    }
   ],
   "source": [
    "odd_month=months[::2]\n",
    "odd_month"
   ]
  },
  {
   "cell_type": "markdown",
   "id": "df9d8d29",
   "metadata": {},
   "source": [
    "# Operator on List"
   ]
  },
  {
   "cell_type": "code",
   "execution_count": 228,
   "id": "6f72e191",
   "metadata": {},
   "outputs": [],
   "source": [
    "l2=[4,5,6]\n",
    "l3=[10,20,30]"
   ]
  },
  {
   "cell_type": "code",
   "execution_count": 229,
   "id": "5a4bb029",
   "metadata": {},
   "outputs": [
    {
     "data": {
      "text/plain": [
       "[4, 5, 6, 10, 20, 30]"
      ]
     },
     "execution_count": 229,
     "metadata": {},
     "output_type": "execute_result"
    }
   ],
   "source": [
    "l2+l3  # Concatenate two list into one  using +"
   ]
  },
  {
   "cell_type": "code",
   "execution_count": null,
   "id": "9606c429",
   "metadata": {},
   "outputs": [],
   "source": [
    "#repeat the list using * operator"
   ]
  },
  {
   "cell_type": "code",
   "execution_count": 230,
   "id": "dc400f0b",
   "metadata": {},
   "outputs": [
    {
     "data": {
      "text/plain": [
       "[4, 5, 6, 4, 5, 6, 4, 5, 6, 4, 5, 6]"
      ]
     },
     "execution_count": 230,
     "metadata": {},
     "output_type": "execute_result"
    }
   ],
   "source": [
    "l2*4 # repeat l2 list into 4 times"
   ]
  },
  {
   "cell_type": "markdown",
   "id": "9af5e510",
   "metadata": {},
   "source": [
    "# create list from another type  using list()  "
   ]
  },
  {
   "cell_type": "code",
   "execution_count": 231,
   "id": "fa9045e6",
   "metadata": {},
   "outputs": [
    {
     "data": {
      "text/plain": [
       "['E', 'g', 'u', 'b', 'r', 'i', 'd', 'g', 'e']"
      ]
     },
     "execution_count": 231,
     "metadata": {},
     "output_type": "execute_result"
    }
   ],
   "source": [
    "list(\"Egubridge\")  # typecast  str to list"
   ]
  },
  {
   "cell_type": "markdown",
   "id": "8cf60bd5",
   "metadata": {},
   "source": [
    "# built-in function for List"
   ]
  },
  {
   "cell_type": "code",
   "execution_count": 233,
   "id": "b9a79987",
   "metadata": {},
   "outputs": [
    {
     "data": {
      "text/plain": [
       "6"
      ]
     },
     "execution_count": 233,
     "metadata": {},
     "output_type": "execute_result"
    }
   ],
   "source": [
    "months=['jan','feb','march','april','may','june']\n",
    "len(months)  # length of list elements"
   ]
  },
  {
   "cell_type": "code",
   "execution_count": 235,
   "id": "34c4fb9c",
   "metadata": {},
   "outputs": [
    {
     "data": {
      "text/plain": [
       "34"
      ]
     },
     "execution_count": 235,
     "metadata": {},
     "output_type": "execute_result"
    }
   ],
   "source": [
    "marks=[89,90,45,67,34,98,35]\n",
    "min(marks)"
   ]
  },
  {
   "cell_type": "code",
   "execution_count": 236,
   "id": "5b5f0b04",
   "metadata": {},
   "outputs": [
    {
     "data": {
      "text/plain": [
       "98"
      ]
     },
     "execution_count": 236,
     "metadata": {},
     "output_type": "execute_result"
    }
   ],
   "source": [
    "marks=[89,90,45,67,34,98,35]\n",
    "max(marks)"
   ]
  },
  {
   "cell_type": "markdown",
   "id": "011d67da",
   "metadata": {},
   "source": [
    "# Built-in Methods for List"
   ]
  },
  {
   "cell_type": "code",
   "execution_count": 238,
   "id": "bf0bf22e",
   "metadata": {},
   "outputs": [
    {
     "name": "stdout",
     "output_type": "stream",
     "text": [
      "['__add__', '__class__', '__class_getitem__', '__contains__', '__delattr__', '__delitem__', '__dir__', '__doc__', '__eq__', '__format__', '__ge__', '__getattribute__', '__getitem__', '__gt__', '__hash__', '__iadd__', '__imul__', '__init__', '__init_subclass__', '__iter__', '__le__', '__len__', '__lt__', '__mul__', '__ne__', '__new__', '__reduce__', '__reduce_ex__', '__repr__', '__reversed__', '__rmul__', '__setattr__', '__setitem__', '__sizeof__', '__str__', '__subclasshook__', 'append', 'clear', 'copy', 'count', 'extend', 'index', 'insert', 'pop', 'remove', 'reverse', 'sort']\n"
     ]
    }
   ],
   "source": [
    "print(dir(list))"
   ]
  },
  {
   "cell_type": "code",
   "execution_count": 239,
   "id": "4508c3f4",
   "metadata": {},
   "outputs": [
    {
     "name": "stdout",
     "output_type": "stream",
     "text": [
      "append(),clear(),copy(),count(),extend(),index(),insert(),pop(),remove(),reverse(),sort(),"
     ]
    }
   ],
   "source": [
    "for method in dir(list):\n",
    "    if not method.endswith(\"__\"):\n",
    "        print(method,end=\"(),\")"
   ]
  },
  {
   "cell_type": "code",
   "execution_count": null,
   "id": "6a3908c6",
   "metadata": {},
   "outputs": [],
   "source": [
    "#append()"
   ]
  },
  {
   "cell_type": "code",
   "execution_count": 245,
   "id": "3872a763",
   "metadata": {},
   "outputs": [
    {
     "name": "stdout",
     "output_type": "stream",
     "text": [
      "['jan', 'feb', 'march', 'april', 'may', 'june', 'july']\n"
     ]
    }
   ],
   "source": [
    "months=['jan','feb','march','april','may','june']\n",
    "months.append('july') #Append object to the end of the list.\n",
    "print(months)"
   ]
  },
  {
   "cell_type": "code",
   "execution_count": 249,
   "id": "4477f657",
   "metadata": {},
   "outputs": [],
   "source": [
    "#count()"
   ]
  },
  {
   "cell_type": "code",
   "execution_count": 246,
   "id": "b422e7de",
   "metadata": {},
   "outputs": [
    {
     "data": {
      "text/plain": [
       "2"
      ]
     },
     "execution_count": 246,
     "metadata": {},
     "output_type": "execute_result"
    }
   ],
   "source": [
    "marks=[34,56,78,45,89,45,87]\n",
    "marks.count(45) # Return number of occurrences of value."
   ]
  },
  {
   "cell_type": "code",
   "execution_count": 248,
   "id": "5cb9e41b",
   "metadata": {},
   "outputs": [
    {
     "data": {
      "text/plain": [
       "3"
      ]
     },
     "execution_count": 248,
     "metadata": {},
     "output_type": "execute_result"
    }
   ],
   "source": [
    "list1=['a','a','b','c','a']\n",
    "list1.count('a')"
   ]
  },
  {
   "cell_type": "code",
   "execution_count": null,
   "id": "704a618b",
   "metadata": {},
   "outputs": [],
   "source": [
    "#extend()"
   ]
  },
  {
   "cell_type": "code",
   "execution_count": 252,
   "id": "cb975ce3",
   "metadata": {},
   "outputs": [
    {
     "name": "stdout",
     "output_type": "stream",
     "text": [
      "['jan', 'feb', 'march', 'april', 'may', 'june', 'july', 'augest', 'september']\n"
     ]
    }
   ],
   "source": [
    "months=['jan','feb','march','april','may','june']\n",
    "q3=['july','augest','september']\n",
    "months.extend(q3) # update elements in months memory\n",
    "print(months)"
   ]
  },
  {
   "cell_type": "code",
   "execution_count": 253,
   "id": "064022e0",
   "metadata": {},
   "outputs": [
    {
     "data": {
      "text/plain": [
       "['july', 'augest', 'september']"
      ]
     },
     "execution_count": 253,
     "metadata": {},
     "output_type": "execute_result"
    }
   ],
   "source": [
    "q3"
   ]
  },
  {
   "cell_type": "code",
   "execution_count": 254,
   "id": "16db4dcf",
   "metadata": {},
   "outputs": [
    {
     "data": {
      "text/plain": [
       "['jan', 'feb', 'march', 'april', 'may', 'june', 'july', 'augest', 'september']"
      ]
     },
     "execution_count": 254,
     "metadata": {},
     "output_type": "execute_result"
    }
   ],
   "source": [
    "months=['jan','feb','march','april','may','june']\n",
    "q3=['july','augest','september']\n",
    "months+q3 # on the fly result , not in memory update"
   ]
  },
  {
   "cell_type": "code",
   "execution_count": null,
   "id": "604eebb2",
   "metadata": {},
   "outputs": [],
   "source": [
    "#index()"
   ]
  },
  {
   "cell_type": "code",
   "execution_count": 256,
   "id": "9da42671",
   "metadata": {},
   "outputs": [
    {
     "data": {
      "text/plain": [
       "5"
      ]
     },
     "execution_count": 256,
     "metadata": {},
     "output_type": "execute_result"
    }
   ],
   "source": [
    "months=['jan','feb','march','april','may','june']\n",
    "months.index('june')"
   ]
  },
  {
   "cell_type": "code",
   "execution_count": 262,
   "id": "47a057fb",
   "metadata": {},
   "outputs": [
    {
     "data": {
      "text/plain": [
       "2"
      ]
     },
     "execution_count": 262,
     "metadata": {},
     "output_type": "execute_result"
    }
   ],
   "source": [
    "marks=[34,56,78,45,89,45,87,45,34,56]\n",
    "marks.index(78)"
   ]
  },
  {
   "cell_type": "code",
   "execution_count": null,
   "id": "ab52f668",
   "metadata": {},
   "outputs": [],
   "source": [
    "#insert()"
   ]
  },
  {
   "cell_type": "code",
   "execution_count": 267,
   "id": "d5ea79c8",
   "metadata": {},
   "outputs": [
    {
     "name": "stdout",
     "output_type": "stream",
     "text": [
      "['jan', 'feb', 'march']\n"
     ]
    }
   ],
   "source": [
    "months=['jan','march']\n",
    "months.insert(1,'feb') # Insert object before index.\n",
    "print(months)"
   ]
  },
  {
   "cell_type": "code",
   "execution_count": null,
   "id": "ef6fe0e9",
   "metadata": {},
   "outputs": [],
   "source": [
    "# reverse()"
   ]
  },
  {
   "cell_type": "code",
   "execution_count": 269,
   "id": "aaaafb06",
   "metadata": {},
   "outputs": [
    {
     "name": "stdout",
     "output_type": "stream",
     "text": [
      "['june', 'may', 'april', 'march', 'feb', 'jan']\n"
     ]
    }
   ],
   "source": [
    "months=['jan','feb','march','april','may','june']\n",
    "months.reverse() # in memeory operation\n",
    "print(months)"
   ]
  },
  {
   "cell_type": "code",
   "execution_count": 270,
   "id": "38143f20",
   "metadata": {},
   "outputs": [
    {
     "data": {
      "text/plain": [
       "['june', 'may', 'april', 'march', 'feb', 'jan']"
      ]
     },
     "execution_count": 270,
     "metadata": {},
     "output_type": "execute_result"
    }
   ],
   "source": [
    "months=['jan','feb','march','april','may','june']\n",
    "months[::-1] # on the fly"
   ]
  },
  {
   "cell_type": "code",
   "execution_count": null,
   "id": "20880c94",
   "metadata": {},
   "outputs": [],
   "source": [
    "#sort()"
   ]
  },
  {
   "cell_type": "code",
   "execution_count": 273,
   "id": "5ee5fd2e",
   "metadata": {},
   "outputs": [
    {
     "name": "stdout",
     "output_type": "stream",
     "text": [
      "[89, 87, 78, 56, 45, 45, 34]\n"
     ]
    }
   ],
   "source": [
    "marks=[34,56,78,45,89,45,87]\n",
    "marks.sort(reverse=True) # descending order\n",
    "print(marks)"
   ]
  },
  {
   "cell_type": "code",
   "execution_count": 274,
   "id": "dc185c0a",
   "metadata": {},
   "outputs": [
    {
     "name": "stdout",
     "output_type": "stream",
     "text": [
      "[34, 45, 45, 56, 78, 87, 89]\n"
     ]
    }
   ],
   "source": [
    "marks=[34,56,78,45,89,45,87]\n",
    "marks.sort(reverse=False) # ascending order # default\n",
    "print(marks)"
   ]
  },
  {
   "cell_type": "code",
   "execution_count": 275,
   "id": "6e6e6c6c",
   "metadata": {},
   "outputs": [
    {
     "name": "stdout",
     "output_type": "stream",
     "text": [
      "['april', 'feb', 'jan', 'june', 'march', 'may']\n"
     ]
    }
   ],
   "source": [
    "months=['jan','feb','march','april','may','june']\n",
    "months.sort() # based on ascii value\n",
    "print(months)"
   ]
  },
  {
   "cell_type": "markdown",
   "id": "0ea2cf30",
   "metadata": {},
   "source": [
    "# list alise"
   ]
  },
  {
   "cell_type": "code",
   "execution_count": 283,
   "id": "865dda37",
   "metadata": {},
   "outputs": [
    {
     "name": "stdout",
     "output_type": "stream",
     "text": [
      "[10, 20, 300] [10, 20, 300]\n",
      "2668269170944 2668269170944\n"
     ]
    }
   ],
   "source": [
    "l1=[10,20,30]\n",
    "l2=l1\n",
    "l2[-1]=300\n",
    "print(l1,l2)\n",
    "print(id(l1),id(l2))"
   ]
  },
  {
   "cell_type": "code",
   "execution_count": null,
   "id": "c939a592",
   "metadata": {
    "collapsed": true
   },
   "outputs": [],
   "source": [
    "#to avoid list alise use copy method  (deep copy)"
   ]
  },
  {
   "cell_type": "code",
   "execution_count": null,
   "id": "22954533",
   "metadata": {},
   "outputs": [],
   "source": [
    "# copy()"
   ]
  },
  {
   "cell_type": "code",
   "execution_count": 284,
   "id": "57a3674d",
   "metadata": {},
   "outputs": [
    {
     "name": "stdout",
     "output_type": "stream",
     "text": [
      "[10, 20, 30] [10, 20, 300]\n",
      "2668269303488 2668250335424\n"
     ]
    }
   ],
   "source": [
    "l1=[10,20,30]\n",
    "l2=l1.copy()\n",
    "l2[-1]=300\n",
    "print(l1,l2)\n",
    "print(id(l1),id(l2))"
   ]
  },
  {
   "cell_type": "code",
   "execution_count": 285,
   "id": "3e8c2012",
   "metadata": {},
   "outputs": [
    {
     "name": "stdout",
     "output_type": "stream",
     "text": [
      "[10, 20, 30] [10, 20, 300]\n",
      "2668269304896 2668269305088\n"
     ]
    }
   ],
   "source": [
    "l1=[10,20,30]\n",
    "l2=l1[:]\n",
    "l2[-1]=300\n",
    "print(l1,l2)\n",
    "print(id(l1),id(l2))"
   ]
  },
  {
   "cell_type": "code",
   "execution_count": null,
   "id": "f865b79d",
   "metadata": {},
   "outputs": [],
   "source": [
    "#remove()"
   ]
  },
  {
   "cell_type": "code",
   "execution_count": 289,
   "id": "0cced6ad",
   "metadata": {},
   "outputs": [
    {
     "name": "stdout",
     "output_type": "stream",
     "text": [
      "[10, 30]\n"
     ]
    }
   ],
   "source": [
    "l1=[10,20,30]\n",
    "l1.remove(20)\n",
    "print(l1)"
   ]
  },
  {
   "cell_type": "code",
   "execution_count": null,
   "id": "498bf6ad",
   "metadata": {},
   "outputs": [],
   "source": [
    "#pop() #Remove and return item at index (default last)."
   ]
  },
  {
   "cell_type": "code",
   "execution_count": 291,
   "id": "316742f9",
   "metadata": {},
   "outputs": [
    {
     "data": {
      "text/plain": [
       "30"
      ]
     },
     "execution_count": 291,
     "metadata": {},
     "output_type": "execute_result"
    }
   ],
   "source": [
    "l1=[10,20,30]\n",
    "l1.pop() # deafult index=-1"
   ]
  },
  {
   "cell_type": "code",
   "execution_count": 294,
   "id": "6519e2d6",
   "metadata": {},
   "outputs": [
    {
     "data": {
      "text/plain": [
       "30"
      ]
     },
     "execution_count": 294,
     "metadata": {},
     "output_type": "execute_result"
    }
   ],
   "source": [
    "l1=[10,20,30]\n",
    "l1.pop(2) #"
   ]
  },
  {
   "cell_type": "code",
   "execution_count": 295,
   "id": "699a9f60",
   "metadata": {},
   "outputs": [
    {
     "data": {
      "text/plain": [
       "[10, 20]"
      ]
     },
     "execution_count": 295,
     "metadata": {},
     "output_type": "execute_result"
    }
   ],
   "source": [
    "l1"
   ]
  },
  {
   "cell_type": "code",
   "execution_count": null,
   "id": "dfef7c14",
   "metadata": {},
   "outputs": [],
   "source": [
    "#clear()"
   ]
  },
  {
   "cell_type": "code",
   "execution_count": 297,
   "id": "b9967ace",
   "metadata": {},
   "outputs": [
    {
     "name": "stdout",
     "output_type": "stream",
     "text": [
      "[]\n"
     ]
    }
   ],
   "source": [
    "fruits=['apple','orange','kiwi']\n",
    "fruits.clear()\n",
    "print(fruits)"
   ]
  },
  {
   "cell_type": "markdown",
   "id": "dbcbfd7b",
   "metadata": {},
   "source": [
    "# list is mutable"
   ]
  },
  {
   "cell_type": "code",
   "execution_count": 299,
   "id": "95330cae",
   "metadata": {},
   "outputs": [
    {
     "name": "stdout",
     "output_type": "stream",
     "text": [
      "[45, 67, 100, 68]\n"
     ]
    }
   ],
   "source": [
    "l1=[45,67,89,68]\n",
    "l1[2]=100\n",
    "print(l1)"
   ]
  },
  {
   "cell_type": "markdown",
   "id": "e6aa49fe",
   "metadata": {},
   "source": [
    "# Tuple"
   ]
  },
  {
   "cell_type": "code",
   "execution_count": 309,
   "id": "ddbc3a91",
   "metadata": {},
   "outputs": [],
   "source": [
    "t1=(10,20,30,40)"
   ]
  },
  {
   "cell_type": "code",
   "execution_count": 310,
   "id": "b4db88a9",
   "metadata": {},
   "outputs": [
    {
     "name": "stdout",
     "output_type": "stream",
     "text": [
      "<class 'tuple'>\n"
     ]
    }
   ],
   "source": [
    "print(type(t1))"
   ]
  },
  {
   "cell_type": "code",
   "execution_count": 311,
   "id": "dd2e0013",
   "metadata": {},
   "outputs": [],
   "source": [
    "t2=100,200,300  # comma seperated value "
   ]
  },
  {
   "cell_type": "code",
   "execution_count": 312,
   "id": "407daa3d",
   "metadata": {},
   "outputs": [
    {
     "data": {
      "text/plain": [
       "(100, 200, 300)"
      ]
     },
     "execution_count": 312,
     "metadata": {},
     "output_type": "execute_result"
    }
   ],
   "source": [
    "t2"
   ]
  },
  {
   "cell_type": "code",
   "execution_count": 313,
   "id": "dea8ca2a",
   "metadata": {},
   "outputs": [
    {
     "name": "stdout",
     "output_type": "stream",
     "text": [
      "<class 'tuple'>\n"
     ]
    }
   ],
   "source": [
    "print(type(t2))"
   ]
  },
  {
   "cell_type": "code",
   "execution_count": 314,
   "id": "b758a5aa",
   "metadata": {},
   "outputs": [],
   "source": [
    "l1=[2,4,6,[45,67,89],(30,40)]"
   ]
  },
  {
   "cell_type": "code",
   "execution_count": 315,
   "id": "5d7a4d34",
   "metadata": {},
   "outputs": [
    {
     "data": {
      "text/plain": [
       "[2, 4, 6, [45, 67, 89], (30, 40)]"
      ]
     },
     "execution_count": 315,
     "metadata": {},
     "output_type": "execute_result"
    }
   ],
   "source": [
    "l1"
   ]
  },
  {
   "cell_type": "code",
   "execution_count": 316,
   "id": "d7cef4ce",
   "metadata": {},
   "outputs": [
    {
     "data": {
      "text/plain": [
       "(2, 4, 6, [45, 67, 89], (30, 40))"
      ]
     },
     "execution_count": 316,
     "metadata": {},
     "output_type": "execute_result"
    }
   ],
   "source": [
    "tuple(l1)"
   ]
  },
  {
   "cell_type": "code",
   "execution_count": 317,
   "id": "3f3475f2",
   "metadata": {},
   "outputs": [],
   "source": [
    "t1=(10,20,30,40)"
   ]
  },
  {
   "cell_type": "code",
   "execution_count": 318,
   "id": "d96bd28d",
   "metadata": {},
   "outputs": [
    {
     "data": {
      "text/plain": [
       "10"
      ]
     },
     "execution_count": 318,
     "metadata": {},
     "output_type": "execute_result"
    }
   ],
   "source": [
    "t1[0]"
   ]
  },
  {
   "cell_type": "code",
   "execution_count": 319,
   "id": "47bb6627",
   "metadata": {},
   "outputs": [
    {
     "ename": "TypeError",
     "evalue": "'tuple' object does not support item assignment",
     "output_type": "error",
     "traceback": [
      "\u001b[1;31m---------------------------------------------------------------------------\u001b[0m",
      "\u001b[1;31mTypeError\u001b[0m                                 Traceback (most recent call last)",
      "Input \u001b[1;32mIn [319]\u001b[0m, in \u001b[0;36m<cell line: 1>\u001b[1;34m()\u001b[0m\n\u001b[1;32m----> 1\u001b[0m t1[\u001b[38;5;241m0\u001b[39m]\u001b[38;5;241m=\u001b[39m\u001b[38;5;241m100\u001b[39m\n",
      "\u001b[1;31mTypeError\u001b[0m: 'tuple' object does not support item assignment"
     ]
    }
   ],
   "source": [
    "t1[0]=100  # tuple is  immutable "
   ]
  },
  {
   "cell_type": "markdown",
   "id": "f15422a1",
   "metadata": {},
   "source": [
    "# built-in methods for tuple object"
   ]
  },
  {
   "cell_type": "code",
   "execution_count": 320,
   "id": "871662ad",
   "metadata": {},
   "outputs": [
    {
     "name": "stdout",
     "output_type": "stream",
     "text": [
      "['__add__', '__class__', '__class_getitem__', '__contains__', '__delattr__', '__dir__', '__doc__', '__eq__', '__format__', '__ge__', '__getattribute__', '__getitem__', '__getnewargs__', '__gt__', '__hash__', '__init__', '__init_subclass__', '__iter__', '__le__', '__len__', '__lt__', '__mul__', '__ne__', '__new__', '__reduce__', '__reduce_ex__', '__repr__', '__rmul__', '__setattr__', '__sizeof__', '__str__', '__subclasshook__', 'count', 'index']\n"
     ]
    }
   ],
   "source": [
    "print(dir(tuple))"
   ]
  },
  {
   "cell_type": "code",
   "execution_count": 321,
   "id": "9c232a4c",
   "metadata": {},
   "outputs": [
    {
     "data": {
      "text/plain": [
       "3"
      ]
     },
     "execution_count": 321,
     "metadata": {},
     "output_type": "execute_result"
    }
   ],
   "source": [
    "t1=(10,20,30,40,10,10)\n",
    "t1.count(10) # Return number of occurrences of value."
   ]
  },
  {
   "cell_type": "code",
   "execution_count": 323,
   "id": "2fa0537d",
   "metadata": {},
   "outputs": [
    {
     "data": {
      "text/plain": [
       "2"
      ]
     },
     "execution_count": 323,
     "metadata": {},
     "output_type": "execute_result"
    }
   ],
   "source": [
    "t1=(10,20,30,40,10,10)\n",
    "t1.index(30) "
   ]
  }
 ],
 "metadata": {
  "kernelspec": {
   "display_name": "Python 3 (ipykernel)",
   "language": "python",
   "name": "python3"
  },
  "language_info": {
   "codemirror_mode": {
    "name": "ipython",
    "version": 3
   },
   "file_extension": ".py",
   "mimetype": "text/x-python",
   "name": "python",
   "nbconvert_exporter": "python",
   "pygments_lexer": "ipython3",
   "version": "3.9.12"
  }
 },
 "nbformat": 4,
 "nbformat_minor": 5
}
