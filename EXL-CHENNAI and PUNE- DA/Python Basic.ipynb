{
 "cells": [
  {
   "cell_type": "markdown",
   "id": "8da299dd",
   "metadata": {},
   "source": [
    "# Python Basic"
   ]
  },
  {
   "cell_type": "code",
   "execution_count": 1,
   "id": "8b2490d7",
   "metadata": {},
   "outputs": [
    {
     "name": "stdout",
     "output_type": "stream",
     "text": [
      "Welcome to Python Basic\n"
     ]
    }
   ],
   "source": [
    "print(\"Welcome to Python Basic\")"
   ]
  },
  {
   "cell_type": "code",
   "execution_count": 2,
   "id": "29063ab6",
   "metadata": {},
   "outputs": [],
   "source": [
    "#Python Identifier"
   ]
  },
  {
   "cell_type": "code",
   "execution_count": 3,
   "id": "73d5b002",
   "metadata": {},
   "outputs": [],
   "source": [
    "user_name=\"raj\""
   ]
  },
  {
   "cell_type": "code",
   "execution_count": 4,
   "id": "050bd811",
   "metadata": {},
   "outputs": [
    {
     "data": {
      "text/plain": [
       "'raj'"
      ]
     },
     "execution_count": 4,
     "metadata": {},
     "output_type": "execute_result"
    }
   ],
   "source": [
    "user_name"
   ]
  },
  {
   "cell_type": "code",
   "execution_count": 6,
   "id": "f9d35ca0",
   "metadata": {},
   "outputs": [],
   "source": [
    "usr_id2=(1001,1002)"
   ]
  },
  {
   "cell_type": "code",
   "execution_count": 7,
   "id": "a9c03d5c",
   "metadata": {},
   "outputs": [
    {
     "ename": "SyntaxError",
     "evalue": "cannot assign to operator (3681803446.py, line 1)",
     "output_type": "error",
     "traceback": [
      "\u001b[1;36m  Input \u001b[1;32mIn [7]\u001b[1;36m\u001b[0m\n\u001b[1;33m    usr_id@2=(1001,1002)\u001b[0m\n\u001b[1;37m    ^\u001b[0m\n\u001b[1;31mSyntaxError\u001b[0m\u001b[1;31m:\u001b[0m cannot assign to operator\n"
     ]
    }
   ],
   "source": [
    "usr_id@2=(1001,1002)"
   ]
  },
  {
   "cell_type": "markdown",
   "id": "4b91c408",
   "metadata": {},
   "source": [
    "# Variable"
   ]
  },
  {
   "cell_type": "code",
   "execution_count": 8,
   "id": "2c88406e",
   "metadata": {},
   "outputs": [],
   "source": [
    "var1=100"
   ]
  },
  {
   "cell_type": "code",
   "execution_count": 9,
   "id": "54824e88",
   "metadata": {},
   "outputs": [
    {
     "name": "stdout",
     "output_type": "stream",
     "text": [
      "100\n"
     ]
    }
   ],
   "source": [
    "print(var1)"
   ]
  },
  {
   "cell_type": "code",
   "execution_count": 10,
   "id": "822de685",
   "metadata": {},
   "outputs": [
    {
     "data": {
      "text/plain": [
       "2668136781264"
      ]
     },
     "execution_count": 10,
     "metadata": {},
     "output_type": "execute_result"
    }
   ],
   "source": [
    "id(var1) #  Return the identity of an object."
   ]
  },
  {
   "cell_type": "code",
   "execution_count": 11,
   "id": "7b1e2893",
   "metadata": {},
   "outputs": [],
   "source": [
    "_var2=\"abc\""
   ]
  },
  {
   "cell_type": "code",
   "execution_count": 12,
   "id": "4037e499",
   "metadata": {},
   "outputs": [
    {
     "data": {
      "text/plain": [
       "2668137542256"
      ]
     },
     "execution_count": 12,
     "metadata": {},
     "output_type": "execute_result"
    }
   ],
   "source": [
    "id(_var2)"
   ]
  },
  {
   "cell_type": "code",
   "execution_count": 14,
   "id": "59590e8a",
   "metadata": {},
   "outputs": [],
   "source": [
    "learingportal=\"www.edubrridgeindia.com\""
   ]
  },
  {
   "cell_type": "code",
   "execution_count": 16,
   "id": "09f6fc8c",
   "metadata": {},
   "outputs": [
    {
     "name": "stdout",
     "output_type": "stream",
     "text": [
      "www.edubrridgeindia.com\n"
     ]
    }
   ],
   "source": [
    "print(learingportal)"
   ]
  },
  {
   "cell_type": "markdown",
   "id": "158e839c",
   "metadata": {},
   "source": [
    "# Identifier -  function name"
   ]
  },
  {
   "cell_type": "code",
   "execution_count": 20,
   "id": "23d600e1",
   "metadata": {},
   "outputs": [],
   "source": [
    "def welcome_msg(name):\n",
    "    print(f\"Hi, {name} , Welcome to python Fuctional Programming\")"
   ]
  },
  {
   "cell_type": "code",
   "execution_count": 21,
   "id": "8c28bd0d",
   "metadata": {},
   "outputs": [
    {
     "name": "stdout",
     "output_type": "stream",
     "text": [
      "Hi, snehal , Welcome to python Fuctional Programming\n"
     ]
    }
   ],
   "source": [
    "welcome_msg(\"snehal\")"
   ]
  },
  {
   "cell_type": "code",
   "execution_count": 22,
   "id": "d9f67efc",
   "metadata": {},
   "outputs": [
    {
     "name": "stdout",
     "output_type": "stream",
     "text": [
      "Hi, Harshal , Welcome to python Fuctional Programming\n"
     ]
    }
   ],
   "source": [
    "welcome_msg(\"Harshal\")"
   ]
  },
  {
   "cell_type": "markdown",
   "id": "b5f6bf9e",
   "metadata": {},
   "source": [
    "# Identifier - class name"
   ]
  },
  {
   "cell_type": "code",
   "execution_count": 27,
   "id": "979882b8",
   "metadata": {},
   "outputs": [],
   "source": [
    "class Students:  # class name mostly common noun\n",
    "    pass"
   ]
  },
  {
   "cell_type": "code",
   "execution_count": 24,
   "id": "cb9068eb",
   "metadata": {},
   "outputs": [],
   "source": [
    "s1=Students() # s1 is object of Students class"
   ]
  },
  {
   "cell_type": "markdown",
   "id": "3f7a1253",
   "metadata": {},
   "source": [
    "# Identifier- Module name"
   ]
  },
  {
   "cell_type": "code",
   "execution_count": 28,
   "id": "af191762",
   "metadata": {},
   "outputs": [],
   "source": [
    "import DemoModule  # Module name must follow identifier rules"
   ]
  },
  {
   "cell_type": "code",
   "execution_count": 30,
   "id": "b1642856",
   "metadata": {},
   "outputs": [
    {
     "name": "stdout",
     "output_type": "stream",
     "text": [
      "Hi Welcome\n"
     ]
    }
   ],
   "source": [
    "DemoModule.welcom()"
   ]
  },
  {
   "cell_type": "code",
   "execution_count": 31,
   "id": "2f331a90",
   "metadata": {},
   "outputs": [
    {
     "name": "stdout",
     "output_type": "stream",
     "text": [
      "11\n"
     ]
    }
   ],
   "source": [
    "DemoModule.add(4,7)"
   ]
  },
  {
   "cell_type": "code",
   "execution_count": 37,
   "id": "36b76a25",
   "metadata": {},
   "outputs": [
    {
     "name": "stdout",
     "output_type": "stream",
     "text": [
      "Python 3.9.12\n"
     ]
    }
   ],
   "source": [
    "!python --version"
   ]
  },
  {
   "cell_type": "markdown",
   "id": "0622f9ab",
   "metadata": {},
   "source": [
    "# Python Keywords"
   ]
  },
  {
   "cell_type": "code",
   "execution_count": 36,
   "id": "c803f9ff",
   "metadata": {},
   "outputs": [
    {
     "name": "stdout",
     "output_type": "stream",
     "text": [
      "['False', 'None', 'True', '__peg_parser__', 'and', 'as', 'assert', 'async', 'await', 'break', 'class', 'continue', 'def', 'del', 'elif', 'else', 'except', 'finally', 'for', 'from', 'global', 'if', 'import', 'in', 'is', 'lambda', 'nonlocal', 'not', 'or', 'pass', 'raise', 'return', 'try', 'while', 'with', 'yield']\n",
      "36\n"
     ]
    }
   ],
   "source": [
    "import keyword\n",
    "print(keyword.kwlist)\n",
    "print(len(keyword.kwlist))"
   ]
  },
  {
   "cell_type": "markdown",
   "id": "c34b7ca1",
   "metadata": {},
   "source": [
    "\n",
    "# Python Variable"
   ]
  },
  {
   "cell_type": "code",
   "execution_count": 41,
   "id": "465c4a11",
   "metadata": {},
   "outputs": [],
   "source": [
    "a=3\n",
    "b=a\n",
    "c=a"
   ]
  },
  {
   "cell_type": "code",
   "execution_count": 42,
   "id": "2e75e1b1",
   "metadata": {},
   "outputs": [
    {
     "name": "stdout",
     "output_type": "stream",
     "text": [
      "2668136589680 2668136589680 2668136589680\n"
     ]
    }
   ],
   "source": [
    "print(id(a),id(b),id(c))"
   ]
  },
  {
   "cell_type": "code",
   "execution_count": 45,
   "id": "05dd1bc8",
   "metadata": {},
   "outputs": [
    {
     "data": {
      "text/plain": [
       "3"
      ]
     },
     "execution_count": 45,
     "metadata": {},
     "output_type": "execute_result"
    }
   ],
   "source": [
    "b"
   ]
  },
  {
   "cell_type": "code",
   "execution_count": 46,
   "id": "e5079fda",
   "metadata": {},
   "outputs": [],
   "source": [
    "c=\"hell0\""
   ]
  },
  {
   "cell_type": "code",
   "execution_count": 47,
   "id": "fe5e444d",
   "metadata": {},
   "outputs": [
    {
     "name": "stdout",
     "output_type": "stream",
     "text": [
      "2668136589680 2668136589680 2668266981296\n"
     ]
    }
   ],
   "source": [
    "print(id(a),id(b),id(c))"
   ]
  },
  {
   "cell_type": "markdown",
   "id": "9e4b9c1d",
   "metadata": {},
   "source": [
    "# Multiple Value Assignment for variables"
   ]
  },
  {
   "cell_type": "code",
   "execution_count": 52,
   "id": "94986ba9",
   "metadata": {},
   "outputs": [],
   "source": [
    "x=y=z=d=10"
   ]
  },
  {
   "cell_type": "code",
   "execution_count": 54,
   "id": "f52da6b2",
   "metadata": {},
   "outputs": [
    {
     "name": "stdout",
     "output_type": "stream",
     "text": [
      "2668136589904 2668136589904 2668136589904\n"
     ]
    }
   ],
   "source": [
    "print(id(x),id(y),id(d))"
   ]
  },
  {
   "cell_type": "code",
   "execution_count": 55,
   "id": "f8f46c53",
   "metadata": {},
   "outputs": [],
   "source": [
    "x1,x2,x3='a','b','c' # tuple unpacking"
   ]
  },
  {
   "cell_type": "code",
   "execution_count": 56,
   "id": "002c6873",
   "metadata": {},
   "outputs": [
    {
     "name": "stdout",
     "output_type": "stream",
     "text": [
      "2668137731504 2668137423600 2668137300080\n"
     ]
    }
   ],
   "source": [
    "print(id(x1),id(x2),id(x3))"
   ]
  },
  {
   "cell_type": "code",
   "execution_count": 57,
   "id": "41c89c2c",
   "metadata": {},
   "outputs": [],
   "source": [
    "__var1=\"private\""
   ]
  },
  {
   "cell_type": "code",
   "execution_count": 60,
   "id": "8bfb2fbf",
   "metadata": {},
   "outputs": [
    {
     "name": "stdout",
     "output_type": "stream",
     "text": [
      "private\n"
     ]
    }
   ],
   "source": [
    "print(__var1)"
   ]
  },
  {
   "cell_type": "code",
   "execution_count": null,
   "id": "2080aebc",
   "metadata": {},
   "outputs": [],
   "source": [
    "Everything in python is object"
   ]
  },
  {
   "cell_type": "markdown",
   "id": "d19f6ea0",
   "metadata": {},
   "source": [
    "# Python Basic Datatype"
   ]
  },
  {
   "cell_type": "markdown",
   "id": "6df3a919",
   "metadata": {},
   "source": [
    "### Numeric data type"
   ]
  },
  {
   "cell_type": "code",
   "execution_count": 61,
   "id": "c71722bf",
   "metadata": {},
   "outputs": [
    {
     "name": "stdout",
     "output_type": "stream",
     "text": [
      "<class 'int'>\n"
     ]
    }
   ],
   "source": [
    "# integer\n",
    "num1=456456\n",
    "print(type(num1))"
   ]
  },
  {
   "cell_type": "code",
   "execution_count": 62,
   "id": "7a2b9bbd",
   "metadata": {},
   "outputs": [
    {
     "name": "stdout",
     "output_type": "stream",
     "text": [
      "<class 'float'>\n"
     ]
    }
   ],
   "source": [
    "#float\n",
    "num2=3.14\n",
    "print(type(num2))"
   ]
  },
  {
   "cell_type": "code",
   "execution_count": 63,
   "id": "03803077",
   "metadata": {},
   "outputs": [
    {
     "name": "stdout",
     "output_type": "stream",
     "text": [
      "<class 'complex'>\n"
     ]
    }
   ],
   "source": [
    "#complex\n",
    "num3=5+6j\n",
    "print(type(num3))"
   ]
  },
  {
   "cell_type": "code",
   "execution_count": null,
   "id": "65ceb592",
   "metadata": {},
   "outputs": [],
   "source": [
    "type() # the object's type"
   ]
  },
  {
   "cell_type": "markdown",
   "id": "98256a47",
   "metadata": {},
   "source": [
    "# object atrribute and method  listout using dir()"
   ]
  },
  {
   "cell_type": "code",
   "execution_count": 72,
   "id": "32f93c3f",
   "metadata": {},
   "outputs": [
    {
     "name": "stdout",
     "output_type": "stream",
     "text": [
      "['__abs__', '__add__', '__and__', '__bool__', '__ceil__', '__class__', '__delattr__', '__dir__', '__divmod__', '__doc__', '__eq__', '__float__', '__floor__', '__floordiv__', '__format__', '__ge__', '__getattribute__', '__getnewargs__', '__gt__', '__hash__', '__index__', '__init__', '__init_subclass__', '__int__', '__invert__', '__le__', '__lshift__', '__lt__', '__mod__', '__mul__', '__ne__', '__neg__', '__new__', '__or__', '__pos__', '__pow__', '__radd__', '__rand__', '__rdivmod__', '__reduce__', '__reduce_ex__', '__repr__', '__rfloordiv__', '__rlshift__', '__rmod__', '__rmul__', '__ror__', '__round__', '__rpow__', '__rrshift__', '__rshift__', '__rsub__', '__rtruediv__', '__rxor__', '__setattr__', '__sizeof__', '__str__', '__sub__', '__subclasshook__', '__truediv__', '__trunc__', '__xor__', 'as_integer_ratio', 'bit_length', 'conjugate', 'denominator', 'from_bytes', 'imag', 'numerator', 'real', 'to_bytes']\n"
     ]
    }
   ],
   "source": [
    "print(dir(num1))"
   ]
  },
  {
   "cell_type": "code",
   "execution_count": 66,
   "id": "bc51a376",
   "metadata": {},
   "outputs": [
    {
     "data": {
      "text/plain": [
       "19"
      ]
     },
     "execution_count": 66,
     "metadata": {},
     "output_type": "execute_result"
    }
   ],
   "source": [
    "num1.bit_length() #Number of bits necessary to represent self in binary"
   ]
  },
  {
   "cell_type": "code",
   "execution_count": 68,
   "id": "1af09ed1",
   "metadata": {},
   "outputs": [
    {
     "data": {
      "text/plain": [
       "28"
      ]
     },
     "execution_count": 68,
     "metadata": {},
     "output_type": "execute_result"
    }
   ],
   "source": [
    "num1.__sizeof__() #Returns size in memory, in bytes"
   ]
  },
  {
   "cell_type": "code",
   "execution_count": 69,
   "id": "0b8e10fe",
   "metadata": {},
   "outputs": [
    {
     "data": {
      "text/plain": [
       "int"
      ]
     },
     "execution_count": 69,
     "metadata": {},
     "output_type": "execute_result"
    }
   ],
   "source": [
    "num1.__class__"
   ]
  },
  {
   "cell_type": "code",
   "execution_count": 70,
   "id": "43777439",
   "metadata": {},
   "outputs": [
    {
     "data": {
      "text/plain": [
       "\"int([x]) -> integer\\nint(x, base=10) -> integer\\n\\nConvert a number or string to an integer, or return 0 if no arguments\\nare given.  If x is a number, return x.__int__().  For floating point\\nnumbers, this truncates towards zero.\\n\\nIf x is not a number or if base is given, then x must be a string,\\nbytes, or bytearray instance representing an integer literal in the\\ngiven base.  The literal can be preceded by '+' or '-' and be surrounded\\nby whitespace.  The base defaults to 10.  Valid bases are 0 and 2-36.\\nBase 0 means to interpret the base from the string as an integer literal.\\n>>> int('0b100', base=0)\\n4\""
      ]
     },
     "execution_count": 70,
     "metadata": {},
     "output_type": "execute_result"
    }
   ],
   "source": [
    "num1.__doc__"
   ]
  },
  {
   "cell_type": "code",
   "execution_count": 73,
   "id": "48227996",
   "metadata": {},
   "outputs": [
    {
     "data": {
      "text/plain": [
       "0"
      ]
     },
     "execution_count": 73,
     "metadata": {},
     "output_type": "execute_result"
    }
   ],
   "source": [
    "num1.imag"
   ]
  },
  {
   "cell_type": "code",
   "execution_count": 74,
   "id": "04d907f0",
   "metadata": {},
   "outputs": [
    {
     "data": {
      "text/plain": [
       "456456"
      ]
     },
     "execution_count": 74,
     "metadata": {},
     "output_type": "execute_result"
    }
   ],
   "source": [
    "num1.real"
   ]
  },
  {
   "cell_type": "code",
   "execution_count": 78,
   "id": "8bf1b6bd",
   "metadata": {},
   "outputs": [
    {
     "name": "stdout",
     "output_type": "stream",
     "text": [
      "['__abs__', '__add__', '__bool__', '__ceil__', '__class__', '__delattr__', '__dir__', '__divmod__', '__doc__', '__eq__', '__float__', '__floor__', '__floordiv__', '__format__', '__ge__', '__getattribute__', '__getformat__', '__getnewargs__', '__gt__', '__hash__', '__init__', '__init_subclass__', '__int__', '__le__', '__lt__', '__mod__', '__mul__', '__ne__', '__neg__', '__new__', '__pos__', '__pow__', '__radd__', '__rdivmod__', '__reduce__', '__reduce_ex__', '__repr__', '__rfloordiv__', '__rmod__', '__rmul__', '__round__', '__rpow__', '__rsub__', '__rtruediv__', '__setattr__', '__setformat__', '__sizeof__', '__str__', '__sub__', '__subclasshook__', '__truediv__', '__trunc__', 'as_integer_ratio', 'conjugate', 'fromhex', 'hex', 'imag', 'is_integer', 'real']\n"
     ]
    }
   ],
   "source": [
    "print(dir(num2))"
   ]
  },
  {
   "cell_type": "code",
   "execution_count": 77,
   "id": "17f5ff75",
   "metadata": {},
   "outputs": [
    {
     "data": {
      "text/plain": [
       "False"
      ]
     },
     "execution_count": 77,
     "metadata": {},
     "output_type": "execute_result"
    }
   ],
   "source": [
    "num2.is_integer()"
   ]
  },
  {
   "cell_type": "code",
   "execution_count": 79,
   "id": "2a33913e",
   "metadata": {},
   "outputs": [
    {
     "data": {
      "text/plain": [
       "'0x1.91eb851eb851fp+1'"
      ]
     },
     "execution_count": 79,
     "metadata": {},
     "output_type": "execute_result"
    }
   ],
   "source": [
    "num2.hex() #a hexadecimal representation of a floating-point number"
   ]
  },
  {
   "cell_type": "code",
   "execution_count": 80,
   "id": "d825df3b",
   "metadata": {},
   "outputs": [
    {
     "name": "stdout",
     "output_type": "stream",
     "text": [
      "['__abs__', '__add__', '__bool__', '__class__', '__delattr__', '__dir__', '__divmod__', '__doc__', '__eq__', '__float__', '__floordiv__', '__format__', '__ge__', '__getattribute__', '__getnewargs__', '__gt__', '__hash__', '__init__', '__init_subclass__', '__int__', '__le__', '__lt__', '__mod__', '__mul__', '__ne__', '__neg__', '__new__', '__pos__', '__pow__', '__radd__', '__rdivmod__', '__reduce__', '__reduce_ex__', '__repr__', '__rfloordiv__', '__rmod__', '__rmul__', '__rpow__', '__rsub__', '__rtruediv__', '__setattr__', '__sizeof__', '__str__', '__sub__', '__subclasshook__', '__truediv__', 'conjugate', 'imag', 'real']\n"
     ]
    }
   ],
   "source": [
    "print(dir(num3))"
   ]
  },
  {
   "cell_type": "code",
   "execution_count": 81,
   "id": "4b29f9d4",
   "metadata": {},
   "outputs": [
    {
     "data": {
      "text/plain": [
       "6.0"
      ]
     },
     "execution_count": 81,
     "metadata": {},
     "output_type": "execute_result"
    }
   ],
   "source": [
    "num3.imag"
   ]
  },
  {
   "cell_type": "code",
   "execution_count": 82,
   "id": "7fb99f0d",
   "metadata": {},
   "outputs": [
    {
     "data": {
      "text/plain": [
       "5.0"
      ]
     },
     "execution_count": 82,
     "metadata": {},
     "output_type": "execute_result"
    }
   ],
   "source": [
    "num3.real"
   ]
  },
  {
   "cell_type": "code",
   "execution_count": 83,
   "id": "9f578edd",
   "metadata": {},
   "outputs": [
    {
     "data": {
      "text/plain": [
       "(5+6j)"
      ]
     },
     "execution_count": 83,
     "metadata": {},
     "output_type": "execute_result"
    }
   ],
   "source": [
    "num3"
   ]
  },
  {
   "cell_type": "code",
   "execution_count": 84,
   "id": "8a6e59db",
   "metadata": {},
   "outputs": [
    {
     "data": {
      "text/plain": [
       "(5-6j)"
      ]
     },
     "execution_count": 84,
     "metadata": {},
     "output_type": "execute_result"
    }
   ],
   "source": [
    "num3.conjugate()"
   ]
  },
  {
   "cell_type": "code",
   "execution_count": 85,
   "id": "16d3d7a7",
   "metadata": {},
   "outputs": [
    {
     "data": {
      "text/plain": [
       "102"
      ]
     },
     "execution_count": 85,
     "metadata": {},
     "output_type": "execute_result"
    }
   ],
   "source": [
    "45+57"
   ]
  },
  {
   "cell_type": "code",
   "execution_count": 86,
   "id": "23064c07",
   "metadata": {},
   "outputs": [
    {
     "data": {
      "text/plain": [
       "101.0"
      ]
     },
     "execution_count": 86,
     "metadata": {},
     "output_type": "execute_result"
    }
   ],
   "source": [
    "45+56.0   # implicit"
   ]
  },
  {
   "cell_type": "code",
   "execution_count": 87,
   "id": "21229d05",
   "metadata": {},
   "outputs": [
    {
     "data": {
      "text/plain": [
       "45"
      ]
     },
     "execution_count": 87,
     "metadata": {},
     "output_type": "execute_result"
    }
   ],
   "source": [
    "#Type casting: explict\n",
    "int(45.67)"
   ]
  },
  {
   "cell_type": "code",
   "execution_count": 90,
   "id": "21db08aa",
   "metadata": {},
   "outputs": [
    {
     "data": {
      "text/plain": [
       "4556.6"
      ]
     },
     "execution_count": 90,
     "metadata": {},
     "output_type": "execute_result"
    }
   ],
   "source": [
    "float('4556.6')"
   ]
  },
  {
   "cell_type": "code",
   "execution_count": 91,
   "id": "445a3519",
   "metadata": {},
   "outputs": [
    {
     "data": {
      "text/plain": [
       "(565+0j)"
      ]
     },
     "execution_count": 91,
     "metadata": {},
     "output_type": "execute_result"
    }
   ],
   "source": [
    "complex(565)"
   ]
  },
  {
   "cell_type": "markdown",
   "id": "31570d0b",
   "metadata": {},
   "source": [
    "# Sequence Data Type String"
   ]
  },
  {
   "cell_type": "code",
   "execution_count": 92,
   "id": "40826bad",
   "metadata": {},
   "outputs": [],
   "source": [
    "name=\"EduBridge\""
   ]
  },
  {
   "cell_type": "code",
   "execution_count": 93,
   "id": "524fa74a",
   "metadata": {},
   "outputs": [
    {
     "name": "stdout",
     "output_type": "stream",
     "text": [
      "<class 'str'>\n"
     ]
    }
   ],
   "source": [
    "print(type(name))  # name variable  belong to str class object"
   ]
  },
  {
   "cell_type": "code",
   "execution_count": 94,
   "id": "2a1690ff",
   "metadata": {},
   "outputs": [],
   "source": [
    "lang='python Programming'"
   ]
  },
  {
   "cell_type": "code",
   "execution_count": 95,
   "id": "e680d8f3",
   "metadata": {},
   "outputs": [
    {
     "name": "stdout",
     "output_type": "stream",
     "text": [
      "<class 'str'>\n"
     ]
    }
   ],
   "source": [
    "print(type(lang))"
   ]
  },
  {
   "cell_type": "code",
   "execution_count": null,
   "id": "5b226581",
   "metadata": {},
   "outputs": [],
   "source": [
    "#triple code mostly used in doc string / multiline string"
   ]
  },
  {
   "cell_type": "code",
   "execution_count": 101,
   "id": "762d3c8c",
   "metadata": {},
   "outputs": [],
   "source": [
    "class_details=\"\"\"EXL- Certified Data Analytics Associate - \n",
    "Module 34: Fundamentals of Python programming for analytics (Duration: 01:00:00)\n",
    "\n",
    "Group Batches: 2022-8414, 2022-8410\"\"\""
   ]
  },
  {
   "cell_type": "code",
   "execution_count": 97,
   "id": "c5857db6",
   "metadata": {},
   "outputs": [
    {
     "name": "stdout",
     "output_type": "stream",
     "text": [
      "<class 'str'>\n"
     ]
    }
   ],
   "source": [
    "print(type(class_details))"
   ]
  },
  {
   "cell_type": "code",
   "execution_count": 103,
   "id": "9b2315d4",
   "metadata": {},
   "outputs": [
    {
     "name": "stdout",
     "output_type": "stream",
     "text": [
      "EXL- Certified Data Analytics Associate - \n",
      "Module 34: Fundamentals of Python programming for analytics (Duration: 01:00:00)\n",
      "\n",
      "Group Batches: 2022-8414, 2022-8410\n"
     ]
    }
   ],
   "source": [
    "print(class_details)"
   ]
  },
  {
   "cell_type": "markdown",
   "id": "5196fb39",
   "metadata": {},
   "source": [
    "# access the string element using index"
   ]
  },
  {
   "attachments": {
    "image.png": {
     "image/png": "[encoded data removed]"
    }
   },
   "cell_type": "markdown",
   "id": "489ced1a",
   "metadata": {},
   "source": [
    "![image.png](attachment:image.png)"
   ]
  },
  {
   "cell_type": "code",
   "execution_count": 104,
   "id": "e9712450",
   "metadata": {},
   "outputs": [],
   "source": [
    "str1='Python'"
   ]
  },
  {
   "cell_type": "code",
   "execution_count": 105,
   "id": "553c40e4",
   "metadata": {},
   "outputs": [
    {
     "data": {
      "text/plain": [
       "'P'"
      ]
     },
     "execution_count": 105,
     "metadata": {},
     "output_type": "execute_result"
    }
   ],
   "source": [
    "str1[0]"
   ]
  },
  {
   "cell_type": "code",
   "execution_count": 106,
   "id": "5f96a168",
   "metadata": {},
   "outputs": [
    {
     "data": {
      "text/plain": [
       "'n'"
      ]
     },
     "execution_count": 106,
     "metadata": {},
     "output_type": "execute_result"
    }
   ],
   "source": [
    "str1[-1]"
   ]
  },
  {
   "cell_type": "code",
   "execution_count": 107,
   "id": "9be61adc",
   "metadata": {},
   "outputs": [
    {
     "data": {
      "text/plain": [
       "'h'"
      ]
     },
     "execution_count": 107,
     "metadata": {},
     "output_type": "execute_result"
    }
   ],
   "source": [
    "str1[3]"
   ]
  },
  {
   "cell_type": "code",
   "execution_count": 108,
   "id": "91358f5a",
   "metadata": {},
   "outputs": [
    {
     "data": {
      "text/plain": [
       "'t'"
      ]
     },
     "execution_count": 108,
     "metadata": {},
     "output_type": "execute_result"
    }
   ],
   "source": [
    "str1[-4]"
   ]
  },
  {
   "cell_type": "markdown",
   "id": "42af8fc4",
   "metadata": {},
   "source": [
    "# string Slicing   str[start:stop:step]"
   ]
  },
  {
   "cell_type": "code",
   "execution_count": 109,
   "id": "bfddd733",
   "metadata": {},
   "outputs": [],
   "source": [
    "course=\"EXL- Certified Data Analytics Associate\""
   ]
  },
  {
   "cell_type": "code",
   "execution_count": 110,
   "id": "fb774ff8",
   "metadata": {},
   "outputs": [
    {
     "data": {
      "text/plain": [
       "'EXL'"
      ]
     },
     "execution_count": 110,
     "metadata": {},
     "output_type": "execute_result"
    }
   ],
   "source": [
    "course[0:3]  # stop index value 3 excluded , start index value o included, default step value is 1"
   ]
  },
  {
   "cell_type": "code",
   "execution_count": 111,
   "id": "7a235952",
   "metadata": {},
   "outputs": [
    {
     "data": {
      "text/plain": [
       "'EXL'"
      ]
     },
     "execution_count": 111,
     "metadata": {},
     "output_type": "execute_result"
    }
   ],
   "source": [
    "course[0:3:1] "
   ]
  },
  {
   "cell_type": "code",
   "execution_count": 112,
   "id": "08e202c3",
   "metadata": {},
   "outputs": [
    {
     "data": {
      "text/plain": [
       "'Associate'"
      ]
     },
     "execution_count": 112,
     "metadata": {},
     "output_type": "execute_result"
    }
   ],
   "source": [
    "course[-9:] "
   ]
  },
  {
   "cell_type": "code",
   "execution_count": 113,
   "id": "3ae39d4f",
   "metadata": {},
   "outputs": [
    {
     "data": {
      "text/plain": [
       "'EXL- Certified Data Analytics Associate'"
      ]
     },
     "execution_count": 113,
     "metadata": {},
     "output_type": "execute_result"
    }
   ],
   "source": [
    "course[::]"
   ]
  },
  {
   "cell_type": "code",
   "execution_count": 114,
   "id": "64adfd13",
   "metadata": {},
   "outputs": [
    {
     "data": {
      "text/plain": [
       "'etaicossA scitylanA ataD deifitreC -LXE'"
      ]
     },
     "execution_count": 114,
     "metadata": {},
     "output_type": "execute_result"
    }
   ],
   "source": [
    "course[::-1]   # reverse the string"
   ]
  },
  {
   "cell_type": "code",
   "execution_count": 127,
   "id": "9094e658",
   "metadata": {},
   "outputs": [
    {
     "data": {
      "text/plain": [
       "'EL etfe aaAayisAscae'"
      ]
     },
     "execution_count": 127,
     "metadata": {},
     "output_type": "execute_result"
    }
   ],
   "source": [
    "course[::2] "
   ]
  },
  {
   "cell_type": "markdown",
   "id": "49cdbbf4",
   "metadata": {},
   "source": [
    "# String concatenation using + operator"
   ]
  },
  {
   "cell_type": "code",
   "execution_count": 189,
   "id": "49a16d4a",
   "metadata": {},
   "outputs": [
    {
     "data": {
      "text/plain": [
       "'345ER'"
      ]
     },
     "execution_count": 189,
     "metadata": {},
     "output_type": "execute_result"
    }
   ],
   "source": [
    "str(345)+\"ER\""
   ]
  },
  {
   "cell_type": "code",
   "execution_count": 119,
   "id": "78496a53",
   "metadata": {},
   "outputs": [
    {
     "data": {
      "text/plain": [
       "'EXL- Certified Data Analytics Associate(EXL-DA)'"
      ]
     },
     "execution_count": 119,
     "metadata": {},
     "output_type": "execute_result"
    }
   ],
   "source": [
    "course+\"(EXL-DA)\""
   ]
  },
  {
   "cell_type": "code",
   "execution_count": 120,
   "id": "aec4e449",
   "metadata": {},
   "outputs": [
    {
     "data": {
      "text/plain": [
       "'EXL- Certified Data Analytics Associate'"
      ]
     },
     "execution_count": 120,
     "metadata": {},
     "output_type": "execute_result"
    }
   ],
   "source": [
    "course"
   ]
  },
  {
   "cell_type": "code",
   "execution_count": 121,
   "id": "a3da25ac",
   "metadata": {},
   "outputs": [
    {
     "data": {
      "text/plain": [
       "'EduBridge'"
      ]
     },
     "execution_count": 121,
     "metadata": {},
     "output_type": "execute_result"
    }
   ],
   "source": [
    "\"Edu\"+\"Bridge\""
   ]
  },
  {
   "cell_type": "markdown",
   "id": "d7eb700d",
   "metadata": {},
   "source": [
    "# String repetation using * operator"
   ]
  },
  {
   "cell_type": "code",
   "execution_count": 122,
   "id": "c5c27c47",
   "metadata": {},
   "outputs": [],
   "source": [
    "str1='Python'"
   ]
  },
  {
   "cell_type": "code",
   "execution_count": 126,
   "id": "cb8912c0",
   "metadata": {},
   "outputs": [
    {
     "data": {
      "text/plain": [
       "'PythonPythonPythonPythonPython'"
      ]
     },
     "execution_count": 126,
     "metadata": {},
     "output_type": "execute_result"
    }
   ],
   "source": [
    "str1*5  # str*int"
   ]
  },
  {
   "cell_type": "markdown",
   "id": "fb84152d",
   "metadata": {},
   "source": [
    "# Attribute and method associate with string object"
   ]
  },
  {
   "cell_type": "code",
   "execution_count": 128,
   "id": "535f57ab",
   "metadata": {},
   "outputs": [
    {
     "name": "stdout",
     "output_type": "stream",
     "text": [
      "['__add__', '__class__', '__contains__', '__delattr__', '__dir__', '__doc__', '__eq__', '__format__', '__ge__', '__getattribute__', '__getitem__', '__getnewargs__', '__gt__', '__hash__', '__init__', '__init_subclass__', '__iter__', '__le__', '__len__', '__lt__', '__mod__', '__mul__', '__ne__', '__new__', '__reduce__', '__reduce_ex__', '__repr__', '__rmod__', '__rmul__', '__setattr__', '__sizeof__', '__str__', '__subclasshook__', 'capitalize', 'casefold', 'center', 'count', 'encode', 'endswith', 'expandtabs', 'find', 'format', 'format_map', 'index', 'isalnum', 'isalpha', 'isascii', 'isdecimal', 'isdigit', 'isidentifier', 'islower', 'isnumeric', 'isprintable', 'isspace', 'istitle', 'isupper', 'join', 'ljust', 'lower', 'lstrip', 'maketrans', 'partition', 'removeprefix', 'removesuffix', 'replace', 'rfind', 'rindex', 'rjust', 'rpartition', 'rsplit', 'rstrip', 'split', 'splitlines', 'startswith', 'strip', 'swapcase', 'title', 'translate', 'upper', 'zfill']\n"
     ]
    }
   ],
   "source": [
    "print(dir(str))"
   ]
  },
  {
   "cell_type": "code",
   "execution_count": 147,
   "id": "7778c2bf",
   "metadata": {},
   "outputs": [
    {
     "name": "stdout",
     "output_type": "stream",
     "text": [
      "capitalize(),casefold(),center(),count(),encode(),endswith(),expandtabs(),find(),format(),format_map(),index(),isalnum(),isalpha(),isascii(),isdecimal(),isdigit(),isidentifier(),islower(),isnumeric(),isprintable(),isspace(),istitle(),isupper(),join(),ljust(),lower(),lstrip(),maketrans(),partition(),removeprefix(),removesuffix(),replace(),rfind(),rindex(),rjust(),rpartition(),rsplit(),rstrip(),split(),splitlines(),startswith(),strip(),swapcase(),title(),translate(),upper(),zfill(),"
     ]
    }
   ],
   "source": [
    "for method in dir(str):\n",
    "    if not method.endswith('__'):\n",
    "        print(method,end=\"(),\")"
   ]
  },
  {
   "cell_type": "code",
   "execution_count": 134,
   "id": "3d42589d",
   "metadata": {},
   "outputs": [],
   "source": [
    "s1=\"edubridge Learning\""
   ]
  },
  {
   "cell_type": "code",
   "execution_count": 135,
   "id": "3efca4be",
   "metadata": {},
   "outputs": [],
   "source": [
    "s1=s1.capitalize() #Return a capitalized version of the string."
   ]
  },
  {
   "cell_type": "code",
   "execution_count": 136,
   "id": "a5407ef0",
   "metadata": {},
   "outputs": [
    {
     "data": {
      "text/plain": [
       "'Edubridge learning'"
      ]
     },
     "execution_count": 136,
     "metadata": {},
     "output_type": "execute_result"
    }
   ],
   "source": [
    "s1"
   ]
  },
  {
   "cell_type": "code",
   "execution_count": 132,
   "id": "a2ee754f",
   "metadata": {},
   "outputs": [
    {
     "data": {
      "text/plain": [
       "'Edu'"
      ]
     },
     "execution_count": 132,
     "metadata": {},
     "output_type": "execute_result"
    }
   ],
   "source": [
    "'edu'.capitalize()"
   ]
  },
  {
   "cell_type": "code",
   "execution_count": 138,
   "id": "92079f50",
   "metadata": {},
   "outputs": [
    {
     "data": {
      "text/plain": [
       "'edubridge learning'"
      ]
     },
     "execution_count": 138,
     "metadata": {},
     "output_type": "execute_result"
    }
   ],
   "source": [
    "s1=\"Edubridge Learning\"\n",
    "s1.casefold() #Return a version of the string suitable for caseless comparisons."
   ]
  },
  {
   "cell_type": "code",
   "execution_count": 141,
   "id": "63edeed5",
   "metadata": {},
   "outputs": [
    {
     "data": {
      "text/plain": [
       "'   edu    '"
      ]
     },
     "execution_count": 141,
     "metadata": {},
     "output_type": "execute_result"
    }
   ],
   "source": [
    "s2='edu'\n",
    "s2.center(10) #Return a centered string of length width"
   ]
  },
  {
   "cell_type": "code",
   "execution_count": 143,
   "id": "bf473a58",
   "metadata": {},
   "outputs": [
    {
     "data": {
      "text/plain": [
       "2"
      ]
     },
     "execution_count": 143,
     "metadata": {},
     "output_type": "execute_result"
    }
   ],
   "source": [
    "s1=\"edubridge Learning python program - python\"\n",
    "s1.count('python') #Return the number of non-overlapping occurrences of substring"
   ]
  },
  {
   "cell_type": "code",
   "execution_count": 144,
   "id": "57618710",
   "metadata": {},
   "outputs": [
    {
     "data": {
      "text/plain": [
       "True"
      ]
     },
     "execution_count": 144,
     "metadata": {},
     "output_type": "execute_result"
    }
   ],
   "source": [
    "file=\"module1.py\"\n",
    "file.endswith(\".py\")"
   ]
  },
  {
   "cell_type": "code",
   "execution_count": 145,
   "id": "eb6fedb1",
   "metadata": {},
   "outputs": [
    {
     "data": {
      "text/plain": [
       "False"
      ]
     },
     "execution_count": 145,
     "metadata": {},
     "output_type": "execute_result"
    }
   ],
   "source": [
    "file=\"module1.py\"\n",
    "file.endswith(\".exe\")"
   ]
  },
  {
   "cell_type": "code",
   "execution_count": 153,
   "id": "7b7a26fc",
   "metadata": {},
   "outputs": [
    {
     "data": {
      "text/plain": [
       "19"
      ]
     },
     "execution_count": 153,
     "metadata": {},
     "output_type": "execute_result"
    }
   ],
   "source": [
    "s1=\"edubridge Learning python program - python\"\n",
    "s1.find('python')"
   ]
  },
  {
   "cell_type": "code",
   "execution_count": 152,
   "id": "8a2b78cb",
   "metadata": {},
   "outputs": [
    {
     "data": {
      "text/plain": [
       "-1"
      ]
     },
     "execution_count": 152,
     "metadata": {},
     "output_type": "execute_result"
    }
   ],
   "source": [
    "s1=\"edubridge Learning python program - python\"\n",
    "s1.find('cython')  # is substr not present in s1 then return -1"
   ]
  },
  {
   "cell_type": "code",
   "execution_count": 156,
   "id": "f4e7f9e1",
   "metadata": {},
   "outputs": [
    {
     "data": {
      "text/plain": [
       "'the student name:sukanya the batch:pune-exl'"
      ]
     },
     "execution_count": 156,
     "metadata": {},
     "output_type": "execute_result"
    }
   ],
   "source": [
    "name=\"sukanya\"\n",
    "batch=\"pune-exl\"\n",
    "\"the student name:{0} the batch:{1}\".format(name,batch)"
   ]
  },
  {
   "cell_type": "code",
   "execution_count": 157,
   "id": "893e3a5e",
   "metadata": {},
   "outputs": [
    {
     "data": {
      "text/plain": [
       "'12'"
      ]
     },
     "execution_count": 157,
     "metadata": {},
     "output_type": "execute_result"
    }
   ],
   "source": [
    "\"{:o}\".format(10) # octal number format  dec to oct"
   ]
  },
  {
   "cell_type": "code",
   "execution_count": 160,
   "id": "d349e820",
   "metadata": {},
   "outputs": [
    {
     "data": {
      "text/plain": [
       "'F'"
      ]
     },
     "execution_count": 160,
     "metadata": {},
     "output_type": "execute_result"
    }
   ],
   "source": [
    "\"{:X}\".format(15)   # hexa number format dec to hex"
   ]
  },
  {
   "cell_type": "code",
   "execution_count": 161,
   "id": "466a0a8c",
   "metadata": {},
   "outputs": [
    {
     "data": {
      "text/plain": [
       "'1111'"
      ]
     },
     "execution_count": 161,
     "metadata": {},
     "output_type": "execute_result"
    }
   ],
   "source": [
    "\"{:b}\".format(15)  # binary number format dec to binary"
   ]
  },
  {
   "cell_type": "code",
   "execution_count": 162,
   "id": "05f40f70",
   "metadata": {},
   "outputs": [
    {
     "data": {
      "text/plain": [
       "'14.57'"
      ]
     },
     "execution_count": 162,
     "metadata": {},
     "output_type": "execute_result"
    }
   ],
   "source": [
    "\"{:.2f}\".format(14.566768) "
   ]
  },
  {
   "cell_type": "code",
   "execution_count": 164,
   "id": "1108e137",
   "metadata": {},
   "outputs": [
    {
     "data": {
      "text/plain": [
       "'oct:12,hex:E'"
      ]
     },
     "execution_count": 164,
     "metadata": {},
     "output_type": "execute_result"
    }
   ],
   "source": [
    "\"oct:{:o},hex:{:X}\".format(10,14)"
   ]
  },
  {
   "cell_type": "code",
   "execution_count": 170,
   "id": "dab7f6a9",
   "metadata": {},
   "outputs": [
    {
     "data": {
      "text/plain": [
       "8"
      ]
     },
     "execution_count": 170,
     "metadata": {},
     "output_type": "execute_result"
    }
   ],
   "source": [
    "s1=\"Edubridge Learning\"\n",
    "s1.index('e')"
   ]
  },
  {
   "cell_type": "code",
   "execution_count": 169,
   "id": "0046dbf1",
   "metadata": {},
   "outputs": [
    {
     "ename": "ValueError",
     "evalue": "substring not found",
     "output_type": "error",
     "traceback": [
      "\u001b[1;31m---------------------------------------------------------------------------\u001b[0m",
      "\u001b[1;31mValueError\u001b[0m                                Traceback (most recent call last)",
      "Input \u001b[1;32mIn [169]\u001b[0m, in \u001b[0;36m<cell line: 2>\u001b[1;34m()\u001b[0m\n\u001b[0;32m      1\u001b[0m s1\u001b[38;5;241m=\u001b[39m\u001b[38;5;124m\"\u001b[39m\u001b[38;5;124mEdubridge Learning\u001b[39m\u001b[38;5;124m\"\u001b[39m\n\u001b[1;32m----> 2\u001b[0m \u001b[43ms1\u001b[49m\u001b[38;5;241;43m.\u001b[39;49m\u001b[43mindex\u001b[49m\u001b[43m(\u001b[49m\u001b[38;5;124;43m'\u001b[39;49m\u001b[38;5;124;43mx\u001b[39;49m\u001b[38;5;124;43m'\u001b[39;49m\u001b[43m)\u001b[49m\n",
      "\u001b[1;31mValueError\u001b[0m: substring not found"
     ]
    }
   ],
   "source": [
    "s1=\"Edubridge Learning\"\n",
    "s1.index('x')"
   ]
  },
  {
   "cell_type": "code",
   "execution_count": 173,
   "id": "e24e9d62",
   "metadata": {},
   "outputs": [
    {
     "data": {
      "text/plain": [
       "True"
      ]
     },
     "execution_count": 173,
     "metadata": {},
     "output_type": "execute_result"
    }
   ],
   "source": [
    "\"edu123\".isalnum()"
   ]
  },
  {
   "cell_type": "code",
   "execution_count": 177,
   "id": "4afe1af9",
   "metadata": {},
   "outputs": [
    {
     "data": {
      "text/plain": [
       "True"
      ]
     },
     "execution_count": 177,
     "metadata": {},
     "output_type": "execute_result"
    }
   ],
   "source": [
    "\"edulearning\".isalpha() #Return True if the string is an alphabetic string, False otherwise"
   ]
  },
  {
   "cell_type": "code",
   "execution_count": 179,
   "id": "4e567590",
   "metadata": {},
   "outputs": [
    {
     "data": {
      "text/plain": [
       "'e#d#u# #T#e#c#h'"
      ]
     },
     "execution_count": 179,
     "metadata": {},
     "output_type": "execute_result"
    }
   ],
   "source": [
    "\"#\".join(\"edu Tech\") #Concatenate any number of strings."
   ]
  },
  {
   "cell_type": "code",
   "execution_count": 182,
   "id": "4b811acc",
   "metadata": {},
   "outputs": [
    {
     "data": {
      "text/plain": [
       "'1edu2edu3edu4'"
      ]
     },
     "execution_count": 182,
     "metadata": {},
     "output_type": "execute_result"
    }
   ],
   "source": [
    "'edu'.join(\"1234\")"
   ]
  },
  {
   "cell_type": "code",
   "execution_count": 185,
   "id": "3bb0c1ae",
   "metadata": {},
   "outputs": [
    {
     "data": {
      "text/plain": [
       "['java', 'python', 'c++', 'Rprog']"
      ]
     },
     "execution_count": 185,
     "metadata": {},
     "output_type": "execute_result"
    }
   ],
   "source": [
    "'java python c++ Rprog'.split()"
   ]
  },
  {
   "cell_type": "code",
   "execution_count": 187,
   "id": "3e24e1b0",
   "metadata": {},
   "outputs": [
    {
     "data": {
      "text/plain": [
       "['java', 'python', 'c++', 'Rprog']"
      ]
     },
     "execution_count": 187,
     "metadata": {},
     "output_type": "execute_result"
    }
   ],
   "source": [
    "'java-python-c++-Rprog'.split('-')"
   ]
  },
  {
   "cell_type": "markdown",
   "id": "21ae1360",
   "metadata": {},
   "source": [
    "# string is immutable "
   ]
  },
  {
   "cell_type": "code",
   "execution_count": 195,
   "id": "f712a586",
   "metadata": {},
   "outputs": [],
   "source": [
    "str1=\"EduBridge\"\n"
   ]
  },
  {
   "cell_type": "code",
   "execution_count": 196,
   "id": "b77b5014",
   "metadata": {},
   "outputs": [
    {
     "data": {
      "text/plain": [
       "'B'"
      ]
     },
     "execution_count": 196,
     "metadata": {},
     "output_type": "execute_result"
    }
   ],
   "source": [
    "str1[3]"
   ]
  },
  {
   "cell_type": "code",
   "execution_count": 197,
   "id": "2d1ba515",
   "metadata": {},
   "outputs": [
    {
     "ename": "TypeError",
     "evalue": "'str' object does not support item assignment",
     "output_type": "error",
     "traceback": [
      "\u001b[1;31m---------------------------------------------------------------------------\u001b[0m",
      "\u001b[1;31mTypeError\u001b[0m                                 Traceback (most recent call last)",
      "Input \u001b[1;32mIn [197]\u001b[0m, in \u001b[0;36m<cell line: 1>\u001b[1;34m()\u001b[0m\n\u001b[1;32m----> 1\u001b[0m str1[\u001b[38;5;241m3\u001b[39m]\u001b[38;5;241m=\u001b[39m\u001b[38;5;124m'\u001b[39m\u001b[38;5;124mb\u001b[39m\u001b[38;5;124m'\u001b[39m\n",
      "\u001b[1;31mTypeError\u001b[0m: 'str' object does not support item assignment"
     ]
    }
   ],
   "source": [
    "str1[3]='b'   # str1 is immutable"
   ]
  },
  {
   "cell_type": "code",
   "execution_count": 198,
   "id": "b95c7c7f",
   "metadata": {},
   "outputs": [
    {
     "data": {
      "text/plain": [
       "2668265218608"
      ]
     },
     "execution_count": 198,
     "metadata": {},
     "output_type": "execute_result"
    }
   ],
   "source": [
    "id(str1)"
   ]
  },
  {
   "cell_type": "code",
   "execution_count": 199,
   "id": "4dd372c5",
   "metadata": {},
   "outputs": [],
   "source": [
    "str1=\"Edubridge\""
   ]
  },
  {
   "cell_type": "code",
   "execution_count": 200,
   "id": "1c8764a9",
   "metadata": {},
   "outputs": [
    {
     "data": {
      "text/plain": [
       "'Edubridge'"
      ]
     },
     "execution_count": 200,
     "metadata": {},
     "output_type": "execute_result"
    }
   ],
   "source": [
    "str1"
   ]
  },
  {
   "cell_type": "code",
   "execution_count": 201,
   "id": "be3eb8cb",
   "metadata": {},
   "outputs": [
    {
     "data": {
      "text/plain": [
       "2668266439088"
      ]
     },
     "execution_count": 201,
     "metadata": {},
     "output_type": "execute_result"
    }
   ],
   "source": [
    "id(str1)"
   ]
  },
  {
   "cell_type": "code",
   "execution_count": 202,
   "id": "0de7683d",
   "metadata": {},
   "outputs": [],
   "source": [
    "a='xyz'\n",
    "b='xyz'\n",
    "c='xyz'"
   ]
  },
  {
   "cell_type": "code",
   "execution_count": 206,
   "id": "9eb042e5",
   "metadata": {},
   "outputs": [
    {
     "name": "stdout",
     "output_type": "stream",
     "text": [
      "2668267227568 2668267227568\n"
     ]
    }
   ],
   "source": [
    "print(id(a),id(b))"
   ]
  },
  {
   "cell_type": "code",
   "execution_count": 204,
   "id": "92e6b324",
   "metadata": {},
   "outputs": [],
   "source": [
    "del c"
   ]
  },
  {
   "cell_type": "code",
   "execution_count": null,
   "id": "bb91c2c1",
   "metadata": {},
   "outputs": [],
   "source": [
    "# user input is always string"
   ]
  },
  {
   "cell_type": "code",
   "execution_count": 304,
   "id": "06492de2",
   "metadata": {},
   "outputs": [
    {
     "name": "stdout",
     "output_type": "stream",
     "text": [
      "Enter your data100\n"
     ]
    }
   ],
   "source": [
    "data=int(input('Enter your data')) #Read a string from standard input"
   ]
  },
  {
   "cell_type": "code",
   "execution_count": 306,
   "id": "64ef0553",
   "metadata": {},
   "outputs": [
    {
     "data": {
      "text/plain": [
       "100"
      ]
     },
     "execution_count": 306,
     "metadata": {},
     "output_type": "execute_result"
    }
   ],
   "source": [
    "data"
   ]
  },
  {
   "cell_type": "code",
   "execution_count": 307,
   "id": "cd1cd158",
   "metadata": {},
   "outputs": [
    {
     "name": "stdout",
     "output_type": "stream",
     "text": [
      "<class 'int'>\n"
     ]
    }
   ],
   "source": [
    "print(type(data))"
   ]
  },
  {
   "cell_type": "code",
   "execution_count": null,
   "id": "2a89f7bc",
   "metadata": {},
   "outputs": [],
   "source": []
  },
  {
   "cell_type": "code",
   "execution_count": null,
   "id": "5530cc17",
   "metadata": {},
   "outputs": [],
   "source": []
  },
  {
   "cell_type": "code",
   "execution_count": null,
   "id": "78b4e2b0",
   "metadata": {},
   "outputs": [],
   "source": []
  },
  {
   "cell_type": "markdown",
   "id": "d73d1d69",
   "metadata": {},
   "source": [
    "# List"
   ]
  },
  {
   "cell_type": "markdown",
   "id": "c8083cac",
   "metadata": {},
   "source": [
    "- Lisit is collection of diffrent data type elements with []"
   ]
  },
  {
   "cell_type": "code",
   "execution_count": 207,
   "id": "163d9865",
   "metadata": {},
   "outputs": [],
   "source": [
    "# creating the List\n",
    "l1=[1,3,4,3.14,7+4j,'jan','feb','march',[\"orange\",\"apple\",\"kiwi\"]]"
   ]
  },
  {
   "cell_type": "code",
   "execution_count": 208,
   "id": "e86f4c39",
   "metadata": {},
   "outputs": [
    {
     "name": "stdout",
     "output_type": "stream",
     "text": [
      "[1, 3, 4, 3.14, (7+4j), 'jan', 'feb', 'march', ['orange', 'apple', 'kiwi']]\n"
     ]
    }
   ],
   "source": [
    "print(l1)"
   ]
  },
  {
   "cell_type": "code",
   "execution_count": 218,
   "id": "51600cf3",
   "metadata": {},
   "outputs": [
    {
     "name": "stdout",
     "output_type": "stream",
     "text": [
      "<class 'list'>\n"
     ]
    }
   ],
   "source": [
    "print(type(l1))"
   ]
  },
  {
   "cell_type": "code",
   "execution_count": 209,
   "id": "31afa801",
   "metadata": {},
   "outputs": [
    {
     "data": {
      "text/plain": [
       "1"
      ]
     },
     "execution_count": 209,
     "metadata": {},
     "output_type": "execute_result"
    }
   ],
   "source": [
    "# access the list elements using index \n",
    "l1[0] # oth index element"
   ]
  },
  {
   "cell_type": "code",
   "execution_count": 215,
   "id": "a0e0f42f",
   "metadata": {},
   "outputs": [
    {
     "data": {
      "text/plain": [
       "['orange', 'apple', 'kiwi']"
      ]
     },
     "execution_count": 215,
     "metadata": {},
     "output_type": "execute_result"
    }
   ],
   "source": [
    "l1[-1]"
   ]
  },
  {
   "cell_type": "code",
   "execution_count": 216,
   "id": "cfd3920b",
   "metadata": {},
   "outputs": [
    {
     "data": {
      "text/plain": [
       "'orange'"
      ]
     },
     "execution_count": 216,
     "metadata": {},
     "output_type": "execute_result"
    }
   ],
   "source": [
    "l1[-1][0]"
   ]
  },
  {
   "cell_type": "code",
   "execution_count": 220,
   "id": "bdf741dd",
   "metadata": {},
   "outputs": [
    {
     "data": {
      "text/plain": [
       "str"
      ]
     },
     "execution_count": 220,
     "metadata": {},
     "output_type": "execute_result"
    }
   ],
   "source": [
    "type(l1[-1][0])"
   ]
  },
  {
   "cell_type": "code",
   "execution_count": 217,
   "id": "b2af53a7",
   "metadata": {},
   "outputs": [
    {
     "data": {
      "text/plain": [
       "(7+4j)"
      ]
     },
     "execution_count": 217,
     "metadata": {},
     "output_type": "execute_result"
    }
   ],
   "source": [
    "l1[4]"
   ]
  },
  {
   "cell_type": "code",
   "execution_count": 219,
   "id": "1b953ce5",
   "metadata": {},
   "outputs": [
    {
     "data": {
      "text/plain": [
       "complex"
      ]
     },
     "execution_count": 219,
     "metadata": {},
     "output_type": "execute_result"
    }
   ],
   "source": [
    "type(l1[4])"
   ]
  },
  {
   "cell_type": "markdown",
   "id": "e3e5c4f4",
   "metadata": {},
   "source": [
    "# List slice [start:end:step]    and sub list"
   ]
  },
  {
   "cell_type": "code",
   "execution_count": 221,
   "id": "85fb289a",
   "metadata": {},
   "outputs": [],
   "source": [
    "months=['jan','feb','march','april','may','june']"
   ]
  },
  {
   "cell_type": "code",
   "execution_count": 222,
   "id": "dd25257f",
   "metadata": {},
   "outputs": [
    {
     "data": {
      "text/plain": [
       "['jan', 'feb', 'march']"
      ]
     },
     "execution_count": 222,
     "metadata": {},
     "output_type": "execute_result"
    }
   ],
   "source": [
    "q1=months[0:3]\n",
    "q1"
   ]
  },
  {
   "cell_type": "code",
   "execution_count": 226,
   "id": "3425fd41",
   "metadata": {},
   "outputs": [
    {
     "data": {
      "text/plain": [
       "['april', 'may', 'june']"
      ]
     },
     "execution_count": 226,
     "metadata": {},
     "output_type": "execute_result"
    }
   ],
   "source": [
    "q2=months[-3:]\n",
    "q2"
   ]
  },
  {
   "cell_type": "code",
   "execution_count": 227,
   "id": "b4766d97",
   "metadata": {},
   "outputs": [
    {
     "data": {
      "text/plain": [
       "['jan', 'march', 'may']"
      ]
     },
     "execution_count": 227,
     "metadata": {},
     "output_type": "execute_result"
    }
   ],
   "source": [
    "odd_month=months[::2]\n",
    "odd_month"
   ]
  },
  {
   "cell_type": "markdown",
   "id": "792dc8d7",
   "metadata": {},
   "source": [
    "# Operator on List"
   ]
  },
  {
   "cell_type": "code",
   "execution_count": 228,
   "id": "560a92b5",
   "metadata": {},
   "outputs": [],
   "source": [
    "l2=[4,5,6]\n",
    "l3=[10,20,30]"
   ]
  },
  {
   "cell_type": "code",
   "execution_count": 229,
   "id": "6950fd1c",
   "metadata": {},
   "outputs": [
    {
     "data": {
      "text/plain": [
       "[4, 5, 6, 10, 20, 30]"
      ]
     },
     "execution_count": 229,
     "metadata": {},
     "output_type": "execute_result"
    }
   ],
   "source": [
    "l2+l3  # Concatenate two list into one  using +"
   ]
  },
  {
   "cell_type": "code",
   "execution_count": null,
   "id": "495c3e58",
   "metadata": {},
   "outputs": [],
   "source": [
    "#repeat the list using * operator"
   ]
  },
  {
   "cell_type": "code",
   "execution_count": 230,
   "id": "56ce9085",
   "metadata": {},
   "outputs": [
    {
     "data": {
      "text/plain": [
       "[4, 5, 6, 4, 5, 6, 4, 5, 6, 4, 5, 6]"
      ]
     },
     "execution_count": 230,
     "metadata": {},
     "output_type": "execute_result"
    }
   ],
   "source": [
    "l2*4 # repeat l2 list into 4 times"
   ]
  },
  {
   "cell_type": "markdown",
   "id": "f49263c7",
   "metadata": {},
   "source": [
    "# create list from another type  using list()  "
   ]
  },
  {
   "cell_type": "code",
   "execution_count": 231,
   "id": "97010726",
   "metadata": {},
   "outputs": [
    {
     "data": {
      "text/plain": [
       "['E', 'g', 'u', 'b', 'r', 'i', 'd', 'g', 'e']"
      ]
     },
     "execution_count": 231,
     "metadata": {},
     "output_type": "execute_result"
    }
   ],
   "source": [
    "list(\"Egubridge\")  # typecast  str to list"
   ]
  },
  {
   "cell_type": "markdown",
   "id": "9920f6cf",
   "metadata": {},
   "source": [
    "# built-in function for List"
   ]
  },
  {
   "cell_type": "code",
   "execution_count": 233,
   "id": "5f16011b",
   "metadata": {},
   "outputs": [
    {
     "data": {
      "text/plain": [
       "6"
      ]
     },
     "execution_count": 233,
     "metadata": {},
     "output_type": "execute_result"
    }
   ],
   "source": [
    "months=['jan','feb','march','april','may','june']\n",
    "len(months)  # length of list elements"
   ]
  },
  {
   "cell_type": "code",
   "execution_count": 235,
   "id": "2736b189",
   "metadata": {},
   "outputs": [
    {
     "data": {
      "text/plain": [
       "34"
      ]
     },
     "execution_count": 235,
     "metadata": {},
     "output_type": "execute_result"
    }
   ],
   "source": [
    "marks=[89,90,45,67,34,98,35]\n",
    "min(marks)"
   ]
  },
  {
   "cell_type": "code",
   "execution_count": 236,
   "id": "a2d88861",
   "metadata": {},
   "outputs": [
    {
     "data": {
      "text/plain": [
       "98"
      ]
     },
     "execution_count": 236,
     "metadata": {},
     "output_type": "execute_result"
    }
   ],
   "source": [
    "marks=[89,90,45,67,34,98,35]\n",
    "max(marks)"
   ]
  },
  {
   "cell_type": "markdown",
   "id": "0cc0235e",
   "metadata": {},
   "source": [
    "# Built-in Methods for List"
   ]
  },
  {
   "cell_type": "code",
   "execution_count": 238,
   "id": "e78c0698",
   "metadata": {},
   "outputs": [
    {
     "name": "stdout",
     "output_type": "stream",
     "text": [
      "['__add__', '__class__', '__class_getitem__', '__contains__', '__delattr__', '__delitem__', '__dir__', '__doc__', '__eq__', '__format__', '__ge__', '__getattribute__', '__getitem__', '__gt__', '__hash__', '__iadd__', '__imul__', '__init__', '__init_subclass__', '__iter__', '__le__', '__len__', '__lt__', '__mul__', '__ne__', '__new__', '__reduce__', '__reduce_ex__', '__repr__', '__reversed__', '__rmul__', '__setattr__', '__setitem__', '__sizeof__', '__str__', '__subclasshook__', 'append', 'clear', 'copy', 'count', 'extend', 'index', 'insert', 'pop', 'remove', 'reverse', 'sort']\n"
     ]
    }
   ],
   "source": [
    "print(dir(list))"
   ]
  },
  {
   "cell_type": "code",
   "execution_count": 239,
   "id": "6c9a20ba",
   "metadata": {},
   "outputs": [
    {
     "name": "stdout",
     "output_type": "stream",
     "text": [
      "append(),clear(),copy(),count(),extend(),index(),insert(),pop(),remove(),reverse(),sort(),"
     ]
    }
   ],
   "source": [
    "for method in dir(list):\n",
    "    if not method.endswith(\"__\"):\n",
    "        print(method,end=\"(),\")"
   ]
  },
  {
   "cell_type": "code",
   "execution_count": null,
   "id": "08909380",
   "metadata": {},
   "outputs": [],
   "source": [
    "#append()"
   ]
  },
  {
   "cell_type": "code",
   "execution_count": 245,
   "id": "c1eaec7c",
   "metadata": {},
   "outputs": [
    {
     "name": "stdout",
     "output_type": "stream",
     "text": [
      "['jan', 'feb', 'march', 'april', 'may', 'june', 'july']\n"
     ]
    }
   ],
   "source": [
    "months=['jan','feb','march','april','may','june']\n",
    "months.append('july') #Append object to the end of the list.\n",
    "print(months)"
   ]
  },
  {
   "cell_type": "code",
   "execution_count": 249,
   "id": "d2f2e7cd",
   "metadata": {},
   "outputs": [],
   "source": [
    "#count()"
   ]
  },
  {
   "cell_type": "code",
   "execution_count": 246,
   "id": "e7d806b6",
   "metadata": {},
   "outputs": [
    {
     "data": {
      "text/plain": [
       "2"
      ]
     },
     "execution_count": 246,
     "metadata": {},
     "output_type": "execute_result"
    }
   ],
   "source": [
    "marks=[34,56,78,45,89,45,87]\n",
    "marks.count(45) # Return number of occurrences of value."
   ]
  },
  {
   "cell_type": "code",
   "execution_count": 248,
   "id": "feaf479a",
   "metadata": {},
   "outputs": [
    {
     "data": {
      "text/plain": [
       "3"
      ]
     },
     "execution_count": 248,
     "metadata": {},
     "output_type": "execute_result"
    }
   ],
   "source": [
    "list1=['a','a','b','c','a']\n",
    "list1.count('a')"
   ]
  },
  {
   "cell_type": "code",
   "execution_count": null,
   "id": "c1ad16c5",
   "metadata": {},
   "outputs": [],
   "source": [
    "#extend()"
   ]
  },
  {
   "cell_type": "code",
   "execution_count": 252,
   "id": "dc0c533b",
   "metadata": {},
   "outputs": [
    {
     "name": "stdout",
     "output_type": "stream",
     "text": [
      "['jan', 'feb', 'march', 'april', 'may', 'june', 'july', 'augest', 'september']\n"
     ]
    }
   ],
   "source": [
    "months=['jan','feb','march','april','may','june']\n",
    "q3=['july','augest','september']\n",
    "months.extend(q3) # update elements in months memory\n",
    "print(months)"
   ]
  },
  {
   "cell_type": "code",
   "execution_count": 253,
   "id": "c8d70dbc",
   "metadata": {},
   "outputs": [
    {
     "data": {
      "text/plain": [
       "['july', 'augest', 'september']"
      ]
     },
     "execution_count": 253,
     "metadata": {},
     "output_type": "execute_result"
    }
   ],
   "source": [
    "q3"
   ]
  },
  {
   "cell_type": "code",
   "execution_count": 254,
   "id": "a13507f1",
   "metadata": {},
   "outputs": [
    {
     "data": {
      "text/plain": [
       "['jan', 'feb', 'march', 'april', 'may', 'june', 'july', 'augest', 'september']"
      ]
     },
     "execution_count": 254,
     "metadata": {},
     "output_type": "execute_result"
    }
   ],
   "source": [
    "months=['jan','feb','march','april','may','june']\n",
    "q3=['july','augest','september']\n",
    "months+q3 # on the fly result , not in memory update"
   ]
  },
  {
   "cell_type": "code",
   "execution_count": null,
   "id": "1c279f50",
   "metadata": {},
   "outputs": [],
   "source": [
    "#index()"
   ]
  },
  {
   "cell_type": "code",
   "execution_count": 256,
   "id": "eb8cbadf",
   "metadata": {},
   "outputs": [
    {
     "data": {
      "text/plain": [
       "5"
      ]
     },
     "execution_count": 256,
     "metadata": {},
     "output_type": "execute_result"
    }
   ],
   "source": [
    "months=['jan','feb','march','april','may','june']\n",
    "months.index('june')"
   ]
  },
  {
   "cell_type": "code",
   "execution_count": 262,
   "id": "3982af46",
   "metadata": {},
   "outputs": [
    {
     "data": {
      "text/plain": [
       "2"
      ]
     },
     "execution_count": 262,
     "metadata": {},
     "output_type": "execute_result"
    }
   ],
   "source": [
    "marks=[34,56,78,45,89,45,87,45,34,56]\n",
    "marks.index(78)"
   ]
  },
  {
   "cell_type": "code",
   "execution_count": null,
   "id": "ce0bb767",
   "metadata": {},
   "outputs": [],
   "source": [
    "#insert()"
   ]
  },
  {
   "cell_type": "code",
   "execution_count": 267,
   "id": "a609f617",
   "metadata": {},
   "outputs": [
    {
     "name": "stdout",
     "output_type": "stream",
     "text": [
      "['jan', 'feb', 'march']\n"
     ]
    }
   ],
   "source": [
    "months=['jan','march']\n",
    "months.insert(1,'feb') # Insert object before index.\n",
    "print(months)"
   ]
  },
  {
   "cell_type": "code",
   "execution_count": null,
   "id": "90ebcfaa",
   "metadata": {},
   "outputs": [],
   "source": [
    "# reverse()"
   ]
  },
  {
   "cell_type": "code",
   "execution_count": 269,
   "id": "2521b99a",
   "metadata": {},
   "outputs": [
    {
     "name": "stdout",
     "output_type": "stream",
     "text": [
      "['june', 'may', 'april', 'march', 'feb', 'jan']\n"
     ]
    }
   ],
   "source": [
    "months=['jan','feb','march','april','may','june']\n",
    "months.reverse() # in memeory operation\n",
    "print(months)"
   ]
  },
  {
   "cell_type": "code",
   "execution_count": 270,
   "id": "ec2396c1",
   "metadata": {},
   "outputs": [
    {
     "data": {
      "text/plain": [
       "['june', 'may', 'april', 'march', 'feb', 'jan']"
      ]
     },
     "execution_count": 270,
     "metadata": {},
     "output_type": "execute_result"
    }
   ],
   "source": [
    "months=['jan','feb','march','april','may','june']\n",
    "months[::-1] # on the fly"
   ]
  },
  {
   "cell_type": "code",
   "execution_count": null,
   "id": "6693f41c",
   "metadata": {},
   "outputs": [],
   "source": [
    "#sort()"
   ]
  },
  {
   "cell_type": "code",
   "execution_count": 273,
   "id": "f73ddc13",
   "metadata": {},
   "outputs": [
    {
     "name": "stdout",
     "output_type": "stream",
     "text": [
      "[89, 87, 78, 56, 45, 45, 34]\n"
     ]
    }
   ],
   "source": [
    "marks=[34,56,78,45,89,45,87]\n",
    "marks.sort(reverse=True) # descending order\n",
    "print(marks)"
   ]
  },
  {
   "cell_type": "code",
   "execution_count": 274,
   "id": "7828081c",
   "metadata": {},
   "outputs": [
    {
     "name": "stdout",
     "output_type": "stream",
     "text": [
      "[34, 45, 45, 56, 78, 87, 89]\n"
     ]
    }
   ],
   "source": [
    "marks=[34,56,78,45,89,45,87]\n",
    "marks.sort(reverse=False) # ascending order # default\n",
    "print(marks)"
   ]
  },
  {
   "cell_type": "code",
   "execution_count": 275,
   "id": "1663c167",
   "metadata": {},
   "outputs": [
    {
     "name": "stdout",
     "output_type": "stream",
     "text": [
      "['april', 'feb', 'jan', 'june', 'march', 'may']\n"
     ]
    }
   ],
   "source": [
    "months=['jan','feb','march','april','may','june']\n",
    "months.sort() # based on ascii value\n",
    "print(months)"
   ]
  },
  {
   "cell_type": "markdown",
   "id": "f7e0a4e8",
   "metadata": {},
   "source": [
    "# list alise"
   ]
  },
  {
   "cell_type": "code",
   "execution_count": 283,
   "id": "4bf9ff73",
   "metadata": {},
   "outputs": [
    {
     "name": "stdout",
     "output_type": "stream",
     "text": [
      "[10, 20, 300] [10, 20, 300]\n",
      "2668269170944 2668269170944\n"
     ]
    }
   ],
   "source": [
    "l1=[10,20,30]\n",
    "l2=l1\n",
    "l2[-1]=300\n",
    "print(l1,l2)\n",
    "print(id(l1),id(l2))"
   ]
  },
  {
   "cell_type": "code",
   "execution_count": null,
   "id": "84c64ecc",
   "metadata": {
    "collapsed": true
   },
   "outputs": [],
   "source": [
    "#to avoid list alise use copy method  (deep copy)"
   ]
  },
  {
   "cell_type": "code",
   "execution_count": null,
   "id": "b77a0114",
   "metadata": {},
   "outputs": [],
   "source": [
    "# copy()"
   ]
  },
  {
   "cell_type": "code",
   "execution_count": 284,
   "id": "ad4e4e81",
   "metadata": {},
   "outputs": [
    {
     "name": "stdout",
     "output_type": "stream",
     "text": [
      "[10, 20, 30] [10, 20, 300]\n",
      "2668269303488 2668250335424\n"
     ]
    }
   ],
   "source": [
    "l1=[10,20,30]\n",
    "l2=l1.copy()\n",
    "l2[-1]=300\n",
    "print(l1,l2)\n",
    "print(id(l1),id(l2))"
   ]
  },
  {
   "cell_type": "code",
   "execution_count": 285,
   "id": "b98bea3d",
   "metadata": {},
   "outputs": [
    {
     "name": "stdout",
     "output_type": "stream",
     "text": [
      "[10, 20, 30] [10, 20, 300]\n",
      "2668269304896 2668269305088\n"
     ]
    }
   ],
   "source": [
    "l1=[10,20,30]\n",
    "l2=l1[:]\n",
    "l2[-1]=300\n",
    "print(l1,l2)\n",
    "print(id(l1),id(l2))"
   ]
  },
  {
   "cell_type": "code",
   "execution_count": null,
   "id": "d01c7d34",
   "metadata": {},
   "outputs": [],
   "source": [
    "#remove()"
   ]
  },
  {
   "cell_type": "code",
   "execution_count": 289,
   "id": "2c8dd9e3",
   "metadata": {},
   "outputs": [
    {
     "name": "stdout",
     "output_type": "stream",
     "text": [
      "[10, 30]\n"
     ]
    }
   ],
   "source": [
    "l1=[10,20,30]\n",
    "l1.remove(20)\n",
    "print(l1)"
   ]
  },
  {
   "cell_type": "code",
   "execution_count": null,
   "id": "709cac5f",
   "metadata": {},
   "outputs": [],
   "source": [
    "#pop() #Remove and return item at index (default last)."
   ]
  },
  {
   "cell_type": "code",
   "execution_count": 291,
   "id": "afdd9707",
   "metadata": {},
   "outputs": [
    {
     "data": {
      "text/plain": [
       "30"
      ]
     },
     "execution_count": 291,
     "metadata": {},
     "output_type": "execute_result"
    }
   ],
   "source": [
    "l1=[10,20,30]\n",
    "l1.pop() # deafult index=-1"
   ]
  },
  {
   "cell_type": "code",
   "execution_count": 294,
   "id": "31268b6b",
   "metadata": {},
   "outputs": [
    {
     "data": {
      "text/plain": [
       "30"
      ]
     },
     "execution_count": 294,
     "metadata": {},
     "output_type": "execute_result"
    }
   ],
   "source": [
    "l1=[10,20,30]\n",
    "l1.pop(2) #"
   ]
  },
  {
   "cell_type": "code",
   "execution_count": 295,
   "id": "1a97e40b",
   "metadata": {},
   "outputs": [
    {
     "data": {
      "text/plain": [
       "[10, 20]"
      ]
     },
     "execution_count": 295,
     "metadata": {},
     "output_type": "execute_result"
    }
   ],
   "source": [
    "l1"
   ]
  },
  {
   "cell_type": "code",
   "execution_count": null,
   "id": "0f4f75fd",
   "metadata": {},
   "outputs": [],
   "source": [
    "#clear()"
   ]
  },
  {
   "cell_type": "code",
   "execution_count": 297,
   "id": "102d622c",
   "metadata": {},
   "outputs": [
    {
     "name": "stdout",
     "output_type": "stream",
     "text": [
      "[]\n"
     ]
    }
   ],
   "source": [
    "fruits=['apple','orange','kiwi']\n",
    "fruits.clear()\n",
    "print(fruits)"
   ]
  },
  {
   "cell_type": "markdown",
   "id": "026dc003",
   "metadata": {},
   "source": [
    "# list is mutable"
   ]
  },
  {
   "cell_type": "code",
   "execution_count": 299,
   "id": "3cf86103",
   "metadata": {},
   "outputs": [
    {
     "name": "stdout",
     "output_type": "stream",
     "text": [
      "[45, 67, 100, 68]\n"
     ]
    }
   ],
   "source": [
    "l1=[45,67,89,68]\n",
    "l1[2]=100\n",
    "print(l1)"
   ]
  },
  {
   "cell_type": "markdown",
   "id": "f347ed8a",
   "metadata": {},
   "source": [
    "# Tuple"
   ]
  },
  {
   "cell_type": "code",
   "execution_count": 309,
   "id": "cec0c265",
   "metadata": {},
   "outputs": [],
   "source": [
    "t1=(10,20,30,40)"
   ]
  },
  {
   "cell_type": "code",
   "execution_count": 310,
   "id": "26642fe3",
   "metadata": {},
   "outputs": [
    {
     "name": "stdout",
     "output_type": "stream",
     "text": [
      "<class 'tuple'>\n"
     ]
    }
   ],
   "source": [
    "print(type(t1))"
   ]
  },
  {
   "cell_type": "code",
   "execution_count": 311,
   "id": "f8574ae1",
   "metadata": {},
   "outputs": [],
   "source": [
    "t2=100,200,300  # comma seperated value "
   ]
  },
  {
   "cell_type": "code",
   "execution_count": 312,
   "id": "0491e8f6",
   "metadata": {},
   "outputs": [
    {
     "data": {
      "text/plain": [
       "(100, 200, 300)"
      ]
     },
     "execution_count": 312,
     "metadata": {},
     "output_type": "execute_result"
    }
   ],
   "source": [
    "t2"
   ]
  },
  {
   "cell_type": "code",
   "execution_count": 313,
   "id": "150a1399",
   "metadata": {},
   "outputs": [
    {
     "name": "stdout",
     "output_type": "stream",
     "text": [
      "<class 'tuple'>\n"
     ]
    }
   ],
   "source": [
    "print(type(t2))"
   ]
  },
  {
   "cell_type": "code",
   "execution_count": 314,
   "id": "014d925d",
   "metadata": {},
   "outputs": [],
   "source": [
    "l1=[2,4,6,[45,67,89],(30,40)]"
   ]
  },
  {
   "cell_type": "code",
   "execution_count": 315,
   "id": "469a05c7",
   "metadata": {},
   "outputs": [
    {
     "data": {
      "text/plain": [
       "[2, 4, 6, [45, 67, 89], (30, 40)]"
      ]
     },
     "execution_count": 315,
     "metadata": {},
     "output_type": "execute_result"
    }
   ],
   "source": [
    "l1"
   ]
  },
  {
   "cell_type": "code",
   "execution_count": 316,
   "id": "6dd94d24",
   "metadata": {},
   "outputs": [
    {
     "data": {
      "text/plain": [
       "(2, 4, 6, [45, 67, 89], (30, 40))"
      ]
     },
     "execution_count": 316,
     "metadata": {},
     "output_type": "execute_result"
    }
   ],
   "source": [
    "tuple(l1)"
   ]
  },
  {
   "cell_type": "code",
   "execution_count": 317,
   "id": "6a47f30f",
   "metadata": {},
   "outputs": [],
   "source": [
    "t1=(10,20,30,40)"
   ]
  },
  {
   "cell_type": "code",
   "execution_count": 318,
   "id": "92851d1e",
   "metadata": {},
   "outputs": [
    {
     "data": {
      "text/plain": [
       "10"
      ]
     },
     "execution_count": 318,
     "metadata": {},
     "output_type": "execute_result"
    }
   ],
   "source": [
    "t1[0]"
   ]
  },
  {
   "cell_type": "code",
   "execution_count": 319,
   "id": "af688ccb",
   "metadata": {},
   "outputs": [
    {
     "ename": "TypeError",
     "evalue": "'tuple' object does not support item assignment",
     "output_type": "error",
     "traceback": [
      "\u001b[1;31m---------------------------------------------------------------------------\u001b[0m",
      "\u001b[1;31mTypeError\u001b[0m                                 Traceback (most recent call last)",
      "Input \u001b[1;32mIn [319]\u001b[0m, in \u001b[0;36m<cell line: 1>\u001b[1;34m()\u001b[0m\n\u001b[1;32m----> 1\u001b[0m t1[\u001b[38;5;241m0\u001b[39m]\u001b[38;5;241m=\u001b[39m\u001b[38;5;241m100\u001b[39m\n",
      "\u001b[1;31mTypeError\u001b[0m: 'tuple' object does not support item assignment"
     ]
    }
   ],
   "source": [
    "t1[0]=100  # tuple is  immutable "
   ]
  },
  {
   "cell_type": "markdown",
   "id": "74e674ad",
   "metadata": {},
   "source": [
    "# built-in methods for tuple object"
   ]
  },
  {
   "cell_type": "code",
   "execution_count": 320,
   "id": "a289e68e",
   "metadata": {},
   "outputs": [
    {
     "name": "stdout",
     "output_type": "stream",
     "text": [
      "['__add__', '__class__', '__class_getitem__', '__contains__', '__delattr__', '__dir__', '__doc__', '__eq__', '__format__', '__ge__', '__getattribute__', '__getitem__', '__getnewargs__', '__gt__', '__hash__', '__init__', '__init_subclass__', '__iter__', '__le__', '__len__', '__lt__', '__mul__', '__ne__', '__new__', '__reduce__', '__reduce_ex__', '__repr__', '__rmul__', '__setattr__', '__sizeof__', '__str__', '__subclasshook__', 'count', 'index']\n"
     ]
    }
   ],
   "source": [
    "print(dir(tuple))"
   ]
  },
  {
   "cell_type": "code",
   "execution_count": 321,
   "id": "a58dd83d",
   "metadata": {},
   "outputs": [
    {
     "data": {
      "text/plain": [
       "3"
      ]
     },
     "execution_count": 321,
     "metadata": {},
     "output_type": "execute_result"
    }
   ],
   "source": [
    "t1=(10,20,30,40,10,10)\n",
    "t1.count(10) # Return number of occurrences of value."
   ]
  },
  {
   "cell_type": "code",
   "execution_count": 323,
   "id": "5222ed94",
   "metadata": {},
   "outputs": [
    {
     "data": {
      "text/plain": [
       "2"
      ]
     },
     "execution_count": 323,
     "metadata": {},
     "output_type": "execute_result"
    }
   ],
   "source": [
    "t1=(10,20,30,40,10,10)\n",
    "t1.index(30) "
   ]
  },
  {
   "cell_type": "code",
   "execution_count": 329,
   "id": "39ce4113",
   "metadata": {},
   "outputs": [
    {
     "name": "stdout",
     "output_type": "stream",
     "text": [
      "56.23246\n"
     ]
    }
   ],
   "source": [
    "x = 56.232457\n",
    "print(\"%.5f\"%x)"
   ]
  },
  {
   "cell_type": "code",
   "execution_count": null,
   "id": "8ab4cf04",
   "metadata": {},
   "outputs": [],
   "source": []
  },
  {
   "cell_type": "markdown",
   "id": "2ff37db7",
   "metadata": {},
   "source": [
    "# Dictionary"
   ]
  },
  {
   "cell_type": "code",
   "execution_count": 330,
   "id": "d401313b",
   "metadata": {},
   "outputs": [],
   "source": [
    "std_dict={'name':'karthik','regno':1001,'age':25}"
   ]
  },
  {
   "cell_type": "code",
   "execution_count": 331,
   "id": "aef1f90d",
   "metadata": {},
   "outputs": [
    {
     "name": "stdout",
     "output_type": "stream",
     "text": [
      "<class 'dict'>\n"
     ]
    }
   ],
   "source": [
    "print(type(std_dict))"
   ]
  },
  {
   "cell_type": "code",
   "execution_count": 332,
   "id": "cbc9f9f4",
   "metadata": {},
   "outputs": [
    {
     "data": {
      "text/plain": [
       "{'a': 1, 'b': 2, 'c': 3}"
      ]
     },
     "execution_count": 332,
     "metadata": {},
     "output_type": "execute_result"
    }
   ],
   "source": [
    "dict(a=1,b=2,c=3)"
   ]
  },
  {
   "cell_type": "code",
   "execution_count": 333,
   "id": "46dc6e0b",
   "metadata": {},
   "outputs": [
    {
     "ename": "TypeError",
     "evalue": "unhashable type: 'list'",
     "output_type": "error",
     "traceback": [
      "\u001b[1;31m---------------------------------------------------------------------------\u001b[0m",
      "\u001b[1;31mTypeError\u001b[0m                                 Traceback (most recent call last)",
      "Input \u001b[1;32mIn [333]\u001b[0m, in \u001b[0;36m<cell line: 1>\u001b[1;34m()\u001b[0m\n\u001b[1;32m----> 1\u001b[0m d1\u001b[38;5;241m=\u001b[39m{\u001b[38;5;241m1\u001b[39m:\u001b[38;5;124m'\u001b[39m\u001b[38;5;124ma\u001b[39m\u001b[38;5;124m'\u001b[39m,[\u001b[38;5;124m'\u001b[39m\u001b[38;5;124mdata2\u001b[39m\u001b[38;5;124m'\u001b[39m]:\u001b[38;5;124m'\u001b[39m\u001b[38;5;124mb\u001b[39m\u001b[38;5;124m'\u001b[39m}\n",
      "\u001b[1;31mTypeError\u001b[0m: unhashable type: 'list'"
     ]
    }
   ],
   "source": [
    "d1={1:'a',['data2']:'b'}"
   ]
  },
  {
   "cell_type": "code",
   "execution_count": 334,
   "id": "0cd933b9",
   "metadata": {},
   "outputs": [],
   "source": [
    "d1={1:'a',('data2','data3'):'b,c'}"
   ]
  },
  {
   "cell_type": "code",
   "execution_count": 335,
   "id": "1cde489b",
   "metadata": {},
   "outputs": [
    {
     "data": {
      "text/plain": [
       "{1: 'a', ('data2', 'data3'): 'b,c'}"
      ]
     },
     "execution_count": 335,
     "metadata": {},
     "output_type": "execute_result"
    }
   ],
   "source": [
    "d1"
   ]
  },
  {
   "cell_type": "markdown",
   "id": "96f90fd4",
   "metadata": {},
   "source": [
    "# access the dict"
   ]
  },
  {
   "cell_type": "code",
   "execution_count": null,
   "id": "65b5ff8c",
   "metadata": {},
   "outputs": [],
   "source": [
    "# dict_name[key]"
   ]
  },
  {
   "cell_type": "code",
   "execution_count": 340,
   "id": "440a77aa",
   "metadata": {},
   "outputs": [],
   "source": [
    "std_dict={'name':'karthik','regno':1001,'age':25}"
   ]
  },
  {
   "cell_type": "code",
   "execution_count": 341,
   "id": "cffa2761",
   "metadata": {},
   "outputs": [
    {
     "data": {
      "text/plain": [
       "'karthik'"
      ]
     },
     "execution_count": 341,
     "metadata": {},
     "output_type": "execute_result"
    }
   ],
   "source": [
    "std_dict['name']"
   ]
  },
  {
   "cell_type": "code",
   "execution_count": 342,
   "id": "7a6319c0",
   "metadata": {},
   "outputs": [
    {
     "ename": "KeyError",
     "evalue": "0",
     "output_type": "error",
     "traceback": [
      "\u001b[1;31m---------------------------------------------------------------------------\u001b[0m",
      "\u001b[1;31mKeyError\u001b[0m                                  Traceback (most recent call last)",
      "Input \u001b[1;32mIn [342]\u001b[0m, in \u001b[0;36m<cell line: 1>\u001b[1;34m()\u001b[0m\n\u001b[1;32m----> 1\u001b[0m \u001b[43mstd_dict\u001b[49m\u001b[43m[\u001b[49m\u001b[38;5;241;43m0\u001b[39;49m\u001b[43m]\u001b[49m\n",
      "\u001b[1;31mKeyError\u001b[0m: 0"
     ]
    }
   ],
   "source": [
    "std_dict[0] # sequence index will not work"
   ]
  },
  {
   "cell_type": "code",
   "execution_count": null,
   "id": "8e2ffb5d",
   "metadata": {},
   "outputs": [],
   "source": [
    "# nested dict"
   ]
  },
  {
   "cell_type": "code",
   "execution_count": 336,
   "id": "09a580b4",
   "metadata": {},
   "outputs": [],
   "source": [
    "half={'q1':{1:'jan',2:'feb',3:'march'},'q2':{4:\"april\",5:'may',6:'june'}}"
   ]
  },
  {
   "cell_type": "code",
   "execution_count": 345,
   "id": "02ef9aa5",
   "metadata": {},
   "outputs": [
    {
     "data": {
      "text/plain": [
       "{4: 'april', 5: 'may', 6: 'june'}"
      ]
     },
     "execution_count": 345,
     "metadata": {},
     "output_type": "execute_result"
    }
   ],
   "source": [
    "half['q2']"
   ]
  },
  {
   "cell_type": "code",
   "execution_count": 346,
   "id": "70e53c60",
   "metadata": {},
   "outputs": [
    {
     "data": {
      "text/plain": [
       "'may'"
      ]
     },
     "execution_count": 346,
     "metadata": {},
     "output_type": "execute_result"
    }
   ],
   "source": [
    "half['q2'][5]"
   ]
  },
  {
   "cell_type": "markdown",
   "id": "28f75017",
   "metadata": {},
   "source": [
    "# add element / modify the element   / dict is mutable"
   ]
  },
  {
   "cell_type": "code",
   "execution_count": 354,
   "id": "eca2890a",
   "metadata": {},
   "outputs": [],
   "source": [
    "std_dict={'name':'karthik','regno':1001,'age':25}"
   ]
  },
  {
   "cell_type": "code",
   "execution_count": 355,
   "id": "37f9d6a6",
   "metadata": {},
   "outputs": [],
   "source": [
    "std_dict['email']='karthik@gmail.com'   # if key is not present create the elements"
   ]
  },
  {
   "cell_type": "code",
   "execution_count": 356,
   "id": "c004409c",
   "metadata": {},
   "outputs": [
    {
     "data": {
      "text/plain": [
       "{'name': 'karthik', 'regno': 1001, 'age': 25, 'email': 'karthik@gmail.com'}"
      ]
     },
     "execution_count": 356,
     "metadata": {},
     "output_type": "execute_result"
    }
   ],
   "source": [
    "std_dict"
   ]
  },
  {
   "cell_type": "code",
   "execution_count": 357,
   "id": "2e57624a",
   "metadata": {},
   "outputs": [],
   "source": [
    "std_dict['regno']=1010  # if key is present modify the element"
   ]
  },
  {
   "cell_type": "code",
   "execution_count": 359,
   "id": "59d6b8cc",
   "metadata": {},
   "outputs": [
    {
     "data": {
      "text/plain": [
       "{'name': 'karthik', 'regno': 1010, 'age': 25, 'email': 'karthik@gmail.com'}"
      ]
     },
     "execution_count": 359,
     "metadata": {},
     "output_type": "execute_result"
    }
   ],
   "source": [
    "std_dict"
   ]
  },
  {
   "cell_type": "code",
   "execution_count": 360,
   "id": "497bae9d",
   "metadata": {},
   "outputs": [],
   "source": [
    "d2=std_dict  # reference copy , not an value # alias problem "
   ]
  },
  {
   "cell_type": "code",
   "execution_count": 361,
   "id": "612f9d53",
   "metadata": {},
   "outputs": [
    {
     "name": "stdout",
     "output_type": "stream",
     "text": [
      "2668269998144 2668269998144\n"
     ]
    }
   ],
   "source": [
    "print(id(d2),id(std_dict))"
   ]
  },
  {
   "cell_type": "markdown",
   "id": "c6a90101",
   "metadata": {},
   "source": [
    "# bulit-in dict object methods"
   ]
  },
  {
   "cell_type": "code",
   "execution_count": 362,
   "id": "e5257869",
   "metadata": {},
   "outputs": [
    {
     "name": "stdout",
     "output_type": "stream",
     "text": [
      "['__class__', '__class_getitem__', '__contains__', '__delattr__', '__delitem__', '__dir__', '__doc__', '__eq__', '__format__', '__ge__', '__getattribute__', '__getitem__', '__gt__', '__hash__', '__init__', '__init_subclass__', '__ior__', '__iter__', '__le__', '__len__', '__lt__', '__ne__', '__new__', '__or__', '__reduce__', '__reduce_ex__', '__repr__', '__reversed__', '__ror__', '__setattr__', '__setitem__', '__sizeof__', '__str__', '__subclasshook__', 'clear', 'copy', 'fromkeys', 'get', 'items', 'keys', 'pop', 'popitem', 'setdefault', 'update', 'values']\n"
     ]
    }
   ],
   "source": [
    "print(dir(dict))"
   ]
  },
  {
   "cell_type": "code",
   "execution_count": 364,
   "id": "128b14a6",
   "metadata": {},
   "outputs": [
    {
     "name": "stdout",
     "output_type": "stream",
     "text": [
      "clear(),copy(),fromkeys(),get(),items(),keys(),pop(),popitem(),setdefault(),update(),values(),"
     ]
    }
   ],
   "source": [
    "for method in dir(dict):\n",
    "    if not method.endswith(\"__\"):\n",
    "        print(method,end=\"(),\")"
   ]
  },
  {
   "cell_type": "code",
   "execution_count": null,
   "id": "e157b26d",
   "metadata": {},
   "outputs": [],
   "source": []
  },
  {
   "cell_type": "code",
   "execution_count": null,
   "id": "ceda517d",
   "metadata": {},
   "outputs": [],
   "source": [
    "# keys()"
   ]
  },
  {
   "cell_type": "code",
   "execution_count": 365,
   "id": "1d6076f3",
   "metadata": {},
   "outputs": [],
   "source": [
    "std_dict={'name':'karthik','regno':1001,'age':25}"
   ]
  },
  {
   "cell_type": "code",
   "execution_count": 366,
   "id": "f7f5b005",
   "metadata": {},
   "outputs": [
    {
     "data": {
      "text/plain": [
       "dict_keys(['name', 'regno', 'age'])"
      ]
     },
     "execution_count": 366,
     "metadata": {},
     "output_type": "execute_result"
    }
   ],
   "source": [
    "std_dict.keys()"
   ]
  },
  {
   "cell_type": "code",
   "execution_count": null,
   "id": "ccf45a77",
   "metadata": {},
   "outputs": [],
   "source": [
    "#values()"
   ]
  },
  {
   "cell_type": "code",
   "execution_count": 367,
   "id": "120beb11",
   "metadata": {},
   "outputs": [
    {
     "data": {
      "text/plain": [
       "dict_values(['karthik', 1001, 25])"
      ]
     },
     "execution_count": 367,
     "metadata": {},
     "output_type": "execute_result"
    }
   ],
   "source": [
    "std_dict={'name':'karthik','regno':1001,'age':25}\n",
    "std_dict.values()"
   ]
  },
  {
   "cell_type": "code",
   "execution_count": null,
   "id": "3e55cd1f",
   "metadata": {},
   "outputs": [],
   "source": [
    "#items()"
   ]
  },
  {
   "cell_type": "code",
   "execution_count": 368,
   "id": "11441890",
   "metadata": {},
   "outputs": [
    {
     "data": {
      "text/plain": [
       "dict_items([('name', 'karthik'), ('regno', 1001), ('age', 25)])"
      ]
     },
     "execution_count": 368,
     "metadata": {},
     "output_type": "execute_result"
    }
   ],
   "source": [
    "std_dict={'name':'karthik','regno':1001,'age':25}\n",
    "std_dict.items()"
   ]
  },
  {
   "cell_type": "code",
   "execution_count": 369,
   "id": "24717fc1",
   "metadata": {},
   "outputs": [
    {
     "data": {
      "text/plain": [
       "1001"
      ]
     },
     "execution_count": 369,
     "metadata": {},
     "output_type": "execute_result"
    }
   ],
   "source": [
    "#get() \n",
    "std_dict={'name':'karthik','regno':1001,'age':25}\n",
    "std_dict.get('regno')  #std_dict['regno']"
   ]
  },
  {
   "cell_type": "code",
   "execution_count": null,
   "id": "352b80f8",
   "metadata": {},
   "outputs": [],
   "source": [
    "#update()"
   ]
  },
  {
   "cell_type": "code",
   "execution_count": 374,
   "id": "0cb93c1d",
   "metadata": {},
   "outputs": [],
   "source": [
    "std_dict={'name':'karthik','regno':1001,'age':25}\n",
    "std_dict.update(contact=999999454)"
   ]
  },
  {
   "cell_type": "code",
   "execution_count": 375,
   "id": "f2273a35",
   "metadata": {},
   "outputs": [
    {
     "data": {
      "text/plain": [
       "{'name': 'karthik', 'regno': 1001, 'age': 25, 'contact': 999999454}"
      ]
     },
     "execution_count": 375,
     "metadata": {},
     "output_type": "execute_result"
    }
   ],
   "source": [
    "std_dict"
   ]
  },
  {
   "cell_type": "code",
   "execution_count": null,
   "id": "22ce8cf8",
   "metadata": {},
   "outputs": [],
   "source": [
    "## pop(),popitem()"
   ]
  },
  {
   "cell_type": "code",
   "execution_count": 377,
   "id": "fb1383e0",
   "metadata": {},
   "outputs": [
    {
     "data": {
      "text/plain": [
       "999999454"
      ]
     },
     "execution_count": 377,
     "metadata": {},
     "output_type": "execute_result"
    }
   ],
   "source": [
    "std_dict.pop('contact')"
   ]
  },
  {
   "cell_type": "code",
   "execution_count": 378,
   "id": "015576fc",
   "metadata": {},
   "outputs": [
    {
     "data": {
      "text/plain": [
       "{'name': 'karthik', 'regno': 1001, 'age': 25}"
      ]
     },
     "execution_count": 378,
     "metadata": {},
     "output_type": "execute_result"
    }
   ],
   "source": [
    "std_dict"
   ]
  },
  {
   "cell_type": "code",
   "execution_count": 379,
   "id": "36ab25c7",
   "metadata": {},
   "outputs": [
    {
     "data": {
      "text/plain": [
       "('age', 25)"
      ]
     },
     "execution_count": 379,
     "metadata": {},
     "output_type": "execute_result"
    }
   ],
   "source": [
    "std_dict={'name':'karthik','regno':1001,'age':25}\n",
    "std_dict.popitem()"
   ]
  },
  {
   "cell_type": "code",
   "execution_count": null,
   "id": "38328eda",
   "metadata": {},
   "outputs": [],
   "source": [
    "# copy()-- to avoid alias problem "
   ]
  },
  {
   "cell_type": "code",
   "execution_count": 380,
   "id": "78a2c8b4",
   "metadata": {},
   "outputs": [
    {
     "name": "stdout",
     "output_type": "stream",
     "text": [
      "{'name': 'karthik', 'regno': 1001, 'age': 25} 2668271004224\n",
      "{'name': 'karthik', 'regno': 1001, 'age': 25} 2668269998848\n"
     ]
    }
   ],
   "source": [
    "std_dict={'name':'karthik','regno':1001,'age':25}\n",
    "d1=std_dict.copy() \n",
    "print(d1,id(d1))\n",
    "print(std_dict,id(std_dict))"
   ]
  },
  {
   "cell_type": "code",
   "execution_count": null,
   "id": "ed67e953",
   "metadata": {},
   "outputs": [],
   "source": [
    "#clear()"
   ]
  },
  {
   "cell_type": "code",
   "execution_count": 381,
   "id": "8e0ec0d8",
   "metadata": {},
   "outputs": [
    {
     "data": {
      "text/plain": [
       "{}"
      ]
     },
     "execution_count": 381,
     "metadata": {},
     "output_type": "execute_result"
    }
   ],
   "source": [
    "std_dict={'name':'karthik','regno':1001,'age':25}\n",
    "std_dict.clear()\n",
    "std_dict"
   ]
  },
  {
   "cell_type": "code",
   "execution_count": 382,
   "id": "29ed3448",
   "metadata": {},
   "outputs": [
    {
     "data": {
      "text/plain": [
       "{'name': 'saikiran', 'regno': 1001, 'age': 25}"
      ]
     },
     "execution_count": 382,
     "metadata": {},
     "output_type": "execute_result"
    }
   ],
   "source": [
    "std_dict={'name':'karthik','regno':1001,'age':25,'name':\"saikiran\"}\n",
    "std_dict"
   ]
  },
  {
   "cell_type": "code",
   "execution_count": null,
   "id": "f2741700",
   "metadata": {},
   "outputs": [],
   "source": [
    " # concatenate dict "
   ]
  },
  {
   "cell_type": "code",
   "execution_count": 395,
   "id": "0cefe80f",
   "metadata": {},
   "outputs": [
    {
     "data": {
      "text/plain": [
       "{'name': 'karthik', 'regno': 1001, 'contact': 5657567}"
      ]
     },
     "execution_count": 395,
     "metadata": {},
     "output_type": "execute_result"
    }
   ],
   "source": [
    "{'name':'karthik','regno':1001}|{'contact':5657567}  # concatenate dict "
   ]
  },
  {
   "cell_type": "code",
   "execution_count": null,
   "id": "8a8146c8",
   "metadata": {},
   "outputs": [],
   "source": []
  },
  {
   "cell_type": "code",
   "execution_count": null,
   "id": "11a44ee3",
   "metadata": {},
   "outputs": [],
   "source": []
  },
  {
   "cell_type": "code",
   "execution_count": null,
   "id": "3af9de67",
   "metadata": {},
   "outputs": [],
   "source": []
  },
  {
   "cell_type": "markdown",
   "id": "3d73f47a",
   "metadata": {},
   "source": [
    "# set"
   ]
  },
  {
   "attachments": {
    "image.png": {
     "image/png": "[encoded data removed]"
    }
   },
   "cell_type": "markdown",
   "id": "273a6289",
   "metadata": {},
   "source": [
    "![image.png](attachment:image.png)"
   ]
  },
  {
   "cell_type": "code",
   "execution_count": 383,
   "id": "d8db773e",
   "metadata": {},
   "outputs": [],
   "source": [
    "s1={10,20,30,10,20,40}"
   ]
  },
  {
   "cell_type": "code",
   "execution_count": 384,
   "id": "08cf0b0b",
   "metadata": {},
   "outputs": [
    {
     "data": {
      "text/plain": [
       "{10, 20, 30, 40}"
      ]
     },
     "execution_count": 384,
     "metadata": {},
     "output_type": "execute_result"
    }
   ],
   "source": [
    "s1"
   ]
  },
  {
   "cell_type": "code",
   "execution_count": 386,
   "id": "87cc8136",
   "metadata": {},
   "outputs": [
    {
     "data": {
      "text/plain": [
       "{'b', 'd', 'e', 'g', 'i', 'r', 'u'}"
      ]
     },
     "execution_count": 386,
     "metadata": {},
     "output_type": "execute_result"
    }
   ],
   "source": [
    "set(\"edubridge\")"
   ]
  },
  {
   "cell_type": "code",
   "execution_count": null,
   "id": "df174c6e",
   "metadata": {},
   "outputs": [],
   "source": [
    "# set  can not access  the elements"
   ]
  },
  {
   "cell_type": "code",
   "execution_count": 388,
   "id": "3ee06b21",
   "metadata": {},
   "outputs": [
    {
     "ename": "TypeError",
     "evalue": "'set' object is not subscriptable",
     "output_type": "error",
     "traceback": [
      "\u001b[1;31m---------------------------------------------------------------------------\u001b[0m",
      "\u001b[1;31mTypeError\u001b[0m                                 Traceback (most recent call last)",
      "Input \u001b[1;32mIn [388]\u001b[0m, in \u001b[0;36m<cell line: 2>\u001b[1;34m()\u001b[0m\n\u001b[0;32m      1\u001b[0m s1\u001b[38;5;241m=\u001b[39m{\u001b[38;5;241m10\u001b[39m,\u001b[38;5;241m20\u001b[39m,\u001b[38;5;241m30\u001b[39m,\u001b[38;5;241m10\u001b[39m,\u001b[38;5;241m20\u001b[39m,\u001b[38;5;241m40\u001b[39m}\n\u001b[1;32m----> 2\u001b[0m \u001b[43ms1\u001b[49m\u001b[43m[\u001b[49m\u001b[38;5;241;43m10\u001b[39;49m\u001b[43m]\u001b[49m\n",
      "\u001b[1;31mTypeError\u001b[0m: 'set' object is not subscriptable"
     ]
    }
   ],
   "source": [
    "s1={10,20,30,10,20,40}\n",
    "s1[10]"
   ]
  },
  {
   "cell_type": "markdown",
   "id": "6611fa73",
   "metadata": {},
   "source": [
    "# Set Operation"
   ]
  },
  {
   "cell_type": "code",
   "execution_count": 390,
   "id": "98fb2553",
   "metadata": {},
   "outputs": [
    {
     "data": {
      "text/plain": [
       "{2, 7}"
      ]
     },
     "execution_count": 390,
     "metadata": {},
     "output_type": "execute_result"
    }
   ],
   "source": [
    "s1={1,2,5,6,7}\n",
    "s2={2,3,4,7}\n",
    "s1&s2  #s1ands2- intersection"
   ]
  },
  {
   "cell_type": "code",
   "execution_count": 391,
   "id": "81cb133f",
   "metadata": {},
   "outputs": [
    {
     "data": {
      "text/plain": [
       "{1, 2, 3, 4, 5, 6, 7}"
      ]
     },
     "execution_count": 391,
     "metadata": {},
     "output_type": "execute_result"
    }
   ],
   "source": [
    "s1={1,2,5,6,7}\n",
    "s2={2,3,4,7}\n",
    "s1|s2  #s1ors2- union"
   ]
  },
  {
   "cell_type": "code",
   "execution_count": 392,
   "id": "0905d70c",
   "metadata": {},
   "outputs": [
    {
     "data": {
      "text/plain": [
       "{1, 5, 6}"
      ]
     },
     "execution_count": 392,
     "metadata": {},
     "output_type": "execute_result"
    }
   ],
   "source": [
    "s1={1,2,5,6,7}\n",
    "s2={2,3,4,7}\n",
    "s1-s2 # set difference"
   ]
  },
  {
   "cell_type": "code",
   "execution_count": 393,
   "id": "7a901e42",
   "metadata": {},
   "outputs": [
    {
     "data": {
      "text/plain": [
       "{3, 4}"
      ]
     },
     "execution_count": 393,
     "metadata": {},
     "output_type": "execute_result"
    }
   ],
   "source": [
    "s1={1,2,5,6,7}\n",
    "s2={2,3,4,7}\n",
    "s2-s1 # set difference"
   ]
  },
  {
   "cell_type": "code",
   "execution_count": 394,
   "id": "b3912f90",
   "metadata": {},
   "outputs": [
    {
     "data": {
      "text/plain": [
       "{1, 3, 4, 5, 6}"
      ]
     },
     "execution_count": 394,
     "metadata": {},
     "output_type": "execute_result"
    }
   ],
   "source": [
    "s1={1,2,5,6,7}\n",
    "s2={2,3,4,7}\n",
    "s2^s1 # set symmetric diffrence"
   ]
  },
  {
   "cell_type": "code",
   "execution_count": 396,
   "id": "9b760389",
   "metadata": {},
   "outputs": [
    {
     "name": "stdout",
     "output_type": "stream",
     "text": [
      "add(),clear(),copy(),difference(),difference_update(),discard(),intersection(),intersection_update(),isdisjoint(),issubset(),issuperset(),pop(),remove(),symmetric_difference(),symmetric_difference_update(),union(),update(),"
     ]
    }
   ],
   "source": [
    "# set object - Built -in methods\n",
    "for method in dir(set):\n",
    "    if not method.endswith(\"__\"):\n",
    "        print(method,end=\"(),\")"
   ]
  },
  {
   "cell_type": "code",
   "execution_count": null,
   "id": "b1cf5e1d",
   "metadata": {},
   "outputs": [],
   "source": [
    "#difference()"
   ]
  },
  {
   "cell_type": "code",
   "execution_count": 401,
   "id": "6c6337b4",
   "metadata": {},
   "outputs": [
    {
     "data": {
      "text/plain": [
       "{1, 5, 6}"
      ]
     },
     "execution_count": 401,
     "metadata": {},
     "output_type": "execute_result"
    }
   ],
   "source": [
    "s1={1,2,5,6,7}\n",
    "s2={2,3,4,7}\n",
    "s1.difference(s2) # set difference #s1-s2"
   ]
  },
  {
   "cell_type": "code",
   "execution_count": null,
   "id": "fac0abb8",
   "metadata": {},
   "outputs": [],
   "source": [
    "#difference_update()"
   ]
  },
  {
   "cell_type": "code",
   "execution_count": 407,
   "id": "8a7e091c",
   "metadata": {},
   "outputs": [
    {
     "data": {
      "text/plain": [
       "{1, 5, 6}"
      ]
     },
     "execution_count": 407,
     "metadata": {},
     "output_type": "execute_result"
    }
   ],
   "source": [
    "s1={1,2,5,6,7}\n",
    "s2={2,3,4,7}\n",
    "s1.difference_update(s2) # set difference #s1-s2 and updated in s1 memory\n",
    "s1"
   ]
  },
  {
   "cell_type": "code",
   "execution_count": null,
   "id": "f773aab5",
   "metadata": {},
   "outputs": [],
   "source": []
  },
  {
   "cell_type": "code",
   "execution_count": 408,
   "id": "1f15362c",
   "metadata": {},
   "outputs": [
    {
     "data": {
      "text/plain": [
       "False"
      ]
     },
     "execution_count": 408,
     "metadata": {},
     "output_type": "execute_result"
    }
   ],
   "source": [
    "s1={1,2,5,6,7}\n",
    "s2={2,3,4,7}\n",
    "s1.isdisjoint(s2)"
   ]
  },
  {
   "cell_type": "code",
   "execution_count": 409,
   "id": "954a2c50",
   "metadata": {},
   "outputs": [
    {
     "data": {
      "text/plain": [
       "True"
      ]
     },
     "execution_count": 409,
     "metadata": {},
     "output_type": "execute_result"
    }
   ],
   "source": [
    "s1={1,2,5,6,7}\n",
    "s2={3,4}\n",
    "s1.isdisjoint(s2)"
   ]
  },
  {
   "cell_type": "code",
   "execution_count": null,
   "id": "dbe630ef",
   "metadata": {},
   "outputs": [],
   "source": [
    "#issubset(),issuperset()"
   ]
  },
  {
   "cell_type": "code",
   "execution_count": 415,
   "id": "87254767",
   "metadata": {},
   "outputs": [
    {
     "data": {
      "text/plain": [
       "True"
      ]
     },
     "execution_count": 415,
     "metadata": {},
     "output_type": "execute_result"
    }
   ],
   "source": [
    "s1={1,2,5,6,7}\n",
    "s2={2,5}\n",
    "s2.issubset(s1)"
   ]
  },
  {
   "cell_type": "code",
   "execution_count": 416,
   "id": "bcd9e37a",
   "metadata": {},
   "outputs": [
    {
     "data": {
      "text/plain": [
       "True"
      ]
     },
     "execution_count": 416,
     "metadata": {},
     "output_type": "execute_result"
    }
   ],
   "source": [
    "s1.issuperset(s2)"
   ]
  },
  {
   "cell_type": "code",
   "execution_count": null,
   "id": "6b15b929",
   "metadata": {},
   "outputs": [],
   "source": [
    "#update()  "
   ]
  },
  {
   "cell_type": "code",
   "execution_count": 418,
   "id": "83c30a8a",
   "metadata": {},
   "outputs": [],
   "source": [
    "s1={1,2,5,6,7}\n",
    "s1.update({3,4}) # set is mutable"
   ]
  },
  {
   "cell_type": "code",
   "execution_count": 419,
   "id": "fd5bb612",
   "metadata": {},
   "outputs": [
    {
     "data": {
      "text/plain": [
       "{1, 2, 3, 4, 5, 6, 7}"
      ]
     },
     "execution_count": 419,
     "metadata": {},
     "output_type": "execute_result"
    }
   ],
   "source": [
    "s1"
   ]
  },
  {
   "cell_type": "code",
   "execution_count": null,
   "id": "9040d3a4",
   "metadata": {},
   "outputs": [],
   "source": [
    "#add()"
   ]
  },
  {
   "cell_type": "code",
   "execution_count": 421,
   "id": "de3c46d5",
   "metadata": {},
   "outputs": [
    {
     "data": {
      "text/plain": [
       "{1, 2, 5, 6, 7, 'a'}"
      ]
     },
     "execution_count": 421,
     "metadata": {},
     "output_type": "execute_result"
    }
   ],
   "source": [
    "s1={1,2,5,6,7}\n",
    "s1.add('a')\n",
    "s1"
   ]
  },
  {
   "cell_type": "code",
   "execution_count": null,
   "id": "633c901c",
   "metadata": {},
   "outputs": [],
   "source": []
  },
  {
   "cell_type": "code",
   "execution_count": null,
   "id": "e981dd9d",
   "metadata": {},
   "outputs": [],
   "source": [
    "#pop(),remove()"
   ]
  },
  {
   "cell_type": "code",
   "execution_count": 422,
   "id": "15aaed60",
   "metadata": {},
   "outputs": [
    {
     "data": {
      "text/plain": [
       "1"
      ]
     },
     "execution_count": 422,
     "metadata": {},
     "output_type": "execute_result"
    }
   ],
   "source": [
    "s1={1,2,5,6,7}\n",
    "s1.pop() #Remove and return an arbitrary set element."
   ]
  },
  {
   "cell_type": "code",
   "execution_count": 423,
   "id": "88d5d1f7",
   "metadata": {},
   "outputs": [
    {
     "data": {
      "text/plain": [
       "{2, 5, 6, 7}"
      ]
     },
     "execution_count": 423,
     "metadata": {},
     "output_type": "execute_result"
    }
   ],
   "source": [
    "s1"
   ]
  },
  {
   "cell_type": "code",
   "execution_count": 424,
   "id": "1885bb1a",
   "metadata": {},
   "outputs": [],
   "source": [
    "s1={1,2,5,6,7}\n",
    "s1.remove(5)"
   ]
  },
  {
   "cell_type": "code",
   "execution_count": 425,
   "id": "38aa92e1",
   "metadata": {},
   "outputs": [
    {
     "data": {
      "text/plain": [
       "{1, 2, 6, 7}"
      ]
     },
     "execution_count": 425,
     "metadata": {},
     "output_type": "execute_result"
    }
   ],
   "source": [
    "s1"
   ]
  },
  {
   "cell_type": "code",
   "execution_count": null,
   "id": "3fc38460",
   "metadata": {},
   "outputs": [],
   "source": []
  },
  {
   "cell_type": "markdown",
   "id": "421f3174",
   "metadata": {},
   "source": [
    "# frozenset"
   ]
  },
  {
   "cell_type": "code",
   "execution_count": 426,
   "id": "160ca413",
   "metadata": {},
   "outputs": [],
   "source": [
    "fs1=frozenset([1,2,4,5,6])"
   ]
  },
  {
   "cell_type": "code",
   "execution_count": 427,
   "id": "89ed8e1c",
   "metadata": {},
   "outputs": [
    {
     "data": {
      "text/plain": [
       "frozenset({1, 2, 4, 5, 6})"
      ]
     },
     "execution_count": 427,
     "metadata": {},
     "output_type": "execute_result"
    }
   ],
   "source": [
    "fs1"
   ]
  },
  {
   "cell_type": "code",
   "execution_count": 428,
   "id": "9a2d0c62",
   "metadata": {},
   "outputs": [
    {
     "name": "stdout",
     "output_type": "stream",
     "text": [
      "frozenset({1, 2, 4, 5, 6})\n"
     ]
    }
   ],
   "source": [
    "print(fs1)"
   ]
  },
  {
   "cell_type": "code",
   "execution_count": 429,
   "id": "eb1b9225",
   "metadata": {},
   "outputs": [],
   "source": [
    "std_dict={'name':'karthik','regno':1001,'age':25}"
   ]
  },
  {
   "cell_type": "code",
   "execution_count": 431,
   "id": "d32f3f92",
   "metadata": {},
   "outputs": [
    {
     "data": {
      "text/plain": [
       "frozenset({'age', 'name', 'regno'})"
      ]
     },
     "execution_count": 431,
     "metadata": {},
     "output_type": "execute_result"
    }
   ],
   "source": [
    "fs2=frozenset(std_dict)\n",
    "fs2"
   ]
  },
  {
   "cell_type": "code",
   "execution_count": 432,
   "id": "e40b9c0c",
   "metadata": {},
   "outputs": [
    {
     "data": {
      "text/plain": [
       "frozenset({'b', 'd', 'e', 'g', 'i', 'r', 'u'})"
      ]
     },
     "execution_count": 432,
     "metadata": {},
     "output_type": "execute_result"
    }
   ],
   "source": [
    "fs3=frozenset('edubridge')\n",
    "fs3"
   ]
  },
  {
   "cell_type": "code",
   "execution_count": 433,
   "id": "04c5ca73",
   "metadata": {},
   "outputs": [
    {
     "data": {
      "text/plain": [
       "frozenset({1, 2, 5, 6, 7})"
      ]
     },
     "execution_count": 433,
     "metadata": {},
     "output_type": "execute_result"
    }
   ],
   "source": [
    "s1={1,2,5,6,7}\n",
    "fs4=frozenset(s1)\n",
    "fs4"
   ]
  },
  {
   "cell_type": "code",
   "execution_count": null,
   "id": "0661336b",
   "metadata": {},
   "outputs": [],
   "source": [
    "#frozenset Opeartion"
   ]
  },
  {
   "cell_type": "code",
   "execution_count": 441,
   "id": "1bf705b9",
   "metadata": {},
   "outputs": [
    {
     "data": {
      "text/plain": [
       "frozenset({2, 7})"
      ]
     },
     "execution_count": 441,
     "metadata": {},
     "output_type": "execute_result"
    }
   ],
   "source": [
    "fs1=frozenset({1,2,5,6,7})\n",
    "fs2=frozenset({2,3,4,7})\n",
    "fs1&fs2  #s1ands2- intersection"
   ]
  },
  {
   "cell_type": "code",
   "execution_count": 437,
   "id": "e9ea2bf0",
   "metadata": {},
   "outputs": [
    {
     "name": "stdout",
     "output_type": "stream",
     "text": [
      "<class 'frozenset'>\n"
     ]
    }
   ],
   "source": [
    "print(type(fs1))"
   ]
  },
  {
   "cell_type": "markdown",
   "id": "c091f0ee",
   "metadata": {},
   "source": [
    "# built-in methods for frozenset object"
   ]
  },
  {
   "cell_type": "code",
   "execution_count": 455,
   "id": "16901820",
   "metadata": {},
   "outputs": [
    {
     "name": "stdout",
     "output_type": "stream",
     "text": [
      "copy(),difference(),intersection(),isdisjoint(),issubset(),issuperset(),symmetric_difference(),union(),"
     ]
    }
   ],
   "source": [
    "for method in dir(frozenset):\n",
    "    if not method.startswith(\"__\"):\n",
    "        print(method,end=\"(),\")"
   ]
  },
  {
   "cell_type": "code",
   "execution_count": 456,
   "id": "925cafad",
   "metadata": {},
   "outputs": [
    {
     "data": {
      "text/plain": [
       "frozenset({1, 2, 3, 4, 5, 6, 7})"
      ]
     },
     "execution_count": 456,
     "metadata": {},
     "output_type": "execute_result"
    }
   ],
   "source": [
    "fs1=frozenset({1,2,5,6,7})\n",
    "fs2=frozenset({2,3,4,7})\n",
    "fs1.union(fs2)"
   ]
  },
  {
   "cell_type": "markdown",
   "id": "c002e3b4",
   "metadata": {},
   "source": [
    "# boolean type"
   ]
  },
  {
   "cell_type": "code",
   "execution_count": 467,
   "id": "dba2afaf",
   "metadata": {},
   "outputs": [
    {
     "data": {
      "text/plain": [
       "False"
      ]
     },
     "execution_count": 467,
     "metadata": {},
     "output_type": "execute_result"
    }
   ],
   "source": [
    "bool(0)"
   ]
  },
  {
   "cell_type": "code",
   "execution_count": 459,
   "id": "d1d7c81e",
   "metadata": {},
   "outputs": [
    {
     "data": {
      "text/plain": [
       "True"
      ]
     },
     "execution_count": 459,
     "metadata": {},
     "output_type": "execute_result"
    }
   ],
   "source": [
    "bool(1) # all non zero , non empty data, non None data is True "
   ]
  },
  {
   "cell_type": "code",
   "execution_count": 462,
   "id": "80256b17",
   "metadata": {},
   "outputs": [
    {
     "data": {
      "text/plain": [
       "False"
      ]
     },
     "execution_count": 462,
     "metadata": {},
     "output_type": "execute_result"
    }
   ],
   "source": [
    "bool('')  # empty str"
   ]
  },
  {
   "cell_type": "code",
   "execution_count": 463,
   "id": "ad030c8b",
   "metadata": {},
   "outputs": [
    {
     "data": {
      "text/plain": [
       "False"
      ]
     },
     "execution_count": 463,
     "metadata": {},
     "output_type": "execute_result"
    }
   ],
   "source": [
    "bool([]) #empty list"
   ]
  },
  {
   "cell_type": "code",
   "execution_count": 464,
   "id": "80d48641",
   "metadata": {},
   "outputs": [
    {
     "data": {
      "text/plain": [
       "False"
      ]
     },
     "execution_count": 464,
     "metadata": {},
     "output_type": "execute_result"
    }
   ],
   "source": [
    "bool(()) #empty tuple"
   ]
  },
  {
   "cell_type": "code",
   "execution_count": 476,
   "id": "cf60ef1e",
   "metadata": {},
   "outputs": [
    {
     "data": {
      "text/plain": [
       "False"
      ]
     },
     "execution_count": 476,
     "metadata": {},
     "output_type": "execute_result"
    }
   ],
   "source": [
    "bool(None)"
   ]
  },
  {
   "cell_type": "code",
   "execution_count": 468,
   "id": "1132b45b",
   "metadata": {},
   "outputs": [
    {
     "data": {
      "text/plain": [
       "True"
      ]
     },
     "execution_count": 468,
     "metadata": {},
     "output_type": "execute_result"
    }
   ],
   "source": [
    "2<12"
   ]
  },
  {
   "cell_type": "code",
   "execution_count": 469,
   "id": "add2540f",
   "metadata": {},
   "outputs": [],
   "source": [
    "a=True"
   ]
  },
  {
   "cell_type": "code",
   "execution_count": 470,
   "id": "79701312",
   "metadata": {},
   "outputs": [
    {
     "data": {
      "text/plain": [
       "True"
      ]
     },
     "execution_count": 470,
     "metadata": {},
     "output_type": "execute_result"
    }
   ],
   "source": [
    "a"
   ]
  },
  {
   "cell_type": "code",
   "execution_count": 471,
   "id": "96dc222d",
   "metadata": {},
   "outputs": [
    {
     "name": "stdout",
     "output_type": "stream",
     "text": [
      "<class 'bool'>\n"
     ]
    }
   ],
   "source": [
    "print(type(a))"
   ]
  },
  {
   "cell_type": "code",
   "execution_count": 475,
   "id": "d46e289e",
   "metadata": {},
   "outputs": [
    {
     "name": "stdout",
     "output_type": "stream",
     "text": [
      "['__abs__', '__add__', '__and__', '__bool__', '__ceil__', '__class__', '__delattr__', '__dir__', '__divmod__', '__doc__', '__eq__', '__float__', '__floor__', '__floordiv__', '__format__', '__ge__', '__getattribute__', '__getnewargs__', '__gt__', '__hash__', '__index__', '__init__', '__init_subclass__', '__int__', '__invert__', '__le__', '__lshift__', '__lt__', '__mod__', '__mul__', '__ne__', '__neg__', '__new__', '__or__', '__pos__', '__pow__', '__radd__', '__rand__', '__rdivmod__', '__reduce__', '__reduce_ex__', '__repr__', '__rfloordiv__', '__rlshift__', '__rmod__', '__rmul__', '__ror__', '__round__', '__rpow__', '__rrshift__', '__rshift__', '__rsub__', '__rtruediv__', '__rxor__', '__setattr__', '__sizeof__', '__str__', '__sub__', '__subclasshook__', '__truediv__', '__trunc__', '__xor__', 'as_integer_ratio', 'bit_length', 'conjugate', 'denominator', 'from_bytes', 'imag', 'numerator', 'real', 'to_bytes']\n"
     ]
    }
   ],
   "source": [
    "print(dir(bool))"
   ]
  },
  {
   "cell_type": "markdown",
   "id": "1fdceb1f",
   "metadata": {},
   "source": [
    "# None type"
   ]
  },
  {
   "cell_type": "code",
   "execution_count": 473,
   "id": "20315711",
   "metadata": {},
   "outputs": [],
   "source": [
    "x=None"
   ]
  },
  {
   "cell_type": "code",
   "execution_count": 474,
   "id": "e8eaf42c",
   "metadata": {},
   "outputs": [
    {
     "name": "stdout",
     "output_type": "stream",
     "text": [
      "<class 'NoneType'>\n"
     ]
    }
   ],
   "source": [
    "print(type(x))"
   ]
  },
  {
   "cell_type": "markdown",
   "id": "cae4069a",
   "metadata": {},
   "source": [
    "# Operators"
   ]
  },
  {
   "cell_type": "markdown",
   "id": "242b44c5",
   "metadata": {},
   "source": [
    "Get the  user input for num1, num2 and print the addition of num1+num2"
   ]
  },
  {
   "cell_type": "code",
   "execution_count": 478,
   "id": "fd19611b",
   "metadata": {},
   "outputs": [
    {
     "name": "stdout",
     "output_type": "stream",
     "text": [
      "enter the value86\n",
      "enter the value12\n",
      "98\n"
     ]
    }
   ],
   "source": [
    "num1=int(input(\"enter the value\"))\n",
    "num2=int(input(\"enter the value\"))\n",
    "add=num1+num2\n",
    "print(add)\n"
   ]
  },
  {
   "cell_type": "code",
   "execution_count": 477,
   "id": "b62022ae",
   "metadata": {},
   "outputs": [
    {
     "name": "stdout",
     "output_type": "stream",
     "text": [
      "enter no 145\n",
      "enter no 255\n",
      "100\n"
     ]
    }
   ],
   "source": [
    "a=int(input('enter no 1'))\n",
    "b=int(input('enter no 2'))\n",
    "c=a+b\n",
    "print(c)\n"
   ]
  },
  {
   "cell_type": "code",
   "execution_count": 479,
   "id": "560d0b12",
   "metadata": {},
   "outputs": [
    {
     "name": "stdout",
     "output_type": "stream",
     "text": [
      "Enter first number!: 52\n",
      "Enter second number!: 12\n",
      "The sum is 64\n"
     ]
    }
   ],
   "source": [
    "a=int(input(\"Enter first number!: \"))\n",
    "b=int(input(\"Enter second number!: \"))\n",
    "print(f\"The sum is {a+b}\")\n"
   ]
  },
  {
   "cell_type": "code",
   "execution_count": null,
   "id": "eadeaed5",
   "metadata": {},
   "outputs": [],
   "source": [
    "# power of num1 with num2"
   ]
  },
  {
   "cell_type": "code",
   "execution_count": 480,
   "id": "b6b4cfcb",
   "metadata": {},
   "outputs": [
    {
     "name": "stdout",
     "output_type": "stream",
     "text": [
      "enter the value2\n",
      "enter the value3\n",
      "8\n"
     ]
    }
   ],
   "source": [
    "num1=int(input(\"enter the value\"))\n",
    "num2=int(input(\"enter the value\"))\n",
    "pow=num1**num2\n",
    "print(pow)\n"
   ]
  },
  {
   "cell_type": "code",
   "execution_count": null,
   "id": "a9320ba4",
   "metadata": {},
   "outputs": [],
   "source": [
    "# reminder of the num1 with num2"
   ]
  },
  {
   "cell_type": "code",
   "execution_count": 481,
   "id": "eb7f369c",
   "metadata": {},
   "outputs": [
    {
     "name": "stdout",
     "output_type": "stream",
     "text": [
      "enter the value10\n",
      "enter the value3\n",
      "1\n"
     ]
    }
   ],
   "source": [
    "num1=int(input(\"enter the value\"))\n",
    "num2=int(input(\"enter the value\"))\n",
    "mod_div=num1%num2\n",
    "print(mod_div)"
   ]
  },
  {
   "cell_type": "markdown",
   "id": "24acb29b",
   "metadata": {},
   "source": [
    "# Relationship Operator"
   ]
  },
  {
   "attachments": {
    "image-2.png": {
     "image/png": "[encoded data removed]"
    }
   },
   "cell_type": "markdown",
   "id": "d4458adb",
   "metadata": {},
   "source": [
    "![image-2.png](attachment:image-2.png)"
   ]
  },
  {
   "cell_type": "code",
   "execution_count": 487,
   "id": "1cecfaed",
   "metadata": {},
   "outputs": [
    {
     "name": "stdout",
     "output_type": "stream",
     "text": [
      "enter Your age18\n",
      "You are elgible for voting\n"
     ]
    }
   ],
   "source": [
    "age=int(input(\"enter Your age\"))\n",
    "if age>=18:\n",
    "    print(\"You are elgible for voting\")\n",
    "else:\n",
    "    print(\"You are NOT elgible for voting\")"
   ]
  },
  {
   "cell_type": "markdown",
   "id": "3df051f2",
   "metadata": {},
   "source": [
    "# logical operator"
   ]
  },
  {
   "attachments": {
    "image.png": {
     "image/png": "[encoded data removed]"
    }
   },
   "cell_type": "markdown",
   "id": "8c343386",
   "metadata": {},
   "source": [
    "![image.png](attachment:image.png)"
   ]
  },
  {
   "cell_type": "code",
   "execution_count": null,
   "id": "fd962c56",
   "metadata": {},
   "outputs": [],
   "source": [
    "if age>=18 and citizenship='indian':\n",
    "    "
   ]
  },
  {
   "cell_type": "code",
   "execution_count": 4,
   "id": "421d65b1",
   "metadata": {},
   "outputs": [
    {
     "name": "stdout",
     "output_type": "stream",
     "text": [
      "Enter age:12\n",
      "Enter Citizenship:india\n",
      "not eligible\n"
     ]
    }
   ],
   "source": [
    "age=int(input(\"Enter age:\"))\n",
    "citizenship=input(\"Enter Citizenship:\")\n",
    "if age>=18 and citizenship=='india':\n",
    "    print(\"you are eligible\")\n",
    "else:\n",
    "     print(\"not eligible\")\n"
   ]
  },
  {
   "cell_type": "code",
   "execution_count": 8,
   "id": "4c935ed1",
   "metadata": {},
   "outputs": [
    {
     "name": "stdout",
     "output_type": "stream",
     "text": [
      "Enter your gender:femal\n",
      "Enter profession:student\n",
      "eligible to get 20% discount\n"
     ]
    }
   ],
   "source": [
    "gender=input(\"Enter your gender:\")\n",
    "profession=input(\"Enter profession:\")\n",
    "if gender=='femal' or profession=='student':\n",
    "    print(\"eligible to get 20% discount\")\n",
    "else:\n",
    "    print(\"Not eligible\")\n",
    "    "
   ]
  },
  {
   "cell_type": "code",
   "execution_count": 11,
   "id": "b96de4d1",
   "metadata": {},
   "outputs": [
    {
     "name": "stdout",
     "output_type": "stream",
     "text": [
      "enter your number45\n",
      "not an even numvber\n"
     ]
    }
   ],
   "source": [
    "num=int(input(('enter your number')))\n",
    "if not num%2==0:\n",
    "    print(\"not an even numvber\")"
   ]
  },
  {
   "cell_type": "code",
   "execution_count": 12,
   "id": "494004af",
   "metadata": {},
   "outputs": [
    {
     "data": {
      "text/plain": [
       "False"
      ]
     },
     "execution_count": 12,
     "metadata": {},
     "output_type": "execute_result"
    }
   ],
   "source": [
    "not True"
   ]
  },
  {
   "cell_type": "markdown",
   "id": "16c94726",
   "metadata": {},
   "source": [
    "# membership Operators"
   ]
  },
  {
   "cell_type": "code",
   "execution_count": null,
   "id": "e0835e8e",
   "metadata": {},
   "outputs": [],
   "source": [
    "# in , not in "
   ]
  },
  {
   "cell_type": "code",
   "execution_count": 13,
   "id": "a8e4f7f4",
   "metadata": {},
   "outputs": [],
   "source": [
    "dict_aisle = { \"A100\": ['bananas', 'milk', 'bread'],\n",
    "                      \"A101\": ['pens', 'pencils', 'paper'],\n",
    "                      \"A102\": ['canned_peas', 'canned_carrots', 'canned_beans'],\n",
    "                      \"A103\": ['plates', 'glasses', 'table_cloth']\n",
    "                    }"
   ]
  },
  {
   "cell_type": "markdown",
   "id": "f0c2cf59",
   "metadata": {},
   "source": [
    "check in asile A100, whether  product milk is present or not?"
   ]
  },
  {
   "cell_type": "code",
   "execution_count": 16,
   "id": "9d6ebb94",
   "metadata": {},
   "outputs": [
    {
     "data": {
      "text/plain": [
       "True"
      ]
     },
     "execution_count": 16,
     "metadata": {},
     "output_type": "execute_result"
    }
   ],
   "source": [
    "'milk' in dict_aisle[\"A100\"]"
   ]
  },
  {
   "cell_type": "code",
   "execution_count": 19,
   "id": "f11b494b",
   "metadata": {},
   "outputs": [
    {
     "name": "stdout",
     "output_type": "stream",
     "text": [
      "Enter Your Product:paper\n",
      "enter Your asile:A101\n",
      "The product:paper is avilable in the asileNo:A101\n"
     ]
    }
   ],
   "source": [
    "dict_aisle = { \"A100\": ['bananas', 'milk', 'bread'],\n",
    "                      \"A101\": ['pens', 'pencils', 'paper'],\n",
    "                      \"A102\": ['canned_peas', 'canned_carrots', 'canned_beans'],\n",
    "                      \"A103\": ['plates', 'glasses', 'table_cloth']\n",
    "                    }\n",
    "product=input(\"Enter Your Product:\")\n",
    "aisle_no=input(\"enter Your asile:\")\n",
    "if product in dict_aisle[aisle_no]:\n",
    "    print(f\"The product:{product} is avilable in the asileNo:{aisle_no}\")"
   ]
  },
  {
   "cell_type": "code",
   "execution_count": 25,
   "id": "478867e0",
   "metadata": {},
   "outputs": [
    {
     "name": "stdout",
     "output_type": "stream",
     "text": [
      "enter Your asile:A106\n",
      "available\n"
     ]
    }
   ],
   "source": [
    "aisle_no=input(\"enter Your asile:\")\n",
    "if asile_no not in dict_aisle:\n",
    "    print(\"not available\")\n",
    "else:\n",
    "    print(\"available\")"
   ]
  },
  {
   "cell_type": "markdown",
   "id": "1e226972",
   "metadata": {},
   "source": [
    "# Bitwise Operator"
   ]
  },
  {
   "cell_type": "markdown",
   "id": "db4e1428",
   "metadata": {},
   "source": [
    "In the table below: Let x = 10 (0000 1010 in binary) and y = 4 (0000 0100 in binary)"
   ]
  },
  {
   "attachments": {
    "image-2.png": {
     "image/png": "[encoded data removed]"
    }
   },
   "cell_type": "markdown",
   "id": "01666f7b",
   "metadata": {},
   "source": [
    "![image-2.png](attachment:image-2.png)"
   ]
  },
  {
   "cell_type": "code",
   "execution_count": 27,
   "id": "1d48c6e4",
   "metadata": {},
   "outputs": [
    {
     "data": {
      "text/plain": [
       "'0b1010'"
      ]
     },
     "execution_count": 27,
     "metadata": {},
     "output_type": "execute_result"
    }
   ],
   "source": [
    "x=10\n",
    "bin(x)"
   ]
  },
  {
   "cell_type": "code",
   "execution_count": 28,
   "id": "5f1adf52",
   "metadata": {},
   "outputs": [
    {
     "data": {
      "text/plain": [
       "'0b100'"
      ]
     },
     "execution_count": 28,
     "metadata": {},
     "output_type": "execute_result"
    }
   ],
   "source": [
    "y=4\n",
    "bin(y)"
   ]
  },
  {
   "cell_type": "code",
   "execution_count": 31,
   "id": "d4e21b09",
   "metadata": {},
   "outputs": [
    {
     "data": {
      "text/plain": [
       "0"
      ]
     },
     "execution_count": 31,
     "metadata": {},
     "output_type": "execute_result"
    }
   ],
   "source": [
    "x&y"
   ]
  },
  {
   "cell_type": "code",
   "execution_count": 32,
   "id": "c7ddcc31",
   "metadata": {},
   "outputs": [
    {
     "data": {
      "text/plain": [
       "{1, 3}"
      ]
     },
     "execution_count": 32,
     "metadata": {},
     "output_type": "execute_result"
    }
   ],
   "source": [
    "{1,2,3,4}&{1,3,7,8}  # set intersection"
   ]
  },
  {
   "cell_type": "code",
   "execution_count": 33,
   "id": "90b5f4fe",
   "metadata": {},
   "outputs": [
    {
     "data": {
      "text/plain": [
       "14"
      ]
     },
     "execution_count": 33,
     "metadata": {},
     "output_type": "execute_result"
    }
   ],
   "source": [
    "x|y"
   ]
  },
  {
   "cell_type": "code",
   "execution_count": 34,
   "id": "c64ccd16",
   "metadata": {},
   "outputs": [
    {
     "data": {
      "text/plain": [
       "{1, 2, 3, 4, 7, 8}"
      ]
     },
     "execution_count": 34,
     "metadata": {},
     "output_type": "execute_result"
    }
   ],
   "source": [
    "{1,2,3,4}|{1,3,7,8}  # set union "
   ]
  },
  {
   "cell_type": "code",
   "execution_count": 35,
   "id": "d480637d",
   "metadata": {},
   "outputs": [
    {
     "data": {
      "text/plain": [
       "{1: 'one', 2: 'two', 3: 'three'}"
      ]
     },
     "execution_count": 35,
     "metadata": {},
     "output_type": "execute_result"
    }
   ],
   "source": [
    "{1:'one',2:'two'}|{3:'three'} # dict extends/concatenate"
   ]
  },
  {
   "cell_type": "code",
   "execution_count": 36,
   "id": "df6a574d",
   "metadata": {},
   "outputs": [
    {
     "data": {
      "text/plain": [
       "-11"
      ]
     },
     "execution_count": 36,
     "metadata": {},
     "output_type": "execute_result"
    }
   ],
   "source": [
    "~x"
   ]
  },
  {
   "cell_type": "code",
   "execution_count": 37,
   "id": "e25c024d",
   "metadata": {},
   "outputs": [
    {
     "data": {
      "text/plain": [
       "14"
      ]
     },
     "execution_count": 37,
     "metadata": {},
     "output_type": "execute_result"
    }
   ],
   "source": [
    "x^y"
   ]
  },
  {
   "cell_type": "code",
   "execution_count": 38,
   "id": "cd3a0a9f",
   "metadata": {},
   "outputs": [
    {
     "data": {
      "text/plain": [
       "{2, 4, 7, 8}"
      ]
     },
     "execution_count": 38,
     "metadata": {},
     "output_type": "execute_result"
    }
   ],
   "source": [
    "{1,2,3,4}^{1,3,7,8}  # set symmetric difference"
   ]
  },
  {
   "cell_type": "code",
   "execution_count": 39,
   "id": "fb66b8bf",
   "metadata": {},
   "outputs": [
    {
     "data": {
      "text/plain": [
       "2"
      ]
     },
     "execution_count": 39,
     "metadata": {},
     "output_type": "execute_result"
    }
   ],
   "source": [
    "x>>2"
   ]
  },
  {
   "cell_type": "code",
   "execution_count": 40,
   "id": "6ffdfdfa",
   "metadata": {},
   "outputs": [
    {
     "data": {
      "text/plain": [
       "40"
      ]
     },
     "execution_count": 40,
     "metadata": {},
     "output_type": "execute_result"
    }
   ],
   "source": [
    "x<<2"
   ]
  },
  {
   "cell_type": "markdown",
   "id": "20838473",
   "metadata": {},
   "source": [
    "# Decision Making "
   ]
  },
  {
   "cell_type": "code",
   "execution_count": 41,
   "id": "cb466143",
   "metadata": {},
   "outputs": [],
   "source": [
    "# simple if syntax:\n",
    "\n",
    "if condition:   # condition will return boolean value True/False\n",
    "    #True statement will be excuted\n",
    "    statemet1\n",
    "    statemet2\n",
    "    .\n",
    "    .\n",
    "    statemetn"
   ]
  },
  {
   "cell_type": "code",
   "execution_count": 44,
   "id": "9b24b85b",
   "metadata": {},
   "outputs": [
    {
     "name": "stdout",
     "output_type": "stream",
     "text": [
      "enter your number56\n",
      "It is Even Number\n",
      "this is inside if block\n",
      "next line\n"
     ]
    }
   ],
   "source": [
    "num= int(input(\"enter your number\"))\n",
    "if num%2==0:\n",
    "    print(\"It is Even Number\")\n",
    "    print('this is inside if block')\n",
    "print(\"next line\")"
   ]
  },
  {
   "cell_type": "code",
   "execution_count": null,
   "id": "eefc053a",
   "metadata": {},
   "outputs": [],
   "source": [
    "# if ...else syntax\n",
    "\n",
    "\n",
    "if condition:   # condition will return boolean value True/False\n",
    "    #True statement will be excuted\n",
    "    statemet1\n",
    "    statemet2\n",
    "    .\n",
    "    .\n",
    "    statemetn\n",
    "else:\n",
    "    #False statement will be excuted\n",
    "    statemet1\n",
    "    statemet2\n",
    "    .\n",
    "    .\n",
    "    statemetn"
   ]
  },
  {
   "cell_type": "code",
   "execution_count": 45,
   "id": "0fef47bd",
   "metadata": {},
   "outputs": [
    {
     "name": "stdout",
     "output_type": "stream",
     "text": [
      "enter your number45\n",
      "It is ODD Number\n",
      "this is inside else block\n",
      "next line\n"
     ]
    }
   ],
   "source": [
    "num= int(input(\"enter your number\"))\n",
    "if num%2==0:\n",
    "    print(\"It is Even Number\")\n",
    "    print('this is inside if block')\n",
    "else:\n",
    "    print(\"It is ODD Number\")\n",
    "    print(\"this is inside else block\")\n",
    "print(\"next line\")"
   ]
  },
  {
   "cell_type": "code",
   "execution_count": null,
   "id": "3e58e06d",
   "metadata": {},
   "outputs": [],
   "source": [
    "# nested if...else syntax\n",
    "if Boolean-expression1:\n",
    "    if Boolean-expression2:\n",
    "         statement1\n",
    "    else:\n",
    "        statement2\n",
    "else:\n",
    "       statement3"
   ]
  },
  {
   "cell_type": "code",
   "execution_count": 47,
   "id": "c270ba13",
   "metadata": {},
   "outputs": [
    {
     "name": "stdout",
     "output_type": "stream",
     "text": [
      "enter your number-42\n",
      "Please enter valid Positive number\n"
     ]
    }
   ],
   "source": [
    "num= int(input(\"enter your number\"))\n",
    "if(num>0):\n",
    "    print(\"this is positive number\")\n",
    "    if num%2==0:\n",
    "        print(\"It is Even Number\")\n",
    "        print('this is inside if block')\n",
    "    else:\n",
    "        print(\"It is ODD Number\")\n",
    "        print(\"this is inside else block\")\n",
    "else:\n",
    "    print(\"Please enter valid Positive number\")"
   ]
  },
  {
   "cell_type": "code",
   "execution_count": null,
   "id": "82365531",
   "metadata": {},
   "outputs": [],
   "source": [
    "# elif   ---> else if"
   ]
  },
  {
   "cell_type": "code",
   "execution_count": 53,
   "id": "aaf3ff76",
   "metadata": {},
   "outputs": [
    {
     "name": "stdout",
     "output_type": "stream",
     "text": [
      "enter The mark62\n",
      "first class Student\n"
     ]
    }
   ],
   "source": [
    "std_mark=int(input(\"enter The mark\"))\n",
    "if std_mark >100 or std_mark<0:\n",
    "    print(\"The mark is Invalid,Please enter Valid Mark\")\n",
    "elif std_mark>=80:\n",
    "    print(\"Outstanding Student\")\n",
    "elif std_mark>=60:\n",
    "    print(\"first class Student\")\n",
    "else:\n",
    "    print(\"Not Outstanding Student\")"
   ]
  },
  {
   "cell_type": "code",
   "execution_count": null,
   "id": "bd8e24fa",
   "metadata": {},
   "outputs": [],
   "source": []
  }
 ],
 "metadata": {
  "kernelspec": {
   "display_name": "Python 3 (ipykernel)",
   "language": "python",
   "name": "python3"
  },
  "language_info": {
   "codemirror_mode": {
    "name": "ipython",
    "version": 3
   },
   "file_extension": ".py",
   "mimetype": "text/x-python",
   "name": "python",
   "nbconvert_exporter": "python",
   "pygments_lexer": "ipython3",
   "version": "3.9.12"
  }
 },
 "nbformat": 4,
 "nbformat_minor": 5
}
