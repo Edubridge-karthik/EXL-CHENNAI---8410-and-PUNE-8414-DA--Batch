{
 "cells": [
  {
   "cell_type": "markdown",
   "id": "d603f79c",
   "metadata": {},
   "source": [
    "# Object Oriented Programming"
   ]
  },
  {
   "cell_type": "markdown",
   "id": "e65ce2a2",
   "metadata": {},
   "source": [
    "#syntax\n",
    "class class_name:\n",
    "    '''docstring for class'''\n",
    "    member functions\n",
    "    members variables\n",
    "    Statements\n",
    "    .................\n",
    "    ................."
   ]
  },
  {
   "cell_type": "code",
   "execution_count": 1,
   "id": "7696fb26",
   "metadata": {},
   "outputs": [],
   "source": [
    "class Demo:\n",
    "    pass"
   ]
  },
  {
   "cell_type": "code",
   "execution_count": 2,
   "id": "4e7d922d",
   "metadata": {},
   "outputs": [
    {
     "name": "stdout",
     "output_type": "stream",
     "text": [
      "<class 'type'>\n"
     ]
    }
   ],
   "source": [
    "print(type(Demo))"
   ]
  },
  {
   "cell_type": "code",
   "execution_count": 3,
   "id": "6dd2ed9c",
   "metadata": {},
   "outputs": [
    {
     "data": {
      "text/plain": [
       "__main__.Demo"
      ]
     },
     "execution_count": 3,
     "metadata": {},
     "output_type": "execute_result"
    }
   ],
   "source": [
    "Demo"
   ]
  },
  {
   "cell_type": "code",
   "execution_count": 8,
   "id": "a986cb71",
   "metadata": {},
   "outputs": [
    {
     "name": "stdout",
     "output_type": "stream",
     "text": [
      "['__class__', '__delattr__', '__dict__', '__dir__', '__doc__', '__eq__', '__format__', '__ge__', '__getattribute__', '__gt__', '__hash__', '__init__', '__init_subclass__', '__le__', '__lt__', '__module__', '__ne__', '__new__', '__reduce__', '__reduce_ex__', '__repr__', '__setattr__', '__sizeof__', '__str__', '__subclasshook__', '__weakref__']\n"
     ]
    }
   ],
   "source": [
    "print(dir(Demo))"
   ]
  },
  {
   "cell_type": "code",
   "execution_count": 4,
   "id": "30b4e337",
   "metadata": {},
   "outputs": [],
   "source": [
    "# creating Object\n",
    "d1=Demo()"
   ]
  },
  {
   "cell_type": "code",
   "execution_count": 9,
   "id": "4685020c",
   "metadata": {},
   "outputs": [
    {
     "name": "stdout",
     "output_type": "stream",
     "text": [
      "['__class__', '__delattr__', '__dict__', '__dir__', '__doc__', '__eq__', '__format__', '__ge__', '__getattribute__', '__gt__', '__hash__', '__init__', '__init_subclass__', '__le__', '__lt__', '__module__', '__ne__', '__new__', '__reduce__', '__reduce_ex__', '__repr__', '__setattr__', '__sizeof__', '__str__', '__subclasshook__', '__weakref__']\n"
     ]
    }
   ],
   "source": [
    "print(dir(d1))"
   ]
  },
  {
   "cell_type": "code",
   "execution_count": 6,
   "id": "6f6a7b11",
   "metadata": {},
   "outputs": [],
   "source": [
    "d2=Demo()"
   ]
  },
  {
   "cell_type": "code",
   "execution_count": 5,
   "id": "41198da8",
   "metadata": {},
   "outputs": [
    {
     "name": "stdout",
     "output_type": "stream",
     "text": [
      "<class '__main__.Demo'>\n"
     ]
    }
   ],
   "source": [
    "print(type(d1))  # d1 is object of Demo class"
   ]
  },
  {
   "cell_type": "code",
   "execution_count": 7,
   "id": "7b0695b3",
   "metadata": {},
   "outputs": [
    {
     "name": "stdout",
     "output_type": "stream",
     "text": [
      "<class '__main__.Demo'>\n"
     ]
    }
   ],
   "source": [
    "print(type(d2))  "
   ]
  },
  {
   "cell_type": "code",
   "execution_count": null,
   "id": "fd1c4252",
   "metadata": {},
   "outputs": [],
   "source": [
    "#Example"
   ]
  },
  {
   "cell_type": "code",
   "execution_count": 52,
   "id": "691343d6",
   "metadata": {},
   "outputs": [],
   "source": [
    "class Students:\n",
    "    '''This is the example for Student class and Object'''\n",
    "    def __init__(self,name,regno,age):    #initializer # implicit method \n",
    "        self.name=name\n",
    "        self.regno=regno\n",
    "        self.age=age\n",
    "    def get_info(self):\n",
    "        print(f\"The Student name:{self.name},Regno:{self.regno},Age:{self.age}\")\n",
    "    def __str__(self):  #implicit method  # while print obj\n",
    "        \n",
    "        return f\"The Student name:{self.name},Regno:{self.regno},Age:{self.age}\"\n",
    "    \n",
    "    def __repr__(self):  #implicit method  # while obj\n",
    "        \n",
    "        return f\"The Student name:{self.name},Regno:{self.regno},Age:{self.age}\"    "
   ]
  },
  {
   "cell_type": "code",
   "execution_count": 35,
   "id": "d7fd6e35",
   "metadata": {},
   "outputs": [],
   "source": [
    "# create object\n",
    "s1=Students('Ravi',1001,23)"
   ]
  },
  {
   "cell_type": "code",
   "execution_count": 13,
   "id": "5b0a6061",
   "metadata": {},
   "outputs": [
    {
     "data": {
      "text/plain": [
       "23"
      ]
     },
     "execution_count": 13,
     "metadata": {},
     "output_type": "execute_result"
    }
   ],
   "source": [
    "s1.age"
   ]
  },
  {
   "cell_type": "code",
   "execution_count": 14,
   "id": "893f4f5e",
   "metadata": {},
   "outputs": [
    {
     "data": {
      "text/plain": [
       "'Ravi'"
      ]
     },
     "execution_count": 14,
     "metadata": {},
     "output_type": "execute_result"
    }
   ],
   "source": [
    "s1.name"
   ]
  },
  {
   "cell_type": "code",
   "execution_count": 38,
   "id": "5fe60c31",
   "metadata": {},
   "outputs": [],
   "source": [
    "# create object2\n",
    "s2=Students('Harsha',1002,24)"
   ]
  },
  {
   "cell_type": "code",
   "execution_count": 16,
   "id": "a65d054f",
   "metadata": {},
   "outputs": [
    {
     "data": {
      "text/plain": [
       "'Harsha'"
      ]
     },
     "execution_count": 16,
     "metadata": {},
     "output_type": "execute_result"
    }
   ],
   "source": [
    "s2.name"
   ]
  },
  {
   "cell_type": "code",
   "execution_count": 18,
   "id": "13e1ec65",
   "metadata": {},
   "outputs": [
    {
     "name": "stdout",
     "output_type": "stream",
     "text": [
      "The Student name:Ravi,Regno:1001,Age:23\n"
     ]
    }
   ],
   "source": [
    "s1.get_info()"
   ]
  },
  {
   "cell_type": "code",
   "execution_count": 19,
   "id": "3a17c989",
   "metadata": {},
   "outputs": [
    {
     "name": "stdout",
     "output_type": "stream",
     "text": [
      "The Student name:Harsha,Regno:1002,Age:24\n"
     ]
    }
   ],
   "source": [
    "s2.get_info()"
   ]
  },
  {
   "cell_type": "code",
   "execution_count": 29,
   "id": "43bcf5e5",
   "metadata": {},
   "outputs": [
    {
     "name": "stdout",
     "output_type": "stream",
     "text": [
      "The Student name:Ravi,Regno:1001,Age:23\n"
     ]
    }
   ],
   "source": [
    "print(s1)"
   ]
  },
  {
   "cell_type": "code",
   "execution_count": 32,
   "id": "bbc9c3a2",
   "metadata": {},
   "outputs": [
    {
     "data": {
      "text/plain": [
       "The Student name:Ravi,Regno:1001,Age:23"
      ]
     },
     "execution_count": 32,
     "metadata": {},
     "output_type": "execute_result"
    }
   ],
   "source": [
    "s1"
   ]
  },
  {
   "cell_type": "code",
   "execution_count": 37,
   "id": "325a8892",
   "metadata": {},
   "outputs": [
    {
     "data": {
      "text/plain": [
       "'Ravi'"
      ]
     },
     "execution_count": 37,
     "metadata": {},
     "output_type": "execute_result"
    }
   ],
   "source": [
    "#built-in function \n",
    "getattr(s1,'name')  #s1.name"
   ]
  },
  {
   "cell_type": "code",
   "execution_count": 39,
   "id": "54441795",
   "metadata": {},
   "outputs": [
    {
     "data": {
      "text/plain": [
       "'Harsha'"
      ]
     },
     "execution_count": 39,
     "metadata": {},
     "output_type": "execute_result"
    }
   ],
   "source": [
    "getattr(s2,'name')"
   ]
  },
  {
   "cell_type": "code",
   "execution_count": 40,
   "id": "923b9b4d",
   "metadata": {},
   "outputs": [
    {
     "data": {
      "text/plain": [
       "False"
      ]
     },
     "execution_count": 40,
     "metadata": {},
     "output_type": "execute_result"
    }
   ],
   "source": [
    "hasattr(s1,'email') "
   ]
  },
  {
   "cell_type": "code",
   "execution_count": 41,
   "id": "0d6a2147",
   "metadata": {},
   "outputs": [
    {
     "data": {
      "text/plain": [
       "True"
      ]
     },
     "execution_count": 41,
     "metadata": {},
     "output_type": "execute_result"
    }
   ],
   "source": [
    "hasattr(s1,'age') #Return whether the object has an attribute with the given name."
   ]
  },
  {
   "cell_type": "code",
   "execution_count": 42,
   "id": "387703ca",
   "metadata": {},
   "outputs": [
    {
     "data": {
      "text/plain": [
       "The Student name:Ravi,Regno:1001,Age:23"
      ]
     },
     "execution_count": 42,
     "metadata": {},
     "output_type": "execute_result"
    }
   ],
   "source": [
    "s1"
   ]
  },
  {
   "cell_type": "code",
   "execution_count": 43,
   "id": "debba5ce",
   "metadata": {},
   "outputs": [],
   "source": [
    "setattr(s1,'email',\"ravi@gmail.com\") #Sets the named attribute on the given object to the specified value."
   ]
  },
  {
   "cell_type": "code",
   "execution_count": 45,
   "id": "8bfe6241",
   "metadata": {},
   "outputs": [
    {
     "data": {
      "text/plain": [
       "'ravi@gmail.com'"
      ]
     },
     "execution_count": 45,
     "metadata": {},
     "output_type": "execute_result"
    }
   ],
   "source": [
    "s1.email"
   ]
  },
  {
   "cell_type": "code",
   "execution_count": 46,
   "id": "8d657db7",
   "metadata": {},
   "outputs": [],
   "source": [
    "delattr(s1,'email') #Deletes the named attribute from the given object."
   ]
  },
  {
   "cell_type": "code",
   "execution_count": 47,
   "id": "86891d34",
   "metadata": {},
   "outputs": [
    {
     "ename": "AttributeError",
     "evalue": "'Students' object has no attribute 'email'",
     "output_type": "error",
     "traceback": [
      "\u001b[1;31m---------------------------------------------------------------------------\u001b[0m",
      "\u001b[1;31mAttributeError\u001b[0m                            Traceback (most recent call last)",
      "Input \u001b[1;32mIn [47]\u001b[0m, in \u001b[0;36m<cell line: 1>\u001b[1;34m()\u001b[0m\n\u001b[1;32m----> 1\u001b[0m \u001b[43ms1\u001b[49m\u001b[38;5;241;43m.\u001b[39;49m\u001b[43memail\u001b[49m\n",
      "\u001b[1;31mAttributeError\u001b[0m: 'Students' object has no attribute 'email'"
     ]
    }
   ],
   "source": [
    "s1.email"
   ]
  },
  {
   "cell_type": "code",
   "execution_count": 55,
   "id": "e5a5b7b4",
   "metadata": {},
   "outputs": [
    {
     "name": "stdout",
     "output_type": "stream",
     "text": [
      "['__class__', '__delattr__', '__dict__', '__dir__', '__doc__', '__eq__', '__format__', '__ge__', '__getattribute__', '__gt__', '__hash__', '__init__', '__init_subclass__', '__le__', '__lt__', '__module__', '__ne__', '__new__', '__reduce__', '__reduce_ex__', '__repr__', '__setattr__', '__sizeof__', '__str__', '__subclasshook__', '__weakref__', 'get_info']\n"
     ]
    }
   ],
   "source": [
    "print(dir(Students)) # class attribute and method"
   ]
  },
  {
   "cell_type": "code",
   "execution_count": 56,
   "id": "6f3dce13",
   "metadata": {},
   "outputs": [
    {
     "data": {
      "text/plain": [
       "type"
      ]
     },
     "execution_count": 56,
     "metadata": {},
     "output_type": "execute_result"
    }
   ],
   "source": [
    "Students.__class__"
   ]
  },
  {
   "cell_type": "code",
   "execution_count": 57,
   "id": "4f7894cf",
   "metadata": {},
   "outputs": [
    {
     "data": {
      "text/plain": [
       "mappingproxy({'__module__': '__main__',\n",
       "              '__doc__': 'This is the example for Student class and Object',\n",
       "              '__init__': <function __main__.Students.__init__(self, name, regno, age)>,\n",
       "              'get_info': <function __main__.Students.get_info(self)>,\n",
       "              '__str__': <function __main__.Students.__str__(self)>,\n",
       "              '__repr__': <function __main__.Students.__repr__(self)>,\n",
       "              '__dict__': <attribute '__dict__' of 'Students' objects>,\n",
       "              '__weakref__': <attribute '__weakref__' of 'Students' objects>})"
      ]
     },
     "execution_count": 57,
     "metadata": {},
     "output_type": "execute_result"
    }
   ],
   "source": [
    "Students.__dict__"
   ]
  },
  {
   "cell_type": "code",
   "execution_count": 58,
   "id": "969e3460",
   "metadata": {},
   "outputs": [
    {
     "data": {
      "text/plain": [
       "'This is the example for Student class and Object'"
      ]
     },
     "execution_count": 58,
     "metadata": {},
     "output_type": "execute_result"
    }
   ],
   "source": [
    "Students.__doc__"
   ]
  },
  {
   "cell_type": "code",
   "execution_count": 59,
   "id": "b2cc4e57",
   "metadata": {},
   "outputs": [
    {
     "data": {
      "text/plain": [
       "'__main__'"
      ]
     },
     "execution_count": 59,
     "metadata": {},
     "output_type": "execute_result"
    }
   ],
   "source": [
    "Students.__module__"
   ]
  },
  {
   "cell_type": "code",
   "execution_count": 60,
   "id": "933e4e3d",
   "metadata": {},
   "outputs": [
    {
     "data": {
      "text/plain": [
       "(object,)"
      ]
     },
     "execution_count": 60,
     "metadata": {},
     "output_type": "execute_result"
    }
   ],
   "source": [
    "Students.__bases__"
   ]
  },
  {
   "cell_type": "code",
   "execution_count": 61,
   "id": "c376b5f1",
   "metadata": {},
   "outputs": [
    {
     "name": "stdout",
     "output_type": "stream",
     "text": [
      "['__class__', '__delattr__', '__dict__', '__dir__', '__doc__', '__eq__', '__format__', '__ge__', '__getattribute__', '__gt__', '__hash__', '__init__', '__init_subclass__', '__le__', '__lt__', '__module__', '__ne__', '__new__', '__reduce__', '__reduce_ex__', '__repr__', '__setattr__', '__sizeof__', '__str__', '__subclasshook__', '__weakref__', 'age', 'get_info', 'name', 'regno']\n"
     ]
    }
   ],
   "source": [
    "print(dir(s1)) # attribute and Method for object"
   ]
  },
  {
   "cell_type": "code",
   "execution_count": 62,
   "id": "255860bb",
   "metadata": {},
   "outputs": [
    {
     "data": {
      "text/plain": [
       "{'name': 'Ravi', 'regno': 1001, 'age': 23}"
      ]
     },
     "execution_count": 62,
     "metadata": {},
     "output_type": "execute_result"
    }
   ],
   "source": [
    "s1.__dict__"
   ]
  },
  {
   "cell_type": "code",
   "execution_count": 63,
   "id": "953bbc30",
   "metadata": {},
   "outputs": [
    {
     "data": {
      "text/plain": [
       "__main__.Students"
      ]
     },
     "execution_count": 63,
     "metadata": {},
     "output_type": "execute_result"
    }
   ],
   "source": [
    "s1.__class__"
   ]
  },
  {
   "cell_type": "code",
   "execution_count": 64,
   "id": "ba8d3c1d",
   "metadata": {},
   "outputs": [
    {
     "data": {
      "text/plain": [
       "<function Students.__dir__()>"
      ]
     },
     "execution_count": 64,
     "metadata": {},
     "output_type": "execute_result"
    }
   ],
   "source": [
    "s1.__dir__"
   ]
  },
  {
   "cell_type": "code",
   "execution_count": 66,
   "id": "843f6806",
   "metadata": {},
   "outputs": [],
   "source": [
    "s1.__doc__"
   ]
  },
  {
   "cell_type": "code",
   "execution_count": 67,
   "id": "1cad715e",
   "metadata": {},
   "outputs": [
    {
     "data": {
      "text/plain": [
       "'__main__'"
      ]
     },
     "execution_count": 67,
     "metadata": {},
     "output_type": "execute_result"
    }
   ],
   "source": [
    "s1.__module__"
   ]
  },
  {
   "cell_type": "code",
   "execution_count": null,
   "id": "921854fd",
   "metadata": {},
   "outputs": [],
   "source": [
    "# Implements BackAccount class"
   ]
  },
  {
   "cell_type": "code",
   "execution_count": 71,
   "id": "50883c68",
   "metadata": {},
   "outputs": [],
   "source": [
    "class BackAccount:\n",
    "    def __init__(self,holder,acc_no,balance):\n",
    "        self.holder = holder\n",
    "        self.acc_no = acc_no\n",
    "        self.balance = balance\n",
    "    def deposit(self,amount):\n",
    "        self.balance+=amount\n",
    "    def withdraw(self,amount):\n",
    "        if amount<=self.balance:\n",
    "             self.balance -= amount\n",
    "        else:\n",
    "            print(\"Insufficient Amount\")\n",
    "    def print_passbook(self):\n",
    "        return f\"BankAccount Details: name:{self.holder},acc_no:{self.acc_no},Curr_balance:{self.balance}\"\n",
    "        \n",
    "        "
   ]
  },
  {
   "cell_type": "code",
   "execution_count": 72,
   "id": "61ee3834",
   "metadata": {},
   "outputs": [],
   "source": [
    "acc1=BackAccount(\"Rani\",1002,1000)"
   ]
  },
  {
   "cell_type": "code",
   "execution_count": 73,
   "id": "7bb43f3a",
   "metadata": {},
   "outputs": [
    {
     "data": {
      "text/plain": [
       "'BankAccount Details: name:Rani,acc_no:1002,Curr_balance:1000'"
      ]
     },
     "execution_count": 73,
     "metadata": {},
     "output_type": "execute_result"
    }
   ],
   "source": [
    "acc1.print_passbook()"
   ]
  },
  {
   "cell_type": "code",
   "execution_count": 74,
   "id": "beb943d2",
   "metadata": {},
   "outputs": [],
   "source": [
    "acc1.deposit(4000)"
   ]
  },
  {
   "cell_type": "code",
   "execution_count": 75,
   "id": "dbd2e1ab",
   "metadata": {},
   "outputs": [
    {
     "data": {
      "text/plain": [
       "'BankAccount Details: name:Rani,acc_no:1002,Curr_balance:5000'"
      ]
     },
     "execution_count": 75,
     "metadata": {},
     "output_type": "execute_result"
    }
   ],
   "source": [
    "acc1.print_passbook()"
   ]
  },
  {
   "cell_type": "code",
   "execution_count": 76,
   "id": "65d0a9d2",
   "metadata": {},
   "outputs": [],
   "source": [
    "acc1.withdraw(600)"
   ]
  },
  {
   "cell_type": "code",
   "execution_count": 77,
   "id": "850ef2a8",
   "metadata": {},
   "outputs": [
    {
     "data": {
      "text/plain": [
       "'BankAccount Details: name:Rani,acc_no:1002,Curr_balance:4400'"
      ]
     },
     "execution_count": 77,
     "metadata": {},
     "output_type": "execute_result"
    }
   ],
   "source": [
    "acc1.print_passbook()"
   ]
  },
  {
   "cell_type": "code",
   "execution_count": null,
   "id": "57b0eba0",
   "metadata": {},
   "outputs": [],
   "source": []
  }
 ],
 "metadata": {
  "kernelspec": {
   "display_name": "Python 3 (ipykernel)",
   "language": "python",
   "name": "python3"
  },
  "language_info": {
   "codemirror_mode": {
    "name": "ipython",
    "version": 3
   },
   "file_extension": ".py",
   "mimetype": "text/x-python",
   "name": "python",
   "nbconvert_exporter": "python",
   "pygments_lexer": "ipython3",
   "version": "3.9.12"
  }
 },
 "nbformat": 4,
 "nbformat_minor": 5
}
